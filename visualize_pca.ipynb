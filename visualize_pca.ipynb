{
 "cells": [
  {
   "cell_type": "code",
   "execution_count": 146,
   "metadata": {},
   "outputs": [
    {
     "data": {
      "text/plain": [
       "True"
      ]
     },
     "execution_count": 146,
     "metadata": {},
     "output_type": "execute_result"
    }
   ],
   "source": [
    "import os\n",
    "\n",
    "import numpy as np\n",
    "import pandas as pd\n",
    "import plotly.express as px\n",
    "from dotenv import load_dotenv\n",
    "from pymongo.mongo_client import MongoClient\n",
    "from pymongo.server_api import ServerApi\n",
    "from sklearn.decomposition import PCA\n",
    "import requests\n",
    "from plotly.offline import plot, iplot, init_notebook_mode\n",
    "\n",
    "load_dotenv()"
   ]
  },
  {
   "cell_type": "code",
   "execution_count": 147,
   "metadata": {},
   "outputs": [],
   "source": [
    "client = MongoClient(os.getenv(\"MONGO_URI\"), server_api=ServerApi(\"1\"))\n",
    "\n",
    "db_name = \"sample_mflix\"\n",
    "collection_name = \"embedded_movies\"\n",
    "\n",
    "collection = client[db_name][collection_name]\n",
    "\n",
    "pipeline = [\n",
    "    {\"$match\": {\"plot_embedding\": {\"$exists\": 1}, \"title\": {\"$exists\": 1}, \"genres\": {\"$exists\": 1}}},\n",
    "    {\"$sample\": {\"size\": 300}},\n",
    "    {\"$project\": {\"plot_embedding\": 1, \"title\": 1, \"genres\": 1}},\n",
    "]"
   ]
  },
  {
   "cell_type": "code",
   "execution_count": 148,
   "metadata": {},
   "outputs": [],
   "source": [
    "embeddings = []\n",
    "titles = []\n",
    "genres = []\n",
    "for doc in collection.aggregate(pipeline):\n",
    "    embeddings.append(doc[\"plot_embedding\"])\n",
    "    titles.append(doc[\"title\"])\n",
    "    genres.append(doc[\"genres\"])"
   ]
  },
  {
   "cell_type": "code",
   "execution_count": 149,
   "metadata": {},
   "outputs": [],
   "source": [
    "embeddings = np.array(embeddings)\n",
    "pca = PCA(n_components=3).fit(embeddings)\n",
    "pcad_embeddings = pca.transform(embeddings)"
   ]
  },
  {
   "cell_type": "code",
   "execution_count": 150,
   "metadata": {},
   "outputs": [],
   "source": [
    "df = pd.DataFrame(pcad_embeddings)\n",
    "df['title'] = titles\n",
    "df['genres'] = genres\n"
   ]
  },
  {
   "cell_type": "code",
   "execution_count": 151,
   "metadata": {},
   "outputs": [],
   "source": [
    "# Step 1: Get all unique strings from the 'tags' column\n",
    "unique_genres = set(genre for sublist in df['genres'] for genre in sublist)\n",
    "\n",
    "# Step 2: Expand the 'tags' column into new columns\n",
    "for tag in unique_genres:\n",
    "    df[tag] = df['genres'].apply(lambda x: 1 if tag in x else 0)\n",
    "\n",
    "# Step 3: Drop the original 'tags' column if you don't need it\n",
    "df = df.drop(columns=['genres'])"
   ]
  },
  {
   "cell_type": "code",
   "execution_count": 152,
   "metadata": {},
   "outputs": [
    {
     "data": {
      "text/html": [
       "<div>\n",
       "<style scoped>\n",
       "    .dataframe tbody tr th:only-of-type {\n",
       "        vertical-align: middle;\n",
       "    }\n",
       "\n",
       "    .dataframe tbody tr th {\n",
       "        vertical-align: top;\n",
       "    }\n",
       "\n",
       "    .dataframe thead th {\n",
       "        text-align: right;\n",
       "    }\n",
       "</style>\n",
       "<table border=\"1\" class=\"dataframe\">\n",
       "  <thead>\n",
       "    <tr style=\"text-align: right;\">\n",
       "      <th></th>\n",
       "      <th>0</th>\n",
       "      <th>1</th>\n",
       "      <th>2</th>\n",
       "      <th>title</th>\n",
       "      <th>Biography</th>\n",
       "      <th>Crime</th>\n",
       "      <th>Romance</th>\n",
       "      <th>Animation</th>\n",
       "      <th>Horror</th>\n",
       "      <th>Music</th>\n",
       "      <th>...</th>\n",
       "      <th>History</th>\n",
       "      <th>Western</th>\n",
       "      <th>Family</th>\n",
       "      <th>War</th>\n",
       "      <th>Thriller</th>\n",
       "      <th>Documentary</th>\n",
       "      <th>Musical</th>\n",
       "      <th>Fantasy</th>\n",
       "      <th>Short</th>\n",
       "      <th>Mystery</th>\n",
       "    </tr>\n",
       "  </thead>\n",
       "  <tbody>\n",
       "    <tr>\n",
       "      <th>0</th>\n",
       "      <td>-0.009840</td>\n",
       "      <td>-0.100139</td>\n",
       "      <td>-0.035375</td>\n",
       "      <td>2000 AD</td>\n",
       "      <td>0</td>\n",
       "      <td>0</td>\n",
       "      <td>0</td>\n",
       "      <td>0</td>\n",
       "      <td>0</td>\n",
       "      <td>0</td>\n",
       "      <td>...</td>\n",
       "      <td>0</td>\n",
       "      <td>0</td>\n",
       "      <td>0</td>\n",
       "      <td>0</td>\n",
       "      <td>1</td>\n",
       "      <td>0</td>\n",
       "      <td>0</td>\n",
       "      <td>0</td>\n",
       "      <td>0</td>\n",
       "      <td>0</td>\n",
       "    </tr>\n",
       "    <tr>\n",
       "      <th>1</th>\n",
       "      <td>-0.160988</td>\n",
       "      <td>0.048163</td>\n",
       "      <td>0.034459</td>\n",
       "      <td>Hercules</td>\n",
       "      <td>0</td>\n",
       "      <td>0</td>\n",
       "      <td>0</td>\n",
       "      <td>0</td>\n",
       "      <td>0</td>\n",
       "      <td>0</td>\n",
       "      <td>...</td>\n",
       "      <td>0</td>\n",
       "      <td>0</td>\n",
       "      <td>0</td>\n",
       "      <td>0</td>\n",
       "      <td>0</td>\n",
       "      <td>0</td>\n",
       "      <td>0</td>\n",
       "      <td>1</td>\n",
       "      <td>0</td>\n",
       "      <td>0</td>\n",
       "    </tr>\n",
       "    <tr>\n",
       "      <th>2</th>\n",
       "      <td>-0.069607</td>\n",
       "      <td>0.050623</td>\n",
       "      <td>0.052116</td>\n",
       "      <td>Hey, Happy!</td>\n",
       "      <td>0</td>\n",
       "      <td>0</td>\n",
       "      <td>0</td>\n",
       "      <td>0</td>\n",
       "      <td>0</td>\n",
       "      <td>0</td>\n",
       "      <td>...</td>\n",
       "      <td>0</td>\n",
       "      <td>0</td>\n",
       "      <td>0</td>\n",
       "      <td>0</td>\n",
       "      <td>0</td>\n",
       "      <td>0</td>\n",
       "      <td>0</td>\n",
       "      <td>1</td>\n",
       "      <td>0</td>\n",
       "      <td>0</td>\n",
       "    </tr>\n",
       "    <tr>\n",
       "      <th>3</th>\n",
       "      <td>-0.021946</td>\n",
       "      <td>0.035216</td>\n",
       "      <td>-0.073218</td>\n",
       "      <td>Ip Man</td>\n",
       "      <td>1</td>\n",
       "      <td>0</td>\n",
       "      <td>0</td>\n",
       "      <td>0</td>\n",
       "      <td>0</td>\n",
       "      <td>0</td>\n",
       "      <td>...</td>\n",
       "      <td>0</td>\n",
       "      <td>0</td>\n",
       "      <td>0</td>\n",
       "      <td>0</td>\n",
       "      <td>0</td>\n",
       "      <td>0</td>\n",
       "      <td>0</td>\n",
       "      <td>0</td>\n",
       "      <td>0</td>\n",
       "      <td>0</td>\n",
       "    </tr>\n",
       "    <tr>\n",
       "      <th>4</th>\n",
       "      <td>0.044506</td>\n",
       "      <td>-0.123400</td>\n",
       "      <td>-0.119202</td>\n",
       "      <td>Assembly</td>\n",
       "      <td>1</td>\n",
       "      <td>0</td>\n",
       "      <td>0</td>\n",
       "      <td>0</td>\n",
       "      <td>0</td>\n",
       "      <td>0</td>\n",
       "      <td>...</td>\n",
       "      <td>0</td>\n",
       "      <td>0</td>\n",
       "      <td>0</td>\n",
       "      <td>0</td>\n",
       "      <td>0</td>\n",
       "      <td>0</td>\n",
       "      <td>0</td>\n",
       "      <td>0</td>\n",
       "      <td>0</td>\n",
       "      <td>0</td>\n",
       "    </tr>\n",
       "  </tbody>\n",
       "</table>\n",
       "<p>5 rows × 26 columns</p>\n",
       "</div>"
      ],
      "text/plain": [
       "          0         1         2        title  Biography  Crime  Romance  \\\n",
       "0 -0.009840 -0.100139 -0.035375      2000 AD          0      0        0   \n",
       "1 -0.160988  0.048163  0.034459     Hercules          0      0        0   \n",
       "2 -0.069607  0.050623  0.052116  Hey, Happy!          0      0        0   \n",
       "3 -0.021946  0.035216 -0.073218       Ip Man          1      0        0   \n",
       "4  0.044506 -0.123400 -0.119202     Assembly          1      0        0   \n",
       "\n",
       "   Animation  Horror  Music  ...  History  Western  Family  War  Thriller  \\\n",
       "0          0       0      0  ...        0        0       0    0         1   \n",
       "1          0       0      0  ...        0        0       0    0         0   \n",
       "2          0       0      0  ...        0        0       0    0         0   \n",
       "3          0       0      0  ...        0        0       0    0         0   \n",
       "4          0       0      0  ...        0        0       0    0         0   \n",
       "\n",
       "   Documentary  Musical  Fantasy  Short  Mystery  \n",
       "0            0        0        0      0        0  \n",
       "1            0        0        1      0        0  \n",
       "2            0        0        1      0        0  \n",
       "3            0        0        0      0        0  \n",
       "4            0        0        0      0        0  \n",
       "\n",
       "[5 rows x 26 columns]"
      ]
     },
     "execution_count": 152,
     "metadata": {},
     "output_type": "execute_result"
    }
   ],
   "source": [
    "df.head()"
   ]
  },
  {
   "cell_type": "code",
   "execution_count": 153,
   "metadata": {},
   "outputs": [],
   "source": [
    "# Multiply the embedding values to exaggerate the differences between them\n",
    "n = 10\n",
    "df[0] = df[0] * n\n",
    "df[1] = df[1] * n\n",
    "df[2] = df[2] * n"
   ]
  },
  {
   "cell_type": "code",
   "execution_count": 154,
   "metadata": {},
   "outputs": [
    {
     "data": {
      "text/html": [
       "<div>\n",
       "<style scoped>\n",
       "    .dataframe tbody tr th:only-of-type {\n",
       "        vertical-align: middle;\n",
       "    }\n",
       "\n",
       "    .dataframe tbody tr th {\n",
       "        vertical-align: top;\n",
       "    }\n",
       "\n",
       "    .dataframe thead th {\n",
       "        text-align: right;\n",
       "    }\n",
       "</style>\n",
       "<table border=\"1\" class=\"dataframe\">\n",
       "  <thead>\n",
       "    <tr style=\"text-align: right;\">\n",
       "      <th></th>\n",
       "      <th>0</th>\n",
       "      <th>1</th>\n",
       "      <th>2</th>\n",
       "      <th>title</th>\n",
       "      <th>Biography</th>\n",
       "      <th>Crime</th>\n",
       "      <th>Romance</th>\n",
       "      <th>Animation</th>\n",
       "      <th>Horror</th>\n",
       "      <th>Music</th>\n",
       "      <th>...</th>\n",
       "      <th>History</th>\n",
       "      <th>Western</th>\n",
       "      <th>Family</th>\n",
       "      <th>War</th>\n",
       "      <th>Thriller</th>\n",
       "      <th>Documentary</th>\n",
       "      <th>Musical</th>\n",
       "      <th>Fantasy</th>\n",
       "      <th>Short</th>\n",
       "      <th>Mystery</th>\n",
       "    </tr>\n",
       "  </thead>\n",
       "  <tbody>\n",
       "    <tr>\n",
       "      <th>0</th>\n",
       "      <td>-0.098404</td>\n",
       "      <td>-1.001392</td>\n",
       "      <td>-0.353750</td>\n",
       "      <td>2000 AD</td>\n",
       "      <td>0</td>\n",
       "      <td>0</td>\n",
       "      <td>0</td>\n",
       "      <td>0</td>\n",
       "      <td>0</td>\n",
       "      <td>0</td>\n",
       "      <td>...</td>\n",
       "      <td>0</td>\n",
       "      <td>0</td>\n",
       "      <td>0</td>\n",
       "      <td>0</td>\n",
       "      <td>1</td>\n",
       "      <td>0</td>\n",
       "      <td>0</td>\n",
       "      <td>0</td>\n",
       "      <td>0</td>\n",
       "      <td>0</td>\n",
       "    </tr>\n",
       "    <tr>\n",
       "      <th>1</th>\n",
       "      <td>-1.609879</td>\n",
       "      <td>0.481632</td>\n",
       "      <td>0.344586</td>\n",
       "      <td>Hercules</td>\n",
       "      <td>0</td>\n",
       "      <td>0</td>\n",
       "      <td>0</td>\n",
       "      <td>0</td>\n",
       "      <td>0</td>\n",
       "      <td>0</td>\n",
       "      <td>...</td>\n",
       "      <td>0</td>\n",
       "      <td>0</td>\n",
       "      <td>0</td>\n",
       "      <td>0</td>\n",
       "      <td>0</td>\n",
       "      <td>0</td>\n",
       "      <td>0</td>\n",
       "      <td>1</td>\n",
       "      <td>0</td>\n",
       "      <td>0</td>\n",
       "    </tr>\n",
       "    <tr>\n",
       "      <th>2</th>\n",
       "      <td>-0.696073</td>\n",
       "      <td>0.506230</td>\n",
       "      <td>0.521165</td>\n",
       "      <td>Hey, Happy!</td>\n",
       "      <td>0</td>\n",
       "      <td>0</td>\n",
       "      <td>0</td>\n",
       "      <td>0</td>\n",
       "      <td>0</td>\n",
       "      <td>0</td>\n",
       "      <td>...</td>\n",
       "      <td>0</td>\n",
       "      <td>0</td>\n",
       "      <td>0</td>\n",
       "      <td>0</td>\n",
       "      <td>0</td>\n",
       "      <td>0</td>\n",
       "      <td>0</td>\n",
       "      <td>1</td>\n",
       "      <td>0</td>\n",
       "      <td>0</td>\n",
       "    </tr>\n",
       "    <tr>\n",
       "      <th>3</th>\n",
       "      <td>-0.219463</td>\n",
       "      <td>0.352155</td>\n",
       "      <td>-0.732178</td>\n",
       "      <td>Ip Man</td>\n",
       "      <td>1</td>\n",
       "      <td>0</td>\n",
       "      <td>0</td>\n",
       "      <td>0</td>\n",
       "      <td>0</td>\n",
       "      <td>0</td>\n",
       "      <td>...</td>\n",
       "      <td>0</td>\n",
       "      <td>0</td>\n",
       "      <td>0</td>\n",
       "      <td>0</td>\n",
       "      <td>0</td>\n",
       "      <td>0</td>\n",
       "      <td>0</td>\n",
       "      <td>0</td>\n",
       "      <td>0</td>\n",
       "      <td>0</td>\n",
       "    </tr>\n",
       "    <tr>\n",
       "      <th>4</th>\n",
       "      <td>0.445062</td>\n",
       "      <td>-1.234004</td>\n",
       "      <td>-1.192016</td>\n",
       "      <td>Assembly</td>\n",
       "      <td>1</td>\n",
       "      <td>0</td>\n",
       "      <td>0</td>\n",
       "      <td>0</td>\n",
       "      <td>0</td>\n",
       "      <td>0</td>\n",
       "      <td>...</td>\n",
       "      <td>0</td>\n",
       "      <td>0</td>\n",
       "      <td>0</td>\n",
       "      <td>0</td>\n",
       "      <td>0</td>\n",
       "      <td>0</td>\n",
       "      <td>0</td>\n",
       "      <td>0</td>\n",
       "      <td>0</td>\n",
       "      <td>0</td>\n",
       "    </tr>\n",
       "  </tbody>\n",
       "</table>\n",
       "<p>5 rows × 26 columns</p>\n",
       "</div>"
      ],
      "text/plain": [
       "          0         1         2        title  Biography  Crime  Romance  \\\n",
       "0 -0.098404 -1.001392 -0.353750      2000 AD          0      0        0   \n",
       "1 -1.609879  0.481632  0.344586     Hercules          0      0        0   \n",
       "2 -0.696073  0.506230  0.521165  Hey, Happy!          0      0        0   \n",
       "3 -0.219463  0.352155 -0.732178       Ip Man          1      0        0   \n",
       "4  0.445062 -1.234004 -1.192016     Assembly          1      0        0   \n",
       "\n",
       "   Animation  Horror  Music  ...  History  Western  Family  War  Thriller  \\\n",
       "0          0       0      0  ...        0        0       0    0         1   \n",
       "1          0       0      0  ...        0        0       0    0         0   \n",
       "2          0       0      0  ...        0        0       0    0         0   \n",
       "3          0       0      0  ...        0        0       0    0         0   \n",
       "4          0       0      0  ...        0        0       0    0         0   \n",
       "\n",
       "   Documentary  Musical  Fantasy  Short  Mystery  \n",
       "0            0        0        0      0        0  \n",
       "1            0        0        1      0        0  \n",
       "2            0        0        1      0        0  \n",
       "3            0        0        0      0        0  \n",
       "4            0        0        0      0        0  \n",
       "\n",
       "[5 rows x 26 columns]"
      ]
     },
     "execution_count": 154,
     "metadata": {},
     "output_type": "execute_result"
    }
   ],
   "source": [
    "df.head()"
   ]
  },
  {
   "cell_type": "code",
   "execution_count": 155,
   "metadata": {},
   "outputs": [
    {
     "name": "stdout",
     "output_type": "stream",
     "text": [
      "{'Biography', 'Crime', 'Romance', 'Animation', 'Horror', 'Music', 'Comedy', 'Sci-Fi', 'Drama', 'Adventure', 'Action', 'Sport', 'History', 'Western', 'Family', 'War', 'Thriller', 'Documentary', 'Musical', 'Fantasy', 'Short', 'Mystery'}\n"
     ]
    }
   ],
   "source": [
    "print(unique_genres)"
   ]
  },
  {
   "cell_type": "code",
   "execution_count": 156,
   "metadata": {},
   "outputs": [],
   "source": [
    "# Fetch query embedding\n",
    "query = \"What movies take place in italy?\"\n",
    "\n",
    "url = \"https://iltvectorsearch.openai.azure.com/openai/deployments/text-embedding-ada-002/embeddings?api-version=2023-05-15\"\n",
    "headers = {\n",
    "            \"Content-Type\": \"application/json\",\n",
    "            \"api-key\": os.getenv('MDB_API_KEY')\n",
    "        }\n",
    "repsonse = requests.post(url, headers=headers, json={\"input\": query}).json()\n",
    "query_embedding = repsonse['data'][0]['embedding']"
   ]
  },
  {
   "cell_type": "code",
   "execution_count": 157,
   "metadata": {},
   "outputs": [],
   "source": [
    "query_embedding_pcad = pca.transform(np.array(query_embedding).reshape(1, -1))[0] * n"
   ]
  },
  {
   "cell_type": "code",
   "execution_count": 158,
   "metadata": {},
   "outputs": [
    {
     "data": {
      "text/plain": [
       "array([-0.31507605,  0.33755311, -1.00439486])"
      ]
     },
     "execution_count": 158,
     "metadata": {},
     "output_type": "execute_result"
    }
   ],
   "source": [
    "query_embedding_pcad"
   ]
  },
  {
   "cell_type": "code",
   "execution_count": 159,
   "metadata": {},
   "outputs": [
    {
     "data": {
      "application/vnd.plotly.v1+json": {
       "config": {
        "plotlyServerURL": "https://plot.ly"
       },
       "data": [
        {
         "customdata": [
          [
           "2000 AD"
          ],
          [
           "Hercules"
          ],
          [
           "Hey, Happy!"
          ],
          [
           "Ip Man"
          ],
          [
           "Assembly"
          ],
          [
           "Singh Is Kinng"
          ],
          [
           "Backdraft"
          ],
          [
           "Saheb Biwi Aur Gangster Returns"
          ],
          [
           "Snowpiercer"
          ],
          [
           "That Demon Within"
          ],
          [
           "The Thirteenth Year"
          ],
          [
           "Sleeping Dogs"
          ],
          [
           "Lilies"
          ],
          [
           "The Apple"
          ],
          [
           "Act of Valor"
          ],
          [
           "Ghost Dog: The Way of the Samurai"
          ],
          [
           "House II: The Second Story"
          ],
          [
           "John Carter"
          ],
          [
           "Deuces Wild"
          ],
          [
           "Fantasia"
          ],
          [
           "Mushi-Shi: The Movie"
          ],
          [
           "Pelikaanimies"
          ],
          [
           "Hearts and Armour"
          ],
          [
           "The Next Man"
          ],
          [
           "The Wild Angels"
          ],
          [
           "The Real Miyagi"
          ],
          [
           "The Postman"
          ],
          [
           "The Hidden"
          ],
          [
           "Flodder"
          ],
          [
           "On Deadly Ground"
          ],
          [
           "X-Men: The Last Stand"
          ],
          [
           "Casper"
          ],
          [
           "Jason Goes to Hell: The Final Friday"
          ],
          [
           "The Great Train Robbery"
          ],
          [
           "Hot Fuzz"
          ],
          [
           "End Game"
          ],
          [
           "Ashura-jè no hitomi"
          ],
          [
           "The Coast Guard"
          ],
          [
           "Thale"
          ],
          [
           "Puppetmaster"
          ],
          [
           "Killers"
          ],
          [
           "Fair Game"
          ],
          [
           "Malarek"
          ],
          [
           "Superman Returns"
          ],
          [
           "Broken Lance"
          ],
          [
           "The Quick and the Dead"
          ],
          [
           "Lost in Space"
          ],
          [
           "The Mask"
          ],
          [
           "Love Story 2050"
          ],
          [
           "Battletruck"
          ],
          [
           "Futurama: Bender's Game"
          ],
          [
           "The Professionals"
          ],
          [
           "The Master Plan"
          ],
          [
           "Vampire Girl vs. Frankenstein Girl"
          ],
          [
           "Once Upon a Time in Mexico"
          ],
          [
           "Graveyard of Honor"
          ],
          [
           "Impact"
          ],
          [
           "Year of the Dragon"
          ],
          [
           "The Wolverine"
          ],
          [
           "Megamind"
          ],
          [
           "Lawnmower Man 2: Beyond Cyberspace"
          ],
          [
           "The Proposition"
          ],
          [
           "Magic in the Water"
          ],
          [
           "Calamity Jane"
          ],
          [
           "Juice"
          ],
          [
           "Rush Hour"
          ],
          [
           "North to Alaska"
          ],
          [
           "Battle for the Planet of the Apes"
          ],
          [
           "P.S."
          ],
          [
           "Hulk"
          ],
          [
           "Toys in the Attic"
          ],
          [
           "Big"
          ],
          [
           "Hideaway"
          ],
          [
           "The Zero Theorem"
          ],
          [
           "The Lego Movie"
          ],
          [
           "The Tree of Life"
          ],
          [
           "Infestation"
          ],
          [
           "Peter Pan"
          ],
          [
           "Windtalkers"
          ],
          [
           "Paperhouse"
          ],
          [
           "Hell and Back Again"
          ],
          [
           "Typhoon"
          ],
          [
           "Goodbye, 20th Century"
          ],
          [
           "Black & White Episode 1: The Dawn of Assault"
          ],
          [
           "The Take"
          ],
          [
           "The Grey Fox"
          ],
          [
           "The Sweeney"
          ],
          [
           "Dinotopia"
          ],
          [
           "She"
          ],
          [
           "Duel at Diablo"
          ],
          [
           "The Twelve Tasks of Asterix"
          ],
          [
           "The Losers"
          ],
          [
           "Dolls"
          ],
          [
           "Flood"
          ],
          [
           "Unbeatable"
          ],
          [
           "Critters"
          ],
          [
           "Indiana Jones and the Temple of Doom"
          ],
          [
           "Three Crowns of the Sailor"
          ],
          [
           "Blazing Saddles"
          ],
          [
           "Boogie"
          ],
          [
           "Star Trek: Generations"
          ],
          [
           "Takeshis'"
          ],
          [
           "Deck the Halls"
          ],
          [
           "Son of Rambow"
          ],
          [
           "Instructions for a Light and Sound Machine"
          ],
          [
           "Like Father Like Son"
          ],
          [
           "Avenged"
          ],
          [
           "Yellow Sky"
          ],
          [
           "Babine"
          ],
          [
           "Wyatt Earp"
          ],
          [
           "Horns"
          ],
          [
           "Kamikaze Taxi"
          ],
          [
           "My Demon Lover"
          ],
          [
           "No Problem"
          ],
          [
           "Life of Pi"
          ],
          [
           "The Blues Brothers"
          ],
          [
           "The Crow"
          ],
          [
           "In the Line of Fire"
          ],
          [
           "Batman: The Dark Knight Returns, Part 2"
          ],
          [
           "Run Silent Run Deep"
          ],
          [
           "MacGruber"
          ],
          [
           "Man of La Mancha"
          ],
          [
           "Dragon Age: Dawn of the Seeker"
          ],
          [
           "Airbag"
          ],
          [
           "Spooky Buddies"
          ],
          [
           "Being John Malkovich"
          ],
          [
           "Hell and High Water"
          ],
          [
           "Road to Ninja: Naruto the Movie"
          ],
          [
           "Triple Cross"
          ],
          [
           "Pastorela"
          ],
          [
           "Switch"
          ],
          [
           "The Suspect"
          ],
          [
           "Pirates of the Caribbean: The Curse of the Black Pearl"
          ],
          [
           "Road to Redemption"
          ],
          [
           "House of Flying Daggers"
          ],
          [
           "Troma's War"
          ],
          [
           "Tremors 4: The Legend Begins"
          ],
          [
           "Shoot First and Pray You Live (Because Luck Has Nothing to Do with It)"
          ],
          [
           "The Adventures of Ford Fairlane"
          ],
          [
           "Deep Impact"
          ],
          [
           "Body of Lies"
          ],
          [
           "Red Sonja"
          ],
          [
           "Mister Designer"
          ],
          [
           "Paws"
          ],
          [
           "How I Ended This Summer"
          ],
          [
           "Big Trouble in Little China"
          ],
          [
           "The Sniper"
          ],
          [
           "Black Mask"
          ],
          [
           "Bowery Buckaroos"
          ],
          [
           "Malèfique"
          ],
          [
           "Heart and Souls"
          ],
          [
           "Green Lantern"
          ],
          [
           "Call"
          ],
          [
           "Johnny English Reborn"
          ],
          [
           "Predator"
          ],
          [
           "My iz budushchego"
          ],
          [
           "Into the Blue"
          ],
          [
           "Big Fish"
          ],
          [
           "Sgt. Kabukiman N.Y.P.D."
          ],
          [
           "Band of the Hand"
          ],
          [
           "Romancing the Stone"
          ],
          [
           "Oklahoma!"
          ],
          [
           "Dabangg"
          ],
          [
           "The Tracker"
          ],
          [
           "Dust"
          ],
          [
           "Escape"
          ],
          [
           "Holiday"
          ],
          [
           "Mac and Me"
          ],
          [
           "The Nines"
          ],
          [
           "Fausto 5.0"
          ],
          [
           "Your Highness"
          ],
          [
           "Mighty Aphrodite"
          ],
          [
           "The Hitcher"
          ],
          [
           "Lost River"
          ],
          [
           "The Last Airbender"
          ],
          [
           "The Discreet Charm of the Bourgeoisie"
          ],
          [
           "The Mark of Zorro"
          ],
          [
           "Turks & Caicos"
          ],
          [
           "The Gods Must Be Crazy"
          ],
          [
           "Journey 2: The Mysterious Island"
          ],
          [
           "X-Men"
          ],
          [
           "The Hallelujah Trail"
          ],
          [
           "The Ugly Ones"
          ],
          [
           "Maattrraan"
          ],
          [
           "The Matrix Reloaded"
          ],
          [
           "The Time Machine"
          ],
          [
           "Singam"
          ],
          [
           "Bang Boom Bang - Ein todsicheres Ding"
          ],
          [
           "Feast"
          ],
          [
           "Gen-X Cops"
          ],
          [
           "Jett Jackson: The Movie"
          ],
          [
           "Rambo III"
          ],
          [
           "Karas: The Prophecy"
          ],
          [
           "Miss Congeniality"
          ],
          [
           "La Antena"
          ],
          [
           "800 Bullets"
          ],
          [
           "A.C.A.B."
          ],
          [
           "Barbie in a Mermaid Tale"
          ],
          [
           "The Bourne Identity"
          ],
          [
           "The Defender"
          ],
          [
           "Moon Child"
          ],
          [
           "Assassins"
          ],
          [
           "Rigor Mortis"
          ],
          [
           "Furious 7"
          ],
          [
           "Walking with the Enemy"
          ],
          [
           "Ikèngut"
          ],
          [
           "The Great Locomotive Chase"
          ],
          [
           "Yasmine"
          ],
          [
           "I Spy"
          ],
          [
           "Banklady"
          ],
          [
           "Landmine Goes Click"
          ],
          [
           "New Nightmare"
          ],
          [
           "Wrath of the Titans"
          ],
          [
           "The Masked Saint"
          ],
          [
           "Initial D"
          ],
          [
           "Back to the Future Part II"
          ],
          [
           "Green Snake"
          ],
          [
           "The Chronicles of Narnia: The Voyage of the Dawn Treader"
          ],
          [
           "Doom"
          ],
          [
           "The Prophecy II"
          ],
          [
           "Red Sands"
          ],
          [
           "Red Dust"
          ],
          [
           "Seventeen Again"
          ],
          [
           "When Good Ghouls Go Bad"
          ],
          [
           "1066: The Battle for Middle Earth"
          ],
          [
           "Looking for Jackie"
          ],
          [
           "The Odyssey"
          ],
          [
           "Saints and Soldiers: The Void"
          ],
          [
           "In the Name of the King: A Dungeon Siege Tale"
          ],
          [
           "Macario"
          ],
          [
           "Switch"
          ],
          [
           "Modern Era"
          ],
          [
           "Antonio das Mortes"
          ],
          [
           "Braddock: Missing in Action III"
          ],
          [
           "The Librarian: Return to King Solomon's Mines"
          ],
          [
           "You Don't Mess with the Zohan"
          ],
          [
           "X-Men Origins: Wolverine"
          ],
          [
           "Fullmetal Alchemist the Movie: Conqueror of Shamballa"
          ],
          [
           "Looking for Eric"
          ],
          [
           "Lara Croft: Tomb Raider"
          ],
          [
           "Pathfinder"
          ],
          [
           "Premium Rush"
          ],
          [
           "The Hybrid"
          ],
          [
           "Dagon"
          ],
          [
           "The Pride and the Passion"
          ],
          [
           "Crumbs"
          ],
          [
           "Meltdown"
          ],
          [
           "Black Water"
          ],
          [
           "Dirty Harry"
          ],
          [
           "Black Mask"
          ],
          [
           "The Expendables 3"
          ],
          [
           "Kill Me Again"
          ],
          [
           "The Retrieval"
          ],
          [
           "Angels in America"
          ],
          [
           "Elite Squad"
          ],
          [
           "Sparks"
          ],
          [
           "JLA Adventures: Trapped in Time"
          ],
          [
           "The Wedding Party"
          ],
          [
           "The Haunting Hour: Don't Think About It"
          ],
          [
           "Red Bells Part I: Mexico on Fire"
          ],
          [
           "Kung Fu Panda: Secrets of the Furious Five"
          ],
          [
           "The Missing"
          ],
          [
           "Demolition Man"
          ],
          [
           "United 93"
          ],
          [
           "September Dawn"
          ],
          [
           "Comanche Moon"
          ],
          [
           "Madras Cafe"
          ],
          [
           "The Night Flier"
          ],
          [
           "The Taking of Pelham 1 2 3"
          ],
          [
           "Princess Mononoke"
          ],
          [
           "The Day of the Triffids"
          ],
          [
           "Sonatine"
          ],
          [
           "Timebomb"
          ],
          [
           "TRON: Legacy"
          ],
          [
           "Star Wars: The Clone Wars"
          ],
          [
           "Cell 211"
          ],
          [
           "Ashoka the Great"
          ],
          [
           "Pete's Christmas"
          ],
          [
           "Supergirl"
          ],
          [
           "Air Force"
          ],
          [
           "All of Me"
          ],
          [
           "The Adventures of Pinocchio"
          ],
          [
           "The Spy"
          ],
          [
           "72 Meters"
          ],
          [
           "Elektra"
          ],
          [
           "The City of Lost Children"
          ],
          [
           "Soldier"
          ],
          [
           "Free Ride"
          ],
          [
           "DOA: Dead or Alive"
          ],
          [
           "Chances Are"
          ],
          [
           "City of Ember"
          ],
          [
           "A Better Tomorrow III: Love and Death in Saigon"
          ],
          [
           "Mr. Nice Guy"
          ],
          [
           "Underdog"
          ],
          [
           "Demon Empire"
          ],
          [
           "Stealing Rembrandt"
          ],
          [
           "Wild Wild West"
          ],
          [
           "Bangkok Dangerous"
          ],
          [
           "Hindsight"
          ],
          [
           "Helen of Troy"
          ]
         ],
         "hovertemplate": "0=%{x}<br>1=%{y}<br>2=%{z}<br>title=%{customdata[0]}<br>Short=%{marker.color}<extra></extra>",
         "legendgroup": "",
         "marker": {
          "color": [
           0,
           0,
           0,
           0,
           0,
           0,
           0,
           0,
           0,
           0,
           0,
           0,
           0,
           0,
           0,
           0,
           0,
           0,
           0,
           0,
           0,
           0,
           0,
           0,
           0,
           0,
           0,
           0,
           0,
           0,
           0,
           0,
           0,
           1,
           0,
           0,
           0,
           0,
           0,
           0,
           0,
           0,
           0,
           0,
           0,
           0,
           0,
           0,
           0,
           0,
           0,
           0,
           0,
           0,
           0,
           0,
           0,
           0,
           0,
           0,
           0,
           0,
           0,
           0,
           0,
           0,
           0,
           0,
           0,
           0,
           0,
           0,
           0,
           0,
           0,
           0,
           0,
           0,
           0,
           0,
           0,
           0,
           0,
           0,
           0,
           0,
           0,
           0,
           0,
           0,
           0,
           0,
           0,
           0,
           0,
           0,
           0,
           0,
           0,
           0,
           0,
           0,
           0,
           0,
           1,
           0,
           0,
           0,
           0,
           0,
           0,
           0,
           0,
           0,
           0,
           0,
           0,
           0,
           0,
           0,
           0,
           0,
           0,
           0,
           0,
           0,
           0,
           0,
           0,
           0,
           0,
           0,
           0,
           0,
           0,
           0,
           0,
           0,
           0,
           0,
           0,
           0,
           0,
           0,
           0,
           0,
           0,
           0,
           0,
           0,
           0,
           0,
           0,
           0,
           0,
           0,
           0,
           0,
           0,
           0,
           0,
           0,
           0,
           0,
           0,
           0,
           0,
           0,
           0,
           0,
           0,
           0,
           0,
           0,
           0,
           0,
           0,
           0,
           0,
           0,
           0,
           0,
           0,
           0,
           0,
           0,
           0,
           0,
           0,
           0,
           0,
           0,
           0,
           0,
           0,
           0,
           0,
           0,
           0,
           0,
           0,
           0,
           0,
           0,
           0,
           0,
           0,
           0,
           0,
           0,
           0,
           0,
           0,
           0,
           0,
           0,
           0,
           0,
           0,
           0,
           0,
           0,
           0,
           0,
           0,
           0,
           0,
           0,
           0,
           0,
           0,
           0,
           0,
           0,
           0,
           0,
           0,
           0,
           0,
           0,
           0,
           0,
           0,
           0,
           0,
           0,
           0,
           0,
           0,
           0,
           0,
           0,
           0,
           0,
           0,
           0,
           0,
           0,
           0,
           0,
           1,
           0,
           0,
           0,
           0,
           0,
           0,
           0,
           0,
           0,
           0,
           0,
           0,
           0,
           0,
           0,
           0,
           0,
           0,
           0,
           0,
           0,
           0,
           0,
           0,
           0,
           0,
           0,
           0,
           0,
           0,
           0,
           0,
           0,
           0,
           0,
           0,
           0,
           0,
           0
          ],
          "coloraxis": "coloraxis",
          "symbol": "circle"
         },
         "mode": "markers",
         "name": "",
         "scene": "scene",
         "showlegend": false,
         "type": "scatter3d",
         "x": [
          -0.098404380111633,
          -1.6098790419124642,
          -0.6960726843271445,
          -0.21946306751050465,
          0.44506202501559594,
          0.18140046376543414,
          0.8738700251141851,
          1.4626590968987498,
          -0.9510728166779205,
          2.0451698174087247,
          -1.7617155710937067,
          0.5884085076168557,
          0.23978098445436136,
          -0.6817187979155126,
          1.4658701321397958,
          1.3145307309439211,
          -0.8823172585123238,
          -1.2680304553089163,
          1.1646418165764725,
          -1.3530477049981235,
          -1.4756045987784383,
          -1.1331113879730952,
          -0.8261574137504977,
          0.3642052783069982,
          0.09419624062273646,
          -0.3637350959516432,
          -0.14894473721508664,
          0.6178128425583307,
          0.07614459212870822,
          0.2150309551677597,
          -0.7422649351959707,
          -0.862570599057282,
          -0.9681791918647944,
          1.4400958463853337,
          0.9235936481572038,
          1.576424970250208,
          -0.8593250804914425,
          0.5113968786250623,
          -1.0658097786409326,
          -0.7181048416645448,
          0.5128693760554427,
          1.4152900278035037,
          0.4059427416480622,
          -0.7357263015038358,
          -0.1898430513532086,
          0.5013462895591523,
          -0.6890491749217937,
          0.013054683837011166,
          -0.3885978350201766,
          -0.29835610701220794,
          -1.3870824436786133,
          1.0153666937711667,
          0.6384425273845653,
          -0.43958763244282173,
          1.810125821882111,
          0.9149539320495631,
          -1.020587693869823,
          2.0283241283707594,
          -0.4056625825051713,
          -0.3877814226157279,
          -0.4930407509361465,
          1.5276759848748114,
          -0.668994318000009,
          -0.08287656344058578,
          0.07679098634920126,
          1.5910146205116185,
          -0.2832462345861792,
          -0.3683876506003292,
          -0.22040474022057893,
          -1.1033273297086377,
          -1.067636953456999,
          -1.740137580546811,
          -0.45715405006255205,
          -0.9926979974425789,
          -0.9229058039086296,
          -0.1967735452529646,
          -0.8060453993453618,
          -1.8995844825947366,
          0.16748774783620898,
          -1.6322400474349277,
          -0.32920988262000933,
          0.3433175633935791,
          -1.2006002080033387,
          1.4704417328867208,
          2.0780540044489273,
          1.064808594382828,
          1.1156044936103613,
          -0.928736809500025,
          -0.8776903810149335,
          0.7577355558206833,
          -0.7025561848742119,
          1.5189950687654106,
          -1.5769559462041984,
          -1.316987861427446,
          0.14472386444847551,
          -0.8434112530548348,
          -0.33294612650186634,
          -0.0072104875095811705,
          1.3134152602376465,
          1.0679687539552014,
          -0.10583705454039444,
          0.28096604229765687,
          0.5231292249029738,
          -0.029268945188429124,
          -0.8019446682784563,
          -0.8388259484140458,
          2.199748983921368,
          0.811125525744314,
          -1.3307044156564682,
          0.0712887789352673,
          -0.8676978801387523,
          1.184974579761369,
          -0.7734754066282278,
          1.6951021136246702,
          -0.7739459619814738,
          0.20390920847074237,
          0.3476115579969403,
          1.1778601406184788,
          0.7658047073743903,
          0.6052211061171708,
          0.6024985224768928,
          -1.0374425199500237,
          -1.0670072971877014,
          0.3917543196454473,
          -1.2076268587492642,
          -0.8609307928190622,
          0.4011584249484135,
          -0.24825352291702762,
          0.8134347139565129,
          -0.17513326821120412,
          0.047377670462835225,
          1.0495145212301291,
          -0.48475299042816383,
          1.5410219560408855,
          1.419293795379858,
          0.06585517427932466,
          -1.001232668135411,
          1.0798614192856728,
          1.2763804444026898,
          -1.1386401984309777,
          1.480778106568941,
          -0.6781936829548603,
          -1.2272554032058673,
          0.3858720890698969,
          -0.6157515873047514,
          0.024773052263322298,
          2.292742776102268,
          0.26114234960292887,
          1.2337002409330893,
          0.5427334325685218,
          -0.7870843845557557,
          -0.5737465819621558,
          1.2794556021526524,
          1.3822261441713164,
          0.411467854047462,
          -1.0552585339689926,
          0.6411268375513988,
          -1.2198694979712967,
          0.19097697612764641,
          0.23015781761709903,
          0.5090843528229526,
          0.12285057320316109,
          1.9363247754397555,
          0.803236277275346,
          0.6141044845170487,
          -1.2916238320559787,
          1.7100617979004085,
          -0.9462276482235538,
          -0.3039849254266943,
          -0.48820337460898033,
          -0.18762010131160675,
          0.15304068975695612,
          0.5706791171843123,
          -0.7179801755468478,
          -1.1127751890051794,
          -0.9758053170899164,
          0.4927045159602325,
          0.8801517037576658,
          -0.6098163807215351,
          -0.15526391198370398,
          -0.15641276489322398,
          0.3063133549662528,
          1.0717216310275361,
          -0.43999118043370083,
          -0.5212053945315482,
          -1.0182278278259198,
          2.1883360209402336,
          0.8538656920338252,
          -0.6725516378960432,
          1.281575876534331,
          -0.7949240934029296,
          0.9080239628875189,
          -0.9122361605457713,
          1.393941763041044,
          -0.49222432441549213,
          0.11564625234488451,
          1.101055649782181,
          -1.621617769789359,
          0.7666709412923853,
          1.6095635343248684,
          -0.1952699691707105,
          1.317745172803183,
          -0.8730484370823871,
          0.8920989505746122,
          0.4268297024493144,
          -1.866928681975641,
          1.0517280268700466,
          -0.17697209245920836,
          1.393246577619718,
          1.0171569938449405,
          0.7602504421266998,
          -1.255644390094589,
          -1.3000547606742723,
          0.1281551692421591,
          -0.5078231488659564,
          -0.6643437582875821,
          -0.9966558398773493,
          -1.8647676997629001,
          -0.532904306579899,
          -0.6468208639687795,
          -0.4768787799675925,
          -0.5354452785186035,
          -1.0057099545237602,
          -0.43332654249131325,
          -1.0801634612591673,
          0.02451988365074015,
          -1.3182176826887737,
          0.19939893622888852,
          -0.30699435749965337,
          -0.886875592452828,
          -0.8960551638041035,
          -0.17338164638590642,
          -0.9604366915903586,
          0.843329436558319,
          -0.8049270356191852,
          0.5415113646030536,
          0.03172322863144755,
          -0.9597089842705633,
          -0.49348688421152975,
          -0.36093323417073003,
          -0.8055627470825402,
          1.4581877534979175,
          0.4731186333790627,
          -1.1242487613464696,
          -0.07897738785032714,
          -1.4149490757813956,
          0.5818045292309659,
          -1.0172597156236365,
          1.0169414367657525,
          0.26114234960292887,
          0.5289675024091511,
          1.8259641256698722,
          1.0378515497795053,
          -0.519943199292275,
          0.8461290907340918,
          0.768599442342961,
          -0.7501408342853494,
          -0.3308382405429514,
          -1.148350672685394,
          -0.2587204193532488,
          -0.2339388868817494,
          -0.022503622610524493,
          1.2269342515299562,
          0.06804927684448445,
          0.33471592661717564,
          0.13529883746219856,
          1.2175100425641854,
          0.5027683284250297,
          1.3605376883411744,
          -1.1994601227512351,
          -0.8877041545772603,
          0.675740923729812,
          0.04736417656673139,
          -0.8580942445028072,
          0.3563525587823614,
          0.8692768988340946,
          -1.17580934078487,
          -0.9938993308211148,
          -1.097427676229235,
          0.1938176634540137,
          -0.35018968192190586,
          -1.5482703037925194,
          1.0697118266681822,
          -0.23678202379338945,
          0.060487115388693086,
          -0.7124791091817412,
          -0.318703431740207,
          0.48642219776996315,
          -0.5551117329629017,
          0.1911007613143753,
          -1.7869000920427744,
          1.2285500377005523,
          1.559588381993278,
          -0.37598421640435453,
          -0.6722249464137274,
          0.29332531682359264,
          1.1658763652125648,
          1.1713410517925311,
          1.6592088786808203,
          -0.6490397278544027
         ],
         "y": [
          -1.001391835920042,
          0.4816323732590828,
          0.5062299575067248,
          0.352155163404691,
          -1.234003894210095,
          0.6761837465781444,
          -0.02882608779143779,
          0.652206999325655,
          -0.7896585438755528,
          0.4798713849911587,
          0.8802472138754309,
          -0.6638500217235739,
          1.1210665078873205,
          1.05406842592531,
          -1.495652480486124,
          0.6016595224520069,
          0.9554621387466817,
          -1.2989250959022631,
          1.6726515720049768,
          0.7489357701339094,
          0.36575104300292705,
          0.8898244390405446,
          -0.011819151531045798,
          -0.3644828772425197,
          0.8024416174790714,
          0.1081794419990918,
          -0.3724590822116429,
          -0.009434996155540942,
          1.2836280824690525,
          -0.4387540218408917,
          -0.9669753435648292,
          0.8760542083171935,
          0.6005448539227026,
          -0.23246603673785823,
          0.32733353849888847,
          -0.5452467774783744,
          0.18405011051328263,
          -0.692713060582473,
          0.2979293672499101,
          0.3922008393035471,
          0.5163695922996264,
          -0.43344638259740953,
          0.9035792174694481,
          -1.8037361259282925,
          0.8519199548339154,
          0.08710105914482641,
          -1.6580190499345888,
          0.2390723400309749,
          0.09684829947884048,
          -0.7677092630119526,
          -1.0000663343104137,
          0.1255069349494722,
          0.1799682636945683,
          0.6502385853482522,
          -0.08511207157841166,
          0.5523166295846229,
          -0.9802012416050238,
          0.5215257834261267,
          -0.6030369165177609,
          -0.7728782808461842,
          -0.39111170497650116,
          0.19163478997584066,
          0.5259970790130706,
          1.3802683902723987,
          0.8996227767851395,
          0.036541122087067265,
          0.20640759197605527,
          -1.3780021484177174,
          1.5143980408800788,
          -0.1654434123079754,
          0.13691074096889483,
          0.6257923803304188,
          -0.1773751187809946,
          -0.22297703629803767,
          -1.1027998686665703,
          1.2307678999923977,
          -0.8305145031470627,
          0.7603950745789544,
          -1.3286728752719914,
          1.5515092216457405,
          -0.5760850055272311,
          -1.4745567432316768,
          -0.13489180560174588,
          0.5682047131496133,
          0.2633741498708643,
          0.4121536137169157,
          -0.011950467636455686,
          -0.2224255300457476,
          0.19831205323870238,
          -0.005232475650453934,
          -1.447144533771798,
          -1.6842825342191143,
          0.6615805473638009,
          -0.6379320246432579,
          0.3590002634747744,
          -0.4884531952434515,
          -0.68914715088063,
          1.1199894093974536,
          0.3865400058962365,
          1.1044851904016024,
          -1.2885685064779349,
          0.63654201040483,
          0.4631833170830375,
          0.5620959906979532,
          -0.22829857103840445,
          0.7117185423926833,
          0.19809358349605147,
          0.860791431095263,
          0.8714475095451872,
          0.8312765873098849,
          0.8954941036616227,
          0.757519677641037,
          1.7450589264638952,
          0.5567071949636976,
          -0.45294392641161696,
          0.9824873365697875,
          0.6844765190893112,
          -0.8529476036828493,
          -0.627254850809364,
          -1.0813120066660802,
          -1.5114040308285461,
          0.8777293857166231,
          -0.3125619373792303,
          1.6353374029828944,
          0.6319600047743483,
          0.5299947234251777,
          -1.4238770883675886,
          -0.7538656200839254,
          0.2093960164768892,
          0.7158693086668501,
          1.4070956115598636,
          -0.4577139293866877,
          -0.3031488244718431,
          1.046179949440183,
          -0.025980396658671426,
          -0.6157702126893727,
          -0.1925810742981042,
          0.927417614502092,
          1.506986273037422,
          -1.8211924429820239,
          -1.1553292778358302,
          0.4851474229557601,
          0.9447796776527313,
          0.2343892112010963,
          -0.9074388320191329,
          -0.12587087498611388,
          -0.07788935742959935,
          -1.4028405776680228,
          0.6736428904867329,
          0.48197989959673604,
          0.4367075891309986,
          -1.2947302646947625,
          -1.0081335511024996,
          -0.6608591830590728,
          -1.691777908731228,
          -0.8838174788690825,
          -0.6051739760312035,
          1.1617974875798338,
          0.4974543386324469,
          -0.08547298802214616,
          0.4604524810761539,
          0.8632465216634345,
          0.7735658851791195,
          0.3781477213049751,
          1.1508177301623912,
          0.24410560315119162,
          -1.6411375160942994,
          -0.47943004681086965,
          0.6277772728776836,
          -0.05559771324369321,
          -0.17870269075179218,
          1.3399366699231638,
          1.103339249401466,
          0.7000479942416206,
          -1.2285542633796285,
          0.9226881109063662,
          0.2683838467810764,
          -0.7574374915174975,
          -0.2589568855123486,
          0.2352619724915853,
          -1.1351500023340315,
          -0.26662293981247953,
          0.5112619783097004,
          0.05063771245290689,
          -1.8501767186826705,
          -0.9373668105696353,
          -0.17481578014040242,
          0.6549557484706718,
          -0.08373903648134137,
          -0.26601220327241365,
          -0.04093628273126582,
          -1.451974131581895,
          -0.1449956862343937,
          -0.7042830195364992,
          1.0304045769999726,
          0.06748720137579695,
          0.09845087103504062,
          0.1254190187368445,
          -0.17362851269636737,
          0.7185478593605239,
          1.1563521213027719,
          0.2778978359318789,
          0.33428996267018274,
          -0.025382022428369587,
          -0.1544246897172771,
          0.10744577551695586,
          -1.3827854288743715,
          0.467800812038727,
          -1.4732033015149582,
          1.545795925072326,
          -0.26884530866205464,
          0.47954663285590726,
          -0.9327011589222796,
          0.5512066574076322,
          0.1538163145391844,
          -0.5730952216513087,
          1.0105941027241119,
          -0.7407868212870843,
          -1.5543965865885085,
          -0.551970445730745,
          -1.029607741851346,
          1.135988895725397,
          0.6617756074655324,
          1.1741187833844946,
          -0.25357805888409485,
          -0.021873984087385258,
          0.1112135059956431,
          -1.90765527491181,
          -0.3343185559469778,
          1.1421697462985723,
          1.2718681803314424,
          -0.25552347602094294,
          0.5125799770295969,
          -0.18957815597949157,
          -0.6650539476443407,
          -0.6001282075670109,
          -0.763060108993985,
          -1.0008403971030997,
          0.657149809493144,
          -0.720208607001807,
          -0.059725829664198544,
          0.7423923332963388,
          -1.5280445036546793,
          0.3661821519589824,
          -0.6603159798528301,
          -1.475033417860041,
          -0.040572884514555076,
          0.03134431090118052,
          0.17435446809625724,
          -1.4028405776680228,
          -0.8479791276793185,
          1.3672628652724204,
          -0.2731325526304539,
          0.26392376451039945,
          -0.2548499404788696,
          -0.19758411260595385,
          -1.4882499568448986,
          0.5558770709333498,
          1.2978882525576374,
          0.2098619903791282,
          0.26812894680378846,
          0.9524776651318734,
          -0.11316329597964232,
          -0.741186393825866,
          0.4227474294063785,
          0.5432963395941124,
          -0.883542179341711,
          0.1946207557621425,
          -0.6484376539865313,
          -0.30668907287643543,
          -1.1142860445619942,
          -0.21543798363345096,
          0.694167056479251,
          0.17487404418375654,
          -0.924422157992367,
          -0.0661858649540979,
          0.10617818291081324,
          0.9376017120051108,
          -0.8527203796910355,
          -1.5735575792952465,
          1.1856234117625908,
          0.6995443599394431,
          -1.1341713271533862,
          -1.621806433247679,
          -0.11220877869168688,
          0.21673223884772203,
          -1.5811942109076103,
          1.4832434485498371,
          0.4235512513621964,
          0.6713388976787795,
          -0.1788316581477474,
          0.29392603078682733,
          0.5198036407159096,
          -1.0254910080457522,
          -0.0579871695054603,
          0.790735362060837,
          -0.8746176353045619,
          1.2190884565585196,
          0.9253183627303792,
          -0.5866097003256916
         ],
         "z": [
          -0.35375026233707463,
          0.34458627372260586,
          0.521164934299218,
          -0.7321775272657758,
          -1.1920164236296493,
          0.022391346540746454,
          0.06573196767383521,
          0.08234199855838314,
          -0.21724423582864652,
          1.0944957019548875,
          0.764310973591421,
          -0.7604794869699371,
          -1.2289513701900698,
          -0.2491648250809607,
          0.0817652338521678,
          0.5846177848497413,
          1.1008014412039988,
          -0.18451239849686538,
          -0.12810459540570107,
          -0.9345744256368691,
          0.48583984009763337,
          -0.36249239294861957,
          -0.7846566732950488,
          -0.5232654327341385,
          -0.6367944406113215,
          0.016414784577633013,
          0.24675756175125407,
          1.518827653378814,
          -0.5833122659215407,
          0.8121537529612337,
          0.6138491177625981,
          0.6028545247072887,
          1.2872188122920276,
          -0.7729467182989825,
          0.25380990657924846,
          0.26453346109885634,
          -0.44960873009168234,
          -1.486747901324374,
          -0.4224088078846351,
          0.3860160090724345,
          0.9039254433721682,
          0.8403676564758618,
          -0.5068981319486315,
          1.2230595900119383,
          -1.7492518623366622,
          0.08315256753217773,
          -0.41367711157490505,
          1.528633010654059,
          0.8538358468550149,
          -0.3075245475408188,
          0.6250736643682657,
          -0.25231044979581757,
          -0.0026365850135849633,
          0.5973164421660853,
          0.378495846744636,
          0.640906558237005,
          -0.6593298233618197,
          0.3812221639479696,
          0.431619094990727,
          1.7730152512082464,
          0.6662988521363515,
          -0.3621676085577624,
          -0.5478800925016309,
          -1.661317451612604,
          0.18301581422008661,
          0.5751107513617362,
          -1.070831128553853,
          -0.5600482308376674,
          0.3854744613736959,
          1.2327970780832824,
          0.6592558887382393,
          1.287062278432885,
          0.47788225376126026,
          0.4961699683588758,
          1.4062831753537464,
          -1.1720091211544892,
          0.7566774804143593,
          -0.2177425698216317,
          -1.4962976304777253,
          0.21292173568290537,
          -1.540865431675977,
          -0.5265402403735573,
          -0.2788377101837123,
          0.10866799970601054,
          0.3544693432536954,
          -0.31686033287933324,
          0.6288837344636368,
          -1.0431392431466966,
          -0.7148430915140281,
          -1.1894976040347618,
          -0.7772104242274825,
          -0.22874981871655703,
          0.5733800865696699,
          -1.0326383933104608,
          -0.3146869441735245,
          -0.1689587471346407,
          -0.27203252505624,
          -0.5674046736028451,
          -0.35786509528418275,
          0.544544319304237,
          1.1938915064730344,
          0.6584648445653223,
          0.5795538819735656,
          -0.9920849798558622,
          -0.9905351616995367,
          1.1698667702954384,
          0.8237983758706212,
          -0.7414584959805105,
          -0.12931721006346153,
          -1.0612346367884198,
          1.1581120897504154,
          0.12496153642869809,
          1.2526177597676191,
          0.46609324111035566,
          -0.39160237708647605,
          -0.5301309104028542,
          1.4457912555909402,
          0.4584124512322839,
          1.2978945947570653,
          -0.5422748032154702,
          0.9859762147381828,
          -0.9908218582174697,
          -0.2374166992684542,
          -0.08002565607966285,
          0.34437670158386324,
          1.064171916014426,
          -0.524992857523786,
          0.8308002989577974,
          -1.0972785383972292,
          -0.07555592239869652,
          0.649634503058754,
          -0.41071675291917464,
          0.3693034541806606,
          -0.11634041406759395,
          0.1822576020364039,
          -0.9655727169199952,
          -0.5617013555931974,
          -0.419593263767583,
          0.7208979431154166,
          -0.26730381336015824,
          0.1733965371106072,
          0.5742638159966558,
          0.9427470480467421,
          -0.03357532001983521,
          -0.8802035535665187,
          0.028345218577630893,
          1.0183022478561847,
          1.7463292309751133,
          -0.7970199720419959,
          -0.5481908677701511,
          0.6820296452488462,
          1.2295300938737928,
          -0.39182004108700585,
          -0.16109363073237187,
          0.1688150806107265,
          -0.7366220163467148,
          -0.04457528940467942,
          -0.41126656001199247,
          1.0359266689266924,
          -0.9802708830130622,
          -0.41799829397263005,
          -1.4594321769688643,
          0.4341074735567449,
          -1.1972860792643203,
          -1.0302544886920022,
          -0.12585437645063957,
          0.5625048927938202,
          0.6776439248382731,
          1.048444355651253,
          0.37286333303391705,
          0.20092124019466626,
          0.6410025085345029,
          0.480330684702083,
          0.8012128681413287,
          -0.07787217052516213,
          -0.24989797745081824,
          0.15792896356876543,
          -0.7045412485722817,
          -0.5579198663616259,
          -0.04246529289211959,
          1.5832723729141644,
          -2.009374518928679,
          -0.5722461254272241,
          0.12579538278947436,
          0.4572123989293163,
          -0.1538065543548421,
          0.43633344411368336,
          -0.10247278155052122,
          0.7320162929040013,
          -0.21770793334526986,
          0.5260691510909672,
          -0.7752019620472548,
          0.4842977410186444,
          0.5354889048254692,
          -0.8137423036184794,
          -0.9955036805214244,
          -0.7354793802358817,
          0.3720384324984273,
          0.24772335786388003,
          0.15361115531346087,
          -1.1462060973756287,
          0.5882749772715907,
          0.7280629750989958,
          1.0562525989093645,
          -0.12672060873834684,
          -0.5602864304001004,
          -1.0616685406598037,
          -0.23618319499579737,
          0.36494917368544794,
          0.12137583304295874,
          -0.8278123096135002,
          1.6195393490634247,
          0.41042498718591947,
          0.6194210002911322,
          0.1989621430107659,
          0.18827506258404875,
          0.23382151862486017,
          -0.738029245987326,
          0.7132200194388881,
          1.0190999967295502,
          -0.2779943279723068,
          -1.2307675958708828,
          0.37511234046510233,
          -0.3211286255738315,
          -1.1342621258889314,
          0.01750773892211968,
          -1.008216660489136,
          -1.3667333428237574,
          0.12593461052805038,
          -0.20121969572589293,
          -0.4773344617702652,
          -1.5246778003009238,
          -1.1411282086751011,
          -1.4555951480577123,
          0.09462653563890533,
          0.7220445019771892,
          0.09839029858828174,
          0.5444483951176058,
          0.2881124902808102,
          0.4471819854667275,
          -1.9091041486997278,
          0.39452329513186113,
          0.2773022109793728,
          -0.10601919205838167,
          -1.9066225282905895,
          0.5524414517329814,
          0.6229762693189693,
          -1.0534956425031272,
          0.6697167978148606,
          1.7463292309751133,
          0.7550181574289021,
          0.954989587091905,
          -0.9460226427679153,
          -0.5260216340440014,
          0.029407196184342427,
          1.4364495902256658,
          1.3358858884137708,
          0.06561175288223059,
          1.02259057621907,
          -2.0776840006431536,
          0.1314944032728349,
          -0.878911957296237,
          1.23419955115446,
          -1.3342654910639606,
          -1.6112330661805756,
          -1.694012872880224,
          -0.5782048019674179,
          0.9034012686324612,
          -0.06045063171757778,
          0.09207328486832006,
          -0.2615335067597668,
          -0.7721240930634734,
          0.7288441887437523,
          1.1559473927131776,
          0.318106511648532,
          -0.7660690843032245,
          -1.3889471847181425,
          0.3049032947142032,
          1.2664288642338517,
          -1.398092685977802,
          1.0306015448334953,
          0.269291332722129,
          -0.9068889904508998,
          -1.0215977267099932,
          1.128438675310009,
          1.3556147957976383,
          0.2399299097476286,
          -0.2847008443250782,
          0.550433245996639,
          -0.21074996632436177,
          -0.16947788597005672,
          -0.7485660355192134,
          0.11468690862014116,
          1.5091313968812659,
          -0.9990911663632498,
          -0.2845140518309319,
          0.12117448876368245,
          -0.00481002375558745,
          0.9467373410470526,
          -0.809010202088411
         ]
        },
        {
         "marker": {
          "color": "orange"
         },
         "name": "origin (0,0,0)",
         "type": "scatter3d",
         "x": [
          0
         ],
         "y": [
          0
         ],
         "z": [
          0
         ]
        },
        {
         "marker": {
          "color": "#16FF32"
         },
         "name": "query",
         "type": "scatter3d",
         "x": [
          -0.31507605169777475
         ],
         "y": [
          0.3375531133478039
         ],
         "z": [
          -1.004394855717964
         ]
        }
       ],
       "layout": {
        "coloraxis": {
         "colorbar": {
          "title": {
           "text": "Short"
          }
         },
         "colorscale": [
          [
           0,
           "#0d0887"
          ],
          [
           0.1111111111111111,
           "#46039f"
          ],
          [
           0.2222222222222222,
           "#7201a8"
          ],
          [
           0.3333333333333333,
           "#9c179e"
          ],
          [
           0.4444444444444444,
           "#bd3786"
          ],
          [
           0.5555555555555556,
           "#d8576b"
          ],
          [
           0.6666666666666666,
           "#ed7953"
          ],
          [
           0.7777777777777778,
           "#fb9f3a"
          ],
          [
           0.8888888888888888,
           "#fdca26"
          ],
          [
           1,
           "#f0f921"
          ]
         ]
        },
        "legend": {
         "tracegroupgap": 0
        },
        "margin": {
         "t": 60
        },
        "scene": {
         "domain": {
          "x": [
           0,
           1
          ],
          "y": [
           0,
           1
          ]
         },
         "xaxis": {
          "title": {
           "text": "0"
          }
         },
         "yaxis": {
          "title": {
           "text": "1"
          }
         },
         "zaxis": {
          "title": {
           "text": "2"
          }
         }
        },
        "template": {
         "data": {
          "bar": [
           {
            "error_x": {
             "color": "#2a3f5f"
            },
            "error_y": {
             "color": "#2a3f5f"
            },
            "marker": {
             "line": {
              "color": "#E5ECF6",
              "width": 0.5
             },
             "pattern": {
              "fillmode": "overlay",
              "size": 10,
              "solidity": 0.2
             }
            },
            "type": "bar"
           }
          ],
          "barpolar": [
           {
            "marker": {
             "line": {
              "color": "#E5ECF6",
              "width": 0.5
             },
             "pattern": {
              "fillmode": "overlay",
              "size": 10,
              "solidity": 0.2
             }
            },
            "type": "barpolar"
           }
          ],
          "carpet": [
           {
            "aaxis": {
             "endlinecolor": "#2a3f5f",
             "gridcolor": "white",
             "linecolor": "white",
             "minorgridcolor": "white",
             "startlinecolor": "#2a3f5f"
            },
            "baxis": {
             "endlinecolor": "#2a3f5f",
             "gridcolor": "white",
             "linecolor": "white",
             "minorgridcolor": "white",
             "startlinecolor": "#2a3f5f"
            },
            "type": "carpet"
           }
          ],
          "choropleth": [
           {
            "colorbar": {
             "outlinewidth": 0,
             "ticks": ""
            },
            "type": "choropleth"
           }
          ],
          "contour": [
           {
            "colorbar": {
             "outlinewidth": 0,
             "ticks": ""
            },
            "colorscale": [
             [
              0,
              "#0d0887"
             ],
             [
              0.1111111111111111,
              "#46039f"
             ],
             [
              0.2222222222222222,
              "#7201a8"
             ],
             [
              0.3333333333333333,
              "#9c179e"
             ],
             [
              0.4444444444444444,
              "#bd3786"
             ],
             [
              0.5555555555555556,
              "#d8576b"
             ],
             [
              0.6666666666666666,
              "#ed7953"
             ],
             [
              0.7777777777777778,
              "#fb9f3a"
             ],
             [
              0.8888888888888888,
              "#fdca26"
             ],
             [
              1,
              "#f0f921"
             ]
            ],
            "type": "contour"
           }
          ],
          "contourcarpet": [
           {
            "colorbar": {
             "outlinewidth": 0,
             "ticks": ""
            },
            "type": "contourcarpet"
           }
          ],
          "heatmap": [
           {
            "colorbar": {
             "outlinewidth": 0,
             "ticks": ""
            },
            "colorscale": [
             [
              0,
              "#0d0887"
             ],
             [
              0.1111111111111111,
              "#46039f"
             ],
             [
              0.2222222222222222,
              "#7201a8"
             ],
             [
              0.3333333333333333,
              "#9c179e"
             ],
             [
              0.4444444444444444,
              "#bd3786"
             ],
             [
              0.5555555555555556,
              "#d8576b"
             ],
             [
              0.6666666666666666,
              "#ed7953"
             ],
             [
              0.7777777777777778,
              "#fb9f3a"
             ],
             [
              0.8888888888888888,
              "#fdca26"
             ],
             [
              1,
              "#f0f921"
             ]
            ],
            "type": "heatmap"
           }
          ],
          "heatmapgl": [
           {
            "colorbar": {
             "outlinewidth": 0,
             "ticks": ""
            },
            "colorscale": [
             [
              0,
              "#0d0887"
             ],
             [
              0.1111111111111111,
              "#46039f"
             ],
             [
              0.2222222222222222,
              "#7201a8"
             ],
             [
              0.3333333333333333,
              "#9c179e"
             ],
             [
              0.4444444444444444,
              "#bd3786"
             ],
             [
              0.5555555555555556,
              "#d8576b"
             ],
             [
              0.6666666666666666,
              "#ed7953"
             ],
             [
              0.7777777777777778,
              "#fb9f3a"
             ],
             [
              0.8888888888888888,
              "#fdca26"
             ],
             [
              1,
              "#f0f921"
             ]
            ],
            "type": "heatmapgl"
           }
          ],
          "histogram": [
           {
            "marker": {
             "pattern": {
              "fillmode": "overlay",
              "size": 10,
              "solidity": 0.2
             }
            },
            "type": "histogram"
           }
          ],
          "histogram2d": [
           {
            "colorbar": {
             "outlinewidth": 0,
             "ticks": ""
            },
            "colorscale": [
             [
              0,
              "#0d0887"
             ],
             [
              0.1111111111111111,
              "#46039f"
             ],
             [
              0.2222222222222222,
              "#7201a8"
             ],
             [
              0.3333333333333333,
              "#9c179e"
             ],
             [
              0.4444444444444444,
              "#bd3786"
             ],
             [
              0.5555555555555556,
              "#d8576b"
             ],
             [
              0.6666666666666666,
              "#ed7953"
             ],
             [
              0.7777777777777778,
              "#fb9f3a"
             ],
             [
              0.8888888888888888,
              "#fdca26"
             ],
             [
              1,
              "#f0f921"
             ]
            ],
            "type": "histogram2d"
           }
          ],
          "histogram2dcontour": [
           {
            "colorbar": {
             "outlinewidth": 0,
             "ticks": ""
            },
            "colorscale": [
             [
              0,
              "#0d0887"
             ],
             [
              0.1111111111111111,
              "#46039f"
             ],
             [
              0.2222222222222222,
              "#7201a8"
             ],
             [
              0.3333333333333333,
              "#9c179e"
             ],
             [
              0.4444444444444444,
              "#bd3786"
             ],
             [
              0.5555555555555556,
              "#d8576b"
             ],
             [
              0.6666666666666666,
              "#ed7953"
             ],
             [
              0.7777777777777778,
              "#fb9f3a"
             ],
             [
              0.8888888888888888,
              "#fdca26"
             ],
             [
              1,
              "#f0f921"
             ]
            ],
            "type": "histogram2dcontour"
           }
          ],
          "mesh3d": [
           {
            "colorbar": {
             "outlinewidth": 0,
             "ticks": ""
            },
            "type": "mesh3d"
           }
          ],
          "parcoords": [
           {
            "line": {
             "colorbar": {
              "outlinewidth": 0,
              "ticks": ""
             }
            },
            "type": "parcoords"
           }
          ],
          "pie": [
           {
            "automargin": true,
            "type": "pie"
           }
          ],
          "scatter": [
           {
            "fillpattern": {
             "fillmode": "overlay",
             "size": 10,
             "solidity": 0.2
            },
            "type": "scatter"
           }
          ],
          "scatter3d": [
           {
            "line": {
             "colorbar": {
              "outlinewidth": 0,
              "ticks": ""
             }
            },
            "marker": {
             "colorbar": {
              "outlinewidth": 0,
              "ticks": ""
             }
            },
            "type": "scatter3d"
           }
          ],
          "scattercarpet": [
           {
            "marker": {
             "colorbar": {
              "outlinewidth": 0,
              "ticks": ""
             }
            },
            "type": "scattercarpet"
           }
          ],
          "scattergeo": [
           {
            "marker": {
             "colorbar": {
              "outlinewidth": 0,
              "ticks": ""
             }
            },
            "type": "scattergeo"
           }
          ],
          "scattergl": [
           {
            "marker": {
             "colorbar": {
              "outlinewidth": 0,
              "ticks": ""
             }
            },
            "type": "scattergl"
           }
          ],
          "scattermapbox": [
           {
            "marker": {
             "colorbar": {
              "outlinewidth": 0,
              "ticks": ""
             }
            },
            "type": "scattermapbox"
           }
          ],
          "scatterpolar": [
           {
            "marker": {
             "colorbar": {
              "outlinewidth": 0,
              "ticks": ""
             }
            },
            "type": "scatterpolar"
           }
          ],
          "scatterpolargl": [
           {
            "marker": {
             "colorbar": {
              "outlinewidth": 0,
              "ticks": ""
             }
            },
            "type": "scatterpolargl"
           }
          ],
          "scatterternary": [
           {
            "marker": {
             "colorbar": {
              "outlinewidth": 0,
              "ticks": ""
             }
            },
            "type": "scatterternary"
           }
          ],
          "surface": [
           {
            "colorbar": {
             "outlinewidth": 0,
             "ticks": ""
            },
            "colorscale": [
             [
              0,
              "#0d0887"
             ],
             [
              0.1111111111111111,
              "#46039f"
             ],
             [
              0.2222222222222222,
              "#7201a8"
             ],
             [
              0.3333333333333333,
              "#9c179e"
             ],
             [
              0.4444444444444444,
              "#bd3786"
             ],
             [
              0.5555555555555556,
              "#d8576b"
             ],
             [
              0.6666666666666666,
              "#ed7953"
             ],
             [
              0.7777777777777778,
              "#fb9f3a"
             ],
             [
              0.8888888888888888,
              "#fdca26"
             ],
             [
              1,
              "#f0f921"
             ]
            ],
            "type": "surface"
           }
          ],
          "table": [
           {
            "cells": {
             "fill": {
              "color": "#EBF0F8"
             },
             "line": {
              "color": "white"
             }
            },
            "header": {
             "fill": {
              "color": "#C8D4E3"
             },
             "line": {
              "color": "white"
             }
            },
            "type": "table"
           }
          ]
         },
         "layout": {
          "annotationdefaults": {
           "arrowcolor": "#2a3f5f",
           "arrowhead": 0,
           "arrowwidth": 1
          },
          "autotypenumbers": "strict",
          "coloraxis": {
           "colorbar": {
            "outlinewidth": 0,
            "ticks": ""
           }
          },
          "colorscale": {
           "diverging": [
            [
             0,
             "#8e0152"
            ],
            [
             0.1,
             "#c51b7d"
            ],
            [
             0.2,
             "#de77ae"
            ],
            [
             0.3,
             "#f1b6da"
            ],
            [
             0.4,
             "#fde0ef"
            ],
            [
             0.5,
             "#f7f7f7"
            ],
            [
             0.6,
             "#e6f5d0"
            ],
            [
             0.7,
             "#b8e186"
            ],
            [
             0.8,
             "#7fbc41"
            ],
            [
             0.9,
             "#4d9221"
            ],
            [
             1,
             "#276419"
            ]
           ],
           "sequential": [
            [
             0,
             "#0d0887"
            ],
            [
             0.1111111111111111,
             "#46039f"
            ],
            [
             0.2222222222222222,
             "#7201a8"
            ],
            [
             0.3333333333333333,
             "#9c179e"
            ],
            [
             0.4444444444444444,
             "#bd3786"
            ],
            [
             0.5555555555555556,
             "#d8576b"
            ],
            [
             0.6666666666666666,
             "#ed7953"
            ],
            [
             0.7777777777777778,
             "#fb9f3a"
            ],
            [
             0.8888888888888888,
             "#fdca26"
            ],
            [
             1,
             "#f0f921"
            ]
           ],
           "sequentialminus": [
            [
             0,
             "#0d0887"
            ],
            [
             0.1111111111111111,
             "#46039f"
            ],
            [
             0.2222222222222222,
             "#7201a8"
            ],
            [
             0.3333333333333333,
             "#9c179e"
            ],
            [
             0.4444444444444444,
             "#bd3786"
            ],
            [
             0.5555555555555556,
             "#d8576b"
            ],
            [
             0.6666666666666666,
             "#ed7953"
            ],
            [
             0.7777777777777778,
             "#fb9f3a"
            ],
            [
             0.8888888888888888,
             "#fdca26"
            ],
            [
             1,
             "#f0f921"
            ]
           ]
          },
          "colorway": [
           "#636efa",
           "#EF553B",
           "#00cc96",
           "#ab63fa",
           "#FFA15A",
           "#19d3f3",
           "#FF6692",
           "#B6E880",
           "#FF97FF",
           "#FECB52"
          ],
          "font": {
           "color": "#2a3f5f"
          },
          "geo": {
           "bgcolor": "white",
           "lakecolor": "white",
           "landcolor": "#E5ECF6",
           "showlakes": true,
           "showland": true,
           "subunitcolor": "white"
          },
          "hoverlabel": {
           "align": "left"
          },
          "hovermode": "closest",
          "mapbox": {
           "style": "light"
          },
          "paper_bgcolor": "white",
          "plot_bgcolor": "#E5ECF6",
          "polar": {
           "angularaxis": {
            "gridcolor": "white",
            "linecolor": "white",
            "ticks": ""
           },
           "bgcolor": "#E5ECF6",
           "radialaxis": {
            "gridcolor": "white",
            "linecolor": "white",
            "ticks": ""
           }
          },
          "scene": {
           "xaxis": {
            "backgroundcolor": "#E5ECF6",
            "gridcolor": "white",
            "gridwidth": 2,
            "linecolor": "white",
            "showbackground": true,
            "ticks": "",
            "zerolinecolor": "white"
           },
           "yaxis": {
            "backgroundcolor": "#E5ECF6",
            "gridcolor": "white",
            "gridwidth": 2,
            "linecolor": "white",
            "showbackground": true,
            "ticks": "",
            "zerolinecolor": "white"
           },
           "zaxis": {
            "backgroundcolor": "#E5ECF6",
            "gridcolor": "white",
            "gridwidth": 2,
            "linecolor": "white",
            "showbackground": true,
            "ticks": "",
            "zerolinecolor": "white"
           }
          },
          "shapedefaults": {
           "line": {
            "color": "#2a3f5f"
           }
          },
          "ternary": {
           "aaxis": {
            "gridcolor": "white",
            "linecolor": "white",
            "ticks": ""
           },
           "baxis": {
            "gridcolor": "white",
            "linecolor": "white",
            "ticks": ""
           },
           "bgcolor": "#E5ECF6",
           "caxis": {
            "gridcolor": "white",
            "linecolor": "white",
            "ticks": ""
           }
          },
          "title": {
           "x": 0.05
          },
          "xaxis": {
           "automargin": true,
           "gridcolor": "white",
           "linecolor": "white",
           "ticks": "",
           "title": {
            "standoff": 15
           },
           "zerolinecolor": "white",
           "zerolinewidth": 2
          },
          "yaxis": {
           "automargin": true,
           "gridcolor": "white",
           "linecolor": "white",
           "ticks": "",
           "title": {
            "standoff": 15
           },
           "zerolinecolor": "white",
           "zerolinewidth": 2
          }
         }
        }
       }
      },
      "text/html": [
       "<div>                            <div id=\"94e38dff-e017-4d80-a0b2-d9d8af4c2c30\" class=\"plotly-graph-div\" style=\"height:525px; width:100%;\"></div>            <script type=\"text/javascript\">                require([\"plotly\"], function(Plotly) {                    window.PLOTLYENV=window.PLOTLYENV || {};                                    if (document.getElementById(\"94e38dff-e017-4d80-a0b2-d9d8af4c2c30\")) {                    Plotly.newPlot(                        \"94e38dff-e017-4d80-a0b2-d9d8af4c2c30\",                        [{\"customdata\":[[\"2000 AD\"],[\"Hercules\"],[\"Hey, Happy!\"],[\"Ip Man\"],[\"Assembly\"],[\"Singh Is Kinng\"],[\"Backdraft\"],[\"Saheb Biwi Aur Gangster Returns\"],[\"Snowpiercer\"],[\"That Demon Within\"],[\"The Thirteenth Year\"],[\"Sleeping Dogs\"],[\"Lilies\"],[\"The Apple\"],[\"Act of Valor\"],[\"Ghost Dog: The Way of the Samurai\"],[\"House II: The Second Story\"],[\"John Carter\"],[\"Deuces Wild\"],[\"Fantasia\"],[\"Mushi-Shi: The Movie\"],[\"Pelikaanimies\"],[\"Hearts and Armour\"],[\"The Next Man\"],[\"The Wild Angels\"],[\"The Real Miyagi\"],[\"The Postman\"],[\"The Hidden\"],[\"Flodder\"],[\"On Deadly Ground\"],[\"X-Men: The Last Stand\"],[\"Casper\"],[\"Jason Goes to Hell: The Final Friday\"],[\"The Great Train Robbery\"],[\"Hot Fuzz\"],[\"End Game\"],[\"Ashura-j\\u00e8 no hitomi\"],[\"The Coast Guard\"],[\"Thale\"],[\"Puppetmaster\"],[\"Killers\"],[\"Fair Game\"],[\"Malarek\"],[\"Superman Returns\"],[\"Broken Lance\"],[\"The Quick and the Dead\"],[\"Lost in Space\"],[\"The Mask\"],[\"Love Story 2050\"],[\"Battletruck\"],[\"Futurama: Bender's Game\"],[\"The Professionals\"],[\"The Master Plan\"],[\"Vampire Girl vs. Frankenstein Girl\"],[\"Once Upon a Time in Mexico\"],[\"Graveyard of Honor\"],[\"Impact\"],[\"Year of the Dragon\"],[\"The Wolverine\"],[\"Megamind\"],[\"Lawnmower Man 2: Beyond Cyberspace\"],[\"The Proposition\"],[\"Magic in the Water\"],[\"Calamity Jane\"],[\"Juice\"],[\"Rush Hour\"],[\"North to Alaska\"],[\"Battle for the Planet of the Apes\"],[\"P.S.\"],[\"Hulk\"],[\"Toys in the Attic\"],[\"Big\"],[\"Hideaway\"],[\"The Zero Theorem\"],[\"The Lego Movie\"],[\"The Tree of Life\"],[\"Infestation\"],[\"Peter Pan\"],[\"Windtalkers\"],[\"Paperhouse\"],[\"Hell and Back Again\"],[\"Typhoon\"],[\"Goodbye, 20th Century\"],[\"Black & White Episode 1: The Dawn of Assault\"],[\"The Take\"],[\"The Grey Fox\"],[\"The Sweeney\"],[\"Dinotopia\"],[\"She\"],[\"Duel at Diablo\"],[\"The Twelve Tasks of Asterix\"],[\"The Losers\"],[\"Dolls\"],[\"Flood\"],[\"Unbeatable\"],[\"Critters\"],[\"Indiana Jones and the Temple of Doom\"],[\"Three Crowns of the Sailor\"],[\"Blazing Saddles\"],[\"Boogie\"],[\"Star Trek: Generations\"],[\"Takeshis'\"],[\"Deck the Halls\"],[\"Son of Rambow\"],[\"Instructions for a Light and Sound Machine\"],[\"Like Father Like Son\"],[\"Avenged\"],[\"Yellow Sky\"],[\"Babine\"],[\"Wyatt Earp\"],[\"Horns\"],[\"Kamikaze Taxi\"],[\"My Demon Lover\"],[\"No Problem\"],[\"Life of Pi\"],[\"The Blues Brothers\"],[\"The Crow\"],[\"In the Line of Fire\"],[\"Batman: The Dark Knight Returns, Part 2\"],[\"Run Silent Run Deep\"],[\"MacGruber\"],[\"Man of La Mancha\"],[\"Dragon Age: Dawn of the Seeker\"],[\"Airbag\"],[\"Spooky Buddies\"],[\"Being John Malkovich\"],[\"Hell and High Water\"],[\"Road to Ninja: Naruto the Movie\"],[\"Triple Cross\"],[\"Pastorela\"],[\"Switch\"],[\"The Suspect\"],[\"Pirates of the Caribbean: The Curse of the Black Pearl\"],[\"Road to Redemption\"],[\"House of Flying Daggers\"],[\"Troma's War\"],[\"Tremors 4: The Legend Begins\"],[\"Shoot First and Pray You Live (Because Luck Has Nothing to Do with It)\"],[\"The Adventures of Ford Fairlane\"],[\"Deep Impact\"],[\"Body of Lies\"],[\"Red Sonja\"],[\"Mister Designer\"],[\"Paws\"],[\"How I Ended This Summer\"],[\"Big Trouble in Little China\"],[\"The Sniper\"],[\"Black Mask\"],[\"Bowery Buckaroos\"],[\"Mal\\u00e8fique\"],[\"Heart and Souls\"],[\"Green Lantern\"],[\"Call\"],[\"Johnny English Reborn\"],[\"Predator\"],[\"My iz budushchego\"],[\"Into the Blue\"],[\"Big Fish\"],[\"Sgt. Kabukiman N.Y.P.D.\"],[\"Band of the Hand\"],[\"Romancing the Stone\"],[\"Oklahoma!\"],[\"Dabangg\"],[\"The Tracker\"],[\"Dust\"],[\"Escape\"],[\"Holiday\"],[\"Mac and Me\"],[\"The Nines\"],[\"Fausto 5.0\"],[\"Your Highness\"],[\"Mighty Aphrodite\"],[\"The Hitcher\"],[\"Lost River\"],[\"The Last Airbender\"],[\"The Discreet Charm of the Bourgeoisie\"],[\"The Mark of Zorro\"],[\"Turks & Caicos\"],[\"The Gods Must Be Crazy\"],[\"Journey 2: The Mysterious Island\"],[\"X-Men\"],[\"The Hallelujah Trail\"],[\"The Ugly Ones\"],[\"Maattrraan\"],[\"The Matrix Reloaded\"],[\"The Time Machine\"],[\"Singam\"],[\"Bang Boom Bang - Ein todsicheres Ding\"],[\"Feast\"],[\"Gen-X Cops\"],[\"Jett Jackson: The Movie\"],[\"Rambo III\"],[\"Karas: The Prophecy\"],[\"Miss Congeniality\"],[\"La Antena\"],[\"800 Bullets\"],[\"A.C.A.B.\"],[\"Barbie in a Mermaid Tale\"],[\"The Bourne Identity\"],[\"The Defender\"],[\"Moon Child\"],[\"Assassins\"],[\"Rigor Mortis\"],[\"Furious 7\"],[\"Walking with the Enemy\"],[\"Ik\\u00e8ngut\"],[\"The Great Locomotive Chase\"],[\"Yasmine\"],[\"I Spy\"],[\"Banklady\"],[\"Landmine Goes Click\"],[\"New Nightmare\"],[\"Wrath of the Titans\"],[\"The Masked Saint\"],[\"Initial D\"],[\"Back to the Future Part II\"],[\"Green Snake\"],[\"The Chronicles of Narnia: The Voyage of the Dawn Treader\"],[\"Doom\"],[\"The Prophecy II\"],[\"Red Sands\"],[\"Red Dust\"],[\"Seventeen Again\"],[\"When Good Ghouls Go Bad\"],[\"1066: The Battle for Middle Earth\"],[\"Looking for Jackie\"],[\"The Odyssey\"],[\"Saints and Soldiers: The Void\"],[\"In the Name of the King: A Dungeon Siege Tale\"],[\"Macario\"],[\"Switch\"],[\"Modern Era\"],[\"Antonio das Mortes\"],[\"Braddock: Missing in Action III\"],[\"The Librarian: Return to King Solomon's Mines\"],[\"You Don't Mess with the Zohan\"],[\"X-Men Origins: Wolverine\"],[\"Fullmetal Alchemist the Movie: Conqueror of Shamballa\"],[\"Looking for Eric\"],[\"Lara Croft: Tomb Raider\"],[\"Pathfinder\"],[\"Premium Rush\"],[\"The Hybrid\"],[\"Dagon\"],[\"The Pride and the Passion\"],[\"Crumbs\"],[\"Meltdown\"],[\"Black Water\"],[\"Dirty Harry\"],[\"Black Mask\"],[\"The Expendables 3\"],[\"Kill Me Again\"],[\"The Retrieval\"],[\"Angels in America\"],[\"Elite Squad\"],[\"Sparks\"],[\"JLA Adventures: Trapped in Time\"],[\"The Wedding Party\"],[\"The Haunting Hour: Don't Think About It\"],[\"Red Bells Part I: Mexico on Fire\"],[\"Kung Fu Panda: Secrets of the Furious Five\"],[\"The Missing\"],[\"Demolition Man\"],[\"United 93\"],[\"September Dawn\"],[\"Comanche Moon\"],[\"Madras Cafe\"],[\"The Night Flier\"],[\"The Taking of Pelham 1 2 3\"],[\"Princess Mononoke\"],[\"The Day of the Triffids\"],[\"Sonatine\"],[\"Timebomb\"],[\"TRON: Legacy\"],[\"Star Wars: The Clone Wars\"],[\"Cell 211\"],[\"Ashoka the Great\"],[\"Pete's Christmas\"],[\"Supergirl\"],[\"Air Force\"],[\"All of Me\"],[\"The Adventures of Pinocchio\"],[\"The Spy\"],[\"72 Meters\"],[\"Elektra\"],[\"The City of Lost Children\"],[\"Soldier\"],[\"Free Ride\"],[\"DOA: Dead or Alive\"],[\"Chances Are\"],[\"City of Ember\"],[\"A Better Tomorrow III: Love and Death in Saigon\"],[\"Mr. Nice Guy\"],[\"Underdog\"],[\"Demon Empire\"],[\"Stealing Rembrandt\"],[\"Wild Wild West\"],[\"Bangkok Dangerous\"],[\"Hindsight\"],[\"Helen of Troy\"]],\"hovertemplate\":\"0=%{x}\\u003cbr\\u003e1=%{y}\\u003cbr\\u003e2=%{z}\\u003cbr\\u003etitle=%{customdata[0]}\\u003cbr\\u003eShort=%{marker.color}\\u003cextra\\u003e\\u003c\\u002fextra\\u003e\",\"legendgroup\":\"\",\"marker\":{\"color\":[0,0,0,0,0,0,0,0,0,0,0,0,0,0,0,0,0,0,0,0,0,0,0,0,0,0,0,0,0,0,0,0,0,1,0,0,0,0,0,0,0,0,0,0,0,0,0,0,0,0,0,0,0,0,0,0,0,0,0,0,0,0,0,0,0,0,0,0,0,0,0,0,0,0,0,0,0,0,0,0,0,0,0,0,0,0,0,0,0,0,0,0,0,0,0,0,0,0,0,0,0,0,0,0,1,0,0,0,0,0,0,0,0,0,0,0,0,0,0,0,0,0,0,0,0,0,0,0,0,0,0,0,0,0,0,0,0,0,0,0,0,0,0,0,0,0,0,0,0,0,0,0,0,0,0,0,0,0,0,0,0,0,0,0,0,0,0,0,0,0,0,0,0,0,0,0,0,0,0,0,0,0,0,0,0,0,0,0,0,0,0,0,0,0,0,0,0,0,0,0,0,0,0,0,0,0,0,0,0,0,0,0,0,0,0,0,0,0,0,0,0,0,0,0,0,0,0,0,0,0,0,0,0,0,0,0,0,0,0,0,0,0,0,0,0,0,0,0,0,0,0,0,0,0,0,0,0,0,0,0,1,0,0,0,0,0,0,0,0,0,0,0,0,0,0,0,0,0,0,0,0,0,0,0,0,0,0,0,0,0,0,0,0,0,0,0,0,0,0,0],\"coloraxis\":\"coloraxis\",\"symbol\":\"circle\"},\"mode\":\"markers\",\"name\":\"\",\"scene\":\"scene\",\"showlegend\":false,\"x\":[-0.098404380111633,-1.6098790419124642,-0.6960726843271445,-0.21946306751050465,0.44506202501559594,0.18140046376543414,0.8738700251141851,1.4626590968987498,-0.9510728166779205,2.0451698174087247,-1.7617155710937067,0.5884085076168557,0.23978098445436136,-0.6817187979155126,1.4658701321397958,1.3145307309439211,-0.8823172585123238,-1.2680304553089163,1.1646418165764725,-1.3530477049981235,-1.4756045987784383,-1.1331113879730952,-0.8261574137504977,0.3642052783069982,0.09419624062273646,-0.3637350959516432,-0.14894473721508664,0.6178128425583307,0.07614459212870822,0.2150309551677597,-0.7422649351959707,-0.862570599057282,-0.9681791918647944,1.4400958463853337,0.9235936481572038,1.576424970250208,-0.8593250804914425,0.5113968786250623,-1.0658097786409326,-0.7181048416645448,0.5128693760554427,1.4152900278035037,0.4059427416480622,-0.7357263015038358,-0.1898430513532086,0.5013462895591523,-0.6890491749217937,0.013054683837011166,-0.3885978350201766,-0.29835610701220794,-1.3870824436786133,1.0153666937711667,0.6384425273845653,-0.43958763244282173,1.810125821882111,0.9149539320495631,-1.020587693869823,2.0283241283707594,-0.4056625825051713,-0.3877814226157279,-0.4930407509361465,1.5276759848748114,-0.668994318000009,-0.08287656344058578,0.07679098634920126,1.5910146205116185,-0.2832462345861792,-0.3683876506003292,-0.22040474022057893,-1.1033273297086377,-1.067636953456999,-1.740137580546811,-0.45715405006255205,-0.9926979974425789,-0.9229058039086296,-0.1967735452529646,-0.8060453993453618,-1.8995844825947366,0.16748774783620898,-1.6322400474349277,-0.32920988262000933,0.3433175633935791,-1.2006002080033387,1.4704417328867208,2.0780540044489273,1.064808594382828,1.1156044936103613,-0.928736809500025,-0.8776903810149335,0.7577355558206833,-0.7025561848742119,1.5189950687654106,-1.5769559462041984,-1.316987861427446,0.14472386444847551,-0.8434112530548348,-0.33294612650186634,-0.0072104875095811705,1.3134152602376465,1.0679687539552014,-0.10583705454039444,0.28096604229765687,0.5231292249029738,-0.029268945188429124,-0.8019446682784563,-0.8388259484140458,2.199748983921368,0.811125525744314,-1.3307044156564682,0.0712887789352673,-0.8676978801387523,1.184974579761369,-0.7734754066282278,1.6951021136246702,-0.7739459619814738,0.20390920847074237,0.3476115579969403,1.1778601406184788,0.7658047073743903,0.6052211061171708,0.6024985224768928,-1.0374425199500237,-1.0670072971877014,0.3917543196454473,-1.2076268587492642,-0.8609307928190622,0.4011584249484135,-0.24825352291702762,0.8134347139565129,-0.17513326821120412,0.047377670462835225,1.0495145212301291,-0.48475299042816383,1.5410219560408855,1.419293795379858,0.06585517427932466,-1.001232668135411,1.0798614192856728,1.2763804444026898,-1.1386401984309777,1.480778106568941,-0.6781936829548603,-1.2272554032058673,0.3858720890698969,-0.6157515873047514,0.024773052263322298,2.292742776102268,0.26114234960292887,1.2337002409330893,0.5427334325685218,-0.7870843845557557,-0.5737465819621558,1.2794556021526524,1.3822261441713164,0.411467854047462,-1.0552585339689926,0.6411268375513988,-1.2198694979712967,0.19097697612764641,0.23015781761709903,0.5090843528229526,0.12285057320316109,1.9363247754397555,0.803236277275346,0.6141044845170487,-1.2916238320559787,1.7100617979004085,-0.9462276482235538,-0.3039849254266943,-0.48820337460898033,-0.18762010131160675,0.15304068975695612,0.5706791171843123,-0.7179801755468478,-1.1127751890051794,-0.9758053170899164,0.4927045159602325,0.8801517037576658,-0.6098163807215351,-0.15526391198370398,-0.15641276489322398,0.3063133549662528,1.0717216310275361,-0.43999118043370083,-0.5212053945315482,-1.0182278278259198,2.1883360209402336,0.8538656920338252,-0.6725516378960432,1.281575876534331,-0.7949240934029296,0.9080239628875189,-0.9122361605457713,1.393941763041044,-0.49222432441549213,0.11564625234488451,1.101055649782181,-1.621617769789359,0.7666709412923853,1.6095635343248684,-0.1952699691707105,1.317745172803183,-0.8730484370823871,0.8920989505746122,0.4268297024493144,-1.866928681975641,1.0517280268700466,-0.17697209245920836,1.393246577619718,1.0171569938449405,0.7602504421266998,-1.255644390094589,-1.3000547606742723,0.1281551692421591,-0.5078231488659564,-0.6643437582875821,-0.9966558398773493,-1.8647676997629001,-0.532904306579899,-0.6468208639687795,-0.4768787799675925,-0.5354452785186035,-1.0057099545237602,-0.43332654249131325,-1.0801634612591673,0.02451988365074015,-1.3182176826887737,0.19939893622888852,-0.30699435749965337,-0.886875592452828,-0.8960551638041035,-0.17338164638590642,-0.9604366915903586,0.843329436558319,-0.8049270356191852,0.5415113646030536,0.03172322863144755,-0.9597089842705633,-0.49348688421152975,-0.36093323417073003,-0.8055627470825402,1.4581877534979175,0.4731186333790627,-1.1242487613464696,-0.07897738785032714,-1.4149490757813956,0.5818045292309659,-1.0172597156236365,1.0169414367657525,0.26114234960292887,0.5289675024091511,1.8259641256698722,1.0378515497795053,-0.519943199292275,0.8461290907340918,0.768599442342961,-0.7501408342853494,-0.3308382405429514,-1.148350672685394,-0.2587204193532488,-0.2339388868817494,-0.022503622610524493,1.2269342515299562,0.06804927684448445,0.33471592661717564,0.13529883746219856,1.2175100425641854,0.5027683284250297,1.3605376883411744,-1.1994601227512351,-0.8877041545772603,0.675740923729812,0.04736417656673139,-0.8580942445028072,0.3563525587823614,0.8692768988340946,-1.17580934078487,-0.9938993308211148,-1.097427676229235,0.1938176634540137,-0.35018968192190586,-1.5482703037925194,1.0697118266681822,-0.23678202379338945,0.060487115388693086,-0.7124791091817412,-0.318703431740207,0.48642219776996315,-0.5551117329629017,0.1911007613143753,-1.7869000920427744,1.2285500377005523,1.559588381993278,-0.37598421640435453,-0.6722249464137274,0.29332531682359264,1.1658763652125648,1.1713410517925311,1.6592088786808203,-0.6490397278544027],\"y\":[-1.001391835920042,0.4816323732590828,0.5062299575067248,0.352155163404691,-1.234003894210095,0.6761837465781444,-0.02882608779143779,0.652206999325655,-0.7896585438755528,0.4798713849911587,0.8802472138754309,-0.6638500217235739,1.1210665078873205,1.05406842592531,-1.495652480486124,0.6016595224520069,0.9554621387466817,-1.2989250959022631,1.6726515720049768,0.7489357701339094,0.36575104300292705,0.8898244390405446,-0.011819151531045798,-0.3644828772425197,0.8024416174790714,0.1081794419990918,-0.3724590822116429,-0.009434996155540942,1.2836280824690525,-0.4387540218408917,-0.9669753435648292,0.8760542083171935,0.6005448539227026,-0.23246603673785823,0.32733353849888847,-0.5452467774783744,0.18405011051328263,-0.692713060582473,0.2979293672499101,0.3922008393035471,0.5163695922996264,-0.43344638259740953,0.9035792174694481,-1.8037361259282925,0.8519199548339154,0.08710105914482641,-1.6580190499345888,0.2390723400309749,0.09684829947884048,-0.7677092630119526,-1.0000663343104137,0.1255069349494722,0.1799682636945683,0.6502385853482522,-0.08511207157841166,0.5523166295846229,-0.9802012416050238,0.5215257834261267,-0.6030369165177609,-0.7728782808461842,-0.39111170497650116,0.19163478997584066,0.5259970790130706,1.3802683902723987,0.8996227767851395,0.036541122087067265,0.20640759197605527,-1.3780021484177174,1.5143980408800788,-0.1654434123079754,0.13691074096889483,0.6257923803304188,-0.1773751187809946,-0.22297703629803767,-1.1027998686665703,1.2307678999923977,-0.8305145031470627,0.7603950745789544,-1.3286728752719914,1.5515092216457405,-0.5760850055272311,-1.4745567432316768,-0.13489180560174588,0.5682047131496133,0.2633741498708643,0.4121536137169157,-0.011950467636455686,-0.2224255300457476,0.19831205323870238,-0.005232475650453934,-1.447144533771798,-1.6842825342191143,0.6615805473638009,-0.6379320246432579,0.3590002634747744,-0.4884531952434515,-0.68914715088063,1.1199894093974536,0.3865400058962365,1.1044851904016024,-1.2885685064779349,0.63654201040483,0.4631833170830375,0.5620959906979532,-0.22829857103840445,0.7117185423926833,0.19809358349605147,0.860791431095263,0.8714475095451872,0.8312765873098849,0.8954941036616227,0.757519677641037,1.7450589264638952,0.5567071949636976,-0.45294392641161696,0.9824873365697875,0.6844765190893112,-0.8529476036828493,-0.627254850809364,-1.0813120066660802,-1.5114040308285461,0.8777293857166231,-0.3125619373792303,1.6353374029828944,0.6319600047743483,0.5299947234251777,-1.4238770883675886,-0.7538656200839254,0.2093960164768892,0.7158693086668501,1.4070956115598636,-0.4577139293866877,-0.3031488244718431,1.046179949440183,-0.025980396658671426,-0.6157702126893727,-0.1925810742981042,0.927417614502092,1.506986273037422,-1.8211924429820239,-1.1553292778358302,0.4851474229557601,0.9447796776527313,0.2343892112010963,-0.9074388320191329,-0.12587087498611388,-0.07788935742959935,-1.4028405776680228,0.6736428904867329,0.48197989959673604,0.4367075891309986,-1.2947302646947625,-1.0081335511024996,-0.6608591830590728,-1.691777908731228,-0.8838174788690825,-0.6051739760312035,1.1617974875798338,0.4974543386324469,-0.08547298802214616,0.4604524810761539,0.8632465216634345,0.7735658851791195,0.3781477213049751,1.1508177301623912,0.24410560315119162,-1.6411375160942994,-0.47943004681086965,0.6277772728776836,-0.05559771324369321,-0.17870269075179218,1.3399366699231638,1.103339249401466,0.7000479942416206,-1.2285542633796285,0.9226881109063662,0.2683838467810764,-0.7574374915174975,-0.2589568855123486,0.2352619724915853,-1.1351500023340315,-0.26662293981247953,0.5112619783097004,0.05063771245290689,-1.8501767186826705,-0.9373668105696353,-0.17481578014040242,0.6549557484706718,-0.08373903648134137,-0.26601220327241365,-0.04093628273126582,-1.451974131581895,-0.1449956862343937,-0.7042830195364992,1.0304045769999726,0.06748720137579695,0.09845087103504062,0.1254190187368445,-0.17362851269636737,0.7185478593605239,1.1563521213027719,0.2778978359318789,0.33428996267018274,-0.025382022428369587,-0.1544246897172771,0.10744577551695586,-1.3827854288743715,0.467800812038727,-1.4732033015149582,1.545795925072326,-0.26884530866205464,0.47954663285590726,-0.9327011589222796,0.5512066574076322,0.1538163145391844,-0.5730952216513087,1.0105941027241119,-0.7407868212870843,-1.5543965865885085,-0.551970445730745,-1.029607741851346,1.135988895725397,0.6617756074655324,1.1741187833844946,-0.25357805888409485,-0.021873984087385258,0.1112135059956431,-1.90765527491181,-0.3343185559469778,1.1421697462985723,1.2718681803314424,-0.25552347602094294,0.5125799770295969,-0.18957815597949157,-0.6650539476443407,-0.6001282075670109,-0.763060108993985,-1.0008403971030997,0.657149809493144,-0.720208607001807,-0.059725829664198544,0.7423923332963388,-1.5280445036546793,0.3661821519589824,-0.6603159798528301,-1.475033417860041,-0.040572884514555076,0.03134431090118052,0.17435446809625724,-1.4028405776680228,-0.8479791276793185,1.3672628652724204,-0.2731325526304539,0.26392376451039945,-0.2548499404788696,-0.19758411260595385,-1.4882499568448986,0.5558770709333498,1.2978882525576374,0.2098619903791282,0.26812894680378846,0.9524776651318734,-0.11316329597964232,-0.741186393825866,0.4227474294063785,0.5432963395941124,-0.883542179341711,0.1946207557621425,-0.6484376539865313,-0.30668907287643543,-1.1142860445619942,-0.21543798363345096,0.694167056479251,0.17487404418375654,-0.924422157992367,-0.0661858649540979,0.10617818291081324,0.9376017120051108,-0.8527203796910355,-1.5735575792952465,1.1856234117625908,0.6995443599394431,-1.1341713271533862,-1.621806433247679,-0.11220877869168688,0.21673223884772203,-1.5811942109076103,1.4832434485498371,0.4235512513621964,0.6713388976787795,-0.1788316581477474,0.29392603078682733,0.5198036407159096,-1.0254910080457522,-0.0579871695054603,0.790735362060837,-0.8746176353045619,1.2190884565585196,0.9253183627303792,-0.5866097003256916],\"z\":[-0.35375026233707463,0.34458627372260586,0.521164934299218,-0.7321775272657758,-1.1920164236296493,0.022391346540746454,0.06573196767383521,0.08234199855838314,-0.21724423582864652,1.0944957019548875,0.764310973591421,-0.7604794869699371,-1.2289513701900698,-0.2491648250809607,0.0817652338521678,0.5846177848497413,1.1008014412039988,-0.18451239849686538,-0.12810459540570107,-0.9345744256368691,0.48583984009763337,-0.36249239294861957,-0.7846566732950488,-0.5232654327341385,-0.6367944406113215,0.016414784577633013,0.24675756175125407,1.518827653378814,-0.5833122659215407,0.8121537529612337,0.6138491177625981,0.6028545247072887,1.2872188122920276,-0.7729467182989825,0.25380990657924846,0.26453346109885634,-0.44960873009168234,-1.486747901324374,-0.4224088078846351,0.3860160090724345,0.9039254433721682,0.8403676564758618,-0.5068981319486315,1.2230595900119383,-1.7492518623366622,0.08315256753217773,-0.41367711157490505,1.528633010654059,0.8538358468550149,-0.3075245475408188,0.6250736643682657,-0.25231044979581757,-0.0026365850135849633,0.5973164421660853,0.378495846744636,0.640906558237005,-0.6593298233618197,0.3812221639479696,0.431619094990727,1.7730152512082464,0.6662988521363515,-0.3621676085577624,-0.5478800925016309,-1.661317451612604,0.18301581422008661,0.5751107513617362,-1.070831128553853,-0.5600482308376674,0.3854744613736959,1.2327970780832824,0.6592558887382393,1.287062278432885,0.47788225376126026,0.4961699683588758,1.4062831753537464,-1.1720091211544892,0.7566774804143593,-0.2177425698216317,-1.4962976304777253,0.21292173568290537,-1.540865431675977,-0.5265402403735573,-0.2788377101837123,0.10866799970601054,0.3544693432536954,-0.31686033287933324,0.6288837344636368,-1.0431392431466966,-0.7148430915140281,-1.1894976040347618,-0.7772104242274825,-0.22874981871655703,0.5733800865696699,-1.0326383933104608,-0.3146869441735245,-0.1689587471346407,-0.27203252505624,-0.5674046736028451,-0.35786509528418275,0.544544319304237,1.1938915064730344,0.6584648445653223,0.5795538819735656,-0.9920849798558622,-0.9905351616995367,1.1698667702954384,0.8237983758706212,-0.7414584959805105,-0.12931721006346153,-1.0612346367884198,1.1581120897504154,0.12496153642869809,1.2526177597676191,0.46609324111035566,-0.39160237708647605,-0.5301309104028542,1.4457912555909402,0.4584124512322839,1.2978945947570653,-0.5422748032154702,0.9859762147381828,-0.9908218582174697,-0.2374166992684542,-0.08002565607966285,0.34437670158386324,1.064171916014426,-0.524992857523786,0.8308002989577974,-1.0972785383972292,-0.07555592239869652,0.649634503058754,-0.41071675291917464,0.3693034541806606,-0.11634041406759395,0.1822576020364039,-0.9655727169199952,-0.5617013555931974,-0.419593263767583,0.7208979431154166,-0.26730381336015824,0.1733965371106072,0.5742638159966558,0.9427470480467421,-0.03357532001983521,-0.8802035535665187,0.028345218577630893,1.0183022478561847,1.7463292309751133,-0.7970199720419959,-0.5481908677701511,0.6820296452488462,1.2295300938737928,-0.39182004108700585,-0.16109363073237187,0.1688150806107265,-0.7366220163467148,-0.04457528940467942,-0.41126656001199247,1.0359266689266924,-0.9802708830130622,-0.41799829397263005,-1.4594321769688643,0.4341074735567449,-1.1972860792643203,-1.0302544886920022,-0.12585437645063957,0.5625048927938202,0.6776439248382731,1.048444355651253,0.37286333303391705,0.20092124019466626,0.6410025085345029,0.480330684702083,0.8012128681413287,-0.07787217052516213,-0.24989797745081824,0.15792896356876543,-0.7045412485722817,-0.5579198663616259,-0.04246529289211959,1.5832723729141644,-2.009374518928679,-0.5722461254272241,0.12579538278947436,0.4572123989293163,-0.1538065543548421,0.43633344411368336,-0.10247278155052122,0.7320162929040013,-0.21770793334526986,0.5260691510909672,-0.7752019620472548,0.4842977410186444,0.5354889048254692,-0.8137423036184794,-0.9955036805214244,-0.7354793802358817,0.3720384324984273,0.24772335786388003,0.15361115531346087,-1.1462060973756287,0.5882749772715907,0.7280629750989958,1.0562525989093645,-0.12672060873834684,-0.5602864304001004,-1.0616685406598037,-0.23618319499579737,0.36494917368544794,0.12137583304295874,-0.8278123096135002,1.6195393490634247,0.41042498718591947,0.6194210002911322,0.1989621430107659,0.18827506258404875,0.23382151862486017,-0.738029245987326,0.7132200194388881,1.0190999967295502,-0.2779943279723068,-1.2307675958708828,0.37511234046510233,-0.3211286255738315,-1.1342621258889314,0.01750773892211968,-1.008216660489136,-1.3667333428237574,0.12593461052805038,-0.20121969572589293,-0.4773344617702652,-1.5246778003009238,-1.1411282086751011,-1.4555951480577123,0.09462653563890533,0.7220445019771892,0.09839029858828174,0.5444483951176058,0.2881124902808102,0.4471819854667275,-1.9091041486997278,0.39452329513186113,0.2773022109793728,-0.10601919205838167,-1.9066225282905895,0.5524414517329814,0.6229762693189693,-1.0534956425031272,0.6697167978148606,1.7463292309751133,0.7550181574289021,0.954989587091905,-0.9460226427679153,-0.5260216340440014,0.029407196184342427,1.4364495902256658,1.3358858884137708,0.06561175288223059,1.02259057621907,-2.0776840006431536,0.1314944032728349,-0.878911957296237,1.23419955115446,-1.3342654910639606,-1.6112330661805756,-1.694012872880224,-0.5782048019674179,0.9034012686324612,-0.06045063171757778,0.09207328486832006,-0.2615335067597668,-0.7721240930634734,0.7288441887437523,1.1559473927131776,0.318106511648532,-0.7660690843032245,-1.3889471847181425,0.3049032947142032,1.2664288642338517,-1.398092685977802,1.0306015448334953,0.269291332722129,-0.9068889904508998,-1.0215977267099932,1.128438675310009,1.3556147957976383,0.2399299097476286,-0.2847008443250782,0.550433245996639,-0.21074996632436177,-0.16947788597005672,-0.7485660355192134,0.11468690862014116,1.5091313968812659,-0.9990911663632498,-0.2845140518309319,0.12117448876368245,-0.00481002375558745,0.9467373410470526,-0.809010202088411],\"type\":\"scatter3d\"},{\"marker\":{\"color\":\"orange\"},\"name\":\"origin (0,0,0)\",\"x\":[0],\"y\":[0],\"z\":[0],\"type\":\"scatter3d\"},{\"marker\":{\"color\":\"#16FF32\"},\"name\":\"query\",\"x\":[-0.31507605169777475],\"y\":[0.3375531133478039],\"z\":[-1.004394855717964],\"type\":\"scatter3d\"}],                        {\"template\":{\"data\":{\"histogram2dcontour\":[{\"type\":\"histogram2dcontour\",\"colorbar\":{\"outlinewidth\":0,\"ticks\":\"\"},\"colorscale\":[[0.0,\"#0d0887\"],[0.1111111111111111,\"#46039f\"],[0.2222222222222222,\"#7201a8\"],[0.3333333333333333,\"#9c179e\"],[0.4444444444444444,\"#bd3786\"],[0.5555555555555556,\"#d8576b\"],[0.6666666666666666,\"#ed7953\"],[0.7777777777777778,\"#fb9f3a\"],[0.8888888888888888,\"#fdca26\"],[1.0,\"#f0f921\"]]}],\"choropleth\":[{\"type\":\"choropleth\",\"colorbar\":{\"outlinewidth\":0,\"ticks\":\"\"}}],\"histogram2d\":[{\"type\":\"histogram2d\",\"colorbar\":{\"outlinewidth\":0,\"ticks\":\"\"},\"colorscale\":[[0.0,\"#0d0887\"],[0.1111111111111111,\"#46039f\"],[0.2222222222222222,\"#7201a8\"],[0.3333333333333333,\"#9c179e\"],[0.4444444444444444,\"#bd3786\"],[0.5555555555555556,\"#d8576b\"],[0.6666666666666666,\"#ed7953\"],[0.7777777777777778,\"#fb9f3a\"],[0.8888888888888888,\"#fdca26\"],[1.0,\"#f0f921\"]]}],\"heatmap\":[{\"type\":\"heatmap\",\"colorbar\":{\"outlinewidth\":0,\"ticks\":\"\"},\"colorscale\":[[0.0,\"#0d0887\"],[0.1111111111111111,\"#46039f\"],[0.2222222222222222,\"#7201a8\"],[0.3333333333333333,\"#9c179e\"],[0.4444444444444444,\"#bd3786\"],[0.5555555555555556,\"#d8576b\"],[0.6666666666666666,\"#ed7953\"],[0.7777777777777778,\"#fb9f3a\"],[0.8888888888888888,\"#fdca26\"],[1.0,\"#f0f921\"]]}],\"heatmapgl\":[{\"type\":\"heatmapgl\",\"colorbar\":{\"outlinewidth\":0,\"ticks\":\"\"},\"colorscale\":[[0.0,\"#0d0887\"],[0.1111111111111111,\"#46039f\"],[0.2222222222222222,\"#7201a8\"],[0.3333333333333333,\"#9c179e\"],[0.4444444444444444,\"#bd3786\"],[0.5555555555555556,\"#d8576b\"],[0.6666666666666666,\"#ed7953\"],[0.7777777777777778,\"#fb9f3a\"],[0.8888888888888888,\"#fdca26\"],[1.0,\"#f0f921\"]]}],\"contourcarpet\":[{\"type\":\"contourcarpet\",\"colorbar\":{\"outlinewidth\":0,\"ticks\":\"\"}}],\"contour\":[{\"type\":\"contour\",\"colorbar\":{\"outlinewidth\":0,\"ticks\":\"\"},\"colorscale\":[[0.0,\"#0d0887\"],[0.1111111111111111,\"#46039f\"],[0.2222222222222222,\"#7201a8\"],[0.3333333333333333,\"#9c179e\"],[0.4444444444444444,\"#bd3786\"],[0.5555555555555556,\"#d8576b\"],[0.6666666666666666,\"#ed7953\"],[0.7777777777777778,\"#fb9f3a\"],[0.8888888888888888,\"#fdca26\"],[1.0,\"#f0f921\"]]}],\"surface\":[{\"type\":\"surface\",\"colorbar\":{\"outlinewidth\":0,\"ticks\":\"\"},\"colorscale\":[[0.0,\"#0d0887\"],[0.1111111111111111,\"#46039f\"],[0.2222222222222222,\"#7201a8\"],[0.3333333333333333,\"#9c179e\"],[0.4444444444444444,\"#bd3786\"],[0.5555555555555556,\"#d8576b\"],[0.6666666666666666,\"#ed7953\"],[0.7777777777777778,\"#fb9f3a\"],[0.8888888888888888,\"#fdca26\"],[1.0,\"#f0f921\"]]}],\"mesh3d\":[{\"type\":\"mesh3d\",\"colorbar\":{\"outlinewidth\":0,\"ticks\":\"\"}}],\"scatter\":[{\"fillpattern\":{\"fillmode\":\"overlay\",\"size\":10,\"solidity\":0.2},\"type\":\"scatter\"}],\"parcoords\":[{\"type\":\"parcoords\",\"line\":{\"colorbar\":{\"outlinewidth\":0,\"ticks\":\"\"}}}],\"scatterpolargl\":[{\"type\":\"scatterpolargl\",\"marker\":{\"colorbar\":{\"outlinewidth\":0,\"ticks\":\"\"}}}],\"bar\":[{\"error_x\":{\"color\":\"#2a3f5f\"},\"error_y\":{\"color\":\"#2a3f5f\"},\"marker\":{\"line\":{\"color\":\"#E5ECF6\",\"width\":0.5},\"pattern\":{\"fillmode\":\"overlay\",\"size\":10,\"solidity\":0.2}},\"type\":\"bar\"}],\"scattergeo\":[{\"type\":\"scattergeo\",\"marker\":{\"colorbar\":{\"outlinewidth\":0,\"ticks\":\"\"}}}],\"scatterpolar\":[{\"type\":\"scatterpolar\",\"marker\":{\"colorbar\":{\"outlinewidth\":0,\"ticks\":\"\"}}}],\"histogram\":[{\"marker\":{\"pattern\":{\"fillmode\":\"overlay\",\"size\":10,\"solidity\":0.2}},\"type\":\"histogram\"}],\"scattergl\":[{\"type\":\"scattergl\",\"marker\":{\"colorbar\":{\"outlinewidth\":0,\"ticks\":\"\"}}}],\"scatter3d\":[{\"type\":\"scatter3d\",\"line\":{\"colorbar\":{\"outlinewidth\":0,\"ticks\":\"\"}},\"marker\":{\"colorbar\":{\"outlinewidth\":0,\"ticks\":\"\"}}}],\"scattermapbox\":[{\"type\":\"scattermapbox\",\"marker\":{\"colorbar\":{\"outlinewidth\":0,\"ticks\":\"\"}}}],\"scatterternary\":[{\"type\":\"scatterternary\",\"marker\":{\"colorbar\":{\"outlinewidth\":0,\"ticks\":\"\"}}}],\"scattercarpet\":[{\"type\":\"scattercarpet\",\"marker\":{\"colorbar\":{\"outlinewidth\":0,\"ticks\":\"\"}}}],\"carpet\":[{\"aaxis\":{\"endlinecolor\":\"#2a3f5f\",\"gridcolor\":\"white\",\"linecolor\":\"white\",\"minorgridcolor\":\"white\",\"startlinecolor\":\"#2a3f5f\"},\"baxis\":{\"endlinecolor\":\"#2a3f5f\",\"gridcolor\":\"white\",\"linecolor\":\"white\",\"minorgridcolor\":\"white\",\"startlinecolor\":\"#2a3f5f\"},\"type\":\"carpet\"}],\"table\":[{\"cells\":{\"fill\":{\"color\":\"#EBF0F8\"},\"line\":{\"color\":\"white\"}},\"header\":{\"fill\":{\"color\":\"#C8D4E3\"},\"line\":{\"color\":\"white\"}},\"type\":\"table\"}],\"barpolar\":[{\"marker\":{\"line\":{\"color\":\"#E5ECF6\",\"width\":0.5},\"pattern\":{\"fillmode\":\"overlay\",\"size\":10,\"solidity\":0.2}},\"type\":\"barpolar\"}],\"pie\":[{\"automargin\":true,\"type\":\"pie\"}]},\"layout\":{\"autotypenumbers\":\"strict\",\"colorway\":[\"#636efa\",\"#EF553B\",\"#00cc96\",\"#ab63fa\",\"#FFA15A\",\"#19d3f3\",\"#FF6692\",\"#B6E880\",\"#FF97FF\",\"#FECB52\"],\"font\":{\"color\":\"#2a3f5f\"},\"hovermode\":\"closest\",\"hoverlabel\":{\"align\":\"left\"},\"paper_bgcolor\":\"white\",\"plot_bgcolor\":\"#E5ECF6\",\"polar\":{\"bgcolor\":\"#E5ECF6\",\"angularaxis\":{\"gridcolor\":\"white\",\"linecolor\":\"white\",\"ticks\":\"\"},\"radialaxis\":{\"gridcolor\":\"white\",\"linecolor\":\"white\",\"ticks\":\"\"}},\"ternary\":{\"bgcolor\":\"#E5ECF6\",\"aaxis\":{\"gridcolor\":\"white\",\"linecolor\":\"white\",\"ticks\":\"\"},\"baxis\":{\"gridcolor\":\"white\",\"linecolor\":\"white\",\"ticks\":\"\"},\"caxis\":{\"gridcolor\":\"white\",\"linecolor\":\"white\",\"ticks\":\"\"}},\"coloraxis\":{\"colorbar\":{\"outlinewidth\":0,\"ticks\":\"\"}},\"colorscale\":{\"sequential\":[[0.0,\"#0d0887\"],[0.1111111111111111,\"#46039f\"],[0.2222222222222222,\"#7201a8\"],[0.3333333333333333,\"#9c179e\"],[0.4444444444444444,\"#bd3786\"],[0.5555555555555556,\"#d8576b\"],[0.6666666666666666,\"#ed7953\"],[0.7777777777777778,\"#fb9f3a\"],[0.8888888888888888,\"#fdca26\"],[1.0,\"#f0f921\"]],\"sequentialminus\":[[0.0,\"#0d0887\"],[0.1111111111111111,\"#46039f\"],[0.2222222222222222,\"#7201a8\"],[0.3333333333333333,\"#9c179e\"],[0.4444444444444444,\"#bd3786\"],[0.5555555555555556,\"#d8576b\"],[0.6666666666666666,\"#ed7953\"],[0.7777777777777778,\"#fb9f3a\"],[0.8888888888888888,\"#fdca26\"],[1.0,\"#f0f921\"]],\"diverging\":[[0,\"#8e0152\"],[0.1,\"#c51b7d\"],[0.2,\"#de77ae\"],[0.3,\"#f1b6da\"],[0.4,\"#fde0ef\"],[0.5,\"#f7f7f7\"],[0.6,\"#e6f5d0\"],[0.7,\"#b8e186\"],[0.8,\"#7fbc41\"],[0.9,\"#4d9221\"],[1,\"#276419\"]]},\"xaxis\":{\"gridcolor\":\"white\",\"linecolor\":\"white\",\"ticks\":\"\",\"title\":{\"standoff\":15},\"zerolinecolor\":\"white\",\"automargin\":true,\"zerolinewidth\":2},\"yaxis\":{\"gridcolor\":\"white\",\"linecolor\":\"white\",\"ticks\":\"\",\"title\":{\"standoff\":15},\"zerolinecolor\":\"white\",\"automargin\":true,\"zerolinewidth\":2},\"scene\":{\"xaxis\":{\"backgroundcolor\":\"#E5ECF6\",\"gridcolor\":\"white\",\"linecolor\":\"white\",\"showbackground\":true,\"ticks\":\"\",\"zerolinecolor\":\"white\",\"gridwidth\":2},\"yaxis\":{\"backgroundcolor\":\"#E5ECF6\",\"gridcolor\":\"white\",\"linecolor\":\"white\",\"showbackground\":true,\"ticks\":\"\",\"zerolinecolor\":\"white\",\"gridwidth\":2},\"zaxis\":{\"backgroundcolor\":\"#E5ECF6\",\"gridcolor\":\"white\",\"linecolor\":\"white\",\"showbackground\":true,\"ticks\":\"\",\"zerolinecolor\":\"white\",\"gridwidth\":2}},\"shapedefaults\":{\"line\":{\"color\":\"#2a3f5f\"}},\"annotationdefaults\":{\"arrowcolor\":\"#2a3f5f\",\"arrowhead\":0,\"arrowwidth\":1},\"geo\":{\"bgcolor\":\"white\",\"landcolor\":\"#E5ECF6\",\"subunitcolor\":\"white\",\"showland\":true,\"showlakes\":true,\"lakecolor\":\"white\"},\"title\":{\"x\":0.05},\"mapbox\":{\"style\":\"light\"}}},\"scene\":{\"domain\":{\"x\":[0.0,1.0],\"y\":[0.0,1.0]},\"xaxis\":{\"title\":{\"text\":\"0\"}},\"yaxis\":{\"title\":{\"text\":\"1\"}},\"zaxis\":{\"title\":{\"text\":\"2\"}}},\"coloraxis\":{\"colorbar\":{\"title\":{\"text\":\"Short\"}},\"colorscale\":[[0.0,\"#0d0887\"],[0.1111111111111111,\"#46039f\"],[0.2222222222222222,\"#7201a8\"],[0.3333333333333333,\"#9c179e\"],[0.4444444444444444,\"#bd3786\"],[0.5555555555555556,\"#d8576b\"],[0.6666666666666666,\"#ed7953\"],[0.7777777777777778,\"#fb9f3a\"],[0.8888888888888888,\"#fdca26\"],[1.0,\"#f0f921\"]]},\"legend\":{\"tracegroupgap\":0},\"margin\":{\"t\":60}},                        {\"responsive\": true}                    ).then(function(){\n",
       "                            \n",
       "var gd = document.getElementById('94e38dff-e017-4d80-a0b2-d9d8af4c2c30');\n",
       "var x = new MutationObserver(function (mutations, observer) {{\n",
       "        var display = window.getComputedStyle(gd).display;\n",
       "        if (!display || display === 'none') {{\n",
       "            console.log([gd, 'removed!']);\n",
       "            Plotly.purge(gd);\n",
       "            observer.disconnect();\n",
       "        }}\n",
       "}});\n",
       "\n",
       "// Listen for the removal of the full notebook cells\n",
       "var notebookContainer = gd.closest('#notebook-container');\n",
       "if (notebookContainer) {{\n",
       "    x.observe(notebookContainer, {childList: true});\n",
       "}}\n",
       "\n",
       "// Listen for the clearing of the current output cell\n",
       "var outputEl = gd.closest('.output');\n",
       "if (outputEl) {{\n",
       "    x.observe(outputEl, {childList: true});\n",
       "}}\n",
       "\n",
       "                        })                };                });            </script>        </div>"
      ]
     },
     "metadata": {},
     "output_type": "display_data"
    }
   ],
   "source": [
    "fig = px.scatter_3d(df, x=0, y=1, z=2, hover_data=\"title\", color=\"Short\")\n",
    "fig.add_scatter3d(\n",
    "    x=[0], y=[0], z=[0], marker=dict(color=\"orange\"), name=\"origin (0,0,0)\"\n",
    ")\n",
    "fig.add_scatter3d(\n",
    "    x=[query_embedding_pcad[0]],\n",
    "    y=[query_embedding_pcad[1]],\n",
    "    z=[query_embedding_pcad[2]],\n",
    "    marker=dict(color=\"#16FF32\"),\n",
    "    name=\"query\",\n",
    ")"
   ]
  },
  {
   "cell_type": "markdown",
   "metadata": {},
   "source": [
    "## Normalize the vectors to visualize how the Cosine Similairty function might find vectors close to it"
   ]
  },
  {
   "cell_type": "code",
   "execution_count": 160,
   "metadata": {},
   "outputs": [],
   "source": [
    "# Normalize the vectors \n",
    "# Step 1: Compute the magnitude (norm) for each row (vector)\n",
    "df['magnitude'] = np.linalg.norm(df[[0, 1, 2]], axis=1)\n",
    "\n",
    "# Step 2: Normalize the x, y, z columns by dividing each by the magnitude\n",
    "df_normalized = df[[0, 1, 2]].div(df['magnitude'], axis=0)\n",
    "\n",
    "df_normalized = pd.concat([df_normalized, df[df.columns[3:]]], axis=1)\n",
    "\n",
    "# Normalize the query vector\n",
    "query_magnitude = np.linalg.norm(query_embedding_pcad)\n",
    "query_normalized = query_embedding_pcad / query_magnitude"
   ]
  },
  {
   "cell_type": "code",
   "execution_count": 161,
   "metadata": {},
   "outputs": [
    {
     "data": {
      "application/vnd.plotly.v1+json": {
       "config": {
        "plotlyServerURL": "https://plot.ly"
       },
       "data": [
        {
         "customdata": [
          [
           "2000 AD"
          ],
          [
           "Hercules"
          ],
          [
           "Hey, Happy!"
          ],
          [
           "Ip Man"
          ],
          [
           "Assembly"
          ],
          [
           "Singh Is Kinng"
          ],
          [
           "Backdraft"
          ],
          [
           "Saheb Biwi Aur Gangster Returns"
          ],
          [
           "Snowpiercer"
          ],
          [
           "That Demon Within"
          ],
          [
           "The Thirteenth Year"
          ],
          [
           "Sleeping Dogs"
          ],
          [
           "Lilies"
          ],
          [
           "The Apple"
          ],
          [
           "Act of Valor"
          ],
          [
           "Ghost Dog: The Way of the Samurai"
          ],
          [
           "House II: The Second Story"
          ],
          [
           "John Carter"
          ],
          [
           "Deuces Wild"
          ],
          [
           "Fantasia"
          ],
          [
           "Mushi-Shi: The Movie"
          ],
          [
           "Pelikaanimies"
          ],
          [
           "Hearts and Armour"
          ],
          [
           "The Next Man"
          ],
          [
           "The Wild Angels"
          ],
          [
           "The Real Miyagi"
          ],
          [
           "The Postman"
          ],
          [
           "The Hidden"
          ],
          [
           "Flodder"
          ],
          [
           "On Deadly Ground"
          ],
          [
           "X-Men: The Last Stand"
          ],
          [
           "Casper"
          ],
          [
           "Jason Goes to Hell: The Final Friday"
          ],
          [
           "The Great Train Robbery"
          ],
          [
           "Hot Fuzz"
          ],
          [
           "End Game"
          ],
          [
           "Ashura-jè no hitomi"
          ],
          [
           "The Coast Guard"
          ],
          [
           "Thale"
          ],
          [
           "Puppetmaster"
          ],
          [
           "Killers"
          ],
          [
           "Fair Game"
          ],
          [
           "Malarek"
          ],
          [
           "Superman Returns"
          ],
          [
           "Broken Lance"
          ],
          [
           "The Quick and the Dead"
          ],
          [
           "Lost in Space"
          ],
          [
           "The Mask"
          ],
          [
           "Love Story 2050"
          ],
          [
           "Battletruck"
          ],
          [
           "Futurama: Bender's Game"
          ],
          [
           "The Professionals"
          ],
          [
           "The Master Plan"
          ],
          [
           "Vampire Girl vs. Frankenstein Girl"
          ],
          [
           "Once Upon a Time in Mexico"
          ],
          [
           "Graveyard of Honor"
          ],
          [
           "Impact"
          ],
          [
           "Year of the Dragon"
          ],
          [
           "The Wolverine"
          ],
          [
           "Megamind"
          ],
          [
           "Lawnmower Man 2: Beyond Cyberspace"
          ],
          [
           "The Proposition"
          ],
          [
           "Magic in the Water"
          ],
          [
           "Calamity Jane"
          ],
          [
           "Juice"
          ],
          [
           "Rush Hour"
          ],
          [
           "North to Alaska"
          ],
          [
           "Battle for the Planet of the Apes"
          ],
          [
           "P.S."
          ],
          [
           "Hulk"
          ],
          [
           "Toys in the Attic"
          ],
          [
           "Big"
          ],
          [
           "Hideaway"
          ],
          [
           "The Zero Theorem"
          ],
          [
           "The Lego Movie"
          ],
          [
           "The Tree of Life"
          ],
          [
           "Infestation"
          ],
          [
           "Peter Pan"
          ],
          [
           "Windtalkers"
          ],
          [
           "Paperhouse"
          ],
          [
           "Hell and Back Again"
          ],
          [
           "Typhoon"
          ],
          [
           "Goodbye, 20th Century"
          ],
          [
           "Black & White Episode 1: The Dawn of Assault"
          ],
          [
           "The Take"
          ],
          [
           "The Grey Fox"
          ],
          [
           "The Sweeney"
          ],
          [
           "Dinotopia"
          ],
          [
           "She"
          ],
          [
           "Duel at Diablo"
          ],
          [
           "The Twelve Tasks of Asterix"
          ],
          [
           "The Losers"
          ],
          [
           "Dolls"
          ],
          [
           "Flood"
          ],
          [
           "Unbeatable"
          ],
          [
           "Critters"
          ],
          [
           "Indiana Jones and the Temple of Doom"
          ],
          [
           "Three Crowns of the Sailor"
          ],
          [
           "Blazing Saddles"
          ],
          [
           "Boogie"
          ],
          [
           "Star Trek: Generations"
          ],
          [
           "Takeshis'"
          ],
          [
           "Deck the Halls"
          ],
          [
           "Son of Rambow"
          ],
          [
           "Instructions for a Light and Sound Machine"
          ],
          [
           "Like Father Like Son"
          ],
          [
           "Avenged"
          ],
          [
           "Yellow Sky"
          ],
          [
           "Babine"
          ],
          [
           "Wyatt Earp"
          ],
          [
           "Horns"
          ],
          [
           "Kamikaze Taxi"
          ],
          [
           "My Demon Lover"
          ],
          [
           "No Problem"
          ],
          [
           "Life of Pi"
          ],
          [
           "The Blues Brothers"
          ],
          [
           "The Crow"
          ],
          [
           "In the Line of Fire"
          ],
          [
           "Batman: The Dark Knight Returns, Part 2"
          ],
          [
           "Run Silent Run Deep"
          ],
          [
           "MacGruber"
          ],
          [
           "Man of La Mancha"
          ],
          [
           "Dragon Age: Dawn of the Seeker"
          ],
          [
           "Airbag"
          ],
          [
           "Spooky Buddies"
          ],
          [
           "Being John Malkovich"
          ],
          [
           "Hell and High Water"
          ],
          [
           "Road to Ninja: Naruto the Movie"
          ],
          [
           "Triple Cross"
          ],
          [
           "Pastorela"
          ],
          [
           "Switch"
          ],
          [
           "The Suspect"
          ],
          [
           "Pirates of the Caribbean: The Curse of the Black Pearl"
          ],
          [
           "Road to Redemption"
          ],
          [
           "House of Flying Daggers"
          ],
          [
           "Troma's War"
          ],
          [
           "Tremors 4: The Legend Begins"
          ],
          [
           "Shoot First and Pray You Live (Because Luck Has Nothing to Do with It)"
          ],
          [
           "The Adventures of Ford Fairlane"
          ],
          [
           "Deep Impact"
          ],
          [
           "Body of Lies"
          ],
          [
           "Red Sonja"
          ],
          [
           "Mister Designer"
          ],
          [
           "Paws"
          ],
          [
           "How I Ended This Summer"
          ],
          [
           "Big Trouble in Little China"
          ],
          [
           "The Sniper"
          ],
          [
           "Black Mask"
          ],
          [
           "Bowery Buckaroos"
          ],
          [
           "Malèfique"
          ],
          [
           "Heart and Souls"
          ],
          [
           "Green Lantern"
          ],
          [
           "Call"
          ],
          [
           "Johnny English Reborn"
          ],
          [
           "Predator"
          ],
          [
           "My iz budushchego"
          ],
          [
           "Into the Blue"
          ],
          [
           "Big Fish"
          ],
          [
           "Sgt. Kabukiman N.Y.P.D."
          ],
          [
           "Band of the Hand"
          ],
          [
           "Romancing the Stone"
          ],
          [
           "Oklahoma!"
          ],
          [
           "Dabangg"
          ],
          [
           "The Tracker"
          ],
          [
           "Dust"
          ],
          [
           "Escape"
          ],
          [
           "Holiday"
          ],
          [
           "Mac and Me"
          ],
          [
           "The Nines"
          ],
          [
           "Fausto 5.0"
          ],
          [
           "Your Highness"
          ],
          [
           "Mighty Aphrodite"
          ],
          [
           "The Hitcher"
          ],
          [
           "Lost River"
          ],
          [
           "The Last Airbender"
          ],
          [
           "The Discreet Charm of the Bourgeoisie"
          ],
          [
           "The Mark of Zorro"
          ],
          [
           "Turks & Caicos"
          ],
          [
           "The Gods Must Be Crazy"
          ],
          [
           "Journey 2: The Mysterious Island"
          ],
          [
           "X-Men"
          ],
          [
           "The Hallelujah Trail"
          ],
          [
           "The Ugly Ones"
          ],
          [
           "Maattrraan"
          ],
          [
           "The Matrix Reloaded"
          ],
          [
           "The Time Machine"
          ],
          [
           "Singam"
          ],
          [
           "Bang Boom Bang - Ein todsicheres Ding"
          ],
          [
           "Feast"
          ],
          [
           "Gen-X Cops"
          ],
          [
           "Jett Jackson: The Movie"
          ],
          [
           "Rambo III"
          ],
          [
           "Karas: The Prophecy"
          ],
          [
           "Miss Congeniality"
          ],
          [
           "La Antena"
          ],
          [
           "800 Bullets"
          ],
          [
           "A.C.A.B."
          ],
          [
           "Barbie in a Mermaid Tale"
          ],
          [
           "The Bourne Identity"
          ],
          [
           "The Defender"
          ],
          [
           "Moon Child"
          ],
          [
           "Assassins"
          ],
          [
           "Rigor Mortis"
          ],
          [
           "Furious 7"
          ],
          [
           "Walking with the Enemy"
          ],
          [
           "Ikèngut"
          ],
          [
           "The Great Locomotive Chase"
          ],
          [
           "Yasmine"
          ],
          [
           "I Spy"
          ],
          [
           "Banklady"
          ],
          [
           "Landmine Goes Click"
          ],
          [
           "New Nightmare"
          ],
          [
           "Wrath of the Titans"
          ],
          [
           "The Masked Saint"
          ],
          [
           "Initial D"
          ],
          [
           "Back to the Future Part II"
          ],
          [
           "Green Snake"
          ],
          [
           "The Chronicles of Narnia: The Voyage of the Dawn Treader"
          ],
          [
           "Doom"
          ],
          [
           "The Prophecy II"
          ],
          [
           "Red Sands"
          ],
          [
           "Red Dust"
          ],
          [
           "Seventeen Again"
          ],
          [
           "When Good Ghouls Go Bad"
          ],
          [
           "1066: The Battle for Middle Earth"
          ],
          [
           "Looking for Jackie"
          ],
          [
           "The Odyssey"
          ],
          [
           "Saints and Soldiers: The Void"
          ],
          [
           "In the Name of the King: A Dungeon Siege Tale"
          ],
          [
           "Macario"
          ],
          [
           "Switch"
          ],
          [
           "Modern Era"
          ],
          [
           "Antonio das Mortes"
          ],
          [
           "Braddock: Missing in Action III"
          ],
          [
           "The Librarian: Return to King Solomon's Mines"
          ],
          [
           "You Don't Mess with the Zohan"
          ],
          [
           "X-Men Origins: Wolverine"
          ],
          [
           "Fullmetal Alchemist the Movie: Conqueror of Shamballa"
          ],
          [
           "Looking for Eric"
          ],
          [
           "Lara Croft: Tomb Raider"
          ],
          [
           "Pathfinder"
          ],
          [
           "Premium Rush"
          ],
          [
           "The Hybrid"
          ],
          [
           "Dagon"
          ],
          [
           "The Pride and the Passion"
          ],
          [
           "Crumbs"
          ],
          [
           "Meltdown"
          ],
          [
           "Black Water"
          ],
          [
           "Dirty Harry"
          ],
          [
           "Black Mask"
          ],
          [
           "The Expendables 3"
          ],
          [
           "Kill Me Again"
          ],
          [
           "The Retrieval"
          ],
          [
           "Angels in America"
          ],
          [
           "Elite Squad"
          ],
          [
           "Sparks"
          ],
          [
           "JLA Adventures: Trapped in Time"
          ],
          [
           "The Wedding Party"
          ],
          [
           "The Haunting Hour: Don't Think About It"
          ],
          [
           "Red Bells Part I: Mexico on Fire"
          ],
          [
           "Kung Fu Panda: Secrets of the Furious Five"
          ],
          [
           "The Missing"
          ],
          [
           "Demolition Man"
          ],
          [
           "United 93"
          ],
          [
           "September Dawn"
          ],
          [
           "Comanche Moon"
          ],
          [
           "Madras Cafe"
          ],
          [
           "The Night Flier"
          ],
          [
           "The Taking of Pelham 1 2 3"
          ],
          [
           "Princess Mononoke"
          ],
          [
           "The Day of the Triffids"
          ],
          [
           "Sonatine"
          ],
          [
           "Timebomb"
          ],
          [
           "TRON: Legacy"
          ],
          [
           "Star Wars: The Clone Wars"
          ],
          [
           "Cell 211"
          ],
          [
           "Ashoka the Great"
          ],
          [
           "Pete's Christmas"
          ],
          [
           "Supergirl"
          ],
          [
           "Air Force"
          ],
          [
           "All of Me"
          ],
          [
           "The Adventures of Pinocchio"
          ],
          [
           "The Spy"
          ],
          [
           "72 Meters"
          ],
          [
           "Elektra"
          ],
          [
           "The City of Lost Children"
          ],
          [
           "Soldier"
          ],
          [
           "Free Ride"
          ],
          [
           "DOA: Dead or Alive"
          ],
          [
           "Chances Are"
          ],
          [
           "City of Ember"
          ],
          [
           "A Better Tomorrow III: Love and Death in Saigon"
          ],
          [
           "Mr. Nice Guy"
          ],
          [
           "Underdog"
          ],
          [
           "Demon Empire"
          ],
          [
           "Stealing Rembrandt"
          ],
          [
           "Wild Wild West"
          ],
          [
           "Bangkok Dangerous"
          ],
          [
           "Hindsight"
          ],
          [
           "Helen of Troy"
          ]
         ],
         "hovertemplate": "0=%{x}<br>1=%{y}<br>2=%{z}<br>title=%{customdata[0]}<br>Fantasy=%{marker.color}<extra></extra>",
         "legendgroup": "",
         "marker": {
          "color": [
           0,
           1,
           1,
           0,
           0,
           0,
           0,
           0,
           0,
           0,
           1,
           0,
           1,
           1,
           0,
           0,
           1,
           1,
           0,
           1,
           1,
           1,
           1,
           0,
           0,
           0,
           0,
           0,
           0,
           0,
           0,
           1,
           1,
           0,
           0,
           0,
           1,
           0,
           1,
           1,
           0,
           0,
           0,
           1,
           0,
           0,
           0,
           1,
           0,
           0,
           0,
           0,
           0,
           0,
           0,
           0,
           0,
           0,
           0,
           0,
           0,
           0,
           1,
           0,
           0,
           0,
           0,
           0,
           1,
           0,
           1,
           1,
           1,
           1,
           0,
           1,
           0,
           1,
           0,
           1,
           0,
           0,
           1,
           0,
           0,
           0,
           0,
           1,
           1,
           0,
           0,
           0,
           1,
           0,
           0,
           0,
           0,
           1,
           0,
           0,
           0,
           1,
           0,
           0,
           0,
           1,
           0,
           0,
           1,
           0,
           1,
           0,
           1,
           0,
           1,
           0,
           1,
           0,
           0,
           0,
           0,
           1,
           0,
           0,
           1,
           1,
           0,
           0,
           0,
           1,
           1,
           0,
           1,
           0,
           0,
           0,
           0,
           0,
           0,
           0,
           0,
           1,
           1,
           1,
           0,
           0,
           0,
           0,
           0,
           1,
           1,
           0,
           0,
           0,
           0,
           1,
           0,
           1,
           1,
           0,
           0,
           0,
           0,
           0,
           0,
           0,
           0,
           1,
           1,
           1,
           1,
           1,
           0,
           1,
           0,
           1,
           0,
           0,
           0,
           0,
           0,
           0,
           0,
           0,
           0,
           0,
           0,
           0,
           0,
           0,
           0,
           0,
           0,
           0,
           1,
           0,
           0,
           1,
           0,
           0,
           0,
           0,
           0,
           0,
           0,
           0,
           0,
           0,
           0,
           0,
           0,
           1,
           1,
           0,
           0,
           0,
           1,
           1,
           0,
           1,
           0,
           0,
           1,
           1,
           0,
           0,
           1,
           0,
           0,
           1,
           0,
           0,
           0,
           0,
           1,
           0,
           0,
           0,
           1,
           1,
           0,
           0,
           0,
           1,
           0,
           1,
           0,
           0,
           0,
           0,
           0,
           0,
           0,
           1,
           0,
           0,
           0,
           0,
           1,
           0,
           0,
           0,
           0,
           0,
           0,
           0,
           0,
           1,
           0,
           1,
           0,
           0,
           0,
           1,
           0,
           0,
           0,
           1,
           1,
           0,
           1,
           1,
           0,
           0,
           1,
           1,
           0,
           0,
           0,
           1,
           1,
           0,
           0,
           0,
           0,
           0,
           0,
           0,
           0,
           0
          ],
          "coloraxis": "coloraxis",
          "symbol": "circle"
         },
         "mode": "markers",
         "name": "",
         "scene": "scene",
         "showlegend": false,
         "type": "scatter3d",
         "x": [
          -0.09226097882556912,
          -0.9385143483954864,
          -0.6917971551131662,
          -0.26077425357801176,
          0.25109311174728693,
          0.25897657064058405,
          0.9966439314495398,
          0.9121109570762639,
          -0.7577619558854884,
          0.8634008139756368,
          -0.8339489538034031,
          0.5035849884096661,
          0.1426710184285127,
          -0.5326767186114489,
          0.699427523492154,
          0.8429660896521081,
          -0.5178328868539701,
          -0.6949648541490547,
          0.5702889432828037,
          -0.7488015107232107,
          -0.9245629950233938,
          -0.7627086615251332,
          -0.7250449464134631,
          0.49594217151511166,
          0.09156524933899098,
          -0.9576106734733402,
          -0.31626037840771787,
          0.3767838561233504,
          0.05392665335606585,
          0.22687221485708897,
          -0.5438445083481857,
          -0.6299438229901629,
          -0.5632226826530801,
          0.8723267879878074,
          0.9124424241911159,
          0.9334026484933481,
          -0.8705125223208522,
          0.2976561050624623,
          -0.8997647010865337,
          -0.7937383061576386,
          0.44193934668350837,
          0.8314971181634649,
          0.36481360348382164,
          -0.3198618952680567,
          -0.09711067518375537,
          0.9723447014553785,
          -0.3739675038573395,
          0.00843723632320745,
          -0.41204634947746493,
          -0.3393555478059766,
          -0.7618518044424565,
          0.963577592234366,
          0.9624835247376132,
          -0.44568292690146966,
          0.9777954106216319,
          0.7342090138516646,
          -0.6537516580002043,
          0.9528406620280238,
          -0.47991086652433657,
          -0.19658018281965722,
          -0.537947813309681,
          0.9658620377579514,
          -0.6609793217549106,
          -0.03834255181132903,
          0.0833546579914828,
          0.9402254688001791,
          -0.2513887098680509,
          -0.24039895904881797,
          -0.13965983794027387,
          -0.6635853015679374,
          -0.8458373826361114,
          -0.7723482879758273,
          -0.6676640939744245,
          -0.8769660883869449,
          -0.4588474473069504,
          -0.1150129731067005,
          -0.5829251535765575,
          -0.9231695217645393,
          0.08340747812418801,
          -0.721585884590717,
          -0.19623241280539314,
          0.21417939972150246,
          -0.968293004075296,
          0.9305728059357397,
          0.9781571341797709,
          0.8986163576403843,
          0.8710847312228289,
          -0.6566890641603834,
          -0.7637379880064553,
          0.5372666615139231,
          -0.39324079317349503,
          0.6663489650072439,
          -0.8743015915766248,
          -0.7353279698841179,
          0.29011339829602545,
          -0.8526371962806532,
          -0.40989710379482347,
          -0.0057429452509370205,
          0.928135600324658,
          0.6551865154680425,
          -0.06014063913254613,
          0.29329362037840884,
          0.5762657400239235,
          -0.025660289377744942,
          -0.6193785695630202,
          -0.5223557149808334,
          0.9331715885995716,
          0.5810606410787098,
          -0.8338234817290319,
          0.05280908462619575,
          -0.5098786060021127,
          0.8392440224113368,
          -0.3387829570610796,
          0.919225606873527,
          -0.7909345970026237,
          0.17967841860555875,
          0.21235125254245402,
          0.7724684364395729,
          0.4691539694643009,
          0.44744241631570625,
          0.31668825214965696,
          -0.6168673743707196,
          -0.9385145016505058,
          0.23270099621098078,
          -0.8590192165619328,
          -0.5865285221756739,
          0.2555630564016616,
          -0.21606285408368917,
          0.5886511415782009,
          -0.23639708889867425,
          0.030555508683028643,
          0.8627915191285531,
          -0.712202580322412,
          0.8257451651277522,
          0.9916920381777711,
          0.05741009608276838,
          -0.8601125996730192,
          0.727668325729681,
          0.6071226697408247,
          -0.5260728189428965,
          0.7850803695897016,
          -0.6698413818064718,
          -0.6768612689221626,
          0.8523260568763064,
          -0.4378883353524962,
          0.18856069198693487,
          0.9134741010915204,
          0.11579683660077351,
          0.7634874459366909,
          0.5966707389024372,
          -0.6969498547597563,
          -0.3059272275445773,
          0.7636856406916087,
          0.8972401904402921,
          0.23522371311322274,
          -0.6759319291557406,
          0.7262749405641781,
          -0.7034723082757289,
          0.1639376681886105,
          0.2277552304659994,
          0.6334394535548066,
          0.07226217888880938,
          0.9091420904026971,
          0.5388932460723466,
          0.3694514043657668,
          -0.9781327509038457,
          0.7019982102402789,
          -0.7517320202341482,
          -0.24139881760685913,
          -0.7914908023479953,
          -0.5722218415890992,
          0.10248969402196252,
          0.4284950513813241,
          -0.5593699223180979,
          -0.6705803679407414,
          -0.7143442456711291,
          0.8453179927437443,
          0.6480193241328799,
          -0.7040570874324684,
          -0.544673751571846,
          -0.08003001725513897,
          0.14942111995028926,
          0.813068015071523,
          -0.9556428401948048,
          -0.26379236555460994,
          -0.731214437360199,
          0.9776996578206302,
          0.789887263013964,
          -0.6741764108705809,
          0.965860650272835,
          -0.8331563488674512,
          0.48304105016267795,
          -0.874669861112276,
          0.8442959819293868,
          -0.35103448860064024,
          0.11513183226105608,
          0.8292581725546578,
          -0.9719199923368216,
          0.9302053163845528,
          0.9096915954230673,
          -0.11907880949207902,
          0.8966645386873425,
          -0.7367985220768163,
          0.6451364157275299,
          0.9057146868221779,
          -0.9563450732451334,
          0.516561375150301,
          -0.319953751205115,
          0.6762494817797805,
          0.5485079433450303,
          0.6578540793189085,
          -0.5966072783788833,
          -0.7870419405786947,
          0.15274601162413418,
          -0.8961324994564076,
          -0.7403390507661233,
          -0.6928415538884835,
          -0.8722241614915609,
          -0.29749293098658025,
          -0.48733624960078337,
          -0.4082025068925942,
          -0.3045075528640161,
          -0.7975526035830066,
          -0.33537333596791713,
          -0.6807625282306279,
          0.6585713396231857,
          -0.7925314878604315,
          0.08466402230379826,
          -0.6517442786460624,
          -0.6074505446097619,
          -0.5506073405000365,
          -0.11145403940708053,
          -0.6089761060842139,
          0.49815743712369426,
          -0.7677615519672669,
          0.499617117765371,
          0.041197339521885507,
          -0.6442382931085682,
          -0.5666710658465836,
          -0.39173024532650746,
          -0.38860442774533893,
          0.8663272872614333,
          0.2914241539080883,
          -0.947035215720665,
          -0.039111790071247224,
          -0.6682771822455534,
          0.6817720712062549,
          -0.6944678035968161,
          0.8267297565601559,
          0.11579683660077351,
          0.42230627525440034,
          0.7383702698485323,
          0.7254517959768003,
          -0.6620953417176563,
          0.9569810035070687,
          0.4683472979124219,
          -0.35120129462310645,
          -0.5088264773415155,
          -0.5706965104314435,
          -0.1229530209905814,
          -0.6166730246607123,
          -0.01736085564348808,
          0.703530516701834,
          0.0445399381536468,
          0.19700006270993697,
          0.07583419533762062,
          0.7554602851543797,
          0.4778987238610148,
          0.9019903421944101,
          -0.96616353213126,
          -0.6128584042442938,
          0.6445237284186888,
          0.04700536464551543,
          -0.5917017518721804,
          0.34246701510654454,
          0.7490191520106244,
          -0.6450202119396921,
          -0.7099464093393685,
          -0.5836620337062477,
          0.09168992414688522,
          -0.21757732029199406,
          -0.9000626817104661,
          0.5930887921917402,
          -0.12260135169641358,
          0.05326371211690762,
          -0.46064371283626804,
          -0.19543483714944757,
          0.30655880103139227,
          -0.6243434725793517,
          0.2620941231318615,
          -0.9906277422767726,
          0.8366822069444456,
          0.9463938449333288,
          -0.20182513278374142,
          -0.5575929306283431,
          0.3295477227140011,
          0.7971802876633417,
          0.6928417398286632,
          0.7816810383519782,
          -0.5446886970653677
         ],
         "y": [
          -0.9388747824548803,
          0.2807781710223655,
          0.50312051071899,
          0.4184439820431538,
          -0.6961948229454643,
          0.9653544658967841,
          -0.032875993728030885,
          0.40671483302437716,
          -0.6291560353695441,
          0.20258530165966213,
          0.41668544863007845,
          -0.5681510399117248,
          0.6670408029658546,
          0.8236206952641708,
          -0.7136379188682066,
          0.3858248141366271,
          0.5607616906656622,
          -0.7118971678044961,
          0.8190455502302533,
          0.4144748437466958,
          0.2291670004496177,
          0.5989497714844967,
          -0.010372619001961403,
          -0.4963201809155596,
          0.7800286539961904,
          0.2848055891821138,
          -0.7908574178860891,
          -0.005754095721404597,
          0.9090831627860535,
          -0.46291519579048596,
          -0.7084858860630268,
          0.6397910359303877,
          0.3493573157964355,
          -0.14081448235045527,
          0.32338140044911284,
          -0.32284110933614585,
          0.18644623504381094,
          -0.403190320780287,
          0.25151423212718155,
          0.4335088858902646,
          0.44495548169258786,
          -0.254654106881168,
          0.8120307534502129,
          -0.7841862586991908,
          0.4357837773188407,
          0.16892965025251458,
          -0.8998563063693242,
          0.1545123464012864,
          0.10269225573859543,
          -0.873206183423233,
          -0.5492841069604614,
          0.11910541376747474,
          0.27131101289767234,
          0.6592547526686279,
          -0.04597591613346468,
          0.44320903352239405,
          -0.6278815536598845,
          0.24499583956711665,
          -0.7134105575253873,
          -0.3917994645572356,
          -0.4267348815537935,
          0.12115970309407614,
          0.519695284663268,
          0.6385763365477826,
          0.9765175894378045,
          0.02159432930525135,
          0.18319233203449425,
          -0.89924372195108,
          0.9596008904105796,
          -0.09950430275103243,
          0.1084677918096855,
          0.27775371268324545,
          -0.25905271528998686,
          -0.1969816599068085,
          -0.5482866208935371,
          0.719376556439226,
          -0.600621000613302,
          0.36954058310283944,
          -0.6616678247224738,
          0.6858961437144431,
          -0.3433874758434905,
          -0.9199053931260681,
          -0.10879124524597128,
          0.3595898038227685,
          0.12397238142183697,
          0.3478258732136597,
          -0.009331147327490859,
          -0.15727212669620724,
          0.17256478117353163,
          -0.0037100472619732154,
          -0.8100081908737291,
          -0.7388568577571945,
          0.3667958682730421,
          -0.3561834352038441,
          0.7196517783901147,
          -0.4937963080267625,
          -0.8484238101891269,
          0.8920392485601125,
          0.2731516461572761,
          0.6775889281454,
          -0.7322136267130909,
          0.6644707283053057,
          0.5102308651081345,
          0.4927934944878629,
          -0.17632543485400362,
          0.44320308495409144,
          0.08403472639540042,
          0.6166394779997834,
          0.5460516911222514,
          0.6157905395866675,
          0.5262122862223502,
          0.5365042188898512,
          0.7643374544129893,
          0.3018930275811533,
          -0.46288635059734806,
          0.8657371202545576,
          0.4181375527386622,
          -0.5593831381676643,
          -0.3842743460430081,
          -0.7994183483749614,
          -0.7944316590973807,
          0.5219013209533001,
          -0.2749221225267606,
          0.9713859521947458,
          0.4495310652182584,
          0.3610708601484601,
          -0.9070989365119625,
          -0.6561129749822011,
          0.15153177265021206,
          0.9662893996625789,
          0.9074849345029613,
          -0.37628035484346245,
          -0.445388433436694,
          0.560587752638683,
          -0.01815307908691958,
          -0.5368056111348299,
          -0.16543747895365638,
          0.6249435443701342,
          0.7168125564454371,
          -0.8414245726062258,
          -0.6125335946131696,
          0.47917258497107657,
          0.5210690210020027,
          0.5177260491654547,
          -0.6453201059965913,
          -0.9580692373350531,
          -0.031032661624413187,
          -0.6220534562707207,
          0.41689048349551233,
          0.5298794685772351,
          0.38669715317642955,
          -0.6903627014936216,
          -0.6017380482613748,
          -0.42898148162117733,
          -0.9671382042126186,
          -0.5661176235804749,
          -0.6855471768295979,
          0.6699834381431177,
          0.42702270168526935,
          -0.08458074675520062,
          0.5729281726760698,
          0.5077719456011497,
          0.3632042077012811,
          0.25370026080015273,
          0.6923434648289333,
          0.18485853171449484,
          -0.673704073426398,
          -0.38088394302016765,
          0.49852699498309905,
          -0.09013677691025745,
          -0.5450246646497885,
          0.8973410896626624,
          0.8284435055131348,
          0.5453991704710025,
          -0.7403511312188712,
          0.6754594702770945,
          0.4604579160466542,
          -0.5576699212539559,
          -0.2989759480856937,
          0.8253110431265798,
          -0.5808098484543774,
          -0.13005994556002437,
          0.3878719528010793,
          0.10998303943675426,
          -0.9364110549048158,
          -0.6731461528155971,
          -0.07810378606823012,
          0.6058812391472301,
          -0.08394133607548754,
          -0.2004803026786064,
          -0.0429051328795231,
          -0.7724059474135728,
          -0.13902469801749648,
          -0.4265768766684506,
          0.7348428872719076,
          0.06718700339198723,
          0.07414810451867981,
          0.07517015045132337,
          -0.21066425879379796,
          0.4061081992912329,
          0.7051623685052953,
          0.18909660228767644,
          0.282119914518857,
          -0.018355437995759182,
          -0.32768270034230906,
          0.05503972328921776,
          -0.6791618407307153,
          0.84575269777685,
          -0.7150586157604587,
          0.833579623227567,
          -0.23263515969071794,
          0.2278519409961033,
          -0.5646492380962946,
          0.6569740338807097,
          0.2714326802805047,
          -0.6386524553035176,
          0.702530964518381,
          -0.3464947210975821,
          -0.8677392746692312,
          -0.4158728048170657,
          -0.88133185831482,
          0.6460365094171208,
          0.5248042503186655,
          0.9087099325657946,
          -0.15981510823233872,
          -0.5875060097559115,
          0.06686316420602258,
          -0.8099831012021852,
          -0.7097531298564741,
          0.7823099883795307,
          0.7815366559195641,
          -0.1642568527840865,
          0.3250073234409043,
          -0.11198443244527805,
          -0.6343467524265705,
          -0.5536990448466712,
          -0.9909472566947141,
          -0.6718491956120157,
          0.7546052283868558,
          -0.781661170535565,
          -0.028811811298783074,
          0.441064420302184,
          -0.9412207535159326,
          0.3084614412723019,
          -0.32700676342496715,
          -0.6966548783115557,
          -0.047544249177405934,
          0.02139828640855381,
          0.14174270194242963,
          -0.6220534562707207,
          -0.6769922637454132,
          0.5528839458522838,
          -0.19091796017222992,
          0.33608035510181816,
          -0.2882379940058463,
          -0.12039819462701393,
          -0.6967695766950982,
          0.8549343370154198,
          0.6450122896105381,
          0.09973378124816389,
          0.7067995014790461,
          0.7348073478741844,
          -0.06488842575954162,
          -0.4851248635128487,
          0.2488117937655606,
          0.30451437363240663,
          -0.548234514226787,
          0.18499377458193086,
          -0.42989217161941906,
          -0.24703763993145486,
          -0.7692873392793325,
          -0.20548539769948276,
          0.6889083265015593,
          0.12058498115257237,
          -0.8884013579915021,
          -0.057029561592513475,
          0.05824675112615454,
          0.6697327870002141,
          -0.4535155452825229,
          -0.744407772311062,
          0.7366429627252223,
          0.40666915269267007,
          -0.6288275830837953,
          -0.8397413693853897,
          -0.09880874706650386,
          0.14012529196651152,
          -0.9696175263097823,
          0.9347873828737996,
          0.4763751932955024,
          0.9207392921997444,
          -0.09914130205007227,
          0.2001731085999813,
          0.31542871941552625,
          -0.5504748599467265,
          -0.048098833516797654,
          0.8883823621446805,
          -0.5980290525748864,
          0.7210840651016872,
          0.4359329484545123,
          -0.49229601770692183
         ],
         "z": [
          -0.3316655765322188,
          0.20088413708685618,
          0.5179637515031263,
          -0.8700008175643859,
          -0.6725065187319733,
          0.03196703039660249,
          0.0749669456573992,
          0.05134828701500102,
          -0.1730881318019119,
          0.46205868672461003,
          0.361804338489963,
          -0.6508506397751039,
          -0.7312328956490121,
          -0.1946906874555199,
          0.03901358910799107,
          0.3748964983739795,
          0.6460614735257564,
          -0.10112504125843502,
          -0.06272884358415215,
          -0.5172106934700688,
          0.3044105026740977,
          -0.24399727226591864,
          -0.6886234344366582,
          -0.7125360626163576,
          -0.6190081615442398,
          0.04321544192259277,
          0.5239503007194052,
          0.9262833347023185,
          -0.4131098149363201,
          0.8568771905192103,
          0.4497564896574679,
          0.4402706102156486,
          0.7488188536919845,
          -0.4682064251152991,
          0.25074547329874225,
          0.1566305012065334,
          -0.45546212786638574,
          -0.8653544986582862,
          -0.35660072029671386,
          0.4266726464072712,
          0.7789122114620306,
          0.49372444575330443,
          -0.4555404374632713,
          0.5317332786490729,
          -0.8947971927711207,
          0.16127168014631127,
          -0.22451488580062495,
          0.9879548308767943,
          0.9053574468096088,
          -0.34978389529070214,
          0.34332025560461943,
          -0.2394412749613155,
          -0.003974781641726477,
          0.6055987943782299,
          0.2044562302864915,
          0.5142984314414265,
          -0.4223428988815054,
          0.17908576543321653,
          0.5106181906309024,
          0.8988044343989708,
          0.7269865824213005,
          -0.22897783815079736,
          -0.5413161251165378,
          -0.7686027004387953,
          0.19865900057561572,
          0.3398672575599772,
          -0.9503916487609938,
          -0.3654710235022929,
          0.24425654707646885,
          0.7414536002185306,
          0.522296716699639,
          0.5712538815198385,
          0.6979372094380668,
          0.4383248857635845,
          0.6991715107532931,
          -0.6850323978198392,
          0.5472226959383378,
          -0.10581961786476772,
          -0.745143531354861,
          0.09412911981469155,
          -0.9184649593742867,
          -0.3284832605057842,
          -0.224884688711059,
          0.0687708211350369,
          0.16685163918228754,
          -0.26740569123390806,
          0.49104411280454713,
          -0.7375804709837511,
          -0.6220335055078485,
          -0.8434042743400092,
          -0.43502690641125735,
          -0.10034739946276475,
          0.3178954513427425,
          -0.5765640789994558,
          -0.6308213170059149,
          -0.1708069603318486,
          -0.3349050650628923,
          -0.4519214507059326,
          -0.25288828682158593,
          0.33407166058139753,
          0.6784145549591277,
          0.6873554418717744,
          0.6384216954064802,
          -0.869767854855243,
          -0.7650356387709094,
          0.7285022529231044,
          0.3494695279852049,
          -0.5311537306292343,
          -0.08103056176409101,
          -0.7861381633889201,
          0.6805324657721994,
          0.08850250821434567,
          0.5486477593013774,
          0.2527545915821931,
          -0.40019831295867087,
          -0.46713478194280394,
          0.883214545019144,
          0.300637687987214,
          0.7951275243060753,
          -0.400905959500493,
          0.5182536926778029,
          -0.5891465468151154,
          -0.20882613997553978,
          -0.04753502120673116,
          0.24496490969332954,
          0.7249911217567229,
          -0.33445335038164564,
          0.7230716473111195,
          -0.7940579043093554,
          -0.10198633467266802,
          0.41897190184936917,
          -0.33764461950210545,
          0.5425832912492846,
          -0.06234014645196114,
          0.12734742688598913,
          -0.8417504480081547,
          -0.48253161185685967,
          -0.28274436171187733,
          0.34290206008265806,
          -0.12349930276687708,
          0.0919315438528413,
          0.5671914641739007,
          0.5199479762294439,
          -0.07416219242455378,
          -0.6259518883738335,
          0.2157503230811905,
          0.4057117702846975,
          0.774364636443907,
          -0.49324359566845505,
          -0.6026705386178476,
          0.6039256673429267,
          0.655597339708847,
          -0.2338708264748694,
          -0.10457021126863944,
          0.09650646994693955,
          -0.4718335123954153,
          -0.05049533690814992,
          -0.23716851414794737,
          0.8892558985996633,
          -0.9700379643466085,
          -0.5201036124026133,
          -0.8584554902629866,
          0.2038218903020444,
          -0.8032622529457885,
          -0.6198114120608221,
          -0.09530815737194993,
          0.2309141274762626,
          0.5383552653258774,
          0.8325847981624043,
          0.6044978670324296,
          0.612788935059834,
          0.42927244428487393,
          0.36065683012363,
          0.6242155355767651,
          -0.0469273122541415,
          -0.18293934155761146,
          0.2709538682020602,
          -0.5187246036954216,
          -0.6441405127007385,
          -0.14897042136601354,
          0.8100957451292689,
          -0.9801825031460849,
          -0.43413794017331764,
          0.2732224240809308,
          0.23140424396962372,
          -0.11045226817756379,
          0.1949440373523406,
          -0.09479470332104944,
          0.7337847226016113,
          -0.16407575229884133,
          0.5513706991801872,
          -0.4123837972785524,
          0.46435414007304376,
          0.3243400425320346,
          -0.5803281130867033,
          -0.9910754601822289,
          -0.5539250326962992,
          0.22298201043384205,
          0.30056386914726413,
          0.08681780741913754,
          -0.6989751577659619,
          0.4002938671324751,
          0.6144398194268436,
          0.7638468976164134,
          -0.26889580504533117,
          -0.2870099819518599,
          -0.5214437072188101,
          -0.42700347925158133,
          0.17713784016780523,
          0.06545263804609117,
          -0.7163161961027722,
          0.7695084459378272,
          0.24846774778106812,
          0.7382775729625191,
          0.3510994780596414,
          0.20981213321803935,
          0.16254484026958527,
          -0.3452048962020269,
          0.39815387378440803,
          0.76782367118931,
          -0.23795980518975773,
          -0.6999371248540193,
          0.2974732649591066,
          -0.248537691262351,
          -0.7148576860730599,
          0.4702344937662583,
          -0.6061544011405753,
          -0.5803097268650877,
          0.2673572327636989,
          -0.13782205170045378,
          -0.2933121409719378,
          -0.9801008536948185,
          -0.7235456736988258,
          -0.8598247814108764,
          0.09025739308597805,
          0.6661832355829042,
          0.12777446405889914,
          0.36548006792169424,
          0.33083961737300754,
          0.4853382628367607,
          -0.9209541130080268,
          0.23439114422209772,
          0.170808242394374,
          -0.08930755529700579,
          -0.9442122878631427,
          0.2609168224064039,
          0.7300180732648268,
          -0.7192055221605237,
          0.5444510226494617,
          0.774364636443907,
          0.6027759821937296,
          0.38617183613336464,
          -0.6612639595484617,
          -0.6698356166929434,
          0.033259851744850744,
          0.8753028523138083,
          0.6254356942541637,
          0.10091033320839214,
          0.5081974411906703,
          -0.9873883367283781,
          0.3466249347129841,
          -0.6780536573173493,
          0.7076964775040914,
          -0.8733098308795735,
          -0.9483056820326687,
          -0.9494841605149391,
          -0.3587738493326712,
          0.8587142208546118,
          -0.04007671853271961,
          0.07416490839166767,
          -0.1805590373580423,
          -0.7364542856400238,
          0.7233227587815575,
          0.7970873848906569,
          0.30571125377203356,
          -0.6600893416999329,
          -0.7619424139477486,
          0.21779368650873138,
          0.6735445646703586,
          -0.6614000501457651,
          0.6403258976192994,
          0.15654829683005117,
          -0.5028136387664275,
          -0.5289644043836627,
          0.9936799326114395,
          0.8764543755243154,
          0.147129456946145,
          -0.1794275629053343,
          0.6190814998529909,
          -0.28904294909105555,
          -0.0939557260598869,
          -0.5097976178602565,
          0.06959463513944061,
          0.8100889113816191,
          -0.8287198718068846,
          -0.31964836474515845,
          0.08285433746868934,
          -0.0028451023912621134,
          0.446023787182622,
          -0.6789395070543018
         ]
        },
        {
         "marker": {
          "color": "orange"
         },
         "name": "origin (0,0,0)",
         "type": "scatter3d",
         "x": [
          0
         ],
         "y": [
          0
         ],
         "z": [
          0
         ]
        },
        {
         "marker": {
          "color": "#16FF32"
         },
         "name": "query",
         "type": "scatter3d",
         "x": [
          -0.28502011975327746
         ],
         "y": [
          0.30535303546893533
         ],
         "z": [
          -0.9085829929432614
         ]
        }
       ],
       "layout": {
        "coloraxis": {
         "colorbar": {
          "title": {
           "text": "Fantasy"
          }
         },
         "colorscale": [
          [
           0,
           "#0d0887"
          ],
          [
           0.1111111111111111,
           "#46039f"
          ],
          [
           0.2222222222222222,
           "#7201a8"
          ],
          [
           0.3333333333333333,
           "#9c179e"
          ],
          [
           0.4444444444444444,
           "#bd3786"
          ],
          [
           0.5555555555555556,
           "#d8576b"
          ],
          [
           0.6666666666666666,
           "#ed7953"
          ],
          [
           0.7777777777777778,
           "#fb9f3a"
          ],
          [
           0.8888888888888888,
           "#fdca26"
          ],
          [
           1,
           "#f0f921"
          ]
         ]
        },
        "legend": {
         "tracegroupgap": 0
        },
        "margin": {
         "t": 60
        },
        "scene": {
         "domain": {
          "x": [
           0,
           1
          ],
          "y": [
           0,
           1
          ]
         },
         "xaxis": {
          "title": {
           "text": "0"
          }
         },
         "yaxis": {
          "title": {
           "text": "1"
          }
         },
         "zaxis": {
          "title": {
           "text": "2"
          }
         }
        },
        "template": {
         "data": {
          "bar": [
           {
            "error_x": {
             "color": "#2a3f5f"
            },
            "error_y": {
             "color": "#2a3f5f"
            },
            "marker": {
             "line": {
              "color": "#E5ECF6",
              "width": 0.5
             },
             "pattern": {
              "fillmode": "overlay",
              "size": 10,
              "solidity": 0.2
             }
            },
            "type": "bar"
           }
          ],
          "barpolar": [
           {
            "marker": {
             "line": {
              "color": "#E5ECF6",
              "width": 0.5
             },
             "pattern": {
              "fillmode": "overlay",
              "size": 10,
              "solidity": 0.2
             }
            },
            "type": "barpolar"
           }
          ],
          "carpet": [
           {
            "aaxis": {
             "endlinecolor": "#2a3f5f",
             "gridcolor": "white",
             "linecolor": "white",
             "minorgridcolor": "white",
             "startlinecolor": "#2a3f5f"
            },
            "baxis": {
             "endlinecolor": "#2a3f5f",
             "gridcolor": "white",
             "linecolor": "white",
             "minorgridcolor": "white",
             "startlinecolor": "#2a3f5f"
            },
            "type": "carpet"
           }
          ],
          "choropleth": [
           {
            "colorbar": {
             "outlinewidth": 0,
             "ticks": ""
            },
            "type": "choropleth"
           }
          ],
          "contour": [
           {
            "colorbar": {
             "outlinewidth": 0,
             "ticks": ""
            },
            "colorscale": [
             [
              0,
              "#0d0887"
             ],
             [
              0.1111111111111111,
              "#46039f"
             ],
             [
              0.2222222222222222,
              "#7201a8"
             ],
             [
              0.3333333333333333,
              "#9c179e"
             ],
             [
              0.4444444444444444,
              "#bd3786"
             ],
             [
              0.5555555555555556,
              "#d8576b"
             ],
             [
              0.6666666666666666,
              "#ed7953"
             ],
             [
              0.7777777777777778,
              "#fb9f3a"
             ],
             [
              0.8888888888888888,
              "#fdca26"
             ],
             [
              1,
              "#f0f921"
             ]
            ],
            "type": "contour"
           }
          ],
          "contourcarpet": [
           {
            "colorbar": {
             "outlinewidth": 0,
             "ticks": ""
            },
            "type": "contourcarpet"
           }
          ],
          "heatmap": [
           {
            "colorbar": {
             "outlinewidth": 0,
             "ticks": ""
            },
            "colorscale": [
             [
              0,
              "#0d0887"
             ],
             [
              0.1111111111111111,
              "#46039f"
             ],
             [
              0.2222222222222222,
              "#7201a8"
             ],
             [
              0.3333333333333333,
              "#9c179e"
             ],
             [
              0.4444444444444444,
              "#bd3786"
             ],
             [
              0.5555555555555556,
              "#d8576b"
             ],
             [
              0.6666666666666666,
              "#ed7953"
             ],
             [
              0.7777777777777778,
              "#fb9f3a"
             ],
             [
              0.8888888888888888,
              "#fdca26"
             ],
             [
              1,
              "#f0f921"
             ]
            ],
            "type": "heatmap"
           }
          ],
          "heatmapgl": [
           {
            "colorbar": {
             "outlinewidth": 0,
             "ticks": ""
            },
            "colorscale": [
             [
              0,
              "#0d0887"
             ],
             [
              0.1111111111111111,
              "#46039f"
             ],
             [
              0.2222222222222222,
              "#7201a8"
             ],
             [
              0.3333333333333333,
              "#9c179e"
             ],
             [
              0.4444444444444444,
              "#bd3786"
             ],
             [
              0.5555555555555556,
              "#d8576b"
             ],
             [
              0.6666666666666666,
              "#ed7953"
             ],
             [
              0.7777777777777778,
              "#fb9f3a"
             ],
             [
              0.8888888888888888,
              "#fdca26"
             ],
             [
              1,
              "#f0f921"
             ]
            ],
            "type": "heatmapgl"
           }
          ],
          "histogram": [
           {
            "marker": {
             "pattern": {
              "fillmode": "overlay",
              "size": 10,
              "solidity": 0.2
             }
            },
            "type": "histogram"
           }
          ],
          "histogram2d": [
           {
            "colorbar": {
             "outlinewidth": 0,
             "ticks": ""
            },
            "colorscale": [
             [
              0,
              "#0d0887"
             ],
             [
              0.1111111111111111,
              "#46039f"
             ],
             [
              0.2222222222222222,
              "#7201a8"
             ],
             [
              0.3333333333333333,
              "#9c179e"
             ],
             [
              0.4444444444444444,
              "#bd3786"
             ],
             [
              0.5555555555555556,
              "#d8576b"
             ],
             [
              0.6666666666666666,
              "#ed7953"
             ],
             [
              0.7777777777777778,
              "#fb9f3a"
             ],
             [
              0.8888888888888888,
              "#fdca26"
             ],
             [
              1,
              "#f0f921"
             ]
            ],
            "type": "histogram2d"
           }
          ],
          "histogram2dcontour": [
           {
            "colorbar": {
             "outlinewidth": 0,
             "ticks": ""
            },
            "colorscale": [
             [
              0,
              "#0d0887"
             ],
             [
              0.1111111111111111,
              "#46039f"
             ],
             [
              0.2222222222222222,
              "#7201a8"
             ],
             [
              0.3333333333333333,
              "#9c179e"
             ],
             [
              0.4444444444444444,
              "#bd3786"
             ],
             [
              0.5555555555555556,
              "#d8576b"
             ],
             [
              0.6666666666666666,
              "#ed7953"
             ],
             [
              0.7777777777777778,
              "#fb9f3a"
             ],
             [
              0.8888888888888888,
              "#fdca26"
             ],
             [
              1,
              "#f0f921"
             ]
            ],
            "type": "histogram2dcontour"
           }
          ],
          "mesh3d": [
           {
            "colorbar": {
             "outlinewidth": 0,
             "ticks": ""
            },
            "type": "mesh3d"
           }
          ],
          "parcoords": [
           {
            "line": {
             "colorbar": {
              "outlinewidth": 0,
              "ticks": ""
             }
            },
            "type": "parcoords"
           }
          ],
          "pie": [
           {
            "automargin": true,
            "type": "pie"
           }
          ],
          "scatter": [
           {
            "fillpattern": {
             "fillmode": "overlay",
             "size": 10,
             "solidity": 0.2
            },
            "type": "scatter"
           }
          ],
          "scatter3d": [
           {
            "line": {
             "colorbar": {
              "outlinewidth": 0,
              "ticks": ""
             }
            },
            "marker": {
             "colorbar": {
              "outlinewidth": 0,
              "ticks": ""
             }
            },
            "type": "scatter3d"
           }
          ],
          "scattercarpet": [
           {
            "marker": {
             "colorbar": {
              "outlinewidth": 0,
              "ticks": ""
             }
            },
            "type": "scattercarpet"
           }
          ],
          "scattergeo": [
           {
            "marker": {
             "colorbar": {
              "outlinewidth": 0,
              "ticks": ""
             }
            },
            "type": "scattergeo"
           }
          ],
          "scattergl": [
           {
            "marker": {
             "colorbar": {
              "outlinewidth": 0,
              "ticks": ""
             }
            },
            "type": "scattergl"
           }
          ],
          "scattermapbox": [
           {
            "marker": {
             "colorbar": {
              "outlinewidth": 0,
              "ticks": ""
             }
            },
            "type": "scattermapbox"
           }
          ],
          "scatterpolar": [
           {
            "marker": {
             "colorbar": {
              "outlinewidth": 0,
              "ticks": ""
             }
            },
            "type": "scatterpolar"
           }
          ],
          "scatterpolargl": [
           {
            "marker": {
             "colorbar": {
              "outlinewidth": 0,
              "ticks": ""
             }
            },
            "type": "scatterpolargl"
           }
          ],
          "scatterternary": [
           {
            "marker": {
             "colorbar": {
              "outlinewidth": 0,
              "ticks": ""
             }
            },
            "type": "scatterternary"
           }
          ],
          "surface": [
           {
            "colorbar": {
             "outlinewidth": 0,
             "ticks": ""
            },
            "colorscale": [
             [
              0,
              "#0d0887"
             ],
             [
              0.1111111111111111,
              "#46039f"
             ],
             [
              0.2222222222222222,
              "#7201a8"
             ],
             [
              0.3333333333333333,
              "#9c179e"
             ],
             [
              0.4444444444444444,
              "#bd3786"
             ],
             [
              0.5555555555555556,
              "#d8576b"
             ],
             [
              0.6666666666666666,
              "#ed7953"
             ],
             [
              0.7777777777777778,
              "#fb9f3a"
             ],
             [
              0.8888888888888888,
              "#fdca26"
             ],
             [
              1,
              "#f0f921"
             ]
            ],
            "type": "surface"
           }
          ],
          "table": [
           {
            "cells": {
             "fill": {
              "color": "#EBF0F8"
             },
             "line": {
              "color": "white"
             }
            },
            "header": {
             "fill": {
              "color": "#C8D4E3"
             },
             "line": {
              "color": "white"
             }
            },
            "type": "table"
           }
          ]
         },
         "layout": {
          "annotationdefaults": {
           "arrowcolor": "#2a3f5f",
           "arrowhead": 0,
           "arrowwidth": 1
          },
          "autotypenumbers": "strict",
          "coloraxis": {
           "colorbar": {
            "outlinewidth": 0,
            "ticks": ""
           }
          },
          "colorscale": {
           "diverging": [
            [
             0,
             "#8e0152"
            ],
            [
             0.1,
             "#c51b7d"
            ],
            [
             0.2,
             "#de77ae"
            ],
            [
             0.3,
             "#f1b6da"
            ],
            [
             0.4,
             "#fde0ef"
            ],
            [
             0.5,
             "#f7f7f7"
            ],
            [
             0.6,
             "#e6f5d0"
            ],
            [
             0.7,
             "#b8e186"
            ],
            [
             0.8,
             "#7fbc41"
            ],
            [
             0.9,
             "#4d9221"
            ],
            [
             1,
             "#276419"
            ]
           ],
           "sequential": [
            [
             0,
             "#0d0887"
            ],
            [
             0.1111111111111111,
             "#46039f"
            ],
            [
             0.2222222222222222,
             "#7201a8"
            ],
            [
             0.3333333333333333,
             "#9c179e"
            ],
            [
             0.4444444444444444,
             "#bd3786"
            ],
            [
             0.5555555555555556,
             "#d8576b"
            ],
            [
             0.6666666666666666,
             "#ed7953"
            ],
            [
             0.7777777777777778,
             "#fb9f3a"
            ],
            [
             0.8888888888888888,
             "#fdca26"
            ],
            [
             1,
             "#f0f921"
            ]
           ],
           "sequentialminus": [
            [
             0,
             "#0d0887"
            ],
            [
             0.1111111111111111,
             "#46039f"
            ],
            [
             0.2222222222222222,
             "#7201a8"
            ],
            [
             0.3333333333333333,
             "#9c179e"
            ],
            [
             0.4444444444444444,
             "#bd3786"
            ],
            [
             0.5555555555555556,
             "#d8576b"
            ],
            [
             0.6666666666666666,
             "#ed7953"
            ],
            [
             0.7777777777777778,
             "#fb9f3a"
            ],
            [
             0.8888888888888888,
             "#fdca26"
            ],
            [
             1,
             "#f0f921"
            ]
           ]
          },
          "colorway": [
           "#636efa",
           "#EF553B",
           "#00cc96",
           "#ab63fa",
           "#FFA15A",
           "#19d3f3",
           "#FF6692",
           "#B6E880",
           "#FF97FF",
           "#FECB52"
          ],
          "font": {
           "color": "#2a3f5f"
          },
          "geo": {
           "bgcolor": "white",
           "lakecolor": "white",
           "landcolor": "#E5ECF6",
           "showlakes": true,
           "showland": true,
           "subunitcolor": "white"
          },
          "hoverlabel": {
           "align": "left"
          },
          "hovermode": "closest",
          "mapbox": {
           "style": "light"
          },
          "paper_bgcolor": "white",
          "plot_bgcolor": "#E5ECF6",
          "polar": {
           "angularaxis": {
            "gridcolor": "white",
            "linecolor": "white",
            "ticks": ""
           },
           "bgcolor": "#E5ECF6",
           "radialaxis": {
            "gridcolor": "white",
            "linecolor": "white",
            "ticks": ""
           }
          },
          "scene": {
           "xaxis": {
            "backgroundcolor": "#E5ECF6",
            "gridcolor": "white",
            "gridwidth": 2,
            "linecolor": "white",
            "showbackground": true,
            "ticks": "",
            "zerolinecolor": "white"
           },
           "yaxis": {
            "backgroundcolor": "#E5ECF6",
            "gridcolor": "white",
            "gridwidth": 2,
            "linecolor": "white",
            "showbackground": true,
            "ticks": "",
            "zerolinecolor": "white"
           },
           "zaxis": {
            "backgroundcolor": "#E5ECF6",
            "gridcolor": "white",
            "gridwidth": 2,
            "linecolor": "white",
            "showbackground": true,
            "ticks": "",
            "zerolinecolor": "white"
           }
          },
          "shapedefaults": {
           "line": {
            "color": "#2a3f5f"
           }
          },
          "ternary": {
           "aaxis": {
            "gridcolor": "white",
            "linecolor": "white",
            "ticks": ""
           },
           "baxis": {
            "gridcolor": "white",
            "linecolor": "white",
            "ticks": ""
           },
           "bgcolor": "#E5ECF6",
           "caxis": {
            "gridcolor": "white",
            "linecolor": "white",
            "ticks": ""
           }
          },
          "title": {
           "x": 0.05
          },
          "xaxis": {
           "automargin": true,
           "gridcolor": "white",
           "linecolor": "white",
           "ticks": "",
           "title": {
            "standoff": 15
           },
           "zerolinecolor": "white",
           "zerolinewidth": 2
          },
          "yaxis": {
           "automargin": true,
           "gridcolor": "white",
           "linecolor": "white",
           "ticks": "",
           "title": {
            "standoff": 15
           },
           "zerolinecolor": "white",
           "zerolinewidth": 2
          }
         }
        }
       }
      },
      "text/html": [
       "<div>                            <div id=\"ca67338e-b43a-4831-9603-260a824257c1\" class=\"plotly-graph-div\" style=\"height:525px; width:100%;\"></div>            <script type=\"text/javascript\">                require([\"plotly\"], function(Plotly) {                    window.PLOTLYENV=window.PLOTLYENV || {};                                    if (document.getElementById(\"ca67338e-b43a-4831-9603-260a824257c1\")) {                    Plotly.newPlot(                        \"ca67338e-b43a-4831-9603-260a824257c1\",                        [{\"customdata\":[[\"2000 AD\"],[\"Hercules\"],[\"Hey, Happy!\"],[\"Ip Man\"],[\"Assembly\"],[\"Singh Is Kinng\"],[\"Backdraft\"],[\"Saheb Biwi Aur Gangster Returns\"],[\"Snowpiercer\"],[\"That Demon Within\"],[\"The Thirteenth Year\"],[\"Sleeping Dogs\"],[\"Lilies\"],[\"The Apple\"],[\"Act of Valor\"],[\"Ghost Dog: The Way of the Samurai\"],[\"House II: The Second Story\"],[\"John Carter\"],[\"Deuces Wild\"],[\"Fantasia\"],[\"Mushi-Shi: The Movie\"],[\"Pelikaanimies\"],[\"Hearts and Armour\"],[\"The Next Man\"],[\"The Wild Angels\"],[\"The Real Miyagi\"],[\"The Postman\"],[\"The Hidden\"],[\"Flodder\"],[\"On Deadly Ground\"],[\"X-Men: The Last Stand\"],[\"Casper\"],[\"Jason Goes to Hell: The Final Friday\"],[\"The Great Train Robbery\"],[\"Hot Fuzz\"],[\"End Game\"],[\"Ashura-j\\u00e8 no hitomi\"],[\"The Coast Guard\"],[\"Thale\"],[\"Puppetmaster\"],[\"Killers\"],[\"Fair Game\"],[\"Malarek\"],[\"Superman Returns\"],[\"Broken Lance\"],[\"The Quick and the Dead\"],[\"Lost in Space\"],[\"The Mask\"],[\"Love Story 2050\"],[\"Battletruck\"],[\"Futurama: Bender's Game\"],[\"The Professionals\"],[\"The Master Plan\"],[\"Vampire Girl vs. Frankenstein Girl\"],[\"Once Upon a Time in Mexico\"],[\"Graveyard of Honor\"],[\"Impact\"],[\"Year of the Dragon\"],[\"The Wolverine\"],[\"Megamind\"],[\"Lawnmower Man 2: Beyond Cyberspace\"],[\"The Proposition\"],[\"Magic in the Water\"],[\"Calamity Jane\"],[\"Juice\"],[\"Rush Hour\"],[\"North to Alaska\"],[\"Battle for the Planet of the Apes\"],[\"P.S.\"],[\"Hulk\"],[\"Toys in the Attic\"],[\"Big\"],[\"Hideaway\"],[\"The Zero Theorem\"],[\"The Lego Movie\"],[\"The Tree of Life\"],[\"Infestation\"],[\"Peter Pan\"],[\"Windtalkers\"],[\"Paperhouse\"],[\"Hell and Back Again\"],[\"Typhoon\"],[\"Goodbye, 20th Century\"],[\"Black & White Episode 1: The Dawn of Assault\"],[\"The Take\"],[\"The Grey Fox\"],[\"The Sweeney\"],[\"Dinotopia\"],[\"She\"],[\"Duel at Diablo\"],[\"The Twelve Tasks of Asterix\"],[\"The Losers\"],[\"Dolls\"],[\"Flood\"],[\"Unbeatable\"],[\"Critters\"],[\"Indiana Jones and the Temple of Doom\"],[\"Three Crowns of the Sailor\"],[\"Blazing Saddles\"],[\"Boogie\"],[\"Star Trek: Generations\"],[\"Takeshis'\"],[\"Deck the Halls\"],[\"Son of Rambow\"],[\"Instructions for a Light and Sound Machine\"],[\"Like Father Like Son\"],[\"Avenged\"],[\"Yellow Sky\"],[\"Babine\"],[\"Wyatt Earp\"],[\"Horns\"],[\"Kamikaze Taxi\"],[\"My Demon Lover\"],[\"No Problem\"],[\"Life of Pi\"],[\"The Blues Brothers\"],[\"The Crow\"],[\"In the Line of Fire\"],[\"Batman: The Dark Knight Returns, Part 2\"],[\"Run Silent Run Deep\"],[\"MacGruber\"],[\"Man of La Mancha\"],[\"Dragon Age: Dawn of the Seeker\"],[\"Airbag\"],[\"Spooky Buddies\"],[\"Being John Malkovich\"],[\"Hell and High Water\"],[\"Road to Ninja: Naruto the Movie\"],[\"Triple Cross\"],[\"Pastorela\"],[\"Switch\"],[\"The Suspect\"],[\"Pirates of the Caribbean: The Curse of the Black Pearl\"],[\"Road to Redemption\"],[\"House of Flying Daggers\"],[\"Troma's War\"],[\"Tremors 4: The Legend Begins\"],[\"Shoot First and Pray You Live (Because Luck Has Nothing to Do with It)\"],[\"The Adventures of Ford Fairlane\"],[\"Deep Impact\"],[\"Body of Lies\"],[\"Red Sonja\"],[\"Mister Designer\"],[\"Paws\"],[\"How I Ended This Summer\"],[\"Big Trouble in Little China\"],[\"The Sniper\"],[\"Black Mask\"],[\"Bowery Buckaroos\"],[\"Mal\\u00e8fique\"],[\"Heart and Souls\"],[\"Green Lantern\"],[\"Call\"],[\"Johnny English Reborn\"],[\"Predator\"],[\"My iz budushchego\"],[\"Into the Blue\"],[\"Big Fish\"],[\"Sgt. Kabukiman N.Y.P.D.\"],[\"Band of the Hand\"],[\"Romancing the Stone\"],[\"Oklahoma!\"],[\"Dabangg\"],[\"The Tracker\"],[\"Dust\"],[\"Escape\"],[\"Holiday\"],[\"Mac and Me\"],[\"The Nines\"],[\"Fausto 5.0\"],[\"Your Highness\"],[\"Mighty Aphrodite\"],[\"The Hitcher\"],[\"Lost River\"],[\"The Last Airbender\"],[\"The Discreet Charm of the Bourgeoisie\"],[\"The Mark of Zorro\"],[\"Turks & Caicos\"],[\"The Gods Must Be Crazy\"],[\"Journey 2: The Mysterious Island\"],[\"X-Men\"],[\"The Hallelujah Trail\"],[\"The Ugly Ones\"],[\"Maattrraan\"],[\"The Matrix Reloaded\"],[\"The Time Machine\"],[\"Singam\"],[\"Bang Boom Bang - Ein todsicheres Ding\"],[\"Feast\"],[\"Gen-X Cops\"],[\"Jett Jackson: The Movie\"],[\"Rambo III\"],[\"Karas: The Prophecy\"],[\"Miss Congeniality\"],[\"La Antena\"],[\"800 Bullets\"],[\"A.C.A.B.\"],[\"Barbie in a Mermaid Tale\"],[\"The Bourne Identity\"],[\"The Defender\"],[\"Moon Child\"],[\"Assassins\"],[\"Rigor Mortis\"],[\"Furious 7\"],[\"Walking with the Enemy\"],[\"Ik\\u00e8ngut\"],[\"The Great Locomotive Chase\"],[\"Yasmine\"],[\"I Spy\"],[\"Banklady\"],[\"Landmine Goes Click\"],[\"New Nightmare\"],[\"Wrath of the Titans\"],[\"The Masked Saint\"],[\"Initial D\"],[\"Back to the Future Part II\"],[\"Green Snake\"],[\"The Chronicles of Narnia: The Voyage of the Dawn Treader\"],[\"Doom\"],[\"The Prophecy II\"],[\"Red Sands\"],[\"Red Dust\"],[\"Seventeen Again\"],[\"When Good Ghouls Go Bad\"],[\"1066: The Battle for Middle Earth\"],[\"Looking for Jackie\"],[\"The Odyssey\"],[\"Saints and Soldiers: The Void\"],[\"In the Name of the King: A Dungeon Siege Tale\"],[\"Macario\"],[\"Switch\"],[\"Modern Era\"],[\"Antonio das Mortes\"],[\"Braddock: Missing in Action III\"],[\"The Librarian: Return to King Solomon's Mines\"],[\"You Don't Mess with the Zohan\"],[\"X-Men Origins: Wolverine\"],[\"Fullmetal Alchemist the Movie: Conqueror of Shamballa\"],[\"Looking for Eric\"],[\"Lara Croft: Tomb Raider\"],[\"Pathfinder\"],[\"Premium Rush\"],[\"The Hybrid\"],[\"Dagon\"],[\"The Pride and the Passion\"],[\"Crumbs\"],[\"Meltdown\"],[\"Black Water\"],[\"Dirty Harry\"],[\"Black Mask\"],[\"The Expendables 3\"],[\"Kill Me Again\"],[\"The Retrieval\"],[\"Angels in America\"],[\"Elite Squad\"],[\"Sparks\"],[\"JLA Adventures: Trapped in Time\"],[\"The Wedding Party\"],[\"The Haunting Hour: Don't Think About It\"],[\"Red Bells Part I: Mexico on Fire\"],[\"Kung Fu Panda: Secrets of the Furious Five\"],[\"The Missing\"],[\"Demolition Man\"],[\"United 93\"],[\"September Dawn\"],[\"Comanche Moon\"],[\"Madras Cafe\"],[\"The Night Flier\"],[\"The Taking of Pelham 1 2 3\"],[\"Princess Mononoke\"],[\"The Day of the Triffids\"],[\"Sonatine\"],[\"Timebomb\"],[\"TRON: Legacy\"],[\"Star Wars: The Clone Wars\"],[\"Cell 211\"],[\"Ashoka the Great\"],[\"Pete's Christmas\"],[\"Supergirl\"],[\"Air Force\"],[\"All of Me\"],[\"The Adventures of Pinocchio\"],[\"The Spy\"],[\"72 Meters\"],[\"Elektra\"],[\"The City of Lost Children\"],[\"Soldier\"],[\"Free Ride\"],[\"DOA: Dead or Alive\"],[\"Chances Are\"],[\"City of Ember\"],[\"A Better Tomorrow III: Love and Death in Saigon\"],[\"Mr. Nice Guy\"],[\"Underdog\"],[\"Demon Empire\"],[\"Stealing Rembrandt\"],[\"Wild Wild West\"],[\"Bangkok Dangerous\"],[\"Hindsight\"],[\"Helen of Troy\"]],\"hovertemplate\":\"0=%{x}\\u003cbr\\u003e1=%{y}\\u003cbr\\u003e2=%{z}\\u003cbr\\u003etitle=%{customdata[0]}\\u003cbr\\u003eFantasy=%{marker.color}\\u003cextra\\u003e\\u003c\\u002fextra\\u003e\",\"legendgroup\":\"\",\"marker\":{\"color\":[0,1,1,0,0,0,0,0,0,0,1,0,1,1,0,0,1,1,0,1,1,1,1,0,0,0,0,0,0,0,0,1,1,0,0,0,1,0,1,1,0,0,0,1,0,0,0,1,0,0,0,0,0,0,0,0,0,0,0,0,0,0,1,0,0,0,0,0,1,0,1,1,1,1,0,1,0,1,0,1,0,0,1,0,0,0,0,1,1,0,0,0,1,0,0,0,0,1,0,0,0,1,0,0,0,1,0,0,1,0,1,0,1,0,1,0,1,0,0,0,0,1,0,0,1,1,0,0,0,1,1,0,1,0,0,0,0,0,0,0,0,1,1,1,0,0,0,0,0,1,1,0,0,0,0,1,0,1,1,0,0,0,0,0,0,0,0,1,1,1,1,1,0,1,0,1,0,0,0,0,0,0,0,0,0,0,0,0,0,0,0,0,0,0,1,0,0,1,0,0,0,0,0,0,0,0,0,0,0,0,0,1,1,0,0,0,1,1,0,1,0,0,1,1,0,0,1,0,0,1,0,0,0,0,1,0,0,0,1,1,0,0,0,1,0,1,0,0,0,0,0,0,0,1,0,0,0,0,1,0,0,0,0,0,0,0,0,1,0,1,0,0,0,1,0,0,0,1,1,0,1,1,0,0,1,1,0,0,0,1,1,0,0,0,0,0,0,0,0,0],\"coloraxis\":\"coloraxis\",\"symbol\":\"circle\"},\"mode\":\"markers\",\"name\":\"\",\"scene\":\"scene\",\"showlegend\":false,\"x\":[-0.09226097882556912,-0.9385143483954864,-0.6917971551131662,-0.26077425357801176,0.25109311174728693,0.25897657064058405,0.9966439314495398,0.9121109570762639,-0.7577619558854884,0.8634008139756368,-0.8339489538034031,0.5035849884096661,0.1426710184285127,-0.5326767186114489,0.699427523492154,0.8429660896521081,-0.5178328868539701,-0.6949648541490547,0.5702889432828037,-0.7488015107232107,-0.9245629950233938,-0.7627086615251332,-0.7250449464134631,0.49594217151511166,0.09156524933899098,-0.9576106734733402,-0.31626037840771787,0.3767838561233504,0.05392665335606585,0.22687221485708897,-0.5438445083481857,-0.6299438229901629,-0.5632226826530801,0.8723267879878074,0.9124424241911159,0.9334026484933481,-0.8705125223208522,0.2976561050624623,-0.8997647010865337,-0.7937383061576386,0.44193934668350837,0.8314971181634649,0.36481360348382164,-0.3198618952680567,-0.09711067518375537,0.9723447014553785,-0.3739675038573395,0.00843723632320745,-0.41204634947746493,-0.3393555478059766,-0.7618518044424565,0.963577592234366,0.9624835247376132,-0.44568292690146966,0.9777954106216319,0.7342090138516646,-0.6537516580002043,0.9528406620280238,-0.47991086652433657,-0.19658018281965722,-0.537947813309681,0.9658620377579514,-0.6609793217549106,-0.03834255181132903,0.0833546579914828,0.9402254688001791,-0.2513887098680509,-0.24039895904881797,-0.13965983794027387,-0.6635853015679374,-0.8458373826361114,-0.7723482879758273,-0.6676640939744245,-0.8769660883869449,-0.4588474473069504,-0.1150129731067005,-0.5829251535765575,-0.9231695217645393,0.08340747812418801,-0.721585884590717,-0.19623241280539314,0.21417939972150246,-0.968293004075296,0.9305728059357397,0.9781571341797709,0.8986163576403843,0.8710847312228289,-0.6566890641603834,-0.7637379880064553,0.5372666615139231,-0.39324079317349503,0.6663489650072439,-0.8743015915766248,-0.7353279698841179,0.29011339829602545,-0.8526371962806532,-0.40989710379482347,-0.0057429452509370205,0.928135600324658,0.6551865154680425,-0.06014063913254613,0.29329362037840884,0.5762657400239235,-0.025660289377744942,-0.6193785695630202,-0.5223557149808334,0.9331715885995716,0.5810606410787098,-0.8338234817290319,0.05280908462619575,-0.5098786060021127,0.8392440224113368,-0.3387829570610796,0.919225606873527,-0.7909345970026237,0.17967841860555875,0.21235125254245402,0.7724684364395729,0.4691539694643009,0.44744241631570625,0.31668825214965696,-0.6168673743707196,-0.9385145016505058,0.23270099621098078,-0.8590192165619328,-0.5865285221756739,0.2555630564016616,-0.21606285408368917,0.5886511415782009,-0.23639708889867425,0.030555508683028643,0.8627915191285531,-0.712202580322412,0.8257451651277522,0.9916920381777711,0.05741009608276838,-0.8601125996730192,0.727668325729681,0.6071226697408247,-0.5260728189428965,0.7850803695897016,-0.6698413818064718,-0.6768612689221626,0.8523260568763064,-0.4378883353524962,0.18856069198693487,0.9134741010915204,0.11579683660077351,0.7634874459366909,0.5966707389024372,-0.6969498547597563,-0.3059272275445773,0.7636856406916087,0.8972401904402921,0.23522371311322274,-0.6759319291557406,0.7262749405641781,-0.7034723082757289,0.1639376681886105,0.2277552304659994,0.6334394535548066,0.07226217888880938,0.9091420904026971,0.5388932460723466,0.3694514043657668,-0.9781327509038457,0.7019982102402789,-0.7517320202341482,-0.24139881760685913,-0.7914908023479953,-0.5722218415890992,0.10248969402196252,0.4284950513813241,-0.5593699223180979,-0.6705803679407414,-0.7143442456711291,0.8453179927437443,0.6480193241328799,-0.7040570874324684,-0.544673751571846,-0.08003001725513897,0.14942111995028926,0.813068015071523,-0.9556428401948048,-0.26379236555460994,-0.731214437360199,0.9776996578206302,0.789887263013964,-0.6741764108705809,0.965860650272835,-0.8331563488674512,0.48304105016267795,-0.874669861112276,0.8442959819293868,-0.35103448860064024,0.11513183226105608,0.8292581725546578,-0.9719199923368216,0.9302053163845528,0.9096915954230673,-0.11907880949207902,0.8966645386873425,-0.7367985220768163,0.6451364157275299,0.9057146868221779,-0.9563450732451334,0.516561375150301,-0.319953751205115,0.6762494817797805,0.5485079433450303,0.6578540793189085,-0.5966072783788833,-0.7870419405786947,0.15274601162413418,-0.8961324994564076,-0.7403390507661233,-0.6928415538884835,-0.8722241614915609,-0.29749293098658025,-0.48733624960078337,-0.4082025068925942,-0.3045075528640161,-0.7975526035830066,-0.33537333596791713,-0.6807625282306279,0.6585713396231857,-0.7925314878604315,0.08466402230379826,-0.6517442786460624,-0.6074505446097619,-0.5506073405000365,-0.11145403940708053,-0.6089761060842139,0.49815743712369426,-0.7677615519672669,0.499617117765371,0.041197339521885507,-0.6442382931085682,-0.5666710658465836,-0.39173024532650746,-0.38860442774533893,0.8663272872614333,0.2914241539080883,-0.947035215720665,-0.039111790071247224,-0.6682771822455534,0.6817720712062549,-0.6944678035968161,0.8267297565601559,0.11579683660077351,0.42230627525440034,0.7383702698485323,0.7254517959768003,-0.6620953417176563,0.9569810035070687,0.4683472979124219,-0.35120129462310645,-0.5088264773415155,-0.5706965104314435,-0.1229530209905814,-0.6166730246607123,-0.01736085564348808,0.703530516701834,0.0445399381536468,0.19700006270993697,0.07583419533762062,0.7554602851543797,0.4778987238610148,0.9019903421944101,-0.96616353213126,-0.6128584042442938,0.6445237284186888,0.04700536464551543,-0.5917017518721804,0.34246701510654454,0.7490191520106244,-0.6450202119396921,-0.7099464093393685,-0.5836620337062477,0.09168992414688522,-0.21757732029199406,-0.9000626817104661,0.5930887921917402,-0.12260135169641358,0.05326371211690762,-0.46064371283626804,-0.19543483714944757,0.30655880103139227,-0.6243434725793517,0.2620941231318615,-0.9906277422767726,0.8366822069444456,0.9463938449333288,-0.20182513278374142,-0.5575929306283431,0.3295477227140011,0.7971802876633417,0.6928417398286632,0.7816810383519782,-0.5446886970653677],\"y\":[-0.9388747824548803,0.2807781710223655,0.50312051071899,0.4184439820431538,-0.6961948229454643,0.9653544658967841,-0.032875993728030885,0.40671483302437716,-0.6291560353695441,0.20258530165966213,0.41668544863007845,-0.5681510399117248,0.6670408029658546,0.8236206952641708,-0.7136379188682066,0.3858248141366271,0.5607616906656622,-0.7118971678044961,0.8190455502302533,0.4144748437466958,0.2291670004496177,0.5989497714844967,-0.010372619001961403,-0.4963201809155596,0.7800286539961904,0.2848055891821138,-0.7908574178860891,-0.005754095721404597,0.9090831627860535,-0.46291519579048596,-0.7084858860630268,0.6397910359303877,0.3493573157964355,-0.14081448235045527,0.32338140044911284,-0.32284110933614585,0.18644623504381094,-0.403190320780287,0.25151423212718155,0.4335088858902646,0.44495548169258786,-0.254654106881168,0.8120307534502129,-0.7841862586991908,0.4357837773188407,0.16892965025251458,-0.8998563063693242,0.1545123464012864,0.10269225573859543,-0.873206183423233,-0.5492841069604614,0.11910541376747474,0.27131101289767234,0.6592547526686279,-0.04597591613346468,0.44320903352239405,-0.6278815536598845,0.24499583956711665,-0.7134105575253873,-0.3917994645572356,-0.4267348815537935,0.12115970309407614,0.519695284663268,0.6385763365477826,0.9765175894378045,0.02159432930525135,0.18319233203449425,-0.89924372195108,0.9596008904105796,-0.09950430275103243,0.1084677918096855,0.27775371268324545,-0.25905271528998686,-0.1969816599068085,-0.5482866208935371,0.719376556439226,-0.600621000613302,0.36954058310283944,-0.6616678247224738,0.6858961437144431,-0.3433874758434905,-0.9199053931260681,-0.10879124524597128,0.3595898038227685,0.12397238142183697,0.3478258732136597,-0.009331147327490859,-0.15727212669620724,0.17256478117353163,-0.0037100472619732154,-0.8100081908737291,-0.7388568577571945,0.3667958682730421,-0.3561834352038441,0.7196517783901147,-0.4937963080267625,-0.8484238101891269,0.8920392485601125,0.2731516461572761,0.6775889281454,-0.7322136267130909,0.6644707283053057,0.5102308651081345,0.4927934944878629,-0.17632543485400362,0.44320308495409144,0.08403472639540042,0.6166394779997834,0.5460516911222514,0.6157905395866675,0.5262122862223502,0.5365042188898512,0.7643374544129893,0.3018930275811533,-0.46288635059734806,0.8657371202545576,0.4181375527386622,-0.5593831381676643,-0.3842743460430081,-0.7994183483749614,-0.7944316590973807,0.5219013209533001,-0.2749221225267606,0.9713859521947458,0.4495310652182584,0.3610708601484601,-0.9070989365119625,-0.6561129749822011,0.15153177265021206,0.9662893996625789,0.9074849345029613,-0.37628035484346245,-0.445388433436694,0.560587752638683,-0.01815307908691958,-0.5368056111348299,-0.16543747895365638,0.6249435443701342,0.7168125564454371,-0.8414245726062258,-0.6125335946131696,0.47917258497107657,0.5210690210020027,0.5177260491654547,-0.6453201059965913,-0.9580692373350531,-0.031032661624413187,-0.6220534562707207,0.41689048349551233,0.5298794685772351,0.38669715317642955,-0.6903627014936216,-0.6017380482613748,-0.42898148162117733,-0.9671382042126186,-0.5661176235804749,-0.6855471768295979,0.6699834381431177,0.42702270168526935,-0.08458074675520062,0.5729281726760698,0.5077719456011497,0.3632042077012811,0.25370026080015273,0.6923434648289333,0.18485853171449484,-0.673704073426398,-0.38088394302016765,0.49852699498309905,-0.09013677691025745,-0.5450246646497885,0.8973410896626624,0.8284435055131348,0.5453991704710025,-0.7403511312188712,0.6754594702770945,0.4604579160466542,-0.5576699212539559,-0.2989759480856937,0.8253110431265798,-0.5808098484543774,-0.13005994556002437,0.3878719528010793,0.10998303943675426,-0.9364110549048158,-0.6731461528155971,-0.07810378606823012,0.6058812391472301,-0.08394133607548754,-0.2004803026786064,-0.0429051328795231,-0.7724059474135728,-0.13902469801749648,-0.4265768766684506,0.7348428872719076,0.06718700339198723,0.07414810451867981,0.07517015045132337,-0.21066425879379796,0.4061081992912329,0.7051623685052953,0.18909660228767644,0.282119914518857,-0.018355437995759182,-0.32768270034230906,0.05503972328921776,-0.6791618407307153,0.84575269777685,-0.7150586157604587,0.833579623227567,-0.23263515969071794,0.2278519409961033,-0.5646492380962946,0.6569740338807097,0.2714326802805047,-0.6386524553035176,0.702530964518381,-0.3464947210975821,-0.8677392746692312,-0.4158728048170657,-0.88133185831482,0.6460365094171208,0.5248042503186655,0.9087099325657946,-0.15981510823233872,-0.5875060097559115,0.06686316420602258,-0.8099831012021852,-0.7097531298564741,0.7823099883795307,0.7815366559195641,-0.1642568527840865,0.3250073234409043,-0.11198443244527805,-0.6343467524265705,-0.5536990448466712,-0.9909472566947141,-0.6718491956120157,0.7546052283868558,-0.781661170535565,-0.028811811298783074,0.441064420302184,-0.9412207535159326,0.3084614412723019,-0.32700676342496715,-0.6966548783115557,-0.047544249177405934,0.02139828640855381,0.14174270194242963,-0.6220534562707207,-0.6769922637454132,0.5528839458522838,-0.19091796017222992,0.33608035510181816,-0.2882379940058463,-0.12039819462701393,-0.6967695766950982,0.8549343370154198,0.6450122896105381,0.09973378124816389,0.7067995014790461,0.7348073478741844,-0.06488842575954162,-0.4851248635128487,0.2488117937655606,0.30451437363240663,-0.548234514226787,0.18499377458193086,-0.42989217161941906,-0.24703763993145486,-0.7692873392793325,-0.20548539769948276,0.6889083265015593,0.12058498115257237,-0.8884013579915021,-0.057029561592513475,0.05824675112615454,0.6697327870002141,-0.4535155452825229,-0.744407772311062,0.7366429627252223,0.40666915269267007,-0.6288275830837953,-0.8397413693853897,-0.09880874706650386,0.14012529196651152,-0.9696175263097823,0.9347873828737996,0.4763751932955024,0.9207392921997444,-0.09914130205007227,0.2001731085999813,0.31542871941552625,-0.5504748599467265,-0.048098833516797654,0.8883823621446805,-0.5980290525748864,0.7210840651016872,0.4359329484545123,-0.49229601770692183],\"z\":[-0.3316655765322188,0.20088413708685618,0.5179637515031263,-0.8700008175643859,-0.6725065187319733,0.03196703039660249,0.0749669456573992,0.05134828701500102,-0.1730881318019119,0.46205868672461003,0.361804338489963,-0.6508506397751039,-0.7312328956490121,-0.1946906874555199,0.03901358910799107,0.3748964983739795,0.6460614735257564,-0.10112504125843502,-0.06272884358415215,-0.5172106934700688,0.3044105026740977,-0.24399727226591864,-0.6886234344366582,-0.7125360626163576,-0.6190081615442398,0.04321544192259277,0.5239503007194052,0.9262833347023185,-0.4131098149363201,0.8568771905192103,0.4497564896574679,0.4402706102156486,0.7488188536919845,-0.4682064251152991,0.25074547329874225,0.1566305012065334,-0.45546212786638574,-0.8653544986582862,-0.35660072029671386,0.4266726464072712,0.7789122114620306,0.49372444575330443,-0.4555404374632713,0.5317332786490729,-0.8947971927711207,0.16127168014631127,-0.22451488580062495,0.9879548308767943,0.9053574468096088,-0.34978389529070214,0.34332025560461943,-0.2394412749613155,-0.003974781641726477,0.6055987943782299,0.2044562302864915,0.5142984314414265,-0.4223428988815054,0.17908576543321653,0.5106181906309024,0.8988044343989708,0.7269865824213005,-0.22897783815079736,-0.5413161251165378,-0.7686027004387953,0.19865900057561572,0.3398672575599772,-0.9503916487609938,-0.3654710235022929,0.24425654707646885,0.7414536002185306,0.522296716699639,0.5712538815198385,0.6979372094380668,0.4383248857635845,0.6991715107532931,-0.6850323978198392,0.5472226959383378,-0.10581961786476772,-0.745143531354861,0.09412911981469155,-0.9184649593742867,-0.3284832605057842,-0.224884688711059,0.0687708211350369,0.16685163918228754,-0.26740569123390806,0.49104411280454713,-0.7375804709837511,-0.6220335055078485,-0.8434042743400092,-0.43502690641125735,-0.10034739946276475,0.3178954513427425,-0.5765640789994558,-0.6308213170059149,-0.1708069603318486,-0.3349050650628923,-0.4519214507059326,-0.25288828682158593,0.33407166058139753,0.6784145549591277,0.6873554418717744,0.6384216954064802,-0.869767854855243,-0.7650356387709094,0.7285022529231044,0.3494695279852049,-0.5311537306292343,-0.08103056176409101,-0.7861381633889201,0.6805324657721994,0.08850250821434567,0.5486477593013774,0.2527545915821931,-0.40019831295867087,-0.46713478194280394,0.883214545019144,0.300637687987214,0.7951275243060753,-0.400905959500493,0.5182536926778029,-0.5891465468151154,-0.20882613997553978,-0.04753502120673116,0.24496490969332954,0.7249911217567229,-0.33445335038164564,0.7230716473111195,-0.7940579043093554,-0.10198633467266802,0.41897190184936917,-0.33764461950210545,0.5425832912492846,-0.06234014645196114,0.12734742688598913,-0.8417504480081547,-0.48253161185685967,-0.28274436171187733,0.34290206008265806,-0.12349930276687708,0.0919315438528413,0.5671914641739007,0.5199479762294439,-0.07416219242455378,-0.6259518883738335,0.2157503230811905,0.4057117702846975,0.774364636443907,-0.49324359566845505,-0.6026705386178476,0.6039256673429267,0.655597339708847,-0.2338708264748694,-0.10457021126863944,0.09650646994693955,-0.4718335123954153,-0.05049533690814992,-0.23716851414794737,0.8892558985996633,-0.9700379643466085,-0.5201036124026133,-0.8584554902629866,0.2038218903020444,-0.8032622529457885,-0.6198114120608221,-0.09530815737194993,0.2309141274762626,0.5383552653258774,0.8325847981624043,0.6044978670324296,0.612788935059834,0.42927244428487393,0.36065683012363,0.6242155355767651,-0.0469273122541415,-0.18293934155761146,0.2709538682020602,-0.5187246036954216,-0.6441405127007385,-0.14897042136601354,0.8100957451292689,-0.9801825031460849,-0.43413794017331764,0.2732224240809308,0.23140424396962372,-0.11045226817756379,0.1949440373523406,-0.09479470332104944,0.7337847226016113,-0.16407575229884133,0.5513706991801872,-0.4123837972785524,0.46435414007304376,0.3243400425320346,-0.5803281130867033,-0.9910754601822289,-0.5539250326962992,0.22298201043384205,0.30056386914726413,0.08681780741913754,-0.6989751577659619,0.4002938671324751,0.6144398194268436,0.7638468976164134,-0.26889580504533117,-0.2870099819518599,-0.5214437072188101,-0.42700347925158133,0.17713784016780523,0.06545263804609117,-0.7163161961027722,0.7695084459378272,0.24846774778106812,0.7382775729625191,0.3510994780596414,0.20981213321803935,0.16254484026958527,-0.3452048962020269,0.39815387378440803,0.76782367118931,-0.23795980518975773,-0.6999371248540193,0.2974732649591066,-0.248537691262351,-0.7148576860730599,0.4702344937662583,-0.6061544011405753,-0.5803097268650877,0.2673572327636989,-0.13782205170045378,-0.2933121409719378,-0.9801008536948185,-0.7235456736988258,-0.8598247814108764,0.09025739308597805,0.6661832355829042,0.12777446405889914,0.36548006792169424,0.33083961737300754,0.4853382628367607,-0.9209541130080268,0.23439114422209772,0.170808242394374,-0.08930755529700579,-0.9442122878631427,0.2609168224064039,0.7300180732648268,-0.7192055221605237,0.5444510226494617,0.774364636443907,0.6027759821937296,0.38617183613336464,-0.6612639595484617,-0.6698356166929434,0.033259851744850744,0.8753028523138083,0.6254356942541637,0.10091033320839214,0.5081974411906703,-0.9873883367283781,0.3466249347129841,-0.6780536573173493,0.7076964775040914,-0.8733098308795735,-0.9483056820326687,-0.9494841605149391,-0.3587738493326712,0.8587142208546118,-0.04007671853271961,0.07416490839166767,-0.1805590373580423,-0.7364542856400238,0.7233227587815575,0.7970873848906569,0.30571125377203356,-0.6600893416999329,-0.7619424139477486,0.21779368650873138,0.6735445646703586,-0.6614000501457651,0.6403258976192994,0.15654829683005117,-0.5028136387664275,-0.5289644043836627,0.9936799326114395,0.8764543755243154,0.147129456946145,-0.1794275629053343,0.6190814998529909,-0.28904294909105555,-0.0939557260598869,-0.5097976178602565,0.06959463513944061,0.8100889113816191,-0.8287198718068846,-0.31964836474515845,0.08285433746868934,-0.0028451023912621134,0.446023787182622,-0.6789395070543018],\"type\":\"scatter3d\"},{\"marker\":{\"color\":\"orange\"},\"name\":\"origin (0,0,0)\",\"x\":[0],\"y\":[0],\"z\":[0],\"type\":\"scatter3d\"},{\"marker\":{\"color\":\"#16FF32\"},\"name\":\"query\",\"x\":[-0.28502011975327746],\"y\":[0.30535303546893533],\"z\":[-0.9085829929432614],\"type\":\"scatter3d\"}],                        {\"template\":{\"data\":{\"histogram2dcontour\":[{\"type\":\"histogram2dcontour\",\"colorbar\":{\"outlinewidth\":0,\"ticks\":\"\"},\"colorscale\":[[0.0,\"#0d0887\"],[0.1111111111111111,\"#46039f\"],[0.2222222222222222,\"#7201a8\"],[0.3333333333333333,\"#9c179e\"],[0.4444444444444444,\"#bd3786\"],[0.5555555555555556,\"#d8576b\"],[0.6666666666666666,\"#ed7953\"],[0.7777777777777778,\"#fb9f3a\"],[0.8888888888888888,\"#fdca26\"],[1.0,\"#f0f921\"]]}],\"choropleth\":[{\"type\":\"choropleth\",\"colorbar\":{\"outlinewidth\":0,\"ticks\":\"\"}}],\"histogram2d\":[{\"type\":\"histogram2d\",\"colorbar\":{\"outlinewidth\":0,\"ticks\":\"\"},\"colorscale\":[[0.0,\"#0d0887\"],[0.1111111111111111,\"#46039f\"],[0.2222222222222222,\"#7201a8\"],[0.3333333333333333,\"#9c179e\"],[0.4444444444444444,\"#bd3786\"],[0.5555555555555556,\"#d8576b\"],[0.6666666666666666,\"#ed7953\"],[0.7777777777777778,\"#fb9f3a\"],[0.8888888888888888,\"#fdca26\"],[1.0,\"#f0f921\"]]}],\"heatmap\":[{\"type\":\"heatmap\",\"colorbar\":{\"outlinewidth\":0,\"ticks\":\"\"},\"colorscale\":[[0.0,\"#0d0887\"],[0.1111111111111111,\"#46039f\"],[0.2222222222222222,\"#7201a8\"],[0.3333333333333333,\"#9c179e\"],[0.4444444444444444,\"#bd3786\"],[0.5555555555555556,\"#d8576b\"],[0.6666666666666666,\"#ed7953\"],[0.7777777777777778,\"#fb9f3a\"],[0.8888888888888888,\"#fdca26\"],[1.0,\"#f0f921\"]]}],\"heatmapgl\":[{\"type\":\"heatmapgl\",\"colorbar\":{\"outlinewidth\":0,\"ticks\":\"\"},\"colorscale\":[[0.0,\"#0d0887\"],[0.1111111111111111,\"#46039f\"],[0.2222222222222222,\"#7201a8\"],[0.3333333333333333,\"#9c179e\"],[0.4444444444444444,\"#bd3786\"],[0.5555555555555556,\"#d8576b\"],[0.6666666666666666,\"#ed7953\"],[0.7777777777777778,\"#fb9f3a\"],[0.8888888888888888,\"#fdca26\"],[1.0,\"#f0f921\"]]}],\"contourcarpet\":[{\"type\":\"contourcarpet\",\"colorbar\":{\"outlinewidth\":0,\"ticks\":\"\"}}],\"contour\":[{\"type\":\"contour\",\"colorbar\":{\"outlinewidth\":0,\"ticks\":\"\"},\"colorscale\":[[0.0,\"#0d0887\"],[0.1111111111111111,\"#46039f\"],[0.2222222222222222,\"#7201a8\"],[0.3333333333333333,\"#9c179e\"],[0.4444444444444444,\"#bd3786\"],[0.5555555555555556,\"#d8576b\"],[0.6666666666666666,\"#ed7953\"],[0.7777777777777778,\"#fb9f3a\"],[0.8888888888888888,\"#fdca26\"],[1.0,\"#f0f921\"]]}],\"surface\":[{\"type\":\"surface\",\"colorbar\":{\"outlinewidth\":0,\"ticks\":\"\"},\"colorscale\":[[0.0,\"#0d0887\"],[0.1111111111111111,\"#46039f\"],[0.2222222222222222,\"#7201a8\"],[0.3333333333333333,\"#9c179e\"],[0.4444444444444444,\"#bd3786\"],[0.5555555555555556,\"#d8576b\"],[0.6666666666666666,\"#ed7953\"],[0.7777777777777778,\"#fb9f3a\"],[0.8888888888888888,\"#fdca26\"],[1.0,\"#f0f921\"]]}],\"mesh3d\":[{\"type\":\"mesh3d\",\"colorbar\":{\"outlinewidth\":0,\"ticks\":\"\"}}],\"scatter\":[{\"fillpattern\":{\"fillmode\":\"overlay\",\"size\":10,\"solidity\":0.2},\"type\":\"scatter\"}],\"parcoords\":[{\"type\":\"parcoords\",\"line\":{\"colorbar\":{\"outlinewidth\":0,\"ticks\":\"\"}}}],\"scatterpolargl\":[{\"type\":\"scatterpolargl\",\"marker\":{\"colorbar\":{\"outlinewidth\":0,\"ticks\":\"\"}}}],\"bar\":[{\"error_x\":{\"color\":\"#2a3f5f\"},\"error_y\":{\"color\":\"#2a3f5f\"},\"marker\":{\"line\":{\"color\":\"#E5ECF6\",\"width\":0.5},\"pattern\":{\"fillmode\":\"overlay\",\"size\":10,\"solidity\":0.2}},\"type\":\"bar\"}],\"scattergeo\":[{\"type\":\"scattergeo\",\"marker\":{\"colorbar\":{\"outlinewidth\":0,\"ticks\":\"\"}}}],\"scatterpolar\":[{\"type\":\"scatterpolar\",\"marker\":{\"colorbar\":{\"outlinewidth\":0,\"ticks\":\"\"}}}],\"histogram\":[{\"marker\":{\"pattern\":{\"fillmode\":\"overlay\",\"size\":10,\"solidity\":0.2}},\"type\":\"histogram\"}],\"scattergl\":[{\"type\":\"scattergl\",\"marker\":{\"colorbar\":{\"outlinewidth\":0,\"ticks\":\"\"}}}],\"scatter3d\":[{\"type\":\"scatter3d\",\"line\":{\"colorbar\":{\"outlinewidth\":0,\"ticks\":\"\"}},\"marker\":{\"colorbar\":{\"outlinewidth\":0,\"ticks\":\"\"}}}],\"scattermapbox\":[{\"type\":\"scattermapbox\",\"marker\":{\"colorbar\":{\"outlinewidth\":0,\"ticks\":\"\"}}}],\"scatterternary\":[{\"type\":\"scatterternary\",\"marker\":{\"colorbar\":{\"outlinewidth\":0,\"ticks\":\"\"}}}],\"scattercarpet\":[{\"type\":\"scattercarpet\",\"marker\":{\"colorbar\":{\"outlinewidth\":0,\"ticks\":\"\"}}}],\"carpet\":[{\"aaxis\":{\"endlinecolor\":\"#2a3f5f\",\"gridcolor\":\"white\",\"linecolor\":\"white\",\"minorgridcolor\":\"white\",\"startlinecolor\":\"#2a3f5f\"},\"baxis\":{\"endlinecolor\":\"#2a3f5f\",\"gridcolor\":\"white\",\"linecolor\":\"white\",\"minorgridcolor\":\"white\",\"startlinecolor\":\"#2a3f5f\"},\"type\":\"carpet\"}],\"table\":[{\"cells\":{\"fill\":{\"color\":\"#EBF0F8\"},\"line\":{\"color\":\"white\"}},\"header\":{\"fill\":{\"color\":\"#C8D4E3\"},\"line\":{\"color\":\"white\"}},\"type\":\"table\"}],\"barpolar\":[{\"marker\":{\"line\":{\"color\":\"#E5ECF6\",\"width\":0.5},\"pattern\":{\"fillmode\":\"overlay\",\"size\":10,\"solidity\":0.2}},\"type\":\"barpolar\"}],\"pie\":[{\"automargin\":true,\"type\":\"pie\"}]},\"layout\":{\"autotypenumbers\":\"strict\",\"colorway\":[\"#636efa\",\"#EF553B\",\"#00cc96\",\"#ab63fa\",\"#FFA15A\",\"#19d3f3\",\"#FF6692\",\"#B6E880\",\"#FF97FF\",\"#FECB52\"],\"font\":{\"color\":\"#2a3f5f\"},\"hovermode\":\"closest\",\"hoverlabel\":{\"align\":\"left\"},\"paper_bgcolor\":\"white\",\"plot_bgcolor\":\"#E5ECF6\",\"polar\":{\"bgcolor\":\"#E5ECF6\",\"angularaxis\":{\"gridcolor\":\"white\",\"linecolor\":\"white\",\"ticks\":\"\"},\"radialaxis\":{\"gridcolor\":\"white\",\"linecolor\":\"white\",\"ticks\":\"\"}},\"ternary\":{\"bgcolor\":\"#E5ECF6\",\"aaxis\":{\"gridcolor\":\"white\",\"linecolor\":\"white\",\"ticks\":\"\"},\"baxis\":{\"gridcolor\":\"white\",\"linecolor\":\"white\",\"ticks\":\"\"},\"caxis\":{\"gridcolor\":\"white\",\"linecolor\":\"white\",\"ticks\":\"\"}},\"coloraxis\":{\"colorbar\":{\"outlinewidth\":0,\"ticks\":\"\"}},\"colorscale\":{\"sequential\":[[0.0,\"#0d0887\"],[0.1111111111111111,\"#46039f\"],[0.2222222222222222,\"#7201a8\"],[0.3333333333333333,\"#9c179e\"],[0.4444444444444444,\"#bd3786\"],[0.5555555555555556,\"#d8576b\"],[0.6666666666666666,\"#ed7953\"],[0.7777777777777778,\"#fb9f3a\"],[0.8888888888888888,\"#fdca26\"],[1.0,\"#f0f921\"]],\"sequentialminus\":[[0.0,\"#0d0887\"],[0.1111111111111111,\"#46039f\"],[0.2222222222222222,\"#7201a8\"],[0.3333333333333333,\"#9c179e\"],[0.4444444444444444,\"#bd3786\"],[0.5555555555555556,\"#d8576b\"],[0.6666666666666666,\"#ed7953\"],[0.7777777777777778,\"#fb9f3a\"],[0.8888888888888888,\"#fdca26\"],[1.0,\"#f0f921\"]],\"diverging\":[[0,\"#8e0152\"],[0.1,\"#c51b7d\"],[0.2,\"#de77ae\"],[0.3,\"#f1b6da\"],[0.4,\"#fde0ef\"],[0.5,\"#f7f7f7\"],[0.6,\"#e6f5d0\"],[0.7,\"#b8e186\"],[0.8,\"#7fbc41\"],[0.9,\"#4d9221\"],[1,\"#276419\"]]},\"xaxis\":{\"gridcolor\":\"white\",\"linecolor\":\"white\",\"ticks\":\"\",\"title\":{\"standoff\":15},\"zerolinecolor\":\"white\",\"automargin\":true,\"zerolinewidth\":2},\"yaxis\":{\"gridcolor\":\"white\",\"linecolor\":\"white\",\"ticks\":\"\",\"title\":{\"standoff\":15},\"zerolinecolor\":\"white\",\"automargin\":true,\"zerolinewidth\":2},\"scene\":{\"xaxis\":{\"backgroundcolor\":\"#E5ECF6\",\"gridcolor\":\"white\",\"linecolor\":\"white\",\"showbackground\":true,\"ticks\":\"\",\"zerolinecolor\":\"white\",\"gridwidth\":2},\"yaxis\":{\"backgroundcolor\":\"#E5ECF6\",\"gridcolor\":\"white\",\"linecolor\":\"white\",\"showbackground\":true,\"ticks\":\"\",\"zerolinecolor\":\"white\",\"gridwidth\":2},\"zaxis\":{\"backgroundcolor\":\"#E5ECF6\",\"gridcolor\":\"white\",\"linecolor\":\"white\",\"showbackground\":true,\"ticks\":\"\",\"zerolinecolor\":\"white\",\"gridwidth\":2}},\"shapedefaults\":{\"line\":{\"color\":\"#2a3f5f\"}},\"annotationdefaults\":{\"arrowcolor\":\"#2a3f5f\",\"arrowhead\":0,\"arrowwidth\":1},\"geo\":{\"bgcolor\":\"white\",\"landcolor\":\"#E5ECF6\",\"subunitcolor\":\"white\",\"showland\":true,\"showlakes\":true,\"lakecolor\":\"white\"},\"title\":{\"x\":0.05},\"mapbox\":{\"style\":\"light\"}}},\"scene\":{\"domain\":{\"x\":[0.0,1.0],\"y\":[0.0,1.0]},\"xaxis\":{\"title\":{\"text\":\"0\"}},\"yaxis\":{\"title\":{\"text\":\"1\"}},\"zaxis\":{\"title\":{\"text\":\"2\"}}},\"coloraxis\":{\"colorbar\":{\"title\":{\"text\":\"Fantasy\"}},\"colorscale\":[[0.0,\"#0d0887\"],[0.1111111111111111,\"#46039f\"],[0.2222222222222222,\"#7201a8\"],[0.3333333333333333,\"#9c179e\"],[0.4444444444444444,\"#bd3786\"],[0.5555555555555556,\"#d8576b\"],[0.6666666666666666,\"#ed7953\"],[0.7777777777777778,\"#fb9f3a\"],[0.8888888888888888,\"#fdca26\"],[1.0,\"#f0f921\"]]},\"legend\":{\"tracegroupgap\":0},\"margin\":{\"t\":60}},                        {\"responsive\": true}                    ).then(function(){\n",
       "                            \n",
       "var gd = document.getElementById('ca67338e-b43a-4831-9603-260a824257c1');\n",
       "var x = new MutationObserver(function (mutations, observer) {{\n",
       "        var display = window.getComputedStyle(gd).display;\n",
       "        if (!display || display === 'none') {{\n",
       "            console.log([gd, 'removed!']);\n",
       "            Plotly.purge(gd);\n",
       "            observer.disconnect();\n",
       "        }}\n",
       "}});\n",
       "\n",
       "// Listen for the removal of the full notebook cells\n",
       "var notebookContainer = gd.closest('#notebook-container');\n",
       "if (notebookContainer) {{\n",
       "    x.observe(notebookContainer, {childList: true});\n",
       "}}\n",
       "\n",
       "// Listen for the clearing of the current output cell\n",
       "var outputEl = gd.closest('.output');\n",
       "if (outputEl) {{\n",
       "    x.observe(outputEl, {childList: true});\n",
       "}}\n",
       "\n",
       "                        })                };                });            </script>        </div>"
      ]
     },
     "metadata": {},
     "output_type": "display_data"
    }
   ],
   "source": [
    "genre_to_color = \"Fantasy\"\n",
    "\n",
    "fig = px.scatter_3d(df_normalized, x=0, y=1, z=2, hover_data=\"title\", color=genre_to_color)\n",
    "fig.add_scatter3d(\n",
    "    x=[0], y=[0], z=[0], marker=dict(color=\"orange\"), name=\"origin (0,0,0)\"\n",
    ")\n",
    "fig.add_scatter3d(\n",
    "    x=[query_normalized[0]],\n",
    "    y=[query_normalized[1]],\n",
    "    z=[query_normalized[2]],\n",
    "    marker=dict(color=\"#16FF32\"),\n",
    "    name=\"query\",\n",
    ")"
   ]
  },
  {
   "cell_type": "code",
   "execution_count": null,
   "metadata": {},
   "outputs": [],
   "source": []
  }
 ],
 "metadata": {
  "kernelspec": {
   "display_name": ".venv",
   "language": "python",
   "name": "python3"
  },
  "language_info": {
   "codemirror_mode": {
    "name": "ipython",
    "version": 3
   },
   "file_extension": ".py",
   "mimetype": "text/x-python",
   "name": "python",
   "nbconvert_exporter": "python",
   "pygments_lexer": "ipython3",
   "version": "3.12.3"
  }
 },
 "nbformat": 4,
 "nbformat_minor": 2
}
