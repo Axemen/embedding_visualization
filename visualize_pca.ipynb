{
 "cells": [
  {
   "cell_type": "code",
   "execution_count": 192,
   "metadata": {},
   "outputs": [
    {
     "data": {
      "text/plain": [
       "True"
      ]
     },
     "execution_count": 192,
     "metadata": {},
     "output_type": "execute_result"
    }
   ],
   "source": [
    "import os\n",
    "\n",
    "import numpy as np\n",
    "import pandas as pd\n",
    "import plotly.express as px\n",
    "from dotenv import load_dotenv\n",
    "from pymongo.mongo_client import MongoClient\n",
    "from pymongo.server_api import ServerApi\n",
    "from sklearn.decomposition import PCA\n",
    "import requests\n",
    "from plotly.offline import plot, iplot, init_notebook_mode\n",
    "import json\n",
    "load_dotenv()"
   ]
  },
  {
   "cell_type": "code",
   "execution_count": 187,
   "metadata": {},
   "outputs": [],
   "source": [
    "embeddings = np.load(\"data/embeddings.npy\")\n",
    "pca = PCA(n_components=3).fit(embeddings)\n",
    "pcad_embeddings = pca.transform(embeddings)"
   ]
  },
  {
   "cell_type": "code",
   "execution_count": 193,
   "metadata": {},
   "outputs": [
    {
     "data": {
      "text/html": [
       "<div>\n",
       "<style scoped>\n",
       "    .dataframe tbody tr th:only-of-type {\n",
       "        vertical-align: middle;\n",
       "    }\n",
       "\n",
       "    .dataframe tbody tr th {\n",
       "        vertical-align: top;\n",
       "    }\n",
       "\n",
       "    .dataframe thead th {\n",
       "        text-align: right;\n",
       "    }\n",
       "</style>\n",
       "<table border=\"1\" class=\"dataframe\">\n",
       "  <thead>\n",
       "    <tr style=\"text-align: right;\">\n",
       "      <th></th>\n",
       "      <th>0</th>\n",
       "      <th>1</th>\n",
       "      <th>2</th>\n",
       "      <th>titles</th>\n",
       "      <th>genres</th>\n",
       "    </tr>\n",
       "  </thead>\n",
       "  <tbody>\n",
       "    <tr>\n",
       "      <th>0</th>\n",
       "      <td>-0.155683</td>\n",
       "      <td>0.005991</td>\n",
       "      <td>0.042268</td>\n",
       "      <td>Orlando</td>\n",
       "      <td>['Drama', 'Fantasy', 'Romance']</td>\n",
       "    </tr>\n",
       "    <tr>\n",
       "      <th>1</th>\n",
       "      <td>0.015299</td>\n",
       "      <td>-0.146868</td>\n",
       "      <td>-0.085495</td>\n",
       "      <td>Small Soldiers</td>\n",
       "      <td>['Action', 'Adventure', 'Comedy']</td>\n",
       "    </tr>\n",
       "    <tr>\n",
       "      <th>2</th>\n",
       "      <td>-0.013630</td>\n",
       "      <td>-0.060080</td>\n",
       "      <td>0.193336</td>\n",
       "      <td>Lone Rider</td>\n",
       "      <td>['Western']</td>\n",
       "    </tr>\n",
       "    <tr>\n",
       "      <th>3</th>\n",
       "      <td>0.056990</td>\n",
       "      <td>-0.039466</td>\n",
       "      <td>-0.058687</td>\n",
       "      <td>High Noon</td>\n",
       "      <td>['Drama', 'Thriller', 'Western']</td>\n",
       "    </tr>\n",
       "    <tr>\n",
       "      <th>4</th>\n",
       "      <td>0.007569</td>\n",
       "      <td>-0.106919</td>\n",
       "      <td>-0.084748</td>\n",
       "      <td>Devil's Playground</td>\n",
       "      <td>['Action', 'Horror']</td>\n",
       "    </tr>\n",
       "  </tbody>\n",
       "</table>\n",
       "</div>"
      ],
      "text/plain": [
       "          0         1         2              titles  \\\n",
       "0 -0.155683  0.005991  0.042268             Orlando   \n",
       "1  0.015299 -0.146868 -0.085495      Small Soldiers   \n",
       "2 -0.013630 -0.060080  0.193336          Lone Rider   \n",
       "3  0.056990 -0.039466 -0.058687           High Noon   \n",
       "4  0.007569 -0.106919 -0.084748  Devil's Playground   \n",
       "\n",
       "                              genres  \n",
       "0    ['Drama', 'Fantasy', 'Romance']  \n",
       "1  ['Action', 'Adventure', 'Comedy']  \n",
       "2                        ['Western']  \n",
       "3   ['Drama', 'Thriller', 'Western']  \n",
       "4               ['Action', 'Horror']  "
      ]
     },
     "execution_count": 193,
     "metadata": {},
     "output_type": "execute_result"
    }
   ],
   "source": [
    "df = pd.DataFrame(pcad_embeddings)\n",
    "metadata = pd.read_csv(\"data/metadata.csv\")\n",
    "df = pd.concat([df, metadata], axis=1, ignore_index=False)\n",
    "df.head()"
   ]
  },
  {
   "cell_type": "code",
   "execution_count": 199,
   "metadata": {},
   "outputs": [
    {
     "data": {
      "text/plain": [
       "'[\"Drama\", \"Fantasy\", \"Romance\"]'"
      ]
     },
     "execution_count": 199,
     "metadata": {},
     "output_type": "execute_result"
    }
   ],
   "source": [
    "df['genres'][0].replace(\"'\", '\"')"
   ]
  },
  {
   "cell_type": "code",
   "execution_count": 200,
   "metadata": {},
   "outputs": [
    {
     "data": {
      "text/plain": [
       "['Drama', 'Fantasy', 'Romance']"
      ]
     },
     "execution_count": 200,
     "metadata": {},
     "output_type": "execute_result"
    }
   ],
   "source": [
    "json.loads(df['genres'][0].replace(\"'\", '\"'))"
   ]
  },
  {
   "cell_type": "code",
   "execution_count": 201,
   "metadata": {},
   "outputs": [],
   "source": [
    "df['genres'] = df['genres'].apply(lambda x: json.loads(x.replace(\"'\", '\"')))\n",
    "\n",
    "# Step 1: Get all unique strings from the 'tags' column\n",
    "unique_genres = set(genre for sublist in df['genres'] for genre in sublist)\n",
    "\n",
    "# Step 2: Expand the 'tags' column into new columns\n",
    "for tag in unique_genres:\n",
    "    df[tag] = df['genres'].apply(lambda x: 1 if tag in x else 0)\n",
    "\n",
    "# Step 3: Drop the original 'tags' column if you don't need it\n",
    "df = df.drop(columns=['genres'])"
   ]
  },
  {
   "cell_type": "code",
   "execution_count": 202,
   "metadata": {},
   "outputs": [
    {
     "data": {
      "text/html": [
       "<div>\n",
       "<style scoped>\n",
       "    .dataframe tbody tr th:only-of-type {\n",
       "        vertical-align: middle;\n",
       "    }\n",
       "\n",
       "    .dataframe tbody tr th {\n",
       "        vertical-align: top;\n",
       "    }\n",
       "\n",
       "    .dataframe thead th {\n",
       "        text-align: right;\n",
       "    }\n",
       "</style>\n",
       "<table border=\"1\" class=\"dataframe\">\n",
       "  <thead>\n",
       "    <tr style=\"text-align: right;\">\n",
       "      <th></th>\n",
       "      <th>0</th>\n",
       "      <th>1</th>\n",
       "      <th>2</th>\n",
       "      <th>titles</th>\n",
       "      <th>Film-Noir</th>\n",
       "      <th>Biography</th>\n",
       "      <th>Crime</th>\n",
       "      <th>Romance</th>\n",
       "      <th>Animation</th>\n",
       "      <th>Horror</th>\n",
       "      <th>...</th>\n",
       "      <th>History</th>\n",
       "      <th>Western</th>\n",
       "      <th>Family</th>\n",
       "      <th>War</th>\n",
       "      <th>Thriller</th>\n",
       "      <th>Documentary</th>\n",
       "      <th>Musical</th>\n",
       "      <th>Fantasy</th>\n",
       "      <th>Short</th>\n",
       "      <th>Mystery</th>\n",
       "    </tr>\n",
       "  </thead>\n",
       "  <tbody>\n",
       "    <tr>\n",
       "      <th>0</th>\n",
       "      <td>-0.155683</td>\n",
       "      <td>0.005991</td>\n",
       "      <td>0.042268</td>\n",
       "      <td>Orlando</td>\n",
       "      <td>0</td>\n",
       "      <td>0</td>\n",
       "      <td>0</td>\n",
       "      <td>1</td>\n",
       "      <td>0</td>\n",
       "      <td>0</td>\n",
       "      <td>...</td>\n",
       "      <td>0</td>\n",
       "      <td>0</td>\n",
       "      <td>0</td>\n",
       "      <td>0</td>\n",
       "      <td>0</td>\n",
       "      <td>0</td>\n",
       "      <td>0</td>\n",
       "      <td>1</td>\n",
       "      <td>0</td>\n",
       "      <td>0</td>\n",
       "    </tr>\n",
       "    <tr>\n",
       "      <th>1</th>\n",
       "      <td>0.015299</td>\n",
       "      <td>-0.146868</td>\n",
       "      <td>-0.085495</td>\n",
       "      <td>Small Soldiers</td>\n",
       "      <td>0</td>\n",
       "      <td>0</td>\n",
       "      <td>0</td>\n",
       "      <td>0</td>\n",
       "      <td>0</td>\n",
       "      <td>0</td>\n",
       "      <td>...</td>\n",
       "      <td>0</td>\n",
       "      <td>0</td>\n",
       "      <td>0</td>\n",
       "      <td>0</td>\n",
       "      <td>0</td>\n",
       "      <td>0</td>\n",
       "      <td>0</td>\n",
       "      <td>0</td>\n",
       "      <td>0</td>\n",
       "      <td>0</td>\n",
       "    </tr>\n",
       "    <tr>\n",
       "      <th>2</th>\n",
       "      <td>-0.013630</td>\n",
       "      <td>-0.060080</td>\n",
       "      <td>0.193336</td>\n",
       "      <td>Lone Rider</td>\n",
       "      <td>0</td>\n",
       "      <td>0</td>\n",
       "      <td>0</td>\n",
       "      <td>0</td>\n",
       "      <td>0</td>\n",
       "      <td>0</td>\n",
       "      <td>...</td>\n",
       "      <td>0</td>\n",
       "      <td>1</td>\n",
       "      <td>0</td>\n",
       "      <td>0</td>\n",
       "      <td>0</td>\n",
       "      <td>0</td>\n",
       "      <td>0</td>\n",
       "      <td>0</td>\n",
       "      <td>0</td>\n",
       "      <td>0</td>\n",
       "    </tr>\n",
       "    <tr>\n",
       "      <th>3</th>\n",
       "      <td>0.056990</td>\n",
       "      <td>-0.039466</td>\n",
       "      <td>-0.058687</td>\n",
       "      <td>High Noon</td>\n",
       "      <td>0</td>\n",
       "      <td>0</td>\n",
       "      <td>0</td>\n",
       "      <td>0</td>\n",
       "      <td>0</td>\n",
       "      <td>0</td>\n",
       "      <td>...</td>\n",
       "      <td>0</td>\n",
       "      <td>1</td>\n",
       "      <td>0</td>\n",
       "      <td>0</td>\n",
       "      <td>1</td>\n",
       "      <td>0</td>\n",
       "      <td>0</td>\n",
       "      <td>0</td>\n",
       "      <td>0</td>\n",
       "      <td>0</td>\n",
       "    </tr>\n",
       "    <tr>\n",
       "      <th>4</th>\n",
       "      <td>0.007569</td>\n",
       "      <td>-0.106919</td>\n",
       "      <td>-0.084748</td>\n",
       "      <td>Devil's Playground</td>\n",
       "      <td>0</td>\n",
       "      <td>0</td>\n",
       "      <td>0</td>\n",
       "      <td>0</td>\n",
       "      <td>0</td>\n",
       "      <td>1</td>\n",
       "      <td>...</td>\n",
       "      <td>0</td>\n",
       "      <td>0</td>\n",
       "      <td>0</td>\n",
       "      <td>0</td>\n",
       "      <td>0</td>\n",
       "      <td>0</td>\n",
       "      <td>0</td>\n",
       "      <td>0</td>\n",
       "      <td>0</td>\n",
       "      <td>0</td>\n",
       "    </tr>\n",
       "  </tbody>\n",
       "</table>\n",
       "<p>5 rows × 26 columns</p>\n",
       "</div>"
      ],
      "text/plain": [
       "          0         1         2              titles  Film-Noir  Biography  \\\n",
       "0 -0.155683  0.005991  0.042268             Orlando          0          0   \n",
       "1  0.015299 -0.146868 -0.085495      Small Soldiers          0          0   \n",
       "2 -0.013630 -0.060080  0.193336          Lone Rider          0          0   \n",
       "3  0.056990 -0.039466 -0.058687           High Noon          0          0   \n",
       "4  0.007569 -0.106919 -0.084748  Devil's Playground          0          0   \n",
       "\n",
       "   Crime  Romance  Animation  Horror  ...  History  Western  Family  War  \\\n",
       "0      0        1          0       0  ...        0        0       0    0   \n",
       "1      0        0          0       0  ...        0        0       0    0   \n",
       "2      0        0          0       0  ...        0        1       0    0   \n",
       "3      0        0          0       0  ...        0        1       0    0   \n",
       "4      0        0          0       1  ...        0        0       0    0   \n",
       "\n",
       "   Thriller  Documentary  Musical  Fantasy  Short  Mystery  \n",
       "0         0            0        0        1      0        0  \n",
       "1         0            0        0        0      0        0  \n",
       "2         0            0        0        0      0        0  \n",
       "3         1            0        0        0      0        0  \n",
       "4         0            0        0        0      0        0  \n",
       "\n",
       "[5 rows x 26 columns]"
      ]
     },
     "execution_count": 202,
     "metadata": {},
     "output_type": "execute_result"
    }
   ],
   "source": [
    "df.head()"
   ]
  },
  {
   "cell_type": "code",
   "execution_count": 203,
   "metadata": {},
   "outputs": [
    {
     "name": "stdout",
     "output_type": "stream",
     "text": [
      "{'Film-Noir', 'Biography', 'Crime', 'Romance', 'Animation', 'Horror', 'Comedy', 'Sci-Fi', 'Drama', 'Adventure', 'Action', 'Sport', 'History', 'Western', 'Family', 'War', 'Thriller', 'Documentary', 'Musical', 'Fantasy', 'Short', 'Mystery'}\n"
     ]
    }
   ],
   "source": [
    "print(unique_genres)"
   ]
  },
  {
   "cell_type": "markdown",
   "metadata": {},
   "source": [
    "### Get the embeddings for a custom query to compare"
   ]
  },
  {
   "cell_type": "code",
   "execution_count": 179,
   "metadata": {},
   "outputs": [],
   "source": [
    "# # Fetch query embedding\n",
    "# query = \"What movies take place in italy?\"\n",
    "\n",
    "# url = os.getenv('OPEN_AI_URL')\n",
    "# headers = {\n",
    "#             \"Content-Type\": \"application/json\",\n",
    "#             \"api-key\": os.getenv('API_KEY')\n",
    "#         }\n",
    "# repsonse = requests.post(url, headers=headers, json={\"input\": query}).json()\n",
    "# query_embedding = repsonse['data'][0]['embedding']\n",
    "# query_embedding_pcad = pca.transform(np.array(query_embedding).reshape(1, -1))[0] * n"
   ]
  },
  {
   "cell_type": "code",
   "execution_count": 210,
   "metadata": {},
   "outputs": [
    {
     "data": {
      "application/vnd.plotly.v1+json": {
       "config": {
        "plotlyServerURL": "https://plot.ly"
       },
       "data": [
        {
         "customdata": [
          [
           "Orlando"
          ],
          [
           "Small Soldiers"
          ],
          [
           "Lone Rider"
          ],
          [
           "High Noon"
          ],
          [
           "Devil's Playground"
          ],
          [
           "Detective K: Secret of Virtuous Widow"
          ],
          [
           "Fast & Furious 6"
          ],
          [
           "The Legend of Hercules"
          ],
          [
           "Brightness"
          ],
          [
           "Erased"
          ],
          [
           "Ghost"
          ],
          [
           "Where Eagles Dare"
          ],
          [
           "The Horse Whisperer"
          ],
          [
           "Stealing Rembrandt"
          ],
          [
           "Hancock"
          ],
          [
           "Jack the Giant Slayer"
          ],
          [
           "Spartacus"
          ],
          [
           "Ong-bak"
          ],
          [
           "The Milagro Beanfield War"
          ],
          [
           "Tracker"
          ],
          [
           "U.S. Marshals"
          ],
          [
           "Ong-bak 3"
          ],
          [
           "The Island"
          ],
          [
           "xXx: State of the Union"
          ],
          [
           "Smokin' Aces"
          ],
          [
           "Agency of Vengeance: Dark Rising"
          ],
          [
           "Point Blank"
          ],
          [
           "The Slipper and the Rose: The Story of Cinderella"
          ],
          [
           "Tae Guk Gi: The Brotherhood of War"
          ],
          [
           "Haywire"
          ],
          [
           "Four Brothers"
          ],
          [
           "Antonio das Mortes"
          ],
          [
           "Titanic"
          ],
          [
           "The Chaperone"
          ],
          [
           "Hot Shots! Part Deux"
          ],
          [
           "The Great Northfield Minnesota Raid"
          ],
          [
           "The Sheepman"
          ],
          [
           "Here Comes Mr. Jordan"
          ],
          [
           "Flightplan"
          ],
          [
           "Gladiator"
          ],
          [
           "Shootout at Lokhandwala"
          ],
          [
           "Saints and Soldiers"
          ],
          [
           "Cowboy Bebop: The Movie"
          ],
          [
           "The Expendables 2"
          ],
          [
           "King Size"
          ],
          [
           "Blood Tea and Red String"
          ],
          [
           "Tommy Tricker and the Stamp Traveller"
          ],
          [
           "Furious 7"
          ],
          [
           "The Last Unicorn"
          ],
          [
           "The Three Musketeers"
          ],
          [
           "Cèdigo Paz"
          ],
          [
           "Mad Max 2: The Road Warrior"
          ],
          [
           "Horsehead"
          ],
          [
           "The City of Lost Children"
          ],
          [
           "Juice"
          ],
          [
           "Hot Fuzz"
          ],
          [
           "The Karate Kid, Part III"
          ],
          [
           "John Carter"
          ],
          [
           "12 Dates of Christmas"
          ],
          [
           "Black Rain"
          ],
          [
           "The Hobbit: The Battle of the Five Armies"
          ],
          [
           "Free Ride"
          ],
          [
           "Die Nibelungen, Teil 1 - Siegfried"
          ],
          [
           "Watchers"
          ],
          [
           "Biteu"
          ],
          [
           "Angel"
          ],
          [
           "King of Triads"
          ],
          [
           "Godzilla"
          ],
          [
           "Solomon Kane"
          ],
          [
           "Lethal Weapon 3"
          ],
          [
           "Macario"
          ],
          [
           "The Jack Bull"
          ],
          [
           "Takers"
          ],
          [
           "Clash of the Wolves"
          ],
          [
           "Amar Akbar Anthony"
          ],
          [
           "Willy Wonka & the Chocolate Factory"
          ],
          [
           "Fireball"
          ],
          [
           "Phantom of the Paradise"
          ],
          [
           "Robin Hood"
          ],
          [
           "The Science of Sleep"
          ],
          [
           "Sicario"
          ],
          [
           "The Good Witch"
          ],
          [
           "Mohra"
          ],
          [
           "The Perils of Pauline"
          ],
          [
           "Pedro Pèramo"
          ],
          [
           "Quigley Down Under"
          ],
          [
           "The Spy Who Loved Me"
          ],
          [
           "Turetskiy gambit"
          ],
          [
           "Varalaaru"
          ],
          [
           "Nothing to Lose"
          ],
          [
           "The Big Trail"
          ],
          [
           "Wer"
          ],
          [
           "Shanghai Noon"
          ],
          [
           "Game of Assassins"
          ],
          [
           "The Monkey King"
          ],
          [
           "The Silencers"
          ],
          [
           "Easy Money"
          ],
          [
           "Pleasantville"
          ],
          [
           "SAGA: Curse of the Shadow"
          ],
          [
           "Perrier's Bounty"
          ],
          [
           "F/X"
          ],
          [
           "Boss"
          ],
          [
           "Aragami"
          ],
          [
           "Death Wish II"
          ],
          [
           "The Black Hole"
          ],
          [
           "Assault on Precinct 13"
          ],
          [
           "How to Train Your Dragon 2"
          ],
          [
           "186 Dollars to Freedom"
          ],
          [
           "Appaloosa"
          ],
          [
           "Johnny Mnemonic"
          ],
          [
           "City Under Siege"
          ],
          [
           "Dragon Inn"
          ],
          [
           "Loch Ness"
          ],
          [
           "Kundo: Age of the Rampant"
          ],
          [
           "Shenandoah"
          ],
          [
           "Pitch Black"
          ],
          [
           "Double Impact"
          ],
          [
           "Lucky Luke"
          ],
          [
           "Speed"
          ],
          [
           "Izo"
          ],
          [
           "Futurama: Bender's Game"
          ],
          [
           "The Three Musketeers"
          ],
          [
           "The Recruit"
          ],
          [
           "Action Jackson"
          ],
          [
           "Hereafter"
          ],
          [
           "Brutal Relax"
          ],
          [
           "Northpole"
          ],
          [
           "Snow White and the Huntsman"
          ],
          [
           "Admiral"
          ],
          [
           "They Live"
          ],
          [
           "Mermaid"
          ],
          [
           "The Stool Pigeon"
          ],
          [
           "Dead Man's Burden"
          ],
          [
           "Tamara"
          ],
          [
           "Battle of Britain"
          ],
          [
           "Connected"
          ],
          [
           "Twilight"
          ],
          [
           "The Shootist"
          ],
          [
           "Bounty Hunters"
          ],
          [
           "Charlie's Angels: Full Throttle"
          ],
          [
           "Underworld: Evolution"
          ],
          [
           "The Guardian"
          ],
          [
           "5ive Days to Midnight"
          ],
          [
           "Jungle"
          ],
          [
           "Eagle Eye"
          ],
          [
           "Backdraft"
          ],
          [
           "Monster Brawl"
          ],
          [
           "Kiss of Death"
          ],
          [
           "Death Becomes Her"
          ],
          [
           "Jesus Christ Vampire Hunter"
          ],
          [
           "Ucieczka z kina 'Wolnosc'"
          ],
          [
           "Pete's Dragon"
          ],
          [
           "G.I. Joe: Retaliation"
          ],
          [
           "Action Jackson"
          ],
          [
           "Dances with Wolves"
          ],
          [
           "The Jackal"
          ],
          [
           "Kill Bill: Vol. 2"
          ],
          [
           "Turn It Up"
          ],
          [
           "Detective Dee: Mystery of the Phantom Flame"
          ],
          [
           "A Dark Truth"
          ],
          [
           "Helen of Troy"
          ],
          [
           "Babine"
          ],
          [
           "Ashura-jè no hitomi"
          ],
          [
           "Fighting"
          ],
          [
           "Immortal (Ad Vitam)"
          ],
          [
           "Hell Ride"
          ],
          [
           "Nazareno Cruz and the Wolf"
          ],
          [
           "Singham Returns"
          ],
          [
           "Big Trouble in Little China"
          ],
          [
           "T-Rex: Back to the Cretaceous"
          ],
          [
           "The Matrix Reloaded"
          ],
          [
           "The Art of War II: Betrayal"
          ],
          [
           "Batman: Under the Red Hood"
          ],
          [
           "Kung Fu Panda"
          ],
          [
           "Jackie Chan's First Strike"
          ],
          [
           "At World's End"
          ],
          [
           "Cast a Deadly Spell"
          ],
          [
           "Gupt: The Hidden Truth"
          ],
          [
           "Snow on the Blades"
          ],
          [
           "Highway to Hell"
          ],
          [
           "The Myth"
          ],
          [
           "The Thief of Bagdad"
          ],
          [
           "Byzantium"
          ],
          [
           "The Tree of Life"
          ],
          [
           "Spooky Buddies"
          ],
          [
           "Becoming Bulletproof"
          ],
          [
           "Patlabor 2: The Movie"
          ],
          [
           "Percy Jackson: Sea of Monsters"
          ],
          [
           "The Amazing Spider-Man"
          ],
          [
           "That Man from Rio"
          ],
          [
           "Radioactive Dreams"
          ],
          [
           "Beauty and the Beast"
          ],
          [
           "The Pied Piper"
          ],
          [
           "Old Men in New Cars: In China They Eat Dogs II"
          ],
          [
           "Mr. Nobody"
          ],
          [
           "The Prodigal Son"
          ],
          [
           "Gulaab Gang"
          ],
          [
           "Thumbelina"
          ],
          [
           "Typhoon"
          ],
          [
           "Broken Arrow"
          ],
          [
           "Cinderella"
          ],
          [
           "The Five People You Meet in Heaven"
          ],
          [
           "Screamers"
          ],
          [
           "Premium Rush"
          ],
          [
           "The Last Airbender"
          ],
          [
           "Chura Liyaa Hai Tumne"
          ],
          [
           "Uppercut"
          ],
          [
           "La Antena"
          ],
          [
           "Rogue"
          ],
          [
           "The Wild Bunch"
          ],
          [
           "Outbreak"
          ],
          [
           "In the Name of the King: A Dungeon Siege Tale"
          ],
          [
           "Man of Steel"
          ],
          [
           "Ashes of Time"
          ],
          [
           "Freebie and the Bean"
          ],
          [
           "Air Force One"
          ],
          [
           "Die Hard 2"
          ],
          [
           "The Redwood Massacre"
          ],
          [
           "Outlander"
          ],
          [
           "Ghost"
          ],
          [
           "Fair Game"
          ],
          [
           "The Book of Eli"
          ],
          [
           "Don't Hug Me I'm Scared"
          ],
          [
           "Twelve"
          ],
          [
           "Nightfall"
          ],
          [
           "Xingu"
          ],
          [
           "Frog"
          ],
          [
           "Il piccolo diavolo"
          ],
          [
           "Batman Beyond: Return of the Joker"
          ],
          [
           "Pet Sematary II"
          ],
          [
           "Marvel One-Shot: Item 47"
          ],
          [
           "Invisible Target"
          ],
          [
           "Retroactive"
          ],
          [
           "Edward Scissorhands"
          ],
          [
           "Parker"
          ],
          [
           "Yuva"
          ],
          [
           "The Bourne Identity"
          ],
          [
           "Just My Luck"
          ],
          [
           "The Stone Raft"
          ],
          [
           "Turbulence"
          ],
          [
           "The Hole"
          ],
          [
           "Miracle in Milan"
          ],
          [
           "The Adventures of Tintin"
          ],
          [
           "Rough Cut"
          ],
          [
           "Harry Potter and the Prisoner of Azkaban"
          ],
          [
           "Foreign Land"
          ],
          [
           "A.C.A.B."
          ],
          [
           "Metalstorm: The Destruction of Jared-Syn"
          ],
          [
           "Bruce Almighty"
          ],
          [
           "Belladonna of Sadness"
          ],
          [
           "The Blood of Jesus"
          ],
          [
           "Red River"
          ],
          [
           "Battle Beyond the Stars"
          ],
          [
           "The Night Flier"
          ],
          [
           "Dreams"
          ],
          [
           "The Sandman"
          ],
          [
           "Ladyhawke"
          ],
          [
           "Taken"
          ],
          [
           "For Your Eyes Only"
          ],
          [
           "Into the West"
          ],
          [
           "Julia and Julia"
          ],
          [
           "Mistletoe Over Manhattan"
          ],
          [
           "Mighty Morphin Power Rangers: The Movie"
          ],
          [
           "Lawnmower Man 2: Beyond Cyberspace"
          ],
          [
           "Road House"
          ],
          [
           "Oh, God! You Devil"
          ],
          [
           "The Saratov Approach"
          ],
          [
           "Prancer"
          ],
          [
           "The Young Lions"
          ],
          [
           "Pain & Gain"
          ],
          [
           "Thou Gild'st the Even"
          ],
          [
           "Jungle Book"
          ],
          [
           "Thou Gild'st the Even"
          ],
          [
           "They Call Me Macho Woman!"
          ],
          [
           "Enter the Dragon"
          ],
          [
           "Rooftops"
          ],
          [
           "Guardians of the Galaxy"
          ],
          [
           "Colors"
          ],
          [
           "Fulltime Killer"
          ],
          [
           "Life of Pi"
          ],
          [
           "The Raid: Redemption"
          ],
          [
           "Predator"
          ],
          [
           "Secretly, Greatly"
          ],
          [
           "Shopping"
          ],
          [
           "Fantasia"
          ],
          [
           "Dagon"
          ],
          [
           "Dr. Wai in the Scriptures with No Words"
          ],
          [
           "Imaginaerum"
          ],
          [
           "Star Trek III: The Search for Spock"
          ],
          [
           "Woman on Top"
          ],
          [
           "The Memory of a Killer"
          ],
          [
           "Beverly Hills Cop"
          ],
          [
           "Bodyguards and Assassins"
          ],
          [
           "K-9: P.I."
          ],
          [
           "Kick-Heart"
          ],
          [
           "Escape"
          ],
          [
           "Sahara"
          ],
          [
           "Saamy"
          ],
          [
           "Police Story 2"
          ],
          [
           "Scanners II: The New Order"
          ]
         ],
         "hovertemplate": "0=%{x}<br>1=%{y}<br>2=%{z}<br>titles=%{customdata[0]}<br>Fantasy=%{marker.color}<extra></extra>",
         "legendgroup": "",
         "marker": {
          "color": [
           1,
           0,
           0,
           0,
           0,
           0,
           0,
           1,
           1,
           0,
           1,
           0,
           0,
           0,
           1,
           1,
           0,
           0,
           1,
           0,
           0,
           0,
           0,
           0,
           0,
           0,
           0,
           1,
           0,
           0,
           0,
           0,
           0,
           0,
           0,
           0,
           0,
           1,
           0,
           0,
           0,
           0,
           0,
           0,
           1,
           1,
           1,
           0,
           1,
           0,
           0,
           0,
           1,
           1,
           0,
           0,
           0,
           1,
           1,
           0,
           1,
           0,
           1,
           0,
           0,
           0,
           0,
           0,
           1,
           0,
           1,
           0,
           0,
           0,
           0,
           1,
           0,
           1,
           0,
           1,
           0,
           1,
           0,
           0,
           1,
           0,
           0,
           0,
           0,
           0,
           0,
           0,
           0,
           0,
           1,
           0,
           0,
           1,
           1,
           0,
           0,
           0,
           1,
           0,
           0,
           0,
           0,
           0,
           0,
           0,
           0,
           0,
           1,
           0,
           0,
           0,
           0,
           0,
           0,
           1,
           0,
           0,
           0,
           0,
           1,
           0,
           1,
           0,
           0,
           0,
           1,
           0,
           0,
           1,
           0,
           0,
           1,
           0,
           0,
           0,
           1,
           0,
           0,
           0,
           0,
           0,
           0,
           0,
           1,
           0,
           1,
           1,
           0,
           0,
           0,
           0,
           0,
           0,
           0,
           0,
           0,
           1,
           1,
           0,
           0,
           0,
           1,
           0,
           0,
           1,
           0,
           0,
           0,
           0,
           0,
           0,
           1,
           0,
           0,
           1,
           0,
           1,
           1,
           1,
           1,
           0,
           0,
           1,
           1,
           0,
           0,
           1,
           1,
           0,
           1,
           0,
           0,
           1,
           0,
           0,
           1,
           1,
           0,
           0,
           0,
           0,
           0,
           1,
           0,
           0,
           0,
           0,
           1,
           0,
           0,
           0,
           0,
           1,
           0,
           1,
           0,
           0,
           1,
           0,
           0,
           0,
           1,
           1,
           0,
           0,
           0,
           0,
           0,
           1,
           0,
           0,
           0,
           1,
           1,
           0,
           1,
           1,
           0,
           0,
           1,
           0,
           0,
           0,
           1,
           1,
           1,
           0,
           0,
           1,
           1,
           1,
           1,
           0,
           0,
           0,
           1,
           1,
           0,
           0,
           0,
           1,
           0,
           1,
           0,
           0,
           1,
           0,
           1,
           0,
           0,
           0,
           0,
           0,
           0,
           1,
           0,
           0,
           0,
           0,
           1,
           1,
           0,
           1,
           0,
           1,
           0,
           0,
           0,
           0,
           0,
           0,
           0,
           0,
           0,
           0
          ],
          "coloraxis": "coloraxis",
          "symbol": "circle"
         },
         "mode": "markers",
         "name": "",
         "scene": "scene",
         "showlegend": false,
         "type": "scatter3d",
         "x": [
          -0.1556825450469603,
          0.01529926551217644,
          -0.013629980143297513,
          0.05698973465247346,
          0.007568868937455779,
          0.05507595644024244,
          0.14452171295058563,
          -0.12784503320147203,
          -0.08668452051141148,
          0.11639017471999338,
          0.0022334314499016447,
          0.0429540141370861,
          -0.07667507570957899,
          0.03844676292892169,
          0.02064378178694396,
          -0.16134019029691182,
          -0.0327006723453309,
          0.023634951590051335,
          -0.044208527997964,
          0.04013268610980126,
          0.13750951932681352,
          -0.03282205095645817,
          -0.009343478254403896,
          0.10075051920441186,
          0.1462587743677019,
          -0.09933321877607248,
          0.008904463050453733,
          -0.20617686284976844,
          0.005946811454562086,
          0.10556747248530177,
          0.036585620672463674,
          -0.11423106537701719,
          -0.10068446973485744,
          0.09511707381623663,
          0.07272986741310383,
          0.1407712021598423,
          -0.05223210734900975,
          0.0072974135086125436,
          -0.06496348376594704,
          0.01785112215517478,
          0.11905716039840936,
          0.0055382933291112935,
          0.1256064228613034,
          0.12194084255959042,
          -0.16957308036776217,
          -0.19136238176835885,
          -0.024486440454751363,
          0.11791434944021262,
          -0.11282619671233324,
          -0.022666759346609562,
          0.024955938344434027,
          0.028145743228917143,
          -0.1519065812008846,
          -0.05094532489138473,
          0.04206253314046488,
          0.08403126849190701,
          0.07496803435981136,
          -0.13317291523762817,
          -0.040852059276211924,
          0.20670765696820392,
          -0.08369871811392175,
          0.027094087774012017,
          -0.13265254444885857,
          -0.04621434680416462,
          -0.01794924928693322,
          -0.027227789880124628,
          0.12388531133566069,
          -0.0008740729063543423,
          -0.043401205644315044,
          0.24729621557847775,
          -0.1182625159157292,
          0.05494898788202645,
          0.19516967115354844,
          -0.021009427132610448,
          -0.08204671415603537,
          -0.11898027760886057,
          0.041231208998011144,
          -0.08981446417016514,
          -0.028630839797813622,
          -0.15918172799650784,
          0.15766274826646248,
          -0.14508362235428934,
          -0.009236446663208886,
          -0.08035750409260074,
          -0.08970739657130711,
          0.060729801414126046,
          0.13066290972811076,
          -0.09678093329959903,
          -0.05122338951102139,
          0.07438399419361813,
          -0.06176220337923525,
          0.07778273205767786,
          0.020580156727975217,
          -0.041708811399651546,
          -0.1138799444525676,
          0.021804828674743003,
          0.10110405510850745,
          -0.024501829688791752,
          -0.1038809470790879,
          0.16414929230151945,
          0.15855972511189032,
          0.14809361684901295,
          -0.05539381091237768,
          0.10912254889731798,
          -0.007387598708319051,
          0.14767203119714384,
          -0.12072510567702274,
          0.030458235028569015,
          0.06644205071563913,
          0.09878959555956474,
          -0.00767673672947717,
          -0.07006654223980317,
          -0.0757671673314774,
          0.051579656483483095,
          -0.10203197188366325,
          -0.08064377763225249,
          0.0516154620026413,
          0.0759161950806703,
          0.1724209771944549,
          0.010883392336360466,
          -0.05666740598283404,
          -0.011931162217162485,
          0.14821121867645665,
          0.19603535951308748,
          -0.022379875549589985,
          -0.068528594229889,
          -0.15996682545907404,
          -0.10262580954933834,
          -0.03689253554284461,
          -0.0011944184075394632,
          -0.09109292199771846,
          0.1368162479224949,
          -0.039375189163944335,
          -0.06542227588765273,
          -0.004053660591547152,
          0.046916266925181284,
          -0.12136111459940677,
          0.08513830245686688,
          0.04584541073447517,
          0.13829019025329234,
          -0.05199424863932473,
          -0.015339452390924845,
          0.08781545526922219,
          -0.02651185685766848,
          0.019783098630566494,
          0.11085866796355903,
          -0.05788436671416732,
          0.20274668454053424,
          -0.08822044954923863,
          -0.030365148996988292,
          -0.016769291391716158,
          -0.1055824024025121,
          0.1136432666810896,
          0.1571152402632278,
          -0.025920769829597123,
          0.13989241787439588,
          0.016073409351249825,
          0.06376023418094648,
          0.08582837113229275,
          0.09979722197218174,
          -0.09778810106318178,
          -0.14763751594091049,
          -0.076288635162314,
          0.11934559094058417,
          -0.1293731232327844,
          0.11899798271440451,
          -0.1569741506152015,
          0.14341473587367387,
          0.006997029934571235,
          -0.12139670484889509,
          0.01481109567891064,
          0.13379962445824967,
          0.05905504996000666,
          -0.0849699782597606,
          0.12024432845367192,
          -0.06222735594811544,
          0.00022329377323439953,
          0.06284119598381319,
          0.024159885198116675,
          -0.07058266152282741,
          -0.07612569870259717,
          -0.019012059000082945,
          -0.05751616025334329,
          -0.05299759771619105,
          -0.10152611421588362,
          -0.05981915303739413,
          0.14388306458538172,
          -0.11898460990302559,
          -0.03998147634018255,
          0.007079015346055199,
          0.02242807518522274,
          -0.16063813594654971,
          -0.10398664464050845,
          -0.06067277722386715,
          -0.08727394195574995,
          -0.00754295057266445,
          0.009298643148087128,
          -0.22596126416929688,
          0.04638003498156277,
          0.02797725785339649,
          -0.1796406496733033,
          -0.004986623682628942,
          -0.032852251165376004,
          0.15023693870595417,
          -0.07994761778574977,
          -0.06855388384752906,
          0.014384946309342082,
          -0.053296439802900206,
          -0.0058125581042358515,
          0.09369811704673495,
          0.030341906462832878,
          -0.051356769065378144,
          -0.13544987187448798,
          0.0830702832133437,
          0.17097270236596346,
          0.09036354843909727,
          0.13597608660393296,
          -0.035312143419508016,
          -0.12428569860023128,
          -0.0372827414676157,
          0.14781027583661527,
          -0.04254160838082964,
          -0.09323744105673618,
          0.14522018957844646,
          0.08630823723329087,
          -0.08633724332309023,
          -0.14710375627693925,
          -0.09477344369272792,
          0.05698477702211787,
          -0.10831544107393543,
          0.13646225130284428,
          0.23569347142423297,
          -0.0014368386254690196,
          -0.060107647776310724,
          0.13733815257207505,
          -0.0006125780826656477,
          0.08099710517299444,
          -0.030404847969804936,
          -0.09395620415867995,
          0.09731822331042655,
          -0.059755168350792254,
          -0.18562754866476644,
          -0.03919522137917491,
          0.11665520833843512,
          -0.010926709317379137,
          -0.10374763487950488,
          0.1319355292074492,
          -0.037448911145822696,
          -0.0741152988108254,
          -0.16945626829830115,
          -0.034455234056501756,
          -0.028307636718587464,
          -0.024386406417756464,
          0.05547113067206754,
          -0.07487855533788093,
          -0.11992347856534635,
          -0.02311447657577491,
          0.06985751608687346,
          0.13628804236940195,
          -0.1074442785977078,
          -0.060361456287827464,
          -0.09305488381381925,
          -0.07270658463251815,
          -0.0005207485801705103,
          -0.0009067237775369011,
          -0.08267216056095233,
          0.04350309815472254,
          -0.1534970786333672,
          -0.02467854938212484,
          0.12664534625995513,
          -0.1553527939867823,
          -0.12394907996380744,
          -0.15533305541675155,
          -0.06418059503647695,
          0.11549949056835776,
          -0.024380766192068068,
          0.07967153332591753,
          0.2098461979034169,
          0.16131470430558445,
          -0.08252022250759652,
          0.1690442438244989,
          0.05890921348848579,
          0.030718562582735927,
          0.03550439072236574,
          -0.12305163946897935,
          -0.10560073228628898,
          -0.0781200968009941,
          -0.06696180840638784,
          0.03683519028951349,
          -0.04032266799227588,
          0.1365102013118889,
          0.1501107717571597,
          0.03476115098269799,
          0.12868729627788722,
          -0.042421852568527395,
          -0.15683589032387804,
          0.006537243750895795,
          0.07650148751454822,
          0.20470874212779172,
          0.09693234946706408
         ],
         "y": [
          0.005990830589190272,
          -0.14686840235255827,
          -0.060079664474862696,
          -0.039465662306996774,
          -0.1069190441107735,
          0.00957746441036919,
          -0.01658343660007132,
          -0.08130877891332809,
          -0.07953321369984173,
          0.042366396375194806,
          0.14762027788046267,
          -0.06318395603298103,
          0.09106280550203932,
          0.048503379142597294,
          -0.045198062072540804,
          -0.1656686142937101,
          -0.0756753848449343,
          -0.06655923592281751,
          0.10051419771416151,
          -0.01512412370999799,
          -0.02431089688030469,
          -0.0820079805957555,
          0.11705458278153803,
          -0.02662418132192735,
          0.07744820957480125,
          -0.06430906276134266,
          0.10901865936658982,
          0.0720516383345132,
          -0.09068506308236347,
          -0.05999430210347573,
          -0.02458508979180378,
          0.014078597926791782,
          0.06976823587931794,
          0.07954390821228878,
          -0.07275778810026977,
          0.0031340391168594994,
          0.031589962281570766,
          0.08602388132197687,
          0.14062860706548874,
          -0.0666599409364817,
          0.08082727508632016,
          -0.07340214823257125,
          -0.13964473060578753,
          -0.07467129623941192,
          -0.060034898689160704,
          0.002494876941751916,
          0.05146729856215753,
          -0.025149456768892894,
          -0.1480473075746373,
          -0.0635446077955875,
          0.1111587907770681,
          -0.06917812593747655,
          0.15728554261022804,
          0.025675561577558327,
          0.04535962128277603,
          0.10678813801213999,
          -0.09884829231862556,
          -0.172227413372047,
          0.11132121367145079,
          0.011393017555199789,
          -0.18843036076607544,
          0.15841857866774517,
          -0.024321630429596806,
          -0.015307031675804453,
          0.03802125619610114,
          0.2036286634121851,
          -0.03517177939457076,
          -0.08906904109760024,
          -0.05041622145501472,
          0.008701128489023862,
          0.0608597852575144,
          0.0009518728014216802,
          0.008530727421019107,
          -0.09932962821484907,
          -0.006024013400484272,
          0.06718015083898418,
          0.07988271256612904,
          0.06270268081747564,
          -0.11720305132755678,
          0.14119088570172006,
          -0.008083785621715363,
          0.10246695659734445,
          0.16692534682341975,
          0.19327050750651925,
          0.03161973482650583,
          0.007253156490780793,
          -0.02967992239133034,
          -0.038151023986920066,
          0.11376256427158467,
          0.10408156070184102,
          -0.04873279841674613,
          0.15542193436520524,
          -0.09082539122754188,
          -0.0521122244005906,
          -0.09700861484578285,
          -0.007294919516015214,
          0.011349475910278885,
          0.07066815120690971,
          -0.10746059380285032,
          0.011031745775163818,
          0.025480956892452215,
          0.03947782840747237,
          -0.20802569138156818,
          0.06790359429943346,
          -0.04934338410709371,
          0.011429668015512751,
          -0.16735629951376718,
          0.05562295429441645,
          0.09632682133087711,
          -0.037117213607408495,
          -0.045798256767977025,
          -0.061406401850980966,
          -0.027964725096378693,
          -0.10694967069286614,
          0.05853838053270337,
          -0.09147015533048679,
          0.02682004749440841,
          -0.040138861427383585,
          0.034550133026203356,
          -0.12604982694315386,
          -0.10067812012625395,
          -0.045934479887018605,
          0.056740077700965806,
          0.015486973615301623,
          0.11101447953429981,
          0.06991680334090636,
          0.02457961241533399,
          -0.04294561304117041,
          -0.06518225289539425,
          -0.06747036746447241,
          0.08256648393494657,
          0.05194661485553774,
          -0.02859574573587695,
          0.09095109850964232,
          -0.12900884330130968,
          0.1131128228225554,
          0.07765691690538877,
          -0.041491761328825975,
          -0.11246583737663667,
          0.0793953104828645,
          -0.0822887953108696,
          0.026344930832178228,
          0.09051873494888345,
          0.009958435232502961,
          0.11376037273084569,
          0.013797377193343716,
          -0.11606349213354976,
          0.06737724997932315,
          0.05435064877803129,
          -0.10104947684389463,
          0.009241589086956714,
          -0.07059650346710984,
          -0.1480457802936101,
          0.0310801905642751,
          -0.08167137749250111,
          -0.041323363537056325,
          0.050537455873430344,
          0.061580052131879746,
          -0.029470441571099626,
          0.08777957149393009,
          -0.04014938331410278,
          0.09350152915937912,
          -0.09631462073829353,
          0.013361462079409268,
          -0.05371852106123795,
          -0.06970849262169063,
          0.02112310097484823,
          0.034367381364976295,
          -0.07916223786048522,
          0.0005823649228742026,
          -0.12510839690387615,
          -0.019838764221171375,
          -0.04956312856716766,
          -0.12082128649966863,
          -0.04499401527500764,
          0.0022123116800685065,
          0.008680660863762926,
          0.06711313426138528,
          -0.08731013072823839,
          0.08832685862310373,
          -0.055314038180436176,
          -0.07193871930653105,
          0.0788234056912675,
          0.06989589161353231,
          0.010433693049677471,
          -0.019857538271995163,
          -0.05228242357978985,
          -0.11385953618071044,
          -0.004611126869289484,
          0.05542296171628454,
          -0.014934732132149298,
          0.05353165062802384,
          0.03964019012974676,
          0.0488615561955169,
          0.07219156833585944,
          -0.04568350624355785,
          0.08885292301997606,
          0.007349727214540995,
          -0.14589793808621904,
          -0.003267198670127258,
          0.050929044622556395,
          0.08458437324359763,
          -0.17430072407261193,
          0.08825096915450885,
          -0.16904306426359333,
          0.1300456599507669,
          -0.008524641576431794,
          0.09645995333293715,
          -0.024330094061737376,
          -0.0664483208110288,
          -0.014994581138091278,
          -0.10307693130844746,
          0.09917390565613193,
          -0.06041890005865244,
          0.04177196561921975,
          -0.06454864014160105,
          -0.06180442232361799,
          0.010347433721182022,
          -0.1650411836836555,
          0.11449215839135105,
          0.03509888821488367,
          -0.1245220136245603,
          0.037355502925633666,
          0.10015412402426395,
          0.12580324105449386,
          -0.0664280486330505,
          0.03327631730325743,
          0.09576583668883099,
          -0.053178606845577056,
          0.0016627822355123455,
          -0.03303772397066051,
          -0.03130647633633239,
          0.131597958777588,
          0.05983074064839342,
          0.02112392312874639,
          0.05508255349879564,
          -0.020905078042191626,
          0.19456235743510808,
          0.020661215925560392,
          0.04551949889845171,
          0.03146537126695313,
          0.11824017378177382,
          -0.07428655116493811,
          0.04453667875614857,
          -0.029222429824304,
          0.09456167048091985,
          0.04897161109956856,
          -0.17903954157820873,
          -0.0362981684256863,
          0.035535994589295995,
          0.1036267524711512,
          -0.062141748135095834,
          -0.18259977402406047,
          0.04470952093654156,
          -0.04193523466234041,
          0.05894020441411346,
          0.008571895688052885,
          0.051330396419612075,
          -0.07514141948154009,
          0.01657434931743786,
          0.20290116863973134,
          0.09589989453301133,
          -0.1628747652710093,
          -0.017233330707437933,
          0.15215809071287684,
          0.009802416975056658,
          0.02248565190581946,
          0.0643201959291247,
          -0.002724020472618865,
          0.027974092601939074,
          0.08261599004585862,
          -0.026558658333391535,
          0.08268015429044562,
          0.04034444622074458,
          -0.05479654021396245,
          -0.003663371311719045,
          -0.1975731733427824,
          0.04972243646174252,
          -0.001210566757941161,
          -0.05308910547392691,
          -0.024426437540560425,
          -0.17772697547594524,
          -0.02369519761099529,
          0.04484178649163125,
          -0.02701490705368781,
          -0.005467867802650704,
          -0.03465647713990053,
          -0.009472587653525273,
          -0.12265848702259936,
          0.15214474740365486,
          0.11030211129635413,
          0.11192446956742225,
          -0.05955884738343309,
          0.033729048664476305,
          0.07711948260951704,
          0.024532492804010674,
          -0.07924913463804492,
          0.09506451224769,
          -0.045293649607241304,
          -0.08373227079953205
         ],
         "z": [
          0.04226753681193464,
          -0.08549546981153835,
          0.1933355007459384,
          -0.05868676720749752,
          -0.08474823183785081,
          0.07930905143569916,
          -0.06868251324211941,
          0.011769032755202294,
          -0.03922655202186705,
          -0.026696741353700662,
          -0.12100760311213336,
          -0.040586761059207714,
          -0.046509568022391284,
          0.06151463303567586,
          -0.023339501191531047,
          -0.008491345246201135,
          0.04951545113943524,
          0.06514095564487654,
          0.06394297050116482,
          0.056282973124762534,
          0.006681130811427627,
          0.12813282224844885,
          -0.09026175983707066,
          -0.013903456097852205,
          -0.019502136132198235,
          -0.011857543332278031,
          0.021953362991885973,
          0.018225635214064492,
          0.17555073411575897,
          -0.1210032501160427,
          0.006697759001284623,
          0.10228243068887499,
          -0.02527294111382833,
          -0.03545723172238729,
          0.028787433090411756,
          0.0855903374958325,
          0.12194258460502856,
          0.0336458045186322,
          -0.12103973385086027,
          0.03806673771320984,
          0.09241037948822022,
          0.035867534990787334,
          -0.1170067301326725,
          0.03349490670942043,
          -0.0007161540263216724,
          0.026082117371497647,
          0.0039681654365487685,
          -0.06704975779832834,
          -0.03142818759027188,
          0.06972973088312849,
          0.05300382000795745,
          0.0032980209070695623,
          -0.10531801840521238,
          -0.13241890994883515,
          0.06974115935247753,
          0.0098366118160031,
          0.017916275884298512,
          -0.031265631577106566,
          0.019717948739173173,
          0.04396055741299564,
          -0.031111095717894492,
          0.011761407662330338,
          0.07300371032106893,
          -0.0250318833156115,
          0.18831418589931448,
          0.024236816900894888,
          0.10600348650569223,
          -0.12959708146398896,
          -0.014689079522082935,
          0.06207144083436961,
          0.004355492500695439,
          0.05222418383706913,
          -0.0026577087245422265,
          0.06620664997109683,
          0.1270015871580983,
          -0.00031462453581472885,
          0.08577149983980205,
          -0.030036725960045182,
          0.06525403742643564,
          -0.01401275386096216,
          0.028105237500579403,
          -0.11126773234794271,
          0.044278813145982046,
          0.010701213098231209,
          0.1767196896756414,
          0.06564031212930675,
          -0.07976130474703405,
          0.11469838078426016,
          -0.052113967537174774,
          0.005505736402887741,
          0.07838673079905138,
          -0.10843665442974547,
          0.11859998465613862,
          -0.10771059978848915,
          0.1981056847076444,
          -0.03615520470169643,
          0.0640165959576185,
          0.04028194551884046,
          -0.06136481634976562,
          -0.0005271771983639904,
          -0.043906998446024637,
          0.05100344684895622,
          0.04119042190902272,
          -0.010851636748295196,
          -0.19248738070210145,
          -0.016722963081493902,
          -0.025246004202886016,
          0.03540172521824037,
          0.06915875935069188,
          -0.06629402187154697,
          -0.02553224188454241,
          0.1829476563628427,
          -0.2120321933393724,
          0.12633002519915215,
          0.10677978109688213,
          -0.1077263128827279,
          0.12635972717738556,
          0.11384855441011299,
          -0.08742500548306252,
          0.019741350253146703,
          -0.11843196025579018,
          0.09303409853908161,
          -0.0738671763289587,
          -0.023390422480735612,
          0.09527892353156486,
          -0.06242063394291149,
          -0.012238516231007733,
          -0.0640460370156458,
          0.05401251423647312,
          -0.08905923595014116,
          0.010370185132906114,
          0.09432224395311077,
          0.17817361082671002,
          -0.0836575086976163,
          -0.04384464113255087,
          -0.13920523149103473,
          -0.09721705863286555,
          0.02967764894338394,
          0.03209368524349165,
          -0.10197418106771416,
          -0.06233132933359882,
          0.02027734782245924,
          -0.08343821106239799,
          -0.012363643920974257,
          -0.0696510674604804,
          0.01572931275001327,
          -0.07080218959607702,
          -0.00422608274912345,
          -0.13036899344199188,
          0.1195178478436625,
          0.07410964219297368,
          0.012221235554571332,
          -0.02393384272079766,
          0.05352338200680663,
          0.04023279427549675,
          -0.04390000112768265,
          -0.05415754082039766,
          0.06891038947247573,
          -0.03515034283554889,
          -0.03244922451618217,
          -0.05106831414050914,
          -0.1090188672220462,
          0.10109116478639364,
          0.09959425465420467,
          -0.0940290637855584,
          0.0556320189753219,
          0.04857342318667313,
          0.025630722102999527,
          0.048540344390537615,
          -0.059401849876359394,
          -0.09929434640083361,
          -0.04947369959366664,
          -0.06981481904466622,
          0.07150982125645289,
          -0.056250345118362216,
          0.037729370129366474,
          -0.06519126138270122,
          0.02310070643621208,
          0.0736331891262665,
          -0.11423089033768935,
          0.035077997166264314,
          0.03724727772244451,
          -0.09595363714524975,
          0.11726633628165938,
          -0.11475581680368242,
          0.12469715984498211,
          -0.04029112248255547,
          -0.07942417794989466,
          -0.10755371595927102,
          0.026616540841245102,
          -0.011315508524569825,
          -0.01739653240766851,
          -0.005885038531372516,
          0.04016688228573186,
          -0.009485491519262748,
          0.199010288454373,
          -0.026871366431075752,
          -0.07579295449852325,
          -0.0399681666602859,
          0.02755635635185192,
          -0.017918894898769043,
          -0.005322873170642698,
          -0.1239445023065859,
          0.021408907387023828,
          0.04734086762036489,
          0.06911500761415217,
          0.09172997033079164,
          0.08066879631921316,
          -0.05343110092770735,
          0.07467982931026292,
          -0.1485134912635038,
          -0.038640501903009404,
          0.04914758786031488,
          0.034306829433462194,
          -0.037475324197856735,
          -0.052240395123164224,
          -0.04434052982543622,
          -0.04599688629454838,
          -0.031238602735937426,
          -0.06766843472834089,
          -0.0465910218028422,
          -0.020666938633757688,
          -0.035373058697883354,
          0.08730663837993831,
          -0.09293876078226727,
          0.13836203538872563,
          -0.08064301191641886,
          -0.01214486503729059,
          -0.061762413777164515,
          -0.042030205247828425,
          -0.09142396659826414,
          0.008675246401295586,
          -0.12917946460433752,
          0.05190203253435599,
          -0.0022010963955235354,
          0.14371960089653818,
          -0.027207140922247047,
          0.013296775077000519,
          -0.03998410921534069,
          -0.13339859983656105,
          0.007917659868035032,
          -0.00014990507545666228,
          -0.06200486428922826,
          0.10715129956196524,
          -0.09200830454187281,
          0.08402691556412392,
          0.09434924992254917,
          -0.03647125221731701,
          -0.04041237896241817,
          -0.08457371841257968,
          -0.07267315859057072,
          0.12091631601493995,
          -0.027430736759798978,
          -0.18544153004155897,
          0.08339724613240944,
          0.004151363490070725,
          0.019349995855803347,
          -0.041078273633086575,
          -0.12608795095817,
          0.1718238452487544,
          0.000786964123220147,
          -0.07954952437313514,
          -0.10110329431387167,
          -0.07485873247276173,
          0.016921896050555798,
          -0.020658200693994717,
          -0.03579779187765628,
          -0.01130325512341212,
          0.04046231007329336,
          0.0012708754741067307,
          0.09505317886789143,
          0.02576839960745303,
          0.09513511605939855,
          -0.035725774422197584,
          -0.023368046888089966,
          0.1300856680898076,
          -0.047799964228072395,
          0.07125785551646488,
          0.008897741496740514,
          0.01089921582982402,
          -0.005496407020907685,
          -0.05621914083446615,
          0.05477552882440499,
          0.08631645566443617,
          0.09765189496685701,
          -0.08075178274637972,
          0.01285737242258164,
          -0.032212990968148766,
          -0.12484941827986483,
          -0.02247933640175668,
          -0.021657183696654654,
          0.02769875998161786,
          0.1252136097538637,
          -0.03212023399372881,
          0.003937853189449182,
          -0.07743213765194511,
          -0.040377139255018096,
          0.07745843894125135,
          0.021492697982391618,
          -0.1275666003685826
         ]
        },
        {
         "marker": {
          "color": "orange"
         },
         "name": "origin (0,0,0)",
         "type": "scatter3d",
         "x": [
          0
         ],
         "y": [
          0
         ],
         "z": [
          0
         ]
        }
       ],
       "layout": {
        "coloraxis": {
         "colorbar": {
          "title": {
           "text": "Fantasy"
          }
         },
         "colorscale": [
          [
           0,
           "#0d0887"
          ],
          [
           0.1111111111111111,
           "#46039f"
          ],
          [
           0.2222222222222222,
           "#7201a8"
          ],
          [
           0.3333333333333333,
           "#9c179e"
          ],
          [
           0.4444444444444444,
           "#bd3786"
          ],
          [
           0.5555555555555556,
           "#d8576b"
          ],
          [
           0.6666666666666666,
           "#ed7953"
          ],
          [
           0.7777777777777778,
           "#fb9f3a"
          ],
          [
           0.8888888888888888,
           "#fdca26"
          ],
          [
           1,
           "#f0f921"
          ]
         ]
        },
        "legend": {
         "tracegroupgap": 0
        },
        "margin": {
         "t": 60
        },
        "scene": {
         "domain": {
          "x": [
           0,
           1
          ],
          "y": [
           0,
           1
          ]
         },
         "xaxis": {
          "title": {
           "text": "0"
          }
         },
         "yaxis": {
          "title": {
           "text": "1"
          }
         },
         "zaxis": {
          "title": {
           "text": "2"
          }
         }
        },
        "template": {
         "data": {
          "bar": [
           {
            "error_x": {
             "color": "#2a3f5f"
            },
            "error_y": {
             "color": "#2a3f5f"
            },
            "marker": {
             "line": {
              "color": "#E5ECF6",
              "width": 0.5
             },
             "pattern": {
              "fillmode": "overlay",
              "size": 10,
              "solidity": 0.2
             }
            },
            "type": "bar"
           }
          ],
          "barpolar": [
           {
            "marker": {
             "line": {
              "color": "#E5ECF6",
              "width": 0.5
             },
             "pattern": {
              "fillmode": "overlay",
              "size": 10,
              "solidity": 0.2
             }
            },
            "type": "barpolar"
           }
          ],
          "carpet": [
           {
            "aaxis": {
             "endlinecolor": "#2a3f5f",
             "gridcolor": "white",
             "linecolor": "white",
             "minorgridcolor": "white",
             "startlinecolor": "#2a3f5f"
            },
            "baxis": {
             "endlinecolor": "#2a3f5f",
             "gridcolor": "white",
             "linecolor": "white",
             "minorgridcolor": "white",
             "startlinecolor": "#2a3f5f"
            },
            "type": "carpet"
           }
          ],
          "choropleth": [
           {
            "colorbar": {
             "outlinewidth": 0,
             "ticks": ""
            },
            "type": "choropleth"
           }
          ],
          "contour": [
           {
            "colorbar": {
             "outlinewidth": 0,
             "ticks": ""
            },
            "colorscale": [
             [
              0,
              "#0d0887"
             ],
             [
              0.1111111111111111,
              "#46039f"
             ],
             [
              0.2222222222222222,
              "#7201a8"
             ],
             [
              0.3333333333333333,
              "#9c179e"
             ],
             [
              0.4444444444444444,
              "#bd3786"
             ],
             [
              0.5555555555555556,
              "#d8576b"
             ],
             [
              0.6666666666666666,
              "#ed7953"
             ],
             [
              0.7777777777777778,
              "#fb9f3a"
             ],
             [
              0.8888888888888888,
              "#fdca26"
             ],
             [
              1,
              "#f0f921"
             ]
            ],
            "type": "contour"
           }
          ],
          "contourcarpet": [
           {
            "colorbar": {
             "outlinewidth": 0,
             "ticks": ""
            },
            "type": "contourcarpet"
           }
          ],
          "heatmap": [
           {
            "colorbar": {
             "outlinewidth": 0,
             "ticks": ""
            },
            "colorscale": [
             [
              0,
              "#0d0887"
             ],
             [
              0.1111111111111111,
              "#46039f"
             ],
             [
              0.2222222222222222,
              "#7201a8"
             ],
             [
              0.3333333333333333,
              "#9c179e"
             ],
             [
              0.4444444444444444,
              "#bd3786"
             ],
             [
              0.5555555555555556,
              "#d8576b"
             ],
             [
              0.6666666666666666,
              "#ed7953"
             ],
             [
              0.7777777777777778,
              "#fb9f3a"
             ],
             [
              0.8888888888888888,
              "#fdca26"
             ],
             [
              1,
              "#f0f921"
             ]
            ],
            "type": "heatmap"
           }
          ],
          "heatmapgl": [
           {
            "colorbar": {
             "outlinewidth": 0,
             "ticks": ""
            },
            "colorscale": [
             [
              0,
              "#0d0887"
             ],
             [
              0.1111111111111111,
              "#46039f"
             ],
             [
              0.2222222222222222,
              "#7201a8"
             ],
             [
              0.3333333333333333,
              "#9c179e"
             ],
             [
              0.4444444444444444,
              "#bd3786"
             ],
             [
              0.5555555555555556,
              "#d8576b"
             ],
             [
              0.6666666666666666,
              "#ed7953"
             ],
             [
              0.7777777777777778,
              "#fb9f3a"
             ],
             [
              0.8888888888888888,
              "#fdca26"
             ],
             [
              1,
              "#f0f921"
             ]
            ],
            "type": "heatmapgl"
           }
          ],
          "histogram": [
           {
            "marker": {
             "pattern": {
              "fillmode": "overlay",
              "size": 10,
              "solidity": 0.2
             }
            },
            "type": "histogram"
           }
          ],
          "histogram2d": [
           {
            "colorbar": {
             "outlinewidth": 0,
             "ticks": ""
            },
            "colorscale": [
             [
              0,
              "#0d0887"
             ],
             [
              0.1111111111111111,
              "#46039f"
             ],
             [
              0.2222222222222222,
              "#7201a8"
             ],
             [
              0.3333333333333333,
              "#9c179e"
             ],
             [
              0.4444444444444444,
              "#bd3786"
             ],
             [
              0.5555555555555556,
              "#d8576b"
             ],
             [
              0.6666666666666666,
              "#ed7953"
             ],
             [
              0.7777777777777778,
              "#fb9f3a"
             ],
             [
              0.8888888888888888,
              "#fdca26"
             ],
             [
              1,
              "#f0f921"
             ]
            ],
            "type": "histogram2d"
           }
          ],
          "histogram2dcontour": [
           {
            "colorbar": {
             "outlinewidth": 0,
             "ticks": ""
            },
            "colorscale": [
             [
              0,
              "#0d0887"
             ],
             [
              0.1111111111111111,
              "#46039f"
             ],
             [
              0.2222222222222222,
              "#7201a8"
             ],
             [
              0.3333333333333333,
              "#9c179e"
             ],
             [
              0.4444444444444444,
              "#bd3786"
             ],
             [
              0.5555555555555556,
              "#d8576b"
             ],
             [
              0.6666666666666666,
              "#ed7953"
             ],
             [
              0.7777777777777778,
              "#fb9f3a"
             ],
             [
              0.8888888888888888,
              "#fdca26"
             ],
             [
              1,
              "#f0f921"
             ]
            ],
            "type": "histogram2dcontour"
           }
          ],
          "mesh3d": [
           {
            "colorbar": {
             "outlinewidth": 0,
             "ticks": ""
            },
            "type": "mesh3d"
           }
          ],
          "parcoords": [
           {
            "line": {
             "colorbar": {
              "outlinewidth": 0,
              "ticks": ""
             }
            },
            "type": "parcoords"
           }
          ],
          "pie": [
           {
            "automargin": true,
            "type": "pie"
           }
          ],
          "scatter": [
           {
            "fillpattern": {
             "fillmode": "overlay",
             "size": 10,
             "solidity": 0.2
            },
            "type": "scatter"
           }
          ],
          "scatter3d": [
           {
            "line": {
             "colorbar": {
              "outlinewidth": 0,
              "ticks": ""
             }
            },
            "marker": {
             "colorbar": {
              "outlinewidth": 0,
              "ticks": ""
             }
            },
            "type": "scatter3d"
           }
          ],
          "scattercarpet": [
           {
            "marker": {
             "colorbar": {
              "outlinewidth": 0,
              "ticks": ""
             }
            },
            "type": "scattercarpet"
           }
          ],
          "scattergeo": [
           {
            "marker": {
             "colorbar": {
              "outlinewidth": 0,
              "ticks": ""
             }
            },
            "type": "scattergeo"
           }
          ],
          "scattergl": [
           {
            "marker": {
             "colorbar": {
              "outlinewidth": 0,
              "ticks": ""
             }
            },
            "type": "scattergl"
           }
          ],
          "scattermapbox": [
           {
            "marker": {
             "colorbar": {
              "outlinewidth": 0,
              "ticks": ""
             }
            },
            "type": "scattermapbox"
           }
          ],
          "scatterpolar": [
           {
            "marker": {
             "colorbar": {
              "outlinewidth": 0,
              "ticks": ""
             }
            },
            "type": "scatterpolar"
           }
          ],
          "scatterpolargl": [
           {
            "marker": {
             "colorbar": {
              "outlinewidth": 0,
              "ticks": ""
             }
            },
            "type": "scatterpolargl"
           }
          ],
          "scatterternary": [
           {
            "marker": {
             "colorbar": {
              "outlinewidth": 0,
              "ticks": ""
             }
            },
            "type": "scatterternary"
           }
          ],
          "surface": [
           {
            "colorbar": {
             "outlinewidth": 0,
             "ticks": ""
            },
            "colorscale": [
             [
              0,
              "#0d0887"
             ],
             [
              0.1111111111111111,
              "#46039f"
             ],
             [
              0.2222222222222222,
              "#7201a8"
             ],
             [
              0.3333333333333333,
              "#9c179e"
             ],
             [
              0.4444444444444444,
              "#bd3786"
             ],
             [
              0.5555555555555556,
              "#d8576b"
             ],
             [
              0.6666666666666666,
              "#ed7953"
             ],
             [
              0.7777777777777778,
              "#fb9f3a"
             ],
             [
              0.8888888888888888,
              "#fdca26"
             ],
             [
              1,
              "#f0f921"
             ]
            ],
            "type": "surface"
           }
          ],
          "table": [
           {
            "cells": {
             "fill": {
              "color": "#EBF0F8"
             },
             "line": {
              "color": "white"
             }
            },
            "header": {
             "fill": {
              "color": "#C8D4E3"
             },
             "line": {
              "color": "white"
             }
            },
            "type": "table"
           }
          ]
         },
         "layout": {
          "annotationdefaults": {
           "arrowcolor": "#2a3f5f",
           "arrowhead": 0,
           "arrowwidth": 1
          },
          "autotypenumbers": "strict",
          "coloraxis": {
           "colorbar": {
            "outlinewidth": 0,
            "ticks": ""
           }
          },
          "colorscale": {
           "diverging": [
            [
             0,
             "#8e0152"
            ],
            [
             0.1,
             "#c51b7d"
            ],
            [
             0.2,
             "#de77ae"
            ],
            [
             0.3,
             "#f1b6da"
            ],
            [
             0.4,
             "#fde0ef"
            ],
            [
             0.5,
             "#f7f7f7"
            ],
            [
             0.6,
             "#e6f5d0"
            ],
            [
             0.7,
             "#b8e186"
            ],
            [
             0.8,
             "#7fbc41"
            ],
            [
             0.9,
             "#4d9221"
            ],
            [
             1,
             "#276419"
            ]
           ],
           "sequential": [
            [
             0,
             "#0d0887"
            ],
            [
             0.1111111111111111,
             "#46039f"
            ],
            [
             0.2222222222222222,
             "#7201a8"
            ],
            [
             0.3333333333333333,
             "#9c179e"
            ],
            [
             0.4444444444444444,
             "#bd3786"
            ],
            [
             0.5555555555555556,
             "#d8576b"
            ],
            [
             0.6666666666666666,
             "#ed7953"
            ],
            [
             0.7777777777777778,
             "#fb9f3a"
            ],
            [
             0.8888888888888888,
             "#fdca26"
            ],
            [
             1,
             "#f0f921"
            ]
           ],
           "sequentialminus": [
            [
             0,
             "#0d0887"
            ],
            [
             0.1111111111111111,
             "#46039f"
            ],
            [
             0.2222222222222222,
             "#7201a8"
            ],
            [
             0.3333333333333333,
             "#9c179e"
            ],
            [
             0.4444444444444444,
             "#bd3786"
            ],
            [
             0.5555555555555556,
             "#d8576b"
            ],
            [
             0.6666666666666666,
             "#ed7953"
            ],
            [
             0.7777777777777778,
             "#fb9f3a"
            ],
            [
             0.8888888888888888,
             "#fdca26"
            ],
            [
             1,
             "#f0f921"
            ]
           ]
          },
          "colorway": [
           "#636efa",
           "#EF553B",
           "#00cc96",
           "#ab63fa",
           "#FFA15A",
           "#19d3f3",
           "#FF6692",
           "#B6E880",
           "#FF97FF",
           "#FECB52"
          ],
          "font": {
           "color": "#2a3f5f"
          },
          "geo": {
           "bgcolor": "white",
           "lakecolor": "white",
           "landcolor": "#E5ECF6",
           "showlakes": true,
           "showland": true,
           "subunitcolor": "white"
          },
          "hoverlabel": {
           "align": "left"
          },
          "hovermode": "closest",
          "mapbox": {
           "style": "light"
          },
          "paper_bgcolor": "white",
          "plot_bgcolor": "#E5ECF6",
          "polar": {
           "angularaxis": {
            "gridcolor": "white",
            "linecolor": "white",
            "ticks": ""
           },
           "bgcolor": "#E5ECF6",
           "radialaxis": {
            "gridcolor": "white",
            "linecolor": "white",
            "ticks": ""
           }
          },
          "scene": {
           "xaxis": {
            "backgroundcolor": "#E5ECF6",
            "gridcolor": "white",
            "gridwidth": 2,
            "linecolor": "white",
            "showbackground": true,
            "ticks": "",
            "zerolinecolor": "white"
           },
           "yaxis": {
            "backgroundcolor": "#E5ECF6",
            "gridcolor": "white",
            "gridwidth": 2,
            "linecolor": "white",
            "showbackground": true,
            "ticks": "",
            "zerolinecolor": "white"
           },
           "zaxis": {
            "backgroundcolor": "#E5ECF6",
            "gridcolor": "white",
            "gridwidth": 2,
            "linecolor": "white",
            "showbackground": true,
            "ticks": "",
            "zerolinecolor": "white"
           }
          },
          "shapedefaults": {
           "line": {
            "color": "#2a3f5f"
           }
          },
          "ternary": {
           "aaxis": {
            "gridcolor": "white",
            "linecolor": "white",
            "ticks": ""
           },
           "baxis": {
            "gridcolor": "white",
            "linecolor": "white",
            "ticks": ""
           },
           "bgcolor": "#E5ECF6",
           "caxis": {
            "gridcolor": "white",
            "linecolor": "white",
            "ticks": ""
           }
          },
          "title": {
           "x": 0.05
          },
          "xaxis": {
           "automargin": true,
           "gridcolor": "white",
           "linecolor": "white",
           "ticks": "",
           "title": {
            "standoff": 15
           },
           "zerolinecolor": "white",
           "zerolinewidth": 2
          },
          "yaxis": {
           "automargin": true,
           "gridcolor": "white",
           "linecolor": "white",
           "ticks": "",
           "title": {
            "standoff": 15
           },
           "zerolinecolor": "white",
           "zerolinewidth": 2
          }
         }
        }
       }
      },
      "text/html": [
       "<div>                            <div id=\"76ba025b-c705-4e7a-bd32-278c84503c48\" class=\"plotly-graph-div\" style=\"height:525px; width:100%;\"></div>            <script type=\"text/javascript\">                require([\"plotly\"], function(Plotly) {                    window.PLOTLYENV=window.PLOTLYENV || {};                                    if (document.getElementById(\"76ba025b-c705-4e7a-bd32-278c84503c48\")) {                    Plotly.newPlot(                        \"76ba025b-c705-4e7a-bd32-278c84503c48\",                        [{\"customdata\":[[\"Orlando\"],[\"Small Soldiers\"],[\"Lone Rider\"],[\"High Noon\"],[\"Devil's Playground\"],[\"Detective K: Secret of Virtuous Widow\"],[\"Fast & Furious 6\"],[\"The Legend of Hercules\"],[\"Brightness\"],[\"Erased\"],[\"Ghost\"],[\"Where Eagles Dare\"],[\"The Horse Whisperer\"],[\"Stealing Rembrandt\"],[\"Hancock\"],[\"Jack the Giant Slayer\"],[\"Spartacus\"],[\"Ong-bak\"],[\"The Milagro Beanfield War\"],[\"Tracker\"],[\"U.S. Marshals\"],[\"Ong-bak 3\"],[\"The Island\"],[\"xXx: State of the Union\"],[\"Smokin' Aces\"],[\"Agency of Vengeance: Dark Rising\"],[\"Point Blank\"],[\"The Slipper and the Rose: The Story of Cinderella\"],[\"Tae Guk Gi: The Brotherhood of War\"],[\"Haywire\"],[\"Four Brothers\"],[\"Antonio das Mortes\"],[\"Titanic\"],[\"The Chaperone\"],[\"Hot Shots! Part Deux\"],[\"The Great Northfield Minnesota Raid\"],[\"The Sheepman\"],[\"Here Comes Mr. Jordan\"],[\"Flightplan\"],[\"Gladiator\"],[\"Shootout at Lokhandwala\"],[\"Saints and Soldiers\"],[\"Cowboy Bebop: The Movie\"],[\"The Expendables 2\"],[\"King Size\"],[\"Blood Tea and Red String\"],[\"Tommy Tricker and the Stamp Traveller\"],[\"Furious 7\"],[\"The Last Unicorn\"],[\"The Three Musketeers\"],[\"C\\u00e8digo Paz\"],[\"Mad Max 2: The Road Warrior\"],[\"Horsehead\"],[\"The City of Lost Children\"],[\"Juice\"],[\"Hot Fuzz\"],[\"The Karate Kid, Part III\"],[\"John Carter\"],[\"12 Dates of Christmas\"],[\"Black Rain\"],[\"The Hobbit: The Battle of the Five Armies\"],[\"Free Ride\"],[\"Die Nibelungen, Teil 1 - Siegfried\"],[\"Watchers\"],[\"Biteu\"],[\"Angel\"],[\"King of Triads\"],[\"Godzilla\"],[\"Solomon Kane\"],[\"Lethal Weapon 3\"],[\"Macario\"],[\"The Jack Bull\"],[\"Takers\"],[\"Clash of the Wolves\"],[\"Amar Akbar Anthony\"],[\"Willy Wonka & the Chocolate Factory\"],[\"Fireball\"],[\"Phantom of the Paradise\"],[\"Robin Hood\"],[\"The Science of Sleep\"],[\"Sicario\"],[\"The Good Witch\"],[\"Mohra\"],[\"The Perils of Pauline\"],[\"Pedro P\\u00e8ramo\"],[\"Quigley Down Under\"],[\"The Spy Who Loved Me\"],[\"Turetskiy gambit\"],[\"Varalaaru\"],[\"Nothing to Lose\"],[\"The Big Trail\"],[\"Wer\"],[\"Shanghai Noon\"],[\"Game of Assassins\"],[\"The Monkey King\"],[\"The Silencers\"],[\"Easy Money\"],[\"Pleasantville\"],[\"SAGA: Curse of the Shadow\"],[\"Perrier's Bounty\"],[\"F\\u002fX\"],[\"Boss\"],[\"Aragami\"],[\"Death Wish II\"],[\"The Black Hole\"],[\"Assault on Precinct 13\"],[\"How to Train Your Dragon 2\"],[\"186 Dollars to Freedom\"],[\"Appaloosa\"],[\"Johnny Mnemonic\"],[\"City Under Siege\"],[\"Dragon Inn\"],[\"Loch Ness\"],[\"Kundo: Age of the Rampant\"],[\"Shenandoah\"],[\"Pitch Black\"],[\"Double Impact\"],[\"Lucky Luke\"],[\"Speed\"],[\"Izo\"],[\"Futurama: Bender's Game\"],[\"The Three Musketeers\"],[\"The Recruit\"],[\"Action Jackson\"],[\"Hereafter\"],[\"Brutal Relax\"],[\"Northpole\"],[\"Snow White and the Huntsman\"],[\"Admiral\"],[\"They Live\"],[\"Mermaid\"],[\"The Stool Pigeon\"],[\"Dead Man's Burden\"],[\"Tamara\"],[\"Battle of Britain\"],[\"Connected\"],[\"Twilight\"],[\"The Shootist\"],[\"Bounty Hunters\"],[\"Charlie's Angels: Full Throttle\"],[\"Underworld: Evolution\"],[\"The Guardian\"],[\"5ive Days to Midnight\"],[\"Jungle\"],[\"Eagle Eye\"],[\"Backdraft\"],[\"Monster Brawl\"],[\"Kiss of Death\"],[\"Death Becomes Her\"],[\"Jesus Christ Vampire Hunter\"],[\"Ucieczka z kina 'Wolnosc'\"],[\"Pete's Dragon\"],[\"G.I. Joe: Retaliation\"],[\"Action Jackson\"],[\"Dances with Wolves\"],[\"The Jackal\"],[\"Kill Bill: Vol. 2\"],[\"Turn It Up\"],[\"Detective Dee: Mystery of the Phantom Flame\"],[\"A Dark Truth\"],[\"Helen of Troy\"],[\"Babine\"],[\"Ashura-j\\u00e8 no hitomi\"],[\"Fighting\"],[\"Immortal (Ad Vitam)\"],[\"Hell Ride\"],[\"Nazareno Cruz and the Wolf\"],[\"Singham Returns\"],[\"Big Trouble in Little China\"],[\"T-Rex: Back to the Cretaceous\"],[\"The Matrix Reloaded\"],[\"The Art of War II: Betrayal\"],[\"Batman: Under the Red Hood\"],[\"Kung Fu Panda\"],[\"Jackie Chan's First Strike\"],[\"At World's End\"],[\"Cast a Deadly Spell\"],[\"Gupt: The Hidden Truth\"],[\"Snow on the Blades\"],[\"Highway to Hell\"],[\"The Myth\"],[\"The Thief of Bagdad\"],[\"Byzantium\"],[\"The Tree of Life\"],[\"Spooky Buddies\"],[\"Becoming Bulletproof\"],[\"Patlabor 2: The Movie\"],[\"Percy Jackson: Sea of Monsters\"],[\"The Amazing Spider-Man\"],[\"That Man from Rio\"],[\"Radioactive Dreams\"],[\"Beauty and the Beast\"],[\"The Pied Piper\"],[\"Old Men in New Cars: In China They Eat Dogs II\"],[\"Mr. Nobody\"],[\"The Prodigal Son\"],[\"Gulaab Gang\"],[\"Thumbelina\"],[\"Typhoon\"],[\"Broken Arrow\"],[\"Cinderella\"],[\"The Five People You Meet in Heaven\"],[\"Screamers\"],[\"Premium Rush\"],[\"The Last Airbender\"],[\"Chura Liyaa Hai Tumne\"],[\"Uppercut\"],[\"La Antena\"],[\"Rogue\"],[\"The Wild Bunch\"],[\"Outbreak\"],[\"In the Name of the King: A Dungeon Siege Tale\"],[\"Man of Steel\"],[\"Ashes of Time\"],[\"Freebie and the Bean\"],[\"Air Force One\"],[\"Die Hard 2\"],[\"The Redwood Massacre\"],[\"Outlander\"],[\"Ghost\"],[\"Fair Game\"],[\"The Book of Eli\"],[\"Don't Hug Me I'm Scared\"],[\"Twelve\"],[\"Nightfall\"],[\"Xingu\"],[\"Frog\"],[\"Il piccolo diavolo\"],[\"Batman Beyond: Return of the Joker\"],[\"Pet Sematary II\"],[\"Marvel One-Shot: Item 47\"],[\"Invisible Target\"],[\"Retroactive\"],[\"Edward Scissorhands\"],[\"Parker\"],[\"Yuva\"],[\"The Bourne Identity\"],[\"Just My Luck\"],[\"The Stone Raft\"],[\"Turbulence\"],[\"The Hole\"],[\"Miracle in Milan\"],[\"The Adventures of Tintin\"],[\"Rough Cut\"],[\"Harry Potter and the Prisoner of Azkaban\"],[\"Foreign Land\"],[\"A.C.A.B.\"],[\"Metalstorm: The Destruction of Jared-Syn\"],[\"Bruce Almighty\"],[\"Belladonna of Sadness\"],[\"The Blood of Jesus\"],[\"Red River\"],[\"Battle Beyond the Stars\"],[\"The Night Flier\"],[\"Dreams\"],[\"The Sandman\"],[\"Ladyhawke\"],[\"Taken\"],[\"For Your Eyes Only\"],[\"Into the West\"],[\"Julia and Julia\"],[\"Mistletoe Over Manhattan\"],[\"Mighty Morphin Power Rangers: The Movie\"],[\"Lawnmower Man 2: Beyond Cyberspace\"],[\"Road House\"],[\"Oh, God! You Devil\"],[\"The Saratov Approach\"],[\"Prancer\"],[\"The Young Lions\"],[\"Pain & Gain\"],[\"Thou Gild'st the Even\"],[\"Jungle Book\"],[\"Thou Gild'st the Even\"],[\"They Call Me Macho Woman!\"],[\"Enter the Dragon\"],[\"Rooftops\"],[\"Guardians of the Galaxy\"],[\"Colors\"],[\"Fulltime Killer\"],[\"Life of Pi\"],[\"The Raid: Redemption\"],[\"Predator\"],[\"Secretly, Greatly\"],[\"Shopping\"],[\"Fantasia\"],[\"Dagon\"],[\"Dr. Wai in the Scriptures with No Words\"],[\"Imaginaerum\"],[\"Star Trek III: The Search for Spock\"],[\"Woman on Top\"],[\"The Memory of a Killer\"],[\"Beverly Hills Cop\"],[\"Bodyguards and Assassins\"],[\"K-9: P.I.\"],[\"Kick-Heart\"],[\"Escape\"],[\"Sahara\"],[\"Saamy\"],[\"Police Story 2\"],[\"Scanners II: The New Order\"]],\"hovertemplate\":\"0=%{x}\\u003cbr\\u003e1=%{y}\\u003cbr\\u003e2=%{z}\\u003cbr\\u003etitles=%{customdata[0]}\\u003cbr\\u003eFantasy=%{marker.color}\\u003cextra\\u003e\\u003c\\u002fextra\\u003e\",\"legendgroup\":\"\",\"marker\":{\"color\":[1,0,0,0,0,0,0,1,1,0,1,0,0,0,1,1,0,0,1,0,0,0,0,0,0,0,0,1,0,0,0,0,0,0,0,0,0,1,0,0,0,0,0,0,1,1,1,0,1,0,0,0,1,1,0,0,0,1,1,0,1,0,1,0,0,0,0,0,1,0,1,0,0,0,0,1,0,1,0,1,0,1,0,0,1,0,0,0,0,0,0,0,0,0,1,0,0,1,1,0,0,0,1,0,0,0,0,0,0,0,0,0,1,0,0,0,0,0,0,1,0,0,0,0,1,0,1,0,0,0,1,0,0,1,0,0,1,0,0,0,1,0,0,0,0,0,0,0,1,0,1,1,0,0,0,0,0,0,0,0,0,1,1,0,0,0,1,0,0,1,0,0,0,0,0,0,1,0,0,1,0,1,1,1,1,0,0,1,1,0,0,1,1,0,1,0,0,1,0,0,1,1,0,0,0,0,0,1,0,0,0,0,1,0,0,0,0,1,0,1,0,0,1,0,0,0,1,1,0,0,0,0,0,1,0,0,0,1,1,0,1,1,0,0,1,0,0,0,1,1,1,0,0,1,1,1,1,0,0,0,1,1,0,0,0,1,0,1,0,0,1,0,1,0,0,0,0,0,0,1,0,0,0,0,1,1,0,1,0,1,0,0,0,0,0,0,0,0,0,0],\"coloraxis\":\"coloraxis\",\"symbol\":\"circle\"},\"mode\":\"markers\",\"name\":\"\",\"scene\":\"scene\",\"showlegend\":false,\"x\":[-0.1556825450469603,0.01529926551217644,-0.013629980143297513,0.05698973465247346,0.007568868937455779,0.05507595644024244,0.14452171295058563,-0.12784503320147203,-0.08668452051141148,0.11639017471999338,0.0022334314499016447,0.0429540141370861,-0.07667507570957899,0.03844676292892169,0.02064378178694396,-0.16134019029691182,-0.0327006723453309,0.023634951590051335,-0.044208527997964,0.04013268610980126,0.13750951932681352,-0.03282205095645817,-0.009343478254403896,0.10075051920441186,0.1462587743677019,-0.09933321877607248,0.008904463050453733,-0.20617686284976844,0.005946811454562086,0.10556747248530177,0.036585620672463674,-0.11423106537701719,-0.10068446973485744,0.09511707381623663,0.07272986741310383,0.1407712021598423,-0.05223210734900975,0.0072974135086125436,-0.06496348376594704,0.01785112215517478,0.11905716039840936,0.0055382933291112935,0.1256064228613034,0.12194084255959042,-0.16957308036776217,-0.19136238176835885,-0.024486440454751363,0.11791434944021262,-0.11282619671233324,-0.022666759346609562,0.024955938344434027,0.028145743228917143,-0.1519065812008846,-0.05094532489138473,0.04206253314046488,0.08403126849190701,0.07496803435981136,-0.13317291523762817,-0.040852059276211924,0.20670765696820392,-0.08369871811392175,0.027094087774012017,-0.13265254444885857,-0.04621434680416462,-0.01794924928693322,-0.027227789880124628,0.12388531133566069,-0.0008740729063543423,-0.043401205644315044,0.24729621557847775,-0.1182625159157292,0.05494898788202645,0.19516967115354844,-0.021009427132610448,-0.08204671415603537,-0.11898027760886057,0.041231208998011144,-0.08981446417016514,-0.028630839797813622,-0.15918172799650784,0.15766274826646248,-0.14508362235428934,-0.009236446663208886,-0.08035750409260074,-0.08970739657130711,0.060729801414126046,0.13066290972811076,-0.09678093329959903,-0.05122338951102139,0.07438399419361813,-0.06176220337923525,0.07778273205767786,0.020580156727975217,-0.041708811399651546,-0.1138799444525676,0.021804828674743003,0.10110405510850745,-0.024501829688791752,-0.1038809470790879,0.16414929230151945,0.15855972511189032,0.14809361684901295,-0.05539381091237768,0.10912254889731798,-0.007387598708319051,0.14767203119714384,-0.12072510567702274,0.030458235028569015,0.06644205071563913,0.09878959555956474,-0.00767673672947717,-0.07006654223980317,-0.0757671673314774,0.051579656483483095,-0.10203197188366325,-0.08064377763225249,0.0516154620026413,0.0759161950806703,0.1724209771944549,0.010883392336360466,-0.05666740598283404,-0.011931162217162485,0.14821121867645665,0.19603535951308748,-0.022379875549589985,-0.068528594229889,-0.15996682545907404,-0.10262580954933834,-0.03689253554284461,-0.0011944184075394632,-0.09109292199771846,0.1368162479224949,-0.039375189163944335,-0.06542227588765273,-0.004053660591547152,0.046916266925181284,-0.12136111459940677,0.08513830245686688,0.04584541073447517,0.13829019025329234,-0.05199424863932473,-0.015339452390924845,0.08781545526922219,-0.02651185685766848,0.019783098630566494,0.11085866796355903,-0.05788436671416732,0.20274668454053424,-0.08822044954923863,-0.030365148996988292,-0.016769291391716158,-0.1055824024025121,0.1136432666810896,0.1571152402632278,-0.025920769829597123,0.13989241787439588,0.016073409351249825,0.06376023418094648,0.08582837113229275,0.09979722197218174,-0.09778810106318178,-0.14763751594091049,-0.076288635162314,0.11934559094058417,-0.1293731232327844,0.11899798271440451,-0.1569741506152015,0.14341473587367387,0.006997029934571235,-0.12139670484889509,0.01481109567891064,0.13379962445824967,0.05905504996000666,-0.0849699782597606,0.12024432845367192,-0.06222735594811544,0.00022329377323439953,0.06284119598381319,0.024159885198116675,-0.07058266152282741,-0.07612569870259717,-0.019012059000082945,-0.05751616025334329,-0.05299759771619105,-0.10152611421588362,-0.05981915303739413,0.14388306458538172,-0.11898460990302559,-0.03998147634018255,0.007079015346055199,0.02242807518522274,-0.16063813594654971,-0.10398664464050845,-0.06067277722386715,-0.08727394195574995,-0.00754295057266445,0.009298643148087128,-0.22596126416929688,0.04638003498156277,0.02797725785339649,-0.1796406496733033,-0.004986623682628942,-0.032852251165376004,0.15023693870595417,-0.07994761778574977,-0.06855388384752906,0.014384946309342082,-0.053296439802900206,-0.0058125581042358515,0.09369811704673495,0.030341906462832878,-0.051356769065378144,-0.13544987187448798,0.0830702832133437,0.17097270236596346,0.09036354843909727,0.13597608660393296,-0.035312143419508016,-0.12428569860023128,-0.0372827414676157,0.14781027583661527,-0.04254160838082964,-0.09323744105673618,0.14522018957844646,0.08630823723329087,-0.08633724332309023,-0.14710375627693925,-0.09477344369272792,0.05698477702211787,-0.10831544107393543,0.13646225130284428,0.23569347142423297,-0.0014368386254690196,-0.060107647776310724,0.13733815257207505,-0.0006125780826656477,0.08099710517299444,-0.030404847969804936,-0.09395620415867995,0.09731822331042655,-0.059755168350792254,-0.18562754866476644,-0.03919522137917491,0.11665520833843512,-0.010926709317379137,-0.10374763487950488,0.1319355292074492,-0.037448911145822696,-0.0741152988108254,-0.16945626829830115,-0.034455234056501756,-0.028307636718587464,-0.024386406417756464,0.05547113067206754,-0.07487855533788093,-0.11992347856534635,-0.02311447657577491,0.06985751608687346,0.13628804236940195,-0.1074442785977078,-0.060361456287827464,-0.09305488381381925,-0.07270658463251815,-0.0005207485801705103,-0.0009067237775369011,-0.08267216056095233,0.04350309815472254,-0.1534970786333672,-0.02467854938212484,0.12664534625995513,-0.1553527939867823,-0.12394907996380744,-0.15533305541675155,-0.06418059503647695,0.11549949056835776,-0.024380766192068068,0.07967153332591753,0.2098461979034169,0.16131470430558445,-0.08252022250759652,0.1690442438244989,0.05890921348848579,0.030718562582735927,0.03550439072236574,-0.12305163946897935,-0.10560073228628898,-0.0781200968009941,-0.06696180840638784,0.03683519028951349,-0.04032266799227588,0.1365102013118889,0.1501107717571597,0.03476115098269799,0.12868729627788722,-0.042421852568527395,-0.15683589032387804,0.006537243750895795,0.07650148751454822,0.20470874212779172,0.09693234946706408],\"y\":[0.005990830589190272,-0.14686840235255827,-0.060079664474862696,-0.039465662306996774,-0.1069190441107735,0.00957746441036919,-0.01658343660007132,-0.08130877891332809,-0.07953321369984173,0.042366396375194806,0.14762027788046267,-0.06318395603298103,0.09106280550203932,0.048503379142597294,-0.045198062072540804,-0.1656686142937101,-0.0756753848449343,-0.06655923592281751,0.10051419771416151,-0.01512412370999799,-0.02431089688030469,-0.0820079805957555,0.11705458278153803,-0.02662418132192735,0.07744820957480125,-0.06430906276134266,0.10901865936658982,0.0720516383345132,-0.09068506308236347,-0.05999430210347573,-0.02458508979180378,0.014078597926791782,0.06976823587931794,0.07954390821228878,-0.07275778810026977,0.0031340391168594994,0.031589962281570766,0.08602388132197687,0.14062860706548874,-0.0666599409364817,0.08082727508632016,-0.07340214823257125,-0.13964473060578753,-0.07467129623941192,-0.060034898689160704,0.002494876941751916,0.05146729856215753,-0.025149456768892894,-0.1480473075746373,-0.0635446077955875,0.1111587907770681,-0.06917812593747655,0.15728554261022804,0.025675561577558327,0.04535962128277603,0.10678813801213999,-0.09884829231862556,-0.172227413372047,0.11132121367145079,0.011393017555199789,-0.18843036076607544,0.15841857866774517,-0.024321630429596806,-0.015307031675804453,0.03802125619610114,0.2036286634121851,-0.03517177939457076,-0.08906904109760024,-0.05041622145501472,0.008701128489023862,0.0608597852575144,0.0009518728014216802,0.008530727421019107,-0.09932962821484907,-0.006024013400484272,0.06718015083898418,0.07988271256612904,0.06270268081747564,-0.11720305132755678,0.14119088570172006,-0.008083785621715363,0.10246695659734445,0.16692534682341975,0.19327050750651925,0.03161973482650583,0.007253156490780793,-0.02967992239133034,-0.038151023986920066,0.11376256427158467,0.10408156070184102,-0.04873279841674613,0.15542193436520524,-0.09082539122754188,-0.0521122244005906,-0.09700861484578285,-0.007294919516015214,0.011349475910278885,0.07066815120690971,-0.10746059380285032,0.011031745775163818,0.025480956892452215,0.03947782840747237,-0.20802569138156818,0.06790359429943346,-0.04934338410709371,0.011429668015512751,-0.16735629951376718,0.05562295429441645,0.09632682133087711,-0.037117213607408495,-0.045798256767977025,-0.061406401850980966,-0.027964725096378693,-0.10694967069286614,0.05853838053270337,-0.09147015533048679,0.02682004749440841,-0.040138861427383585,0.034550133026203356,-0.12604982694315386,-0.10067812012625395,-0.045934479887018605,0.056740077700965806,0.015486973615301623,0.11101447953429981,0.06991680334090636,0.02457961241533399,-0.04294561304117041,-0.06518225289539425,-0.06747036746447241,0.08256648393494657,0.05194661485553774,-0.02859574573587695,0.09095109850964232,-0.12900884330130968,0.1131128228225554,0.07765691690538877,-0.041491761328825975,-0.11246583737663667,0.0793953104828645,-0.0822887953108696,0.026344930832178228,0.09051873494888345,0.009958435232502961,0.11376037273084569,0.013797377193343716,-0.11606349213354976,0.06737724997932315,0.05435064877803129,-0.10104947684389463,0.009241589086956714,-0.07059650346710984,-0.1480457802936101,0.0310801905642751,-0.08167137749250111,-0.041323363537056325,0.050537455873430344,0.061580052131879746,-0.029470441571099626,0.08777957149393009,-0.04014938331410278,0.09350152915937912,-0.09631462073829353,0.013361462079409268,-0.05371852106123795,-0.06970849262169063,0.02112310097484823,0.034367381364976295,-0.07916223786048522,0.0005823649228742026,-0.12510839690387615,-0.019838764221171375,-0.04956312856716766,-0.12082128649966863,-0.04499401527500764,0.0022123116800685065,0.008680660863762926,0.06711313426138528,-0.08731013072823839,0.08832685862310373,-0.055314038180436176,-0.07193871930653105,0.0788234056912675,0.06989589161353231,0.010433693049677471,-0.019857538271995163,-0.05228242357978985,-0.11385953618071044,-0.004611126869289484,0.05542296171628454,-0.014934732132149298,0.05353165062802384,0.03964019012974676,0.0488615561955169,0.07219156833585944,-0.04568350624355785,0.08885292301997606,0.007349727214540995,-0.14589793808621904,-0.003267198670127258,0.050929044622556395,0.08458437324359763,-0.17430072407261193,0.08825096915450885,-0.16904306426359333,0.1300456599507669,-0.008524641576431794,0.09645995333293715,-0.024330094061737376,-0.0664483208110288,-0.014994581138091278,-0.10307693130844746,0.09917390565613193,-0.06041890005865244,0.04177196561921975,-0.06454864014160105,-0.06180442232361799,0.010347433721182022,-0.1650411836836555,0.11449215839135105,0.03509888821488367,-0.1245220136245603,0.037355502925633666,0.10015412402426395,0.12580324105449386,-0.0664280486330505,0.03327631730325743,0.09576583668883099,-0.053178606845577056,0.0016627822355123455,-0.03303772397066051,-0.03130647633633239,0.131597958777588,0.05983074064839342,0.02112392312874639,0.05508255349879564,-0.020905078042191626,0.19456235743510808,0.020661215925560392,0.04551949889845171,0.03146537126695313,0.11824017378177382,-0.07428655116493811,0.04453667875614857,-0.029222429824304,0.09456167048091985,0.04897161109956856,-0.17903954157820873,-0.0362981684256863,0.035535994589295995,0.1036267524711512,-0.062141748135095834,-0.18259977402406047,0.04470952093654156,-0.04193523466234041,0.05894020441411346,0.008571895688052885,0.051330396419612075,-0.07514141948154009,0.01657434931743786,0.20290116863973134,0.09589989453301133,-0.1628747652710093,-0.017233330707437933,0.15215809071287684,0.009802416975056658,0.02248565190581946,0.0643201959291247,-0.002724020472618865,0.027974092601939074,0.08261599004585862,-0.026558658333391535,0.08268015429044562,0.04034444622074458,-0.05479654021396245,-0.003663371311719045,-0.1975731733427824,0.04972243646174252,-0.001210566757941161,-0.05308910547392691,-0.024426437540560425,-0.17772697547594524,-0.02369519761099529,0.04484178649163125,-0.02701490705368781,-0.005467867802650704,-0.03465647713990053,-0.009472587653525273,-0.12265848702259936,0.15214474740365486,0.11030211129635413,0.11192446956742225,-0.05955884738343309,0.033729048664476305,0.07711948260951704,0.024532492804010674,-0.07924913463804492,0.09506451224769,-0.045293649607241304,-0.08373227079953205],\"z\":[0.04226753681193464,-0.08549546981153835,0.1933355007459384,-0.05868676720749752,-0.08474823183785081,0.07930905143569916,-0.06868251324211941,0.011769032755202294,-0.03922655202186705,-0.026696741353700662,-0.12100760311213336,-0.040586761059207714,-0.046509568022391284,0.06151463303567586,-0.023339501191531047,-0.008491345246201135,0.04951545113943524,0.06514095564487654,0.06394297050116482,0.056282973124762534,0.006681130811427627,0.12813282224844885,-0.09026175983707066,-0.013903456097852205,-0.019502136132198235,-0.011857543332278031,0.021953362991885973,0.018225635214064492,0.17555073411575897,-0.1210032501160427,0.006697759001284623,0.10228243068887499,-0.02527294111382833,-0.03545723172238729,0.028787433090411756,0.0855903374958325,0.12194258460502856,0.0336458045186322,-0.12103973385086027,0.03806673771320984,0.09241037948822022,0.035867534990787334,-0.1170067301326725,0.03349490670942043,-0.0007161540263216724,0.026082117371497647,0.0039681654365487685,-0.06704975779832834,-0.03142818759027188,0.06972973088312849,0.05300382000795745,0.0032980209070695623,-0.10531801840521238,-0.13241890994883515,0.06974115935247753,0.0098366118160031,0.017916275884298512,-0.031265631577106566,0.019717948739173173,0.04396055741299564,-0.031111095717894492,0.011761407662330338,0.07300371032106893,-0.0250318833156115,0.18831418589931448,0.024236816900894888,0.10600348650569223,-0.12959708146398896,-0.014689079522082935,0.06207144083436961,0.004355492500695439,0.05222418383706913,-0.0026577087245422265,0.06620664997109683,0.1270015871580983,-0.00031462453581472885,0.08577149983980205,-0.030036725960045182,0.06525403742643564,-0.01401275386096216,0.028105237500579403,-0.11126773234794271,0.044278813145982046,0.010701213098231209,0.1767196896756414,0.06564031212930675,-0.07976130474703405,0.11469838078426016,-0.052113967537174774,0.005505736402887741,0.07838673079905138,-0.10843665442974547,0.11859998465613862,-0.10771059978848915,0.1981056847076444,-0.03615520470169643,0.0640165959576185,0.04028194551884046,-0.06136481634976562,-0.0005271771983639904,-0.043906998446024637,0.05100344684895622,0.04119042190902272,-0.010851636748295196,-0.19248738070210145,-0.016722963081493902,-0.025246004202886016,0.03540172521824037,0.06915875935069188,-0.06629402187154697,-0.02553224188454241,0.1829476563628427,-0.2120321933393724,0.12633002519915215,0.10677978109688213,-0.1077263128827279,0.12635972717738556,0.11384855441011299,-0.08742500548306252,0.019741350253146703,-0.11843196025579018,0.09303409853908161,-0.0738671763289587,-0.023390422480735612,0.09527892353156486,-0.06242063394291149,-0.012238516231007733,-0.0640460370156458,0.05401251423647312,-0.08905923595014116,0.010370185132906114,0.09432224395311077,0.17817361082671002,-0.0836575086976163,-0.04384464113255087,-0.13920523149103473,-0.09721705863286555,0.02967764894338394,0.03209368524349165,-0.10197418106771416,-0.06233132933359882,0.02027734782245924,-0.08343821106239799,-0.012363643920974257,-0.0696510674604804,0.01572931275001327,-0.07080218959607702,-0.00422608274912345,-0.13036899344199188,0.1195178478436625,0.07410964219297368,0.012221235554571332,-0.02393384272079766,0.05352338200680663,0.04023279427549675,-0.04390000112768265,-0.05415754082039766,0.06891038947247573,-0.03515034283554889,-0.03244922451618217,-0.05106831414050914,-0.1090188672220462,0.10109116478639364,0.09959425465420467,-0.0940290637855584,0.0556320189753219,0.04857342318667313,0.025630722102999527,0.048540344390537615,-0.059401849876359394,-0.09929434640083361,-0.04947369959366664,-0.06981481904466622,0.07150982125645289,-0.056250345118362216,0.037729370129366474,-0.06519126138270122,0.02310070643621208,0.0736331891262665,-0.11423089033768935,0.035077997166264314,0.03724727772244451,-0.09595363714524975,0.11726633628165938,-0.11475581680368242,0.12469715984498211,-0.04029112248255547,-0.07942417794989466,-0.10755371595927102,0.026616540841245102,-0.011315508524569825,-0.01739653240766851,-0.005885038531372516,0.04016688228573186,-0.009485491519262748,0.199010288454373,-0.026871366431075752,-0.07579295449852325,-0.0399681666602859,0.02755635635185192,-0.017918894898769043,-0.005322873170642698,-0.1239445023065859,0.021408907387023828,0.04734086762036489,0.06911500761415217,0.09172997033079164,0.08066879631921316,-0.05343110092770735,0.07467982931026292,-0.1485134912635038,-0.038640501903009404,0.04914758786031488,0.034306829433462194,-0.037475324197856735,-0.052240395123164224,-0.04434052982543622,-0.04599688629454838,-0.031238602735937426,-0.06766843472834089,-0.0465910218028422,-0.020666938633757688,-0.035373058697883354,0.08730663837993831,-0.09293876078226727,0.13836203538872563,-0.08064301191641886,-0.01214486503729059,-0.061762413777164515,-0.042030205247828425,-0.09142396659826414,0.008675246401295586,-0.12917946460433752,0.05190203253435599,-0.0022010963955235354,0.14371960089653818,-0.027207140922247047,0.013296775077000519,-0.03998410921534069,-0.13339859983656105,0.007917659868035032,-0.00014990507545666228,-0.06200486428922826,0.10715129956196524,-0.09200830454187281,0.08402691556412392,0.09434924992254917,-0.03647125221731701,-0.04041237896241817,-0.08457371841257968,-0.07267315859057072,0.12091631601493995,-0.027430736759798978,-0.18544153004155897,0.08339724613240944,0.004151363490070725,0.019349995855803347,-0.041078273633086575,-0.12608795095817,0.1718238452487544,0.000786964123220147,-0.07954952437313514,-0.10110329431387167,-0.07485873247276173,0.016921896050555798,-0.020658200693994717,-0.03579779187765628,-0.01130325512341212,0.04046231007329336,0.0012708754741067307,0.09505317886789143,0.02576839960745303,0.09513511605939855,-0.035725774422197584,-0.023368046888089966,0.1300856680898076,-0.047799964228072395,0.07125785551646488,0.008897741496740514,0.01089921582982402,-0.005496407020907685,-0.05621914083446615,0.05477552882440499,0.08631645566443617,0.09765189496685701,-0.08075178274637972,0.01285737242258164,-0.032212990968148766,-0.12484941827986483,-0.02247933640175668,-0.021657183696654654,0.02769875998161786,0.1252136097538637,-0.03212023399372881,0.003937853189449182,-0.07743213765194511,-0.040377139255018096,0.07745843894125135,0.021492697982391618,-0.1275666003685826],\"type\":\"scatter3d\"},{\"marker\":{\"color\":\"orange\"},\"name\":\"origin (0,0,0)\",\"x\":[0],\"y\":[0],\"z\":[0],\"type\":\"scatter3d\"}],                        {\"template\":{\"data\":{\"histogram2dcontour\":[{\"type\":\"histogram2dcontour\",\"colorbar\":{\"outlinewidth\":0,\"ticks\":\"\"},\"colorscale\":[[0.0,\"#0d0887\"],[0.1111111111111111,\"#46039f\"],[0.2222222222222222,\"#7201a8\"],[0.3333333333333333,\"#9c179e\"],[0.4444444444444444,\"#bd3786\"],[0.5555555555555556,\"#d8576b\"],[0.6666666666666666,\"#ed7953\"],[0.7777777777777778,\"#fb9f3a\"],[0.8888888888888888,\"#fdca26\"],[1.0,\"#f0f921\"]]}],\"choropleth\":[{\"type\":\"choropleth\",\"colorbar\":{\"outlinewidth\":0,\"ticks\":\"\"}}],\"histogram2d\":[{\"type\":\"histogram2d\",\"colorbar\":{\"outlinewidth\":0,\"ticks\":\"\"},\"colorscale\":[[0.0,\"#0d0887\"],[0.1111111111111111,\"#46039f\"],[0.2222222222222222,\"#7201a8\"],[0.3333333333333333,\"#9c179e\"],[0.4444444444444444,\"#bd3786\"],[0.5555555555555556,\"#d8576b\"],[0.6666666666666666,\"#ed7953\"],[0.7777777777777778,\"#fb9f3a\"],[0.8888888888888888,\"#fdca26\"],[1.0,\"#f0f921\"]]}],\"heatmap\":[{\"type\":\"heatmap\",\"colorbar\":{\"outlinewidth\":0,\"ticks\":\"\"},\"colorscale\":[[0.0,\"#0d0887\"],[0.1111111111111111,\"#46039f\"],[0.2222222222222222,\"#7201a8\"],[0.3333333333333333,\"#9c179e\"],[0.4444444444444444,\"#bd3786\"],[0.5555555555555556,\"#d8576b\"],[0.6666666666666666,\"#ed7953\"],[0.7777777777777778,\"#fb9f3a\"],[0.8888888888888888,\"#fdca26\"],[1.0,\"#f0f921\"]]}],\"heatmapgl\":[{\"type\":\"heatmapgl\",\"colorbar\":{\"outlinewidth\":0,\"ticks\":\"\"},\"colorscale\":[[0.0,\"#0d0887\"],[0.1111111111111111,\"#46039f\"],[0.2222222222222222,\"#7201a8\"],[0.3333333333333333,\"#9c179e\"],[0.4444444444444444,\"#bd3786\"],[0.5555555555555556,\"#d8576b\"],[0.6666666666666666,\"#ed7953\"],[0.7777777777777778,\"#fb9f3a\"],[0.8888888888888888,\"#fdca26\"],[1.0,\"#f0f921\"]]}],\"contourcarpet\":[{\"type\":\"contourcarpet\",\"colorbar\":{\"outlinewidth\":0,\"ticks\":\"\"}}],\"contour\":[{\"type\":\"contour\",\"colorbar\":{\"outlinewidth\":0,\"ticks\":\"\"},\"colorscale\":[[0.0,\"#0d0887\"],[0.1111111111111111,\"#46039f\"],[0.2222222222222222,\"#7201a8\"],[0.3333333333333333,\"#9c179e\"],[0.4444444444444444,\"#bd3786\"],[0.5555555555555556,\"#d8576b\"],[0.6666666666666666,\"#ed7953\"],[0.7777777777777778,\"#fb9f3a\"],[0.8888888888888888,\"#fdca26\"],[1.0,\"#f0f921\"]]}],\"surface\":[{\"type\":\"surface\",\"colorbar\":{\"outlinewidth\":0,\"ticks\":\"\"},\"colorscale\":[[0.0,\"#0d0887\"],[0.1111111111111111,\"#46039f\"],[0.2222222222222222,\"#7201a8\"],[0.3333333333333333,\"#9c179e\"],[0.4444444444444444,\"#bd3786\"],[0.5555555555555556,\"#d8576b\"],[0.6666666666666666,\"#ed7953\"],[0.7777777777777778,\"#fb9f3a\"],[0.8888888888888888,\"#fdca26\"],[1.0,\"#f0f921\"]]}],\"mesh3d\":[{\"type\":\"mesh3d\",\"colorbar\":{\"outlinewidth\":0,\"ticks\":\"\"}}],\"scatter\":[{\"fillpattern\":{\"fillmode\":\"overlay\",\"size\":10,\"solidity\":0.2},\"type\":\"scatter\"}],\"parcoords\":[{\"type\":\"parcoords\",\"line\":{\"colorbar\":{\"outlinewidth\":0,\"ticks\":\"\"}}}],\"scatterpolargl\":[{\"type\":\"scatterpolargl\",\"marker\":{\"colorbar\":{\"outlinewidth\":0,\"ticks\":\"\"}}}],\"bar\":[{\"error_x\":{\"color\":\"#2a3f5f\"},\"error_y\":{\"color\":\"#2a3f5f\"},\"marker\":{\"line\":{\"color\":\"#E5ECF6\",\"width\":0.5},\"pattern\":{\"fillmode\":\"overlay\",\"size\":10,\"solidity\":0.2}},\"type\":\"bar\"}],\"scattergeo\":[{\"type\":\"scattergeo\",\"marker\":{\"colorbar\":{\"outlinewidth\":0,\"ticks\":\"\"}}}],\"scatterpolar\":[{\"type\":\"scatterpolar\",\"marker\":{\"colorbar\":{\"outlinewidth\":0,\"ticks\":\"\"}}}],\"histogram\":[{\"marker\":{\"pattern\":{\"fillmode\":\"overlay\",\"size\":10,\"solidity\":0.2}},\"type\":\"histogram\"}],\"scattergl\":[{\"type\":\"scattergl\",\"marker\":{\"colorbar\":{\"outlinewidth\":0,\"ticks\":\"\"}}}],\"scatter3d\":[{\"type\":\"scatter3d\",\"line\":{\"colorbar\":{\"outlinewidth\":0,\"ticks\":\"\"}},\"marker\":{\"colorbar\":{\"outlinewidth\":0,\"ticks\":\"\"}}}],\"scattermapbox\":[{\"type\":\"scattermapbox\",\"marker\":{\"colorbar\":{\"outlinewidth\":0,\"ticks\":\"\"}}}],\"scatterternary\":[{\"type\":\"scatterternary\",\"marker\":{\"colorbar\":{\"outlinewidth\":0,\"ticks\":\"\"}}}],\"scattercarpet\":[{\"type\":\"scattercarpet\",\"marker\":{\"colorbar\":{\"outlinewidth\":0,\"ticks\":\"\"}}}],\"carpet\":[{\"aaxis\":{\"endlinecolor\":\"#2a3f5f\",\"gridcolor\":\"white\",\"linecolor\":\"white\",\"minorgridcolor\":\"white\",\"startlinecolor\":\"#2a3f5f\"},\"baxis\":{\"endlinecolor\":\"#2a3f5f\",\"gridcolor\":\"white\",\"linecolor\":\"white\",\"minorgridcolor\":\"white\",\"startlinecolor\":\"#2a3f5f\"},\"type\":\"carpet\"}],\"table\":[{\"cells\":{\"fill\":{\"color\":\"#EBF0F8\"},\"line\":{\"color\":\"white\"}},\"header\":{\"fill\":{\"color\":\"#C8D4E3\"},\"line\":{\"color\":\"white\"}},\"type\":\"table\"}],\"barpolar\":[{\"marker\":{\"line\":{\"color\":\"#E5ECF6\",\"width\":0.5},\"pattern\":{\"fillmode\":\"overlay\",\"size\":10,\"solidity\":0.2}},\"type\":\"barpolar\"}],\"pie\":[{\"automargin\":true,\"type\":\"pie\"}]},\"layout\":{\"autotypenumbers\":\"strict\",\"colorway\":[\"#636efa\",\"#EF553B\",\"#00cc96\",\"#ab63fa\",\"#FFA15A\",\"#19d3f3\",\"#FF6692\",\"#B6E880\",\"#FF97FF\",\"#FECB52\"],\"font\":{\"color\":\"#2a3f5f\"},\"hovermode\":\"closest\",\"hoverlabel\":{\"align\":\"left\"},\"paper_bgcolor\":\"white\",\"plot_bgcolor\":\"#E5ECF6\",\"polar\":{\"bgcolor\":\"#E5ECF6\",\"angularaxis\":{\"gridcolor\":\"white\",\"linecolor\":\"white\",\"ticks\":\"\"},\"radialaxis\":{\"gridcolor\":\"white\",\"linecolor\":\"white\",\"ticks\":\"\"}},\"ternary\":{\"bgcolor\":\"#E5ECF6\",\"aaxis\":{\"gridcolor\":\"white\",\"linecolor\":\"white\",\"ticks\":\"\"},\"baxis\":{\"gridcolor\":\"white\",\"linecolor\":\"white\",\"ticks\":\"\"},\"caxis\":{\"gridcolor\":\"white\",\"linecolor\":\"white\",\"ticks\":\"\"}},\"coloraxis\":{\"colorbar\":{\"outlinewidth\":0,\"ticks\":\"\"}},\"colorscale\":{\"sequential\":[[0.0,\"#0d0887\"],[0.1111111111111111,\"#46039f\"],[0.2222222222222222,\"#7201a8\"],[0.3333333333333333,\"#9c179e\"],[0.4444444444444444,\"#bd3786\"],[0.5555555555555556,\"#d8576b\"],[0.6666666666666666,\"#ed7953\"],[0.7777777777777778,\"#fb9f3a\"],[0.8888888888888888,\"#fdca26\"],[1.0,\"#f0f921\"]],\"sequentialminus\":[[0.0,\"#0d0887\"],[0.1111111111111111,\"#46039f\"],[0.2222222222222222,\"#7201a8\"],[0.3333333333333333,\"#9c179e\"],[0.4444444444444444,\"#bd3786\"],[0.5555555555555556,\"#d8576b\"],[0.6666666666666666,\"#ed7953\"],[0.7777777777777778,\"#fb9f3a\"],[0.8888888888888888,\"#fdca26\"],[1.0,\"#f0f921\"]],\"diverging\":[[0,\"#8e0152\"],[0.1,\"#c51b7d\"],[0.2,\"#de77ae\"],[0.3,\"#f1b6da\"],[0.4,\"#fde0ef\"],[0.5,\"#f7f7f7\"],[0.6,\"#e6f5d0\"],[0.7,\"#b8e186\"],[0.8,\"#7fbc41\"],[0.9,\"#4d9221\"],[1,\"#276419\"]]},\"xaxis\":{\"gridcolor\":\"white\",\"linecolor\":\"white\",\"ticks\":\"\",\"title\":{\"standoff\":15},\"zerolinecolor\":\"white\",\"automargin\":true,\"zerolinewidth\":2},\"yaxis\":{\"gridcolor\":\"white\",\"linecolor\":\"white\",\"ticks\":\"\",\"title\":{\"standoff\":15},\"zerolinecolor\":\"white\",\"automargin\":true,\"zerolinewidth\":2},\"scene\":{\"xaxis\":{\"backgroundcolor\":\"#E5ECF6\",\"gridcolor\":\"white\",\"linecolor\":\"white\",\"showbackground\":true,\"ticks\":\"\",\"zerolinecolor\":\"white\",\"gridwidth\":2},\"yaxis\":{\"backgroundcolor\":\"#E5ECF6\",\"gridcolor\":\"white\",\"linecolor\":\"white\",\"showbackground\":true,\"ticks\":\"\",\"zerolinecolor\":\"white\",\"gridwidth\":2},\"zaxis\":{\"backgroundcolor\":\"#E5ECF6\",\"gridcolor\":\"white\",\"linecolor\":\"white\",\"showbackground\":true,\"ticks\":\"\",\"zerolinecolor\":\"white\",\"gridwidth\":2}},\"shapedefaults\":{\"line\":{\"color\":\"#2a3f5f\"}},\"annotationdefaults\":{\"arrowcolor\":\"#2a3f5f\",\"arrowhead\":0,\"arrowwidth\":1},\"geo\":{\"bgcolor\":\"white\",\"landcolor\":\"#E5ECF6\",\"subunitcolor\":\"white\",\"showland\":true,\"showlakes\":true,\"lakecolor\":\"white\"},\"title\":{\"x\":0.05},\"mapbox\":{\"style\":\"light\"}}},\"scene\":{\"domain\":{\"x\":[0.0,1.0],\"y\":[0.0,1.0]},\"xaxis\":{\"title\":{\"text\":\"0\"}},\"yaxis\":{\"title\":{\"text\":\"1\"}},\"zaxis\":{\"title\":{\"text\":\"2\"}}},\"coloraxis\":{\"colorbar\":{\"title\":{\"text\":\"Fantasy\"}},\"colorscale\":[[0.0,\"#0d0887\"],[0.1111111111111111,\"#46039f\"],[0.2222222222222222,\"#7201a8\"],[0.3333333333333333,\"#9c179e\"],[0.4444444444444444,\"#bd3786\"],[0.5555555555555556,\"#d8576b\"],[0.6666666666666666,\"#ed7953\"],[0.7777777777777778,\"#fb9f3a\"],[0.8888888888888888,\"#fdca26\"],[1.0,\"#f0f921\"]]},\"legend\":{\"tracegroupgap\":0},\"margin\":{\"t\":60}},                        {\"responsive\": true}                    ).then(function(){\n",
       "                            \n",
       "var gd = document.getElementById('76ba025b-c705-4e7a-bd32-278c84503c48');\n",
       "var x = new MutationObserver(function (mutations, observer) {{\n",
       "        var display = window.getComputedStyle(gd).display;\n",
       "        if (!display || display === 'none') {{\n",
       "            console.log([gd, 'removed!']);\n",
       "            Plotly.purge(gd);\n",
       "            observer.disconnect();\n",
       "        }}\n",
       "}});\n",
       "\n",
       "// Listen for the removal of the full notebook cells\n",
       "var notebookContainer = gd.closest('#notebook-container');\n",
       "if (notebookContainer) {{\n",
       "    x.observe(notebookContainer, {childList: true});\n",
       "}}\n",
       "\n",
       "// Listen for the clearing of the current output cell\n",
       "var outputEl = gd.closest('.output');\n",
       "if (outputEl) {{\n",
       "    x.observe(outputEl, {childList: true});\n",
       "}}\n",
       "\n",
       "                        })                };                });            </script>        </div>"
      ]
     },
     "metadata": {},
     "output_type": "display_data"
    }
   ],
   "source": [
    "genre_to_color = \"Fantasy\"\n",
    "\n",
    "fig = px.scatter_3d(df, x=0, y=1, z=2, hover_data=\"titles\", color=genre_to_color)\n",
    "fig.add_scatter3d(\n",
    "    x=[0], y=[0], z=[0], marker=dict(color=\"orange\"), name=\"origin (0,0,0)\"\n",
    ")\n",
    "# fig.add_scatter3d(\n",
    "#     x=[query_embedding_pcad[0]],\n",
    "#     y=[query_embedding_pcad[1]],\n",
    "#     z=[query_embedding_pcad[2]],\n",
    "#     marker=dict(color=\"#16FF32\"),\n",
    "#     name=\"query\",\n",
    "# )"
   ]
  },
  {
   "cell_type": "markdown",
   "metadata": {},
   "source": [
    "## Normalize the vectors to visualize how the Cosine Similairty function might find vectors close to it"
   ]
  },
  {
   "cell_type": "code",
   "execution_count": 205,
   "metadata": {},
   "outputs": [],
   "source": [
    "# Normalize the vectors \n",
    "# Step 1: Compute the magnitude (norm) for each row (vector)\n",
    "df['magnitude'] = np.linalg.norm(df[[0, 1, 2]], axis=1)\n",
    "\n",
    "# Step 2: Normalize the x, y, z columns by dividing each by the magnitude\n",
    "df_normalized = df[[0, 1, 2]].div(df['magnitude'], axis=0)\n",
    "\n",
    "df_normalized = pd.concat([df_normalized, df[df.columns[3:]]], axis=1)\n",
    "\n",
    "# # Normalize the query vector\n",
    "# query_magnitude = np.linalg.norm(query_embedding_pcad)\n",
    "# query_normalized = query_embedding_pcad / query_magnitude"
   ]
  },
  {
   "cell_type": "code",
   "execution_count": 207,
   "metadata": {},
   "outputs": [
    {
     "data": {
      "application/vnd.plotly.v1+json": {
       "config": {
        "plotlyServerURL": "https://plot.ly"
       },
       "data": [
        {
         "customdata": [
          [
           "Orlando"
          ],
          [
           "Small Soldiers"
          ],
          [
           "Lone Rider"
          ],
          [
           "High Noon"
          ],
          [
           "Devil's Playground"
          ],
          [
           "Detective K: Secret of Virtuous Widow"
          ],
          [
           "Fast & Furious 6"
          ],
          [
           "The Legend of Hercules"
          ],
          [
           "Brightness"
          ],
          [
           "Erased"
          ],
          [
           "Ghost"
          ],
          [
           "Where Eagles Dare"
          ],
          [
           "The Horse Whisperer"
          ],
          [
           "Stealing Rembrandt"
          ],
          [
           "Hancock"
          ],
          [
           "Jack the Giant Slayer"
          ],
          [
           "Spartacus"
          ],
          [
           "Ong-bak"
          ],
          [
           "The Milagro Beanfield War"
          ],
          [
           "Tracker"
          ],
          [
           "U.S. Marshals"
          ],
          [
           "Ong-bak 3"
          ],
          [
           "The Island"
          ],
          [
           "xXx: State of the Union"
          ],
          [
           "Smokin' Aces"
          ],
          [
           "Agency of Vengeance: Dark Rising"
          ],
          [
           "Point Blank"
          ],
          [
           "The Slipper and the Rose: The Story of Cinderella"
          ],
          [
           "Tae Guk Gi: The Brotherhood of War"
          ],
          [
           "Haywire"
          ],
          [
           "Four Brothers"
          ],
          [
           "Antonio das Mortes"
          ],
          [
           "Titanic"
          ],
          [
           "The Chaperone"
          ],
          [
           "Hot Shots! Part Deux"
          ],
          [
           "The Great Northfield Minnesota Raid"
          ],
          [
           "The Sheepman"
          ],
          [
           "Here Comes Mr. Jordan"
          ],
          [
           "Flightplan"
          ],
          [
           "Gladiator"
          ],
          [
           "Shootout at Lokhandwala"
          ],
          [
           "Saints and Soldiers"
          ],
          [
           "Cowboy Bebop: The Movie"
          ],
          [
           "The Expendables 2"
          ],
          [
           "King Size"
          ],
          [
           "Blood Tea and Red String"
          ],
          [
           "Tommy Tricker and the Stamp Traveller"
          ],
          [
           "Furious 7"
          ],
          [
           "The Last Unicorn"
          ],
          [
           "The Three Musketeers"
          ],
          [
           "Cèdigo Paz"
          ],
          [
           "Mad Max 2: The Road Warrior"
          ],
          [
           "Horsehead"
          ],
          [
           "The City of Lost Children"
          ],
          [
           "Juice"
          ],
          [
           "Hot Fuzz"
          ],
          [
           "The Karate Kid, Part III"
          ],
          [
           "John Carter"
          ],
          [
           "12 Dates of Christmas"
          ],
          [
           "Black Rain"
          ],
          [
           "The Hobbit: The Battle of the Five Armies"
          ],
          [
           "Free Ride"
          ],
          [
           "Die Nibelungen, Teil 1 - Siegfried"
          ],
          [
           "Watchers"
          ],
          [
           "Biteu"
          ],
          [
           "Angel"
          ],
          [
           "King of Triads"
          ],
          [
           "Godzilla"
          ],
          [
           "Solomon Kane"
          ],
          [
           "Lethal Weapon 3"
          ],
          [
           "Macario"
          ],
          [
           "The Jack Bull"
          ],
          [
           "Takers"
          ],
          [
           "Clash of the Wolves"
          ],
          [
           "Amar Akbar Anthony"
          ],
          [
           "Willy Wonka & the Chocolate Factory"
          ],
          [
           "Fireball"
          ],
          [
           "Phantom of the Paradise"
          ],
          [
           "Robin Hood"
          ],
          [
           "The Science of Sleep"
          ],
          [
           "Sicario"
          ],
          [
           "The Good Witch"
          ],
          [
           "Mohra"
          ],
          [
           "The Perils of Pauline"
          ],
          [
           "Pedro Pèramo"
          ],
          [
           "Quigley Down Under"
          ],
          [
           "The Spy Who Loved Me"
          ],
          [
           "Turetskiy gambit"
          ],
          [
           "Varalaaru"
          ],
          [
           "Nothing to Lose"
          ],
          [
           "The Big Trail"
          ],
          [
           "Wer"
          ],
          [
           "Shanghai Noon"
          ],
          [
           "Game of Assassins"
          ],
          [
           "The Monkey King"
          ],
          [
           "The Silencers"
          ],
          [
           "Easy Money"
          ],
          [
           "Pleasantville"
          ],
          [
           "SAGA: Curse of the Shadow"
          ],
          [
           "Perrier's Bounty"
          ],
          [
           "F/X"
          ],
          [
           "Boss"
          ],
          [
           "Aragami"
          ],
          [
           "Death Wish II"
          ],
          [
           "The Black Hole"
          ],
          [
           "Assault on Precinct 13"
          ],
          [
           "How to Train Your Dragon 2"
          ],
          [
           "186 Dollars to Freedom"
          ],
          [
           "Appaloosa"
          ],
          [
           "Johnny Mnemonic"
          ],
          [
           "City Under Siege"
          ],
          [
           "Dragon Inn"
          ],
          [
           "Loch Ness"
          ],
          [
           "Kundo: Age of the Rampant"
          ],
          [
           "Shenandoah"
          ],
          [
           "Pitch Black"
          ],
          [
           "Double Impact"
          ],
          [
           "Lucky Luke"
          ],
          [
           "Speed"
          ],
          [
           "Izo"
          ],
          [
           "Futurama: Bender's Game"
          ],
          [
           "The Three Musketeers"
          ],
          [
           "The Recruit"
          ],
          [
           "Action Jackson"
          ],
          [
           "Hereafter"
          ],
          [
           "Brutal Relax"
          ],
          [
           "Northpole"
          ],
          [
           "Snow White and the Huntsman"
          ],
          [
           "Admiral"
          ],
          [
           "They Live"
          ],
          [
           "Mermaid"
          ],
          [
           "The Stool Pigeon"
          ],
          [
           "Dead Man's Burden"
          ],
          [
           "Tamara"
          ],
          [
           "Battle of Britain"
          ],
          [
           "Connected"
          ],
          [
           "Twilight"
          ],
          [
           "The Shootist"
          ],
          [
           "Bounty Hunters"
          ],
          [
           "Charlie's Angels: Full Throttle"
          ],
          [
           "Underworld: Evolution"
          ],
          [
           "The Guardian"
          ],
          [
           "5ive Days to Midnight"
          ],
          [
           "Jungle"
          ],
          [
           "Eagle Eye"
          ],
          [
           "Backdraft"
          ],
          [
           "Monster Brawl"
          ],
          [
           "Kiss of Death"
          ],
          [
           "Death Becomes Her"
          ],
          [
           "Jesus Christ Vampire Hunter"
          ],
          [
           "Ucieczka z kina 'Wolnosc'"
          ],
          [
           "Pete's Dragon"
          ],
          [
           "G.I. Joe: Retaliation"
          ],
          [
           "Action Jackson"
          ],
          [
           "Dances with Wolves"
          ],
          [
           "The Jackal"
          ],
          [
           "Kill Bill: Vol. 2"
          ],
          [
           "Turn It Up"
          ],
          [
           "Detective Dee: Mystery of the Phantom Flame"
          ],
          [
           "A Dark Truth"
          ],
          [
           "Helen of Troy"
          ],
          [
           "Babine"
          ],
          [
           "Ashura-jè no hitomi"
          ],
          [
           "Fighting"
          ],
          [
           "Immortal (Ad Vitam)"
          ],
          [
           "Hell Ride"
          ],
          [
           "Nazareno Cruz and the Wolf"
          ],
          [
           "Singham Returns"
          ],
          [
           "Big Trouble in Little China"
          ],
          [
           "T-Rex: Back to the Cretaceous"
          ],
          [
           "The Matrix Reloaded"
          ],
          [
           "The Art of War II: Betrayal"
          ],
          [
           "Batman: Under the Red Hood"
          ],
          [
           "Kung Fu Panda"
          ],
          [
           "Jackie Chan's First Strike"
          ],
          [
           "At World's End"
          ],
          [
           "Cast a Deadly Spell"
          ],
          [
           "Gupt: The Hidden Truth"
          ],
          [
           "Snow on the Blades"
          ],
          [
           "Highway to Hell"
          ],
          [
           "The Myth"
          ],
          [
           "The Thief of Bagdad"
          ],
          [
           "Byzantium"
          ],
          [
           "The Tree of Life"
          ],
          [
           "Spooky Buddies"
          ],
          [
           "Becoming Bulletproof"
          ],
          [
           "Patlabor 2: The Movie"
          ],
          [
           "Percy Jackson: Sea of Monsters"
          ],
          [
           "The Amazing Spider-Man"
          ],
          [
           "That Man from Rio"
          ],
          [
           "Radioactive Dreams"
          ],
          [
           "Beauty and the Beast"
          ],
          [
           "The Pied Piper"
          ],
          [
           "Old Men in New Cars: In China They Eat Dogs II"
          ],
          [
           "Mr. Nobody"
          ],
          [
           "The Prodigal Son"
          ],
          [
           "Gulaab Gang"
          ],
          [
           "Thumbelina"
          ],
          [
           "Typhoon"
          ],
          [
           "Broken Arrow"
          ],
          [
           "Cinderella"
          ],
          [
           "The Five People You Meet in Heaven"
          ],
          [
           "Screamers"
          ],
          [
           "Premium Rush"
          ],
          [
           "The Last Airbender"
          ],
          [
           "Chura Liyaa Hai Tumne"
          ],
          [
           "Uppercut"
          ],
          [
           "La Antena"
          ],
          [
           "Rogue"
          ],
          [
           "The Wild Bunch"
          ],
          [
           "Outbreak"
          ],
          [
           "In the Name of the King: A Dungeon Siege Tale"
          ],
          [
           "Man of Steel"
          ],
          [
           "Ashes of Time"
          ],
          [
           "Freebie and the Bean"
          ],
          [
           "Air Force One"
          ],
          [
           "Die Hard 2"
          ],
          [
           "The Redwood Massacre"
          ],
          [
           "Outlander"
          ],
          [
           "Ghost"
          ],
          [
           "Fair Game"
          ],
          [
           "The Book of Eli"
          ],
          [
           "Don't Hug Me I'm Scared"
          ],
          [
           "Twelve"
          ],
          [
           "Nightfall"
          ],
          [
           "Xingu"
          ],
          [
           "Frog"
          ],
          [
           "Il piccolo diavolo"
          ],
          [
           "Batman Beyond: Return of the Joker"
          ],
          [
           "Pet Sematary II"
          ],
          [
           "Marvel One-Shot: Item 47"
          ],
          [
           "Invisible Target"
          ],
          [
           "Retroactive"
          ],
          [
           "Edward Scissorhands"
          ],
          [
           "Parker"
          ],
          [
           "Yuva"
          ],
          [
           "The Bourne Identity"
          ],
          [
           "Just My Luck"
          ],
          [
           "The Stone Raft"
          ],
          [
           "Turbulence"
          ],
          [
           "The Hole"
          ],
          [
           "Miracle in Milan"
          ],
          [
           "The Adventures of Tintin"
          ],
          [
           "Rough Cut"
          ],
          [
           "Harry Potter and the Prisoner of Azkaban"
          ],
          [
           "Foreign Land"
          ],
          [
           "A.C.A.B."
          ],
          [
           "Metalstorm: The Destruction of Jared-Syn"
          ],
          [
           "Bruce Almighty"
          ],
          [
           "Belladonna of Sadness"
          ],
          [
           "The Blood of Jesus"
          ],
          [
           "Red River"
          ],
          [
           "Battle Beyond the Stars"
          ],
          [
           "The Night Flier"
          ],
          [
           "Dreams"
          ],
          [
           "The Sandman"
          ],
          [
           "Ladyhawke"
          ],
          [
           "Taken"
          ],
          [
           "For Your Eyes Only"
          ],
          [
           "Into the West"
          ],
          [
           "Julia and Julia"
          ],
          [
           "Mistletoe Over Manhattan"
          ],
          [
           "Mighty Morphin Power Rangers: The Movie"
          ],
          [
           "Lawnmower Man 2: Beyond Cyberspace"
          ],
          [
           "Road House"
          ],
          [
           "Oh, God! You Devil"
          ],
          [
           "The Saratov Approach"
          ],
          [
           "Prancer"
          ],
          [
           "The Young Lions"
          ],
          [
           "Pain & Gain"
          ],
          [
           "Thou Gild'st the Even"
          ],
          [
           "Jungle Book"
          ],
          [
           "Thou Gild'st the Even"
          ],
          [
           "They Call Me Macho Woman!"
          ],
          [
           "Enter the Dragon"
          ],
          [
           "Rooftops"
          ],
          [
           "Guardians of the Galaxy"
          ],
          [
           "Colors"
          ],
          [
           "Fulltime Killer"
          ],
          [
           "Life of Pi"
          ],
          [
           "The Raid: Redemption"
          ],
          [
           "Predator"
          ],
          [
           "Secretly, Greatly"
          ],
          [
           "Shopping"
          ],
          [
           "Fantasia"
          ],
          [
           "Dagon"
          ],
          [
           "Dr. Wai in the Scriptures with No Words"
          ],
          [
           "Imaginaerum"
          ],
          [
           "Star Trek III: The Search for Spock"
          ],
          [
           "Woman on Top"
          ],
          [
           "The Memory of a Killer"
          ],
          [
           "Beverly Hills Cop"
          ],
          [
           "Bodyguards and Assassins"
          ],
          [
           "K-9: P.I."
          ],
          [
           "Kick-Heart"
          ],
          [
           "Escape"
          ],
          [
           "Sahara"
          ],
          [
           "Saamy"
          ],
          [
           "Police Story 2"
          ],
          [
           "Scanners II: The New Order"
          ]
         ],
         "hovertemplate": "0=%{x}<br>1=%{y}<br>2=%{z}<br>titles=%{customdata[0]}<br>Fantasy=%{marker.color}<extra></extra>",
         "legendgroup": "",
         "marker": {
          "color": [
           1,
           0,
           0,
           0,
           0,
           0,
           0,
           1,
           1,
           0,
           1,
           0,
           0,
           0,
           1,
           1,
           0,
           0,
           1,
           0,
           0,
           0,
           0,
           0,
           0,
           0,
           0,
           1,
           0,
           0,
           0,
           0,
           0,
           0,
           0,
           0,
           0,
           1,
           0,
           0,
           0,
           0,
           0,
           0,
           1,
           1,
           1,
           0,
           1,
           0,
           0,
           0,
           1,
           1,
           0,
           0,
           0,
           1,
           1,
           0,
           1,
           0,
           1,
           0,
           0,
           0,
           0,
           0,
           1,
           0,
           1,
           0,
           0,
           0,
           0,
           1,
           0,
           1,
           0,
           1,
           0,
           1,
           0,
           0,
           1,
           0,
           0,
           0,
           0,
           0,
           0,
           0,
           0,
           0,
           1,
           0,
           0,
           1,
           1,
           0,
           0,
           0,
           1,
           0,
           0,
           0,
           0,
           0,
           0,
           0,
           0,
           0,
           1,
           0,
           0,
           0,
           0,
           0,
           0,
           1,
           0,
           0,
           0,
           0,
           1,
           0,
           1,
           0,
           0,
           0,
           1,
           0,
           0,
           1,
           0,
           0,
           1,
           0,
           0,
           0,
           1,
           0,
           0,
           0,
           0,
           0,
           0,
           0,
           1,
           0,
           1,
           1,
           0,
           0,
           0,
           0,
           0,
           0,
           0,
           0,
           0,
           1,
           1,
           0,
           0,
           0,
           1,
           0,
           0,
           1,
           0,
           0,
           0,
           0,
           0,
           0,
           1,
           0,
           0,
           1,
           0,
           1,
           1,
           1,
           1,
           0,
           0,
           1,
           1,
           0,
           0,
           1,
           1,
           0,
           1,
           0,
           0,
           1,
           0,
           0,
           1,
           1,
           0,
           0,
           0,
           0,
           0,
           1,
           0,
           0,
           0,
           0,
           1,
           0,
           0,
           0,
           0,
           1,
           0,
           1,
           0,
           0,
           1,
           0,
           0,
           0,
           1,
           1,
           0,
           0,
           0,
           0,
           0,
           1,
           0,
           0,
           0,
           1,
           1,
           0,
           1,
           1,
           0,
           0,
           1,
           0,
           0,
           0,
           1,
           1,
           1,
           0,
           0,
           1,
           1,
           1,
           1,
           0,
           0,
           0,
           1,
           1,
           0,
           0,
           0,
           1,
           0,
           1,
           0,
           0,
           1,
           0,
           1,
           0,
           0,
           0,
           0,
           0,
           0,
           1,
           0,
           0,
           0,
           0,
           1,
           1,
           0,
           1,
           0,
           1,
           0,
           0,
           0,
           0,
           0,
           0,
           0,
           0,
           0,
           0
          ],
          "coloraxis": "coloraxis",
          "symbol": "circle"
         },
         "mode": "markers",
         "name": "",
         "scene": "scene",
         "showlegend": false,
         "type": "scatter3d",
         "x": [
          -0.9643994863492257,
          0.08966451604924477,
          -0.06717132467179643,
          0.6274551522127186,
          0.055391674069286,
          0.5676119792473967,
          0.8983815743648275,
          -0.8412681866270523,
          -0.6990127858957303,
          0.9185877062374045,
          0.011700003125464311,
          0.4965020654392298,
          -0.5999283802159276,
          0.440586370567977,
          0.37604058675009155,
          -0.6972162357633954,
          -0.340044411826477,
          0.24598281918909462,
          -0.3479131726796442,
          0.5671568193828197,
          0.9836038106590836,
          -0.21089832126854316,
          -0.06308516954194397,
          0.958320413796299,
          0.8776725654713272,
          -0.8352537558310218,
          0.07981554241528188,
          -0.9407457849351492,
          0.03008308840745529,
          0.6158328992481498,
          0.8205871495104874,
          -0.7418753082211401,
          -0.8049944317471569,
          0.737547638786842,
          0.6808180256187153,
          0.8543039839170326,
          -0.38302441987378827,
          0.07875691119699298,
          -0.33045312201759186,
          0.22650340243749334,
          0.6961653077911841,
          0.06763564749135945,
          0.5676161990578567,
          0.8303314728606271,
          -0.9426586444836769,
          -0.9907563431168924,
          -0.4285843259714351,
          0.854722058934422,
          -0.5976798301428018,
          -0.2336166795755241,
          0.1986112001040505,
          0.3764942736407538,
          -0.6258870299946621,
          -0.3533320741774351,
          0.45120199555182916,
          0.6167821798023613,
          0.5980780250427316,
          -0.6054887866809482,
          -0.33984314498211166,
          0.9767066784085403,
          -0.40139980073883597,
          0.1681310935162328,
          -0.8650026023284891,
          -0.8442238762213506,
          -0.09302498971862043,
          -0.13162062576207376,
          0.7427293921733652,
          -0.005558278812785267,
          -0.637067266525595,
          0.9693494762758768,
          -0.8886919415635319,
          0.7247931167541876,
          0.9989536763851623,
          -0.17333536436650054,
          -0.5422112602478507,
          -0.8707785567666723,
          0.3318412746459279,
          -0.7907578873900182,
          -0.20873210407094347,
          -0.7465012135517332,
          0.9832284943059791,
          -0.692215836477978,
          -0.053406823065118444,
          -0.3834148286762336,
          -0.4469915364748524,
          0.6768944907591863,
          0.8379347311072417,
          -0.6250077849331219,
          -0.3788444655106141,
          0.5809075980845503,
          -0.5561244047940666,
          0.3797007430490248,
          0.13647885671440985,
          -0.32915253427396285,
          -0.4587416395065197,
          0.5088997999864014,
          0.841104978142748,
          -0.2884172926303574,
          -0.6429493887337744,
          0.9977442049251645,
          0.9523786834986965,
          0.916824551423769,
          -0.25273220602785523,
          0.8460285070180104,
          -0.03715188996772938,
          0.9907233028787791,
          -0.5807042408088197,
          0.41937027851460124,
          0.48880438753929345,
          0.7926800879593691,
          -0.14486193415194018,
          -0.3412811898148167,
          -0.333933773742185,
          0.29750799044105275,
          -0.6422418471050284,
          -0.49562306828772357,
          0.3710534823314052,
          0.5323568404172739,
          0.877988289548067,
          0.08499349517787573,
          -0.34250656289541903,
          -0.11423960800138522,
          0.846681289209601,
          0.9899157266340308,
          -0.15121832059590928,
          -0.5902187103359103,
          -0.9855862606757623,
          -0.7994672767920631,
          -0.39951849126989053,
          -0.010689522545757196,
          -0.7383104177638775,
          0.7858095935703246,
          -0.2131849781450889,
          -0.4678901241085964,
          -0.029737220930924183,
          0.2530521514516861,
          -0.698235987479456,
          0.8578037113644881,
          0.3649532745766359,
          0.7306157452183887,
          -0.44983307979682663,
          -0.4189598395400584,
          0.5807177769914925,
          -0.8579445629579316,
          0.14670632343633283,
          0.9826512571711276,
          -0.3917344870437154,
          0.9487851333612312,
          -0.5297506578747044,
          -0.19046208335227016,
          -0.21908282387335412,
          -0.8274709464152907,
          0.6039630126881884,
          0.9304103835503487,
          -0.2738262242210303,
          0.9183453243902995,
          0.21205416447811976,
          0.5678835934209256,
          0.8819479922738809,
          0.7294446057867399,
          -0.8329571635708928,
          -0.7167842227682083,
          -0.4794720356865516,
          0.7649586070546649,
          -0.7668173072018263,
          0.8002006911216769,
          -0.9475127820087926,
          0.958105180835373,
          0.07513798113715076,
          -0.8982231300480309,
          0.09233368072170031,
          0.9289946584930542,
          0.5677815978206063,
          -0.5177696214659813,
          0.8578544157114727,
          -0.8547065832982167,
          0.003395222805286368,
          0.6628895096301185,
          0.20695177504515958,
          -0.43915413593641334,
          -0.7580334546505982,
          -0.22848132290329318,
          -0.4202814872688315,
          -0.3618989643277603,
          -0.6610844745225439,
          -0.4281320308450232,
          0.9089215531761592,
          -0.6507671865902467,
          -0.34815787876157245,
          0.1143823129383241,
          0.7674255261136282,
          -0.9437408729522715,
          -0.9331054879005548,
          -0.6922393309385613,
          -0.7678586309211753,
          -0.03691631640973878,
          0.09967257598065284,
          -0.9476363407076545,
          0.29312932376818357,
          0.7099925187146098,
          -0.957683553090539,
          -0.05873646082601598,
          -0.15182349449305832,
          0.8558083610340028,
          -0.4144626486396253,
          -0.422012770314167,
          0.15427616537089062,
          -0.39023823341937774,
          -0.0985232854622426,
          0.6838769729846282,
          0.19919696623695934,
          -0.4227867020195613,
          -0.7743455346651665,
          0.7670653102323772,
          0.9501275315955104,
          0.7363157884737295,
          0.8727294889509659,
          -0.5994820913503383,
          -0.5948020287451689,
          -0.2699276674693332,
          0.930185045916421,
          -0.3193778200633869,
          -0.8755593567435932,
          0.7377935491505413,
          0.4831335556884213,
          -0.49027673611532313,
          -0.8601217075652425,
          -0.7005739922247717,
          0.5730131047494469,
          -0.9321777973325589,
          0.8144746364421577,
          0.9906343295307327,
          -0.007791501223999452,
          -0.6045178848012956,
          0.9882531501273634,
          -0.003979979907589495,
          0.9207914048263152,
          -0.15404831064115523,
          -0.9018678301308591,
          0.5681703491832367,
          -0.8788057804896106,
          -0.8434275213405047,
          -0.37543315052139986,
          0.7089785559994092,
          -0.11246809866078332,
          -0.634141882103288,
          0.7786960709689198,
          -0.20078263316552408,
          -0.8065643557474004,
          -0.8794063996999572,
          -0.2626648333264406,
          -0.20384906129024352,
          -0.1309322969004961,
          0.27923088194700973,
          -0.6257184096575604,
          -0.8970314084248742,
          -0.7375454594343548,
          0.728223663714789,
          0.6804302266236821,
          -0.5284274488689423,
          -0.28513967899932646,
          -0.5983757086364059,
          -0.35461853973499396,
          -0.00677894364341726,
          -0.005922472891923107,
          -0.9638137687259363,
          0.7171657297503297,
          -0.9201807198530408,
          -0.5198480624154903,
          0.9764158469952202,
          -0.7768125297732961,
          -0.958207758432082,
          -0.776519146763649,
          -0.7658392861246406,
          0.888750620338952,
          -0.18414285270410233,
          0.36491504264557234,
          0.9239268319290235,
          0.9984542498718448,
          -0.83585053450118,
          0.9892088845318912,
          0.30133569629674833,
          0.45764819389666983,
          0.34288353547629996,
          -0.7719821519836217,
          -0.7936929810840004,
          -0.9039151753354555,
          -0.8939141211306023,
          0.20594936706131448,
          -0.25361040173605537,
          0.7719636135254728,
          0.7930549685082015,
          0.2431739264816972,
          0.940306324414489,
          -0.48149063943578907,
          -0.887978462238545,
          0.07330206988900784,
          0.5293042114498455,
          0.971295586127846,
          0.5361993867369602
         ],
         "y": [
          0.03711112213175586,
          -0.8607527079902625,
          -0.2960848516421428,
          -0.43451567727097073,
          -0.7824715809089383,
          0.09870520425804206,
          -0.10308661291777889,
          -0.5350422091523837,
          -0.6413455707152251,
          0.3343688671441587,
          0.7733202255477254,
          -0.7303383700735705,
          0.7125022166222845,
          0.5558316526212371,
          -0.8233135748642003,
          -0.7159211070064624,
          -0.786925463109391,
          -0.6927210505587987,
          0.7910286772654703,
          -0.21373475664814473,
          -0.1738955304990654,
          -0.5269428611031088,
          0.79032754177539,
          -0.2532443173781663,
          0.46475275813392464,
          -0.5407494780419131,
          0.9771935018909234,
          0.3287579126192007,
          -0.45874781650417945,
          -0.34997963040080277,
          -0.5514245318762584,
          0.09143365810156892,
          0.5578123571944407,
          0.6167917002492591,
          -0.6810793887668461,
          0.01901967207927045,
          0.23165305002695608,
          0.9284077398244793,
          0.7153428288606571,
          -0.8458125655713221,
          0.47262293716810805,
          -0.8964136653562462,
          -0.6310553982772098,
          -0.508459069868931,
          -0.3337346711948861,
          0.01291693347718089,
          0.9008282565444392,
          -0.18230008114058768,
          -0.7842583745857659,
          -0.6549273343899779,
          0.8846544070450678,
          -0.9253679344981668,
          0.6480494811164983,
          0.17807324709795483,
          0.4865696407755048,
          0.7838156167606409,
          -0.7885893228175996,
          -0.783055378563748,
          0.9260671806417562,
          0.053832724421529504,
          -0.9036686698319817,
          0.9830590749854684,
          -0.15859683432294716,
          -0.27962229282500883,
          0.19705152623325425,
          0.9843520983306421,
          -0.21086530799931585,
          -0.5663950460068303,
          -0.7400376075751334,
          0.03410660500450635,
          0.45733510998683713,
          0.012555478837520609,
          0.04366355422488918,
          -0.8195053196993393,
          -0.039810100029292264,
          0.49167001427958945,
          0.6429202976172058,
          0.5520562848649513,
          -0.8544646150758,
          0.6621310677133141,
          -0.050412722425074184,
          0.48888529884632054,
          0.965192869936924,
          0.9221637650466066,
          0.1575539408480384,
          0.08084369707953219,
          -0.19033586378884004,
          -0.24637794017940207,
          0.8413796562078776,
          0.8128330575367944,
          -0.43880394530376854,
          0.7587008376206811,
          -0.6023154108697335,
          -0.4112529260004552,
          -0.3907790018210495,
          -0.1702550906495849,
          0.0944185737871903,
          0.8318528495695665,
          -0.6651048632229863,
          0.06705396205522039,
          0.15304971147241772,
          0.24440109635357732,
          -0.9491094948584904,
          0.5264574287058129,
          -0.2481455814482474,
          0.07668099609207343,
          -0.8050066496832435,
          0.7658557303919488,
          0.7086622462296076,
          -0.2978256564415971,
          -0.8642245123141248,
          -0.2990992450323094,
          -0.12325082898033737,
          -0.6168785093858832,
          0.36847075427227005,
          -0.5621601613007706,
          0.1928040868564669,
          -0.2814708696177723,
          0.17593342001027723,
          -0.9843819856307514,
          -0.6085141235097488,
          -0.43981775459327455,
          0.3241371507954407,
          0.07820425242584807,
          0.7501124445400821,
          0.6021749893226441,
          0.15143970144913818,
          -0.3345514394376982,
          -0.7058749134793795,
          -0.6038302906497793,
          0.6692034233881717,
          0.2983574606585362,
          -0.15482296235741494,
          0.6504683640564273,
          -0.9463950887486136,
          0.610096349261284,
          0.4467893545558228,
          -0.4180467055582665,
          -0.8952864631604622,
          0.4194618853950299,
          -0.711929169017027,
          0.7195477200133517,
          0.5985943860843497,
          0.32226280524833756,
          0.8436173901646933,
          0.12229995447140114,
          -0.7854637639891549,
          0.31530248325399657,
          0.3263675496236186,
          -0.633821816031729,
          0.1207369701529437,
          -0.5532792795795471,
          -0.7867969488488934,
          0.18405173155244262,
          -0.8627739481782825,
          -0.2712735848658313,
          0.6667333448616997,
          0.5484656971060813,
          -0.3028298968297305,
          0.6416043819573164,
          -0.341991674660171,
          0.4539525098279787,
          -0.6053348204947361,
          0.08564175132005603,
          -0.31839914379221346,
          -0.4687540301149574,
          0.12750129935974866,
          0.22959681191012976,
          -0.8500879359894103,
          0.0043089608116245945,
          -0.7799368139775527,
          -0.13774407863395896,
          -0.4765220307139237,
          -0.7362317027400231,
          -0.3209990456982429,
          0.030386593298913196,
          0.13199104167882955,
          0.7079526728251558,
          -0.7478920692488384,
          0.5495557186669976,
          -0.5507981163680356,
          -0.8645383309116168,
          0.575977569253586,
          0.4772905164713701,
          0.06793870267120336,
          -0.14212251020434066,
          -0.3302725152601765,
          -0.6227364201738429,
          -0.04015359852779732,
          0.8955209504572506,
          -0.5110244445511902,
          0.31449572292769334,
          0.3557041298847629,
          0.5574805129588837,
          0.6351600212412929,
          -0.22358184041470341,
          0.952418495878457,
          0.03082328570072437,
          -0.9220985699425766,
          -0.08291329425850294,
          0.2715081942663715,
          0.9963027173721809,
          -0.8055139018681432,
          0.5027120355507438,
          -0.8763492657980793,
          0.8005517141117507,
          -0.091425368248963,
          0.7062828572334141,
          -0.4123968757956868,
          -0.4849881505462053,
          -0.09844058666387588,
          -0.8485649824800653,
          0.5669615625128887,
          -0.5579039883415822,
          0.23213468603151036,
          -0.5259663180757315,
          -0.396676674969411,
          0.17566481687589486,
          -0.7898481642469496,
          0.8289251283989134,
          0.22088086069107574,
          -0.9348393437620152,
          0.35079212537052173,
          0.5088346657611882,
          0.7042174549747517,
          -0.37721990669132077,
          0.19456799462331265,
          0.7079098523143337,
          -0.5347399815745,
          0.014310135899142769,
          -0.19718558035631079,
          -0.13158306849997772,
          0.7136122586882074,
          0.6017329594640419,
          0.15200279881496354,
          0.35787675463339585,
          -0.23765313757029602,
          0.9857639316928738,
          0.19832310321073,
          0.26575525840912423,
          0.4627541168040822,
          0.537242545155481,
          -0.7115569950585895,
          0.2706741571446869,
          -0.3007850785744116,
          0.5779940503053097,
          0.28903511723738856,
          -0.9599219175917473,
          -0.39501707880584136,
          0.1844167900978334,
          0.789984581772387,
          -0.44749539321155063,
          -0.9803907725032216,
          0.22505903181139317,
          -0.3504294149791329,
          0.4408745911221433,
          0.27351528911947165,
          0.5350892993981826,
          -0.37515024941123043,
          0.08151519318463955,
          0.9584787653009014,
          0.6166701305453172,
          -0.7944041342612134,
          -0.22433815876337462,
          0.9938552289670333,
          0.1142791525375325,
          0.3706848395163858,
          0.38558521581064603,
          -0.05738087529961292,
          0.2156758864694405,
          0.41310577415626776,
          -0.20531586419224365,
          0.4133229896988164,
          0.48141283008093816,
          -0.4216508563625599,
          -0.027668681063591036,
          -0.9049332925609561,
          0.21892173246347818,
          -0.007492779591439204,
          -0.537741608518886,
          -0.14293801720732632,
          -0.9091189431043221,
          -0.3530134055423261,
          0.43305940410458077,
          -0.16948190347517372,
          -0.04109638448996375,
          -0.4010045672399084,
          -0.12645536416435643,
          -0.6857963151121389,
          0.9569180917905266,
          0.6237571668455713,
          0.5913117070084984,
          -0.4166478486906957,
          0.24645507904062594,
          0.8753108774453167,
          0.13889885274344593,
          -0.8886200097839918,
          0.6577394548381664,
          -0.21490788075709671,
          -0.4631806873520325
         ],
         "z": [
          0.26183276216598983,
          -0.5010639183268785,
          0.9527968166245552,
          -0.646139426259893,
          -0.6202176936476971,
          0.8173578920321447,
          -0.42694694878745076,
          0.07744464212951069,
          -0.3163178529236881,
          -0.21069904279382928,
          -0.6339076736289594,
          -0.46913917360721336,
          -0.363904561554021,
          0.7049360424989501,
          -0.42514495711577927,
          -0.0366945381570997,
          0.5148962162374627,
          0.67796017491922,
          0.5032196896183856,
          0.7953933593060242,
          0.047790042157107665,
          0.8233183583636285,
          -0.6094281238137387,
          -0.13224711799111943,
          -0.1170288068207503,
          -0.09970539287105047,
          0.19677992542713385,
          0.08316010471984951,
          0.8880571201474131,
          -0.7058782462352383,
          0.15022554943584754,
          0.6642747272160471,
          -0.20206271060552852,
          -0.27493904601489716,
          0.2694766820888474,
          0.5194256011571663,
          0.8942198600979271,
          0.36312038991594914,
          -0.6156990915589036,
          0.4830086051054337,
          0.5403530544843774,
          0.43802735045999636,
          -0.5287541346148544,
          0.22807678409939783,
          -0.003981108217352743,
          0.1350371112072107,
          0.06945450124157984,
          -0.48602148346244717,
          -0.16648610312144374,
          0.7186747760238597,
          0.42182955241301934,
          0.044116297649708446,
          -0.4339323630579981,
          -0.9183933601814978,
          0.7481087781102713,
          0.07219987257872192,
          0.14293199746405802,
          -0.14215344985619735,
          0.16403113651650506,
          0.20771639832596756,
          -0.1492016592766975,
          0.07298486474434944,
          0.4760436346677493,
          -0.45727171372509223,
          0.9759697983528977,
          0.11716209876091452,
          0.6355225187860277,
          -0.8241151360068324,
          -0.21561455724528306,
          0.24330707416503533,
          0.032729652814646584,
          0.6888521596517726,
          -0.013603178636570182,
          0.5462287821457381,
          0.8392985792887387,
          -0.0023026362412834974,
          0.6903150435512537,
          -0.26445381803177515,
          0.4757322044107185,
          -0.06571443779426413,
          0.17527203257362484,
          -0.5308751268434388,
          0.25602819194966675,
          0.05105937314775295,
          0.8805539858765637,
          0.7316270532329806,
          -0.5115052740294971,
          0.7407180160938085,
          -0.38543111585793216,
          0.04299747740304316,
          0.7058163670376967,
          -0.5293395741125873,
          0.7865047154968313,
          -0.8500174351371222,
          0.7980274932097355,
          -0.8438211882156682,
          0.5325669428977735,
          0.47416906475936077,
          -0.37980469249865595,
          -0.003204326910348102,
          -0.26372453248702366,
          0.3157544077408492,
          0.18792977094051633,
          -0.08413287748163668,
          -0.9680100761250043,
          -0.11219341322595668,
          -0.12143672703268941,
          0.48743570829843846,
          0.5087908130962502,
          -0.5319381134284878,
          -0.4817997637496018,
          0.8911042537771244,
          -0.9345038619021127,
          0.7286630910658075,
          0.6721270066536129,
          -0.6620677663406928,
          0.9083754165218153,
          0.7983547732791183,
          -0.44517861038008893,
          0.15416942674573147,
          -0.7158210781073219,
          0.8907915888176201,
          -0.4219785562994663,
          -0.1181141357549251,
          0.6437890493494394,
          -0.5376124591224501,
          -0.07540384335141108,
          -0.4989262547800496,
          0.5849150208824431,
          -0.7970412249071857,
          0.08405061062764492,
          0.5417435817083865,
          0.9646667898399699,
          -0.598305723792943,
          -0.32163960216958515,
          -0.7508309085697834,
          -0.5593261825126552,
          0.2990146229554501,
          0.25548239911473486,
          -0.538750739711627,
          -0.539265295214913,
          0.5538264452661646,
          -0.5517713515890071,
          -0.40009725223299886,
          -0.5165142337588635,
          0.13942463166993088,
          -0.47915630760805666,
          -0.01977662171793029,
          -0.7828463853362246,
          0.7496626576850111,
          0.9682072610355511,
          0.09578033006061559,
          -0.1271976437937399,
          0.3169565873968242,
          0.42501801523431015,
          -0.2881883192020734,
          -0.7144926019050276,
          0.6137536993137206,
          -0.36119495083703107,
          -0.23718006691498744,
          -0.43499891737688823,
          -0.5292896152499637,
          0.6353552723407588,
          0.6383602587284242,
          -0.5573268364327393,
          0.3740969301923985,
          0.29319438362890593,
          0.17123015627254926,
          0.52125309099889,
          -0.43951864750365505,
          -0.6190097395089414,
          -0.34350472091756673,
          -0.6712308182887295,
          0.43574935337588383,
          -0.4013046400244398,
          0.518221295793964,
          -0.9912450945041996,
          0.24368116681856863,
          0.6307364073528244,
          -0.7107264994147481,
          0.3492945986354547,
          0.44762680825540013,
          -0.7011514181514787,
          0.80076394930403,
          -0.7472293156887019,
          0.8924708153534956,
          -0.25452244662417256,
          -0.43439776685254944,
          -0.9365755602093784,
          0.4300684989382762,
          -0.38718481238339947,
          -0.10220374249249493,
          -0.05280833677357382,
          0.45827959410477004,
          -0.08345579869978186,
          0.973985803910668,
          -0.28803539071787443,
          -0.31786048956864366,
          -0.2526052787592982,
          0.6993110960112725,
          -0.09552754883328249,
          -0.06269707749522406,
          -0.5727975038502487,
          0.12195350957115506,
          0.24542346509205992,
          0.4254670077979018,
          0.9837887307948772,
          0.5906595015369922,
          -0.9056610729493028,
          0.5450676835505415,
          -0.9750025741193014,
          -0.3181019885257386,
          0.2809690010963153,
          0.3167869151822131,
          -0.20825743983174877,
          -0.4256741616473434,
          -0.28458892222045123,
          -0.780873289504887,
          -0.14950058206025474,
          -0.48992059136497823,
          -0.2932020220493633,
          -0.15515543627653972,
          -0.3321757028995008,
          0.44356280474308024,
          -0.5202496933941878,
          0.785705965371205,
          -0.4715230043627925,
          -0.08977595677320079,
          -0.6210548557825653,
          -0.3617178101376359,
          -0.5456637366473606,
          0.03646260055626538,
          -0.7004975637063923,
          0.5219919275716945,
          -0.015838573665599244,
          0.9337603484047732,
          -0.3092962576575651,
          0.06736905047581752,
          -0.3837999006095781,
          -0.7788174349209823,
          0.1164432374975903,
          -0.0006811169308554908,
          -0.5939163175673544,
          0.6512180186289427,
          -0.9470370971037055,
          0.513601938444709,
          0.5568582674802774,
          -0.19554090709133212,
          -0.43979023123471106,
          -0.43890184745199123,
          -0.5540140304139416,
          0.8707430351518904,
          -0.1472775163387019,
          -0.933476591440414,
          0.696904367135833,
          0.031052330060227427,
          0.6174269850643542,
          -0.42821692782440524,
          -0.6295053590427457,
          0.845056036344296,
          0.003717516297303627,
          -0.5115314862323733,
          -0.4931204343209807,
          -0.9744877815784753,
          0.1105292186244435,
          -0.24083873133200767,
          -0.5901407169687484,
          -0.06776049113603755,
          0.8523294123475447,
          0.00979825148828027,
          0.47529560585593755,
          0.199206645450289,
          0.4755860814783025,
          -0.4263002168209193,
          -0.1798134871911667,
          0.9825099764817641,
          -0.21893548745182242,
          0.3137395166324882,
          0.05507239931985597,
          0.11039857988947478,
          -0.03216373734517762,
          -0.2875752865359511,
          0.8160512644010333,
          0.8336008838862027,
          0.6126332029960248,
          -0.6069287758541735,
          0.14877060479478618,
          -0.43003091158353135,
          -0.6980460388725488,
          -0.14138433341517764,
          -0.12247112394960945,
          0.14633619538293033,
          0.8759400730991185,
          -0.23469961713047757,
          0.0446948762345851,
          -0.43840775461552145,
          -0.45274858891164466,
          0.5359252385273985,
          0.10197787582146302,
          -0.7056584645046119
         ]
        },
        {
         "marker": {
          "color": "orange"
         },
         "name": "origin (0,0,0)",
         "type": "scatter3d",
         "x": [
          0
         ],
         "y": [
          0
         ],
         "z": [
          0
         ]
        }
       ],
       "layout": {
        "coloraxis": {
         "colorbar": {
          "title": {
           "text": "Fantasy"
          }
         },
         "colorscale": [
          [
           0,
           "#0d0887"
          ],
          [
           0.1111111111111111,
           "#46039f"
          ],
          [
           0.2222222222222222,
           "#7201a8"
          ],
          [
           0.3333333333333333,
           "#9c179e"
          ],
          [
           0.4444444444444444,
           "#bd3786"
          ],
          [
           0.5555555555555556,
           "#d8576b"
          ],
          [
           0.6666666666666666,
           "#ed7953"
          ],
          [
           0.7777777777777778,
           "#fb9f3a"
          ],
          [
           0.8888888888888888,
           "#fdca26"
          ],
          [
           1,
           "#f0f921"
          ]
         ]
        },
        "legend": {
         "tracegroupgap": 0
        },
        "margin": {
         "t": 60
        },
        "scene": {
         "domain": {
          "x": [
           0,
           1
          ],
          "y": [
           0,
           1
          ]
         },
         "xaxis": {
          "title": {
           "text": "0"
          }
         },
         "yaxis": {
          "title": {
           "text": "1"
          }
         },
         "zaxis": {
          "title": {
           "text": "2"
          }
         }
        },
        "template": {
         "data": {
          "bar": [
           {
            "error_x": {
             "color": "#2a3f5f"
            },
            "error_y": {
             "color": "#2a3f5f"
            },
            "marker": {
             "line": {
              "color": "#E5ECF6",
              "width": 0.5
             },
             "pattern": {
              "fillmode": "overlay",
              "size": 10,
              "solidity": 0.2
             }
            },
            "type": "bar"
           }
          ],
          "barpolar": [
           {
            "marker": {
             "line": {
              "color": "#E5ECF6",
              "width": 0.5
             },
             "pattern": {
              "fillmode": "overlay",
              "size": 10,
              "solidity": 0.2
             }
            },
            "type": "barpolar"
           }
          ],
          "carpet": [
           {
            "aaxis": {
             "endlinecolor": "#2a3f5f",
             "gridcolor": "white",
             "linecolor": "white",
             "minorgridcolor": "white",
             "startlinecolor": "#2a3f5f"
            },
            "baxis": {
             "endlinecolor": "#2a3f5f",
             "gridcolor": "white",
             "linecolor": "white",
             "minorgridcolor": "white",
             "startlinecolor": "#2a3f5f"
            },
            "type": "carpet"
           }
          ],
          "choropleth": [
           {
            "colorbar": {
             "outlinewidth": 0,
             "ticks": ""
            },
            "type": "choropleth"
           }
          ],
          "contour": [
           {
            "colorbar": {
             "outlinewidth": 0,
             "ticks": ""
            },
            "colorscale": [
             [
              0,
              "#0d0887"
             ],
             [
              0.1111111111111111,
              "#46039f"
             ],
             [
              0.2222222222222222,
              "#7201a8"
             ],
             [
              0.3333333333333333,
              "#9c179e"
             ],
             [
              0.4444444444444444,
              "#bd3786"
             ],
             [
              0.5555555555555556,
              "#d8576b"
             ],
             [
              0.6666666666666666,
              "#ed7953"
             ],
             [
              0.7777777777777778,
              "#fb9f3a"
             ],
             [
              0.8888888888888888,
              "#fdca26"
             ],
             [
              1,
              "#f0f921"
             ]
            ],
            "type": "contour"
           }
          ],
          "contourcarpet": [
           {
            "colorbar": {
             "outlinewidth": 0,
             "ticks": ""
            },
            "type": "contourcarpet"
           }
          ],
          "heatmap": [
           {
            "colorbar": {
             "outlinewidth": 0,
             "ticks": ""
            },
            "colorscale": [
             [
              0,
              "#0d0887"
             ],
             [
              0.1111111111111111,
              "#46039f"
             ],
             [
              0.2222222222222222,
              "#7201a8"
             ],
             [
              0.3333333333333333,
              "#9c179e"
             ],
             [
              0.4444444444444444,
              "#bd3786"
             ],
             [
              0.5555555555555556,
              "#d8576b"
             ],
             [
              0.6666666666666666,
              "#ed7953"
             ],
             [
              0.7777777777777778,
              "#fb9f3a"
             ],
             [
              0.8888888888888888,
              "#fdca26"
             ],
             [
              1,
              "#f0f921"
             ]
            ],
            "type": "heatmap"
           }
          ],
          "heatmapgl": [
           {
            "colorbar": {
             "outlinewidth": 0,
             "ticks": ""
            },
            "colorscale": [
             [
              0,
              "#0d0887"
             ],
             [
              0.1111111111111111,
              "#46039f"
             ],
             [
              0.2222222222222222,
              "#7201a8"
             ],
             [
              0.3333333333333333,
              "#9c179e"
             ],
             [
              0.4444444444444444,
              "#bd3786"
             ],
             [
              0.5555555555555556,
              "#d8576b"
             ],
             [
              0.6666666666666666,
              "#ed7953"
             ],
             [
              0.7777777777777778,
              "#fb9f3a"
             ],
             [
              0.8888888888888888,
              "#fdca26"
             ],
             [
              1,
              "#f0f921"
             ]
            ],
            "type": "heatmapgl"
           }
          ],
          "histogram": [
           {
            "marker": {
             "pattern": {
              "fillmode": "overlay",
              "size": 10,
              "solidity": 0.2
             }
            },
            "type": "histogram"
           }
          ],
          "histogram2d": [
           {
            "colorbar": {
             "outlinewidth": 0,
             "ticks": ""
            },
            "colorscale": [
             [
              0,
              "#0d0887"
             ],
             [
              0.1111111111111111,
              "#46039f"
             ],
             [
              0.2222222222222222,
              "#7201a8"
             ],
             [
              0.3333333333333333,
              "#9c179e"
             ],
             [
              0.4444444444444444,
              "#bd3786"
             ],
             [
              0.5555555555555556,
              "#d8576b"
             ],
             [
              0.6666666666666666,
              "#ed7953"
             ],
             [
              0.7777777777777778,
              "#fb9f3a"
             ],
             [
              0.8888888888888888,
              "#fdca26"
             ],
             [
              1,
              "#f0f921"
             ]
            ],
            "type": "histogram2d"
           }
          ],
          "histogram2dcontour": [
           {
            "colorbar": {
             "outlinewidth": 0,
             "ticks": ""
            },
            "colorscale": [
             [
              0,
              "#0d0887"
             ],
             [
              0.1111111111111111,
              "#46039f"
             ],
             [
              0.2222222222222222,
              "#7201a8"
             ],
             [
              0.3333333333333333,
              "#9c179e"
             ],
             [
              0.4444444444444444,
              "#bd3786"
             ],
             [
              0.5555555555555556,
              "#d8576b"
             ],
             [
              0.6666666666666666,
              "#ed7953"
             ],
             [
              0.7777777777777778,
              "#fb9f3a"
             ],
             [
              0.8888888888888888,
              "#fdca26"
             ],
             [
              1,
              "#f0f921"
             ]
            ],
            "type": "histogram2dcontour"
           }
          ],
          "mesh3d": [
           {
            "colorbar": {
             "outlinewidth": 0,
             "ticks": ""
            },
            "type": "mesh3d"
           }
          ],
          "parcoords": [
           {
            "line": {
             "colorbar": {
              "outlinewidth": 0,
              "ticks": ""
             }
            },
            "type": "parcoords"
           }
          ],
          "pie": [
           {
            "automargin": true,
            "type": "pie"
           }
          ],
          "scatter": [
           {
            "fillpattern": {
             "fillmode": "overlay",
             "size": 10,
             "solidity": 0.2
            },
            "type": "scatter"
           }
          ],
          "scatter3d": [
           {
            "line": {
             "colorbar": {
              "outlinewidth": 0,
              "ticks": ""
             }
            },
            "marker": {
             "colorbar": {
              "outlinewidth": 0,
              "ticks": ""
             }
            },
            "type": "scatter3d"
           }
          ],
          "scattercarpet": [
           {
            "marker": {
             "colorbar": {
              "outlinewidth": 0,
              "ticks": ""
             }
            },
            "type": "scattercarpet"
           }
          ],
          "scattergeo": [
           {
            "marker": {
             "colorbar": {
              "outlinewidth": 0,
              "ticks": ""
             }
            },
            "type": "scattergeo"
           }
          ],
          "scattergl": [
           {
            "marker": {
             "colorbar": {
              "outlinewidth": 0,
              "ticks": ""
             }
            },
            "type": "scattergl"
           }
          ],
          "scattermapbox": [
           {
            "marker": {
             "colorbar": {
              "outlinewidth": 0,
              "ticks": ""
             }
            },
            "type": "scattermapbox"
           }
          ],
          "scatterpolar": [
           {
            "marker": {
             "colorbar": {
              "outlinewidth": 0,
              "ticks": ""
             }
            },
            "type": "scatterpolar"
           }
          ],
          "scatterpolargl": [
           {
            "marker": {
             "colorbar": {
              "outlinewidth": 0,
              "ticks": ""
             }
            },
            "type": "scatterpolargl"
           }
          ],
          "scatterternary": [
           {
            "marker": {
             "colorbar": {
              "outlinewidth": 0,
              "ticks": ""
             }
            },
            "type": "scatterternary"
           }
          ],
          "surface": [
           {
            "colorbar": {
             "outlinewidth": 0,
             "ticks": ""
            },
            "colorscale": [
             [
              0,
              "#0d0887"
             ],
             [
              0.1111111111111111,
              "#46039f"
             ],
             [
              0.2222222222222222,
              "#7201a8"
             ],
             [
              0.3333333333333333,
              "#9c179e"
             ],
             [
              0.4444444444444444,
              "#bd3786"
             ],
             [
              0.5555555555555556,
              "#d8576b"
             ],
             [
              0.6666666666666666,
              "#ed7953"
             ],
             [
              0.7777777777777778,
              "#fb9f3a"
             ],
             [
              0.8888888888888888,
              "#fdca26"
             ],
             [
              1,
              "#f0f921"
             ]
            ],
            "type": "surface"
           }
          ],
          "table": [
           {
            "cells": {
             "fill": {
              "color": "#EBF0F8"
             },
             "line": {
              "color": "white"
             }
            },
            "header": {
             "fill": {
              "color": "#C8D4E3"
             },
             "line": {
              "color": "white"
             }
            },
            "type": "table"
           }
          ]
         },
         "layout": {
          "annotationdefaults": {
           "arrowcolor": "#2a3f5f",
           "arrowhead": 0,
           "arrowwidth": 1
          },
          "autotypenumbers": "strict",
          "coloraxis": {
           "colorbar": {
            "outlinewidth": 0,
            "ticks": ""
           }
          },
          "colorscale": {
           "diverging": [
            [
             0,
             "#8e0152"
            ],
            [
             0.1,
             "#c51b7d"
            ],
            [
             0.2,
             "#de77ae"
            ],
            [
             0.3,
             "#f1b6da"
            ],
            [
             0.4,
             "#fde0ef"
            ],
            [
             0.5,
             "#f7f7f7"
            ],
            [
             0.6,
             "#e6f5d0"
            ],
            [
             0.7,
             "#b8e186"
            ],
            [
             0.8,
             "#7fbc41"
            ],
            [
             0.9,
             "#4d9221"
            ],
            [
             1,
             "#276419"
            ]
           ],
           "sequential": [
            [
             0,
             "#0d0887"
            ],
            [
             0.1111111111111111,
             "#46039f"
            ],
            [
             0.2222222222222222,
             "#7201a8"
            ],
            [
             0.3333333333333333,
             "#9c179e"
            ],
            [
             0.4444444444444444,
             "#bd3786"
            ],
            [
             0.5555555555555556,
             "#d8576b"
            ],
            [
             0.6666666666666666,
             "#ed7953"
            ],
            [
             0.7777777777777778,
             "#fb9f3a"
            ],
            [
             0.8888888888888888,
             "#fdca26"
            ],
            [
             1,
             "#f0f921"
            ]
           ],
           "sequentialminus": [
            [
             0,
             "#0d0887"
            ],
            [
             0.1111111111111111,
             "#46039f"
            ],
            [
             0.2222222222222222,
             "#7201a8"
            ],
            [
             0.3333333333333333,
             "#9c179e"
            ],
            [
             0.4444444444444444,
             "#bd3786"
            ],
            [
             0.5555555555555556,
             "#d8576b"
            ],
            [
             0.6666666666666666,
             "#ed7953"
            ],
            [
             0.7777777777777778,
             "#fb9f3a"
            ],
            [
             0.8888888888888888,
             "#fdca26"
            ],
            [
             1,
             "#f0f921"
            ]
           ]
          },
          "colorway": [
           "#636efa",
           "#EF553B",
           "#00cc96",
           "#ab63fa",
           "#FFA15A",
           "#19d3f3",
           "#FF6692",
           "#B6E880",
           "#FF97FF",
           "#FECB52"
          ],
          "font": {
           "color": "#2a3f5f"
          },
          "geo": {
           "bgcolor": "white",
           "lakecolor": "white",
           "landcolor": "#E5ECF6",
           "showlakes": true,
           "showland": true,
           "subunitcolor": "white"
          },
          "hoverlabel": {
           "align": "left"
          },
          "hovermode": "closest",
          "mapbox": {
           "style": "light"
          },
          "paper_bgcolor": "white",
          "plot_bgcolor": "#E5ECF6",
          "polar": {
           "angularaxis": {
            "gridcolor": "white",
            "linecolor": "white",
            "ticks": ""
           },
           "bgcolor": "#E5ECF6",
           "radialaxis": {
            "gridcolor": "white",
            "linecolor": "white",
            "ticks": ""
           }
          },
          "scene": {
           "xaxis": {
            "backgroundcolor": "#E5ECF6",
            "gridcolor": "white",
            "gridwidth": 2,
            "linecolor": "white",
            "showbackground": true,
            "ticks": "",
            "zerolinecolor": "white"
           },
           "yaxis": {
            "backgroundcolor": "#E5ECF6",
            "gridcolor": "white",
            "gridwidth": 2,
            "linecolor": "white",
            "showbackground": true,
            "ticks": "",
            "zerolinecolor": "white"
           },
           "zaxis": {
            "backgroundcolor": "#E5ECF6",
            "gridcolor": "white",
            "gridwidth": 2,
            "linecolor": "white",
            "showbackground": true,
            "ticks": "",
            "zerolinecolor": "white"
           }
          },
          "shapedefaults": {
           "line": {
            "color": "#2a3f5f"
           }
          },
          "ternary": {
           "aaxis": {
            "gridcolor": "white",
            "linecolor": "white",
            "ticks": ""
           },
           "baxis": {
            "gridcolor": "white",
            "linecolor": "white",
            "ticks": ""
           },
           "bgcolor": "#E5ECF6",
           "caxis": {
            "gridcolor": "white",
            "linecolor": "white",
            "ticks": ""
           }
          },
          "title": {
           "x": 0.05
          },
          "xaxis": {
           "automargin": true,
           "gridcolor": "white",
           "linecolor": "white",
           "ticks": "",
           "title": {
            "standoff": 15
           },
           "zerolinecolor": "white",
           "zerolinewidth": 2
          },
          "yaxis": {
           "automargin": true,
           "gridcolor": "white",
           "linecolor": "white",
           "ticks": "",
           "title": {
            "standoff": 15
           },
           "zerolinecolor": "white",
           "zerolinewidth": 2
          }
         }
        }
       }
      },
      "text/html": [
       "<div>                            <div id=\"cd38bc69-a29b-4708-85ea-a34df41ca391\" class=\"plotly-graph-div\" style=\"height:525px; width:100%;\"></div>            <script type=\"text/javascript\">                require([\"plotly\"], function(Plotly) {                    window.PLOTLYENV=window.PLOTLYENV || {};                                    if (document.getElementById(\"cd38bc69-a29b-4708-85ea-a34df41ca391\")) {                    Plotly.newPlot(                        \"cd38bc69-a29b-4708-85ea-a34df41ca391\",                        [{\"customdata\":[[\"Orlando\"],[\"Small Soldiers\"],[\"Lone Rider\"],[\"High Noon\"],[\"Devil's Playground\"],[\"Detective K: Secret of Virtuous Widow\"],[\"Fast & Furious 6\"],[\"The Legend of Hercules\"],[\"Brightness\"],[\"Erased\"],[\"Ghost\"],[\"Where Eagles Dare\"],[\"The Horse Whisperer\"],[\"Stealing Rembrandt\"],[\"Hancock\"],[\"Jack the Giant Slayer\"],[\"Spartacus\"],[\"Ong-bak\"],[\"The Milagro Beanfield War\"],[\"Tracker\"],[\"U.S. Marshals\"],[\"Ong-bak 3\"],[\"The Island\"],[\"xXx: State of the Union\"],[\"Smokin' Aces\"],[\"Agency of Vengeance: Dark Rising\"],[\"Point Blank\"],[\"The Slipper and the Rose: The Story of Cinderella\"],[\"Tae Guk Gi: The Brotherhood of War\"],[\"Haywire\"],[\"Four Brothers\"],[\"Antonio das Mortes\"],[\"Titanic\"],[\"The Chaperone\"],[\"Hot Shots! Part Deux\"],[\"The Great Northfield Minnesota Raid\"],[\"The Sheepman\"],[\"Here Comes Mr. Jordan\"],[\"Flightplan\"],[\"Gladiator\"],[\"Shootout at Lokhandwala\"],[\"Saints and Soldiers\"],[\"Cowboy Bebop: The Movie\"],[\"The Expendables 2\"],[\"King Size\"],[\"Blood Tea and Red String\"],[\"Tommy Tricker and the Stamp Traveller\"],[\"Furious 7\"],[\"The Last Unicorn\"],[\"The Three Musketeers\"],[\"C\\u00e8digo Paz\"],[\"Mad Max 2: The Road Warrior\"],[\"Horsehead\"],[\"The City of Lost Children\"],[\"Juice\"],[\"Hot Fuzz\"],[\"The Karate Kid, Part III\"],[\"John Carter\"],[\"12 Dates of Christmas\"],[\"Black Rain\"],[\"The Hobbit: The Battle of the Five Armies\"],[\"Free Ride\"],[\"Die Nibelungen, Teil 1 - Siegfried\"],[\"Watchers\"],[\"Biteu\"],[\"Angel\"],[\"King of Triads\"],[\"Godzilla\"],[\"Solomon Kane\"],[\"Lethal Weapon 3\"],[\"Macario\"],[\"The Jack Bull\"],[\"Takers\"],[\"Clash of the Wolves\"],[\"Amar Akbar Anthony\"],[\"Willy Wonka & the Chocolate Factory\"],[\"Fireball\"],[\"Phantom of the Paradise\"],[\"Robin Hood\"],[\"The Science of Sleep\"],[\"Sicario\"],[\"The Good Witch\"],[\"Mohra\"],[\"The Perils of Pauline\"],[\"Pedro P\\u00e8ramo\"],[\"Quigley Down Under\"],[\"The Spy Who Loved Me\"],[\"Turetskiy gambit\"],[\"Varalaaru\"],[\"Nothing to Lose\"],[\"The Big Trail\"],[\"Wer\"],[\"Shanghai Noon\"],[\"Game of Assassins\"],[\"The Monkey King\"],[\"The Silencers\"],[\"Easy Money\"],[\"Pleasantville\"],[\"SAGA: Curse of the Shadow\"],[\"Perrier's Bounty\"],[\"F\\u002fX\"],[\"Boss\"],[\"Aragami\"],[\"Death Wish II\"],[\"The Black Hole\"],[\"Assault on Precinct 13\"],[\"How to Train Your Dragon 2\"],[\"186 Dollars to Freedom\"],[\"Appaloosa\"],[\"Johnny Mnemonic\"],[\"City Under Siege\"],[\"Dragon Inn\"],[\"Loch Ness\"],[\"Kundo: Age of the Rampant\"],[\"Shenandoah\"],[\"Pitch Black\"],[\"Double Impact\"],[\"Lucky Luke\"],[\"Speed\"],[\"Izo\"],[\"Futurama: Bender's Game\"],[\"The Three Musketeers\"],[\"The Recruit\"],[\"Action Jackson\"],[\"Hereafter\"],[\"Brutal Relax\"],[\"Northpole\"],[\"Snow White and the Huntsman\"],[\"Admiral\"],[\"They Live\"],[\"Mermaid\"],[\"The Stool Pigeon\"],[\"Dead Man's Burden\"],[\"Tamara\"],[\"Battle of Britain\"],[\"Connected\"],[\"Twilight\"],[\"The Shootist\"],[\"Bounty Hunters\"],[\"Charlie's Angels: Full Throttle\"],[\"Underworld: Evolution\"],[\"The Guardian\"],[\"5ive Days to Midnight\"],[\"Jungle\"],[\"Eagle Eye\"],[\"Backdraft\"],[\"Monster Brawl\"],[\"Kiss of Death\"],[\"Death Becomes Her\"],[\"Jesus Christ Vampire Hunter\"],[\"Ucieczka z kina 'Wolnosc'\"],[\"Pete's Dragon\"],[\"G.I. Joe: Retaliation\"],[\"Action Jackson\"],[\"Dances with Wolves\"],[\"The Jackal\"],[\"Kill Bill: Vol. 2\"],[\"Turn It Up\"],[\"Detective Dee: Mystery of the Phantom Flame\"],[\"A Dark Truth\"],[\"Helen of Troy\"],[\"Babine\"],[\"Ashura-j\\u00e8 no hitomi\"],[\"Fighting\"],[\"Immortal (Ad Vitam)\"],[\"Hell Ride\"],[\"Nazareno Cruz and the Wolf\"],[\"Singham Returns\"],[\"Big Trouble in Little China\"],[\"T-Rex: Back to the Cretaceous\"],[\"The Matrix Reloaded\"],[\"The Art of War II: Betrayal\"],[\"Batman: Under the Red Hood\"],[\"Kung Fu Panda\"],[\"Jackie Chan's First Strike\"],[\"At World's End\"],[\"Cast a Deadly Spell\"],[\"Gupt: The Hidden Truth\"],[\"Snow on the Blades\"],[\"Highway to Hell\"],[\"The Myth\"],[\"The Thief of Bagdad\"],[\"Byzantium\"],[\"The Tree of Life\"],[\"Spooky Buddies\"],[\"Becoming Bulletproof\"],[\"Patlabor 2: The Movie\"],[\"Percy Jackson: Sea of Monsters\"],[\"The Amazing Spider-Man\"],[\"That Man from Rio\"],[\"Radioactive Dreams\"],[\"Beauty and the Beast\"],[\"The Pied Piper\"],[\"Old Men in New Cars: In China They Eat Dogs II\"],[\"Mr. Nobody\"],[\"The Prodigal Son\"],[\"Gulaab Gang\"],[\"Thumbelina\"],[\"Typhoon\"],[\"Broken Arrow\"],[\"Cinderella\"],[\"The Five People You Meet in Heaven\"],[\"Screamers\"],[\"Premium Rush\"],[\"The Last Airbender\"],[\"Chura Liyaa Hai Tumne\"],[\"Uppercut\"],[\"La Antena\"],[\"Rogue\"],[\"The Wild Bunch\"],[\"Outbreak\"],[\"In the Name of the King: A Dungeon Siege Tale\"],[\"Man of Steel\"],[\"Ashes of Time\"],[\"Freebie and the Bean\"],[\"Air Force One\"],[\"Die Hard 2\"],[\"The Redwood Massacre\"],[\"Outlander\"],[\"Ghost\"],[\"Fair Game\"],[\"The Book of Eli\"],[\"Don't Hug Me I'm Scared\"],[\"Twelve\"],[\"Nightfall\"],[\"Xingu\"],[\"Frog\"],[\"Il piccolo diavolo\"],[\"Batman Beyond: Return of the Joker\"],[\"Pet Sematary II\"],[\"Marvel One-Shot: Item 47\"],[\"Invisible Target\"],[\"Retroactive\"],[\"Edward Scissorhands\"],[\"Parker\"],[\"Yuva\"],[\"The Bourne Identity\"],[\"Just My Luck\"],[\"The Stone Raft\"],[\"Turbulence\"],[\"The Hole\"],[\"Miracle in Milan\"],[\"The Adventures of Tintin\"],[\"Rough Cut\"],[\"Harry Potter and the Prisoner of Azkaban\"],[\"Foreign Land\"],[\"A.C.A.B.\"],[\"Metalstorm: The Destruction of Jared-Syn\"],[\"Bruce Almighty\"],[\"Belladonna of Sadness\"],[\"The Blood of Jesus\"],[\"Red River\"],[\"Battle Beyond the Stars\"],[\"The Night Flier\"],[\"Dreams\"],[\"The Sandman\"],[\"Ladyhawke\"],[\"Taken\"],[\"For Your Eyes Only\"],[\"Into the West\"],[\"Julia and Julia\"],[\"Mistletoe Over Manhattan\"],[\"Mighty Morphin Power Rangers: The Movie\"],[\"Lawnmower Man 2: Beyond Cyberspace\"],[\"Road House\"],[\"Oh, God! You Devil\"],[\"The Saratov Approach\"],[\"Prancer\"],[\"The Young Lions\"],[\"Pain & Gain\"],[\"Thou Gild'st the Even\"],[\"Jungle Book\"],[\"Thou Gild'st the Even\"],[\"They Call Me Macho Woman!\"],[\"Enter the Dragon\"],[\"Rooftops\"],[\"Guardians of the Galaxy\"],[\"Colors\"],[\"Fulltime Killer\"],[\"Life of Pi\"],[\"The Raid: Redemption\"],[\"Predator\"],[\"Secretly, Greatly\"],[\"Shopping\"],[\"Fantasia\"],[\"Dagon\"],[\"Dr. Wai in the Scriptures with No Words\"],[\"Imaginaerum\"],[\"Star Trek III: The Search for Spock\"],[\"Woman on Top\"],[\"The Memory of a Killer\"],[\"Beverly Hills Cop\"],[\"Bodyguards and Assassins\"],[\"K-9: P.I.\"],[\"Kick-Heart\"],[\"Escape\"],[\"Sahara\"],[\"Saamy\"],[\"Police Story 2\"],[\"Scanners II: The New Order\"]],\"hovertemplate\":\"0=%{x}\\u003cbr\\u003e1=%{y}\\u003cbr\\u003e2=%{z}\\u003cbr\\u003etitles=%{customdata[0]}\\u003cbr\\u003eFantasy=%{marker.color}\\u003cextra\\u003e\\u003c\\u002fextra\\u003e\",\"legendgroup\":\"\",\"marker\":{\"color\":[1,0,0,0,0,0,0,1,1,0,1,0,0,0,1,1,0,0,1,0,0,0,0,0,0,0,0,1,0,0,0,0,0,0,0,0,0,1,0,0,0,0,0,0,1,1,1,0,1,0,0,0,1,1,0,0,0,1,1,0,1,0,1,0,0,0,0,0,1,0,1,0,0,0,0,1,0,1,0,1,0,1,0,0,1,0,0,0,0,0,0,0,0,0,1,0,0,1,1,0,0,0,1,0,0,0,0,0,0,0,0,0,1,0,0,0,0,0,0,1,0,0,0,0,1,0,1,0,0,0,1,0,0,1,0,0,1,0,0,0,1,0,0,0,0,0,0,0,1,0,1,1,0,0,0,0,0,0,0,0,0,1,1,0,0,0,1,0,0,1,0,0,0,0,0,0,1,0,0,1,0,1,1,1,1,0,0,1,1,0,0,1,1,0,1,0,0,1,0,0,1,1,0,0,0,0,0,1,0,0,0,0,1,0,0,0,0,1,0,1,0,0,1,0,0,0,1,1,0,0,0,0,0,1,0,0,0,1,1,0,1,1,0,0,1,0,0,0,1,1,1,0,0,1,1,1,1,0,0,0,1,1,0,0,0,1,0,1,0,0,1,0,1,0,0,0,0,0,0,1,0,0,0,0,1,1,0,1,0,1,0,0,0,0,0,0,0,0,0,0],\"coloraxis\":\"coloraxis\",\"symbol\":\"circle\"},\"mode\":\"markers\",\"name\":\"\",\"scene\":\"scene\",\"showlegend\":false,\"x\":[-0.9643994863492257,0.08966451604924477,-0.06717132467179643,0.6274551522127186,0.055391674069286,0.5676119792473967,0.8983815743648275,-0.8412681866270523,-0.6990127858957303,0.9185877062374045,0.011700003125464311,0.4965020654392298,-0.5999283802159276,0.440586370567977,0.37604058675009155,-0.6972162357633954,-0.340044411826477,0.24598281918909462,-0.3479131726796442,0.5671568193828197,0.9836038106590836,-0.21089832126854316,-0.06308516954194397,0.958320413796299,0.8776725654713272,-0.8352537558310218,0.07981554241528188,-0.9407457849351492,0.03008308840745529,0.6158328992481498,0.8205871495104874,-0.7418753082211401,-0.8049944317471569,0.737547638786842,0.6808180256187153,0.8543039839170326,-0.38302441987378827,0.07875691119699298,-0.33045312201759186,0.22650340243749334,0.6961653077911841,0.06763564749135945,0.5676161990578567,0.8303314728606271,-0.9426586444836769,-0.9907563431168924,-0.4285843259714351,0.854722058934422,-0.5976798301428018,-0.2336166795755241,0.1986112001040505,0.3764942736407538,-0.6258870299946621,-0.3533320741774351,0.45120199555182916,0.6167821798023613,0.5980780250427316,-0.6054887866809482,-0.33984314498211166,0.9767066784085403,-0.40139980073883597,0.1681310935162328,-0.8650026023284891,-0.8442238762213506,-0.09302498971862043,-0.13162062576207376,0.7427293921733652,-0.005558278812785267,-0.637067266525595,0.9693494762758768,-0.8886919415635319,0.7247931167541876,0.9989536763851623,-0.17333536436650054,-0.5422112602478507,-0.8707785567666723,0.3318412746459279,-0.7907578873900182,-0.20873210407094347,-0.7465012135517332,0.9832284943059791,-0.692215836477978,-0.053406823065118444,-0.3834148286762336,-0.4469915364748524,0.6768944907591863,0.8379347311072417,-0.6250077849331219,-0.3788444655106141,0.5809075980845503,-0.5561244047940666,0.3797007430490248,0.13647885671440985,-0.32915253427396285,-0.4587416395065197,0.5088997999864014,0.841104978142748,-0.2884172926303574,-0.6429493887337744,0.9977442049251645,0.9523786834986965,0.916824551423769,-0.25273220602785523,0.8460285070180104,-0.03715188996772938,0.9907233028787791,-0.5807042408088197,0.41937027851460124,0.48880438753929345,0.7926800879593691,-0.14486193415194018,-0.3412811898148167,-0.333933773742185,0.29750799044105275,-0.6422418471050284,-0.49562306828772357,0.3710534823314052,0.5323568404172739,0.877988289548067,0.08499349517787573,-0.34250656289541903,-0.11423960800138522,0.846681289209601,0.9899157266340308,-0.15121832059590928,-0.5902187103359103,-0.9855862606757623,-0.7994672767920631,-0.39951849126989053,-0.010689522545757196,-0.7383104177638775,0.7858095935703246,-0.2131849781450889,-0.4678901241085964,-0.029737220930924183,0.2530521514516861,-0.698235987479456,0.8578037113644881,0.3649532745766359,0.7306157452183887,-0.44983307979682663,-0.4189598395400584,0.5807177769914925,-0.8579445629579316,0.14670632343633283,0.9826512571711276,-0.3917344870437154,0.9487851333612312,-0.5297506578747044,-0.19046208335227016,-0.21908282387335412,-0.8274709464152907,0.6039630126881884,0.9304103835503487,-0.2738262242210303,0.9183453243902995,0.21205416447811976,0.5678835934209256,0.8819479922738809,0.7294446057867399,-0.8329571635708928,-0.7167842227682083,-0.4794720356865516,0.7649586070546649,-0.7668173072018263,0.8002006911216769,-0.9475127820087926,0.958105180835373,0.07513798113715076,-0.8982231300480309,0.09233368072170031,0.9289946584930542,0.5677815978206063,-0.5177696214659813,0.8578544157114727,-0.8547065832982167,0.003395222805286368,0.6628895096301185,0.20695177504515958,-0.43915413593641334,-0.7580334546505982,-0.22848132290329318,-0.4202814872688315,-0.3618989643277603,-0.6610844745225439,-0.4281320308450232,0.9089215531761592,-0.6507671865902467,-0.34815787876157245,0.1143823129383241,0.7674255261136282,-0.9437408729522715,-0.9331054879005548,-0.6922393309385613,-0.7678586309211753,-0.03691631640973878,0.09967257598065284,-0.9476363407076545,0.29312932376818357,0.7099925187146098,-0.957683553090539,-0.05873646082601598,-0.15182349449305832,0.8558083610340028,-0.4144626486396253,-0.422012770314167,0.15427616537089062,-0.39023823341937774,-0.0985232854622426,0.6838769729846282,0.19919696623695934,-0.4227867020195613,-0.7743455346651665,0.7670653102323772,0.9501275315955104,0.7363157884737295,0.8727294889509659,-0.5994820913503383,-0.5948020287451689,-0.2699276674693332,0.930185045916421,-0.3193778200633869,-0.8755593567435932,0.7377935491505413,0.4831335556884213,-0.49027673611532313,-0.8601217075652425,-0.7005739922247717,0.5730131047494469,-0.9321777973325589,0.8144746364421577,0.9906343295307327,-0.007791501223999452,-0.6045178848012956,0.9882531501273634,-0.003979979907589495,0.9207914048263152,-0.15404831064115523,-0.9018678301308591,0.5681703491832367,-0.8788057804896106,-0.8434275213405047,-0.37543315052139986,0.7089785559994092,-0.11246809866078332,-0.634141882103288,0.7786960709689198,-0.20078263316552408,-0.8065643557474004,-0.8794063996999572,-0.2626648333264406,-0.20384906129024352,-0.1309322969004961,0.27923088194700973,-0.6257184096575604,-0.8970314084248742,-0.7375454594343548,0.728223663714789,0.6804302266236821,-0.5284274488689423,-0.28513967899932646,-0.5983757086364059,-0.35461853973499396,-0.00677894364341726,-0.005922472891923107,-0.9638137687259363,0.7171657297503297,-0.9201807198530408,-0.5198480624154903,0.9764158469952202,-0.7768125297732961,-0.958207758432082,-0.776519146763649,-0.7658392861246406,0.888750620338952,-0.18414285270410233,0.36491504264557234,0.9239268319290235,0.9984542498718448,-0.83585053450118,0.9892088845318912,0.30133569629674833,0.45764819389666983,0.34288353547629996,-0.7719821519836217,-0.7936929810840004,-0.9039151753354555,-0.8939141211306023,0.20594936706131448,-0.25361040173605537,0.7719636135254728,0.7930549685082015,0.2431739264816972,0.940306324414489,-0.48149063943578907,-0.887978462238545,0.07330206988900784,0.5293042114498455,0.971295586127846,0.5361993867369602],\"y\":[0.03711112213175586,-0.8607527079902625,-0.2960848516421428,-0.43451567727097073,-0.7824715809089383,0.09870520425804206,-0.10308661291777889,-0.5350422091523837,-0.6413455707152251,0.3343688671441587,0.7733202255477254,-0.7303383700735705,0.7125022166222845,0.5558316526212371,-0.8233135748642003,-0.7159211070064624,-0.786925463109391,-0.6927210505587987,0.7910286772654703,-0.21373475664814473,-0.1738955304990654,-0.5269428611031088,0.79032754177539,-0.2532443173781663,0.46475275813392464,-0.5407494780419131,0.9771935018909234,0.3287579126192007,-0.45874781650417945,-0.34997963040080277,-0.5514245318762584,0.09143365810156892,0.5578123571944407,0.6167917002492591,-0.6810793887668461,0.01901967207927045,0.23165305002695608,0.9284077398244793,0.7153428288606571,-0.8458125655713221,0.47262293716810805,-0.8964136653562462,-0.6310553982772098,-0.508459069868931,-0.3337346711948861,0.01291693347718089,0.9008282565444392,-0.18230008114058768,-0.7842583745857659,-0.6549273343899779,0.8846544070450678,-0.9253679344981668,0.6480494811164983,0.17807324709795483,0.4865696407755048,0.7838156167606409,-0.7885893228175996,-0.783055378563748,0.9260671806417562,0.053832724421529504,-0.9036686698319817,0.9830590749854684,-0.15859683432294716,-0.27962229282500883,0.19705152623325425,0.9843520983306421,-0.21086530799931585,-0.5663950460068303,-0.7400376075751334,0.03410660500450635,0.45733510998683713,0.012555478837520609,0.04366355422488918,-0.8195053196993393,-0.039810100029292264,0.49167001427958945,0.6429202976172058,0.5520562848649513,-0.8544646150758,0.6621310677133141,-0.050412722425074184,0.48888529884632054,0.965192869936924,0.9221637650466066,0.1575539408480384,0.08084369707953219,-0.19033586378884004,-0.24637794017940207,0.8413796562078776,0.8128330575367944,-0.43880394530376854,0.7587008376206811,-0.6023154108697335,-0.4112529260004552,-0.3907790018210495,-0.1702550906495849,0.0944185737871903,0.8318528495695665,-0.6651048632229863,0.06705396205522039,0.15304971147241772,0.24440109635357732,-0.9491094948584904,0.5264574287058129,-0.2481455814482474,0.07668099609207343,-0.8050066496832435,0.7658557303919488,0.7086622462296076,-0.2978256564415971,-0.8642245123141248,-0.2990992450323094,-0.12325082898033737,-0.6168785093858832,0.36847075427227005,-0.5621601613007706,0.1928040868564669,-0.2814708696177723,0.17593342001027723,-0.9843819856307514,-0.6085141235097488,-0.43981775459327455,0.3241371507954407,0.07820425242584807,0.7501124445400821,0.6021749893226441,0.15143970144913818,-0.3345514394376982,-0.7058749134793795,-0.6038302906497793,0.6692034233881717,0.2983574606585362,-0.15482296235741494,0.6504683640564273,-0.9463950887486136,0.610096349261284,0.4467893545558228,-0.4180467055582665,-0.8952864631604622,0.4194618853950299,-0.711929169017027,0.7195477200133517,0.5985943860843497,0.32226280524833756,0.8436173901646933,0.12229995447140114,-0.7854637639891549,0.31530248325399657,0.3263675496236186,-0.633821816031729,0.1207369701529437,-0.5532792795795471,-0.7867969488488934,0.18405173155244262,-0.8627739481782825,-0.2712735848658313,0.6667333448616997,0.5484656971060813,-0.3028298968297305,0.6416043819573164,-0.341991674660171,0.4539525098279787,-0.6053348204947361,0.08564175132005603,-0.31839914379221346,-0.4687540301149574,0.12750129935974866,0.22959681191012976,-0.8500879359894103,0.0043089608116245945,-0.7799368139775527,-0.13774407863395896,-0.4765220307139237,-0.7362317027400231,-0.3209990456982429,0.030386593298913196,0.13199104167882955,0.7079526728251558,-0.7478920692488384,0.5495557186669976,-0.5507981163680356,-0.8645383309116168,0.575977569253586,0.4772905164713701,0.06793870267120336,-0.14212251020434066,-0.3302725152601765,-0.6227364201738429,-0.04015359852779732,0.8955209504572506,-0.5110244445511902,0.31449572292769334,0.3557041298847629,0.5574805129588837,0.6351600212412929,-0.22358184041470341,0.952418495878457,0.03082328570072437,-0.9220985699425766,-0.08291329425850294,0.2715081942663715,0.9963027173721809,-0.8055139018681432,0.5027120355507438,-0.8763492657980793,0.8005517141117507,-0.091425368248963,0.7062828572334141,-0.4123968757956868,-0.4849881505462053,-0.09844058666387588,-0.8485649824800653,0.5669615625128887,-0.5579039883415822,0.23213468603151036,-0.5259663180757315,-0.396676674969411,0.17566481687589486,-0.7898481642469496,0.8289251283989134,0.22088086069107574,-0.9348393437620152,0.35079212537052173,0.5088346657611882,0.7042174549747517,-0.37721990669132077,0.19456799462331265,0.7079098523143337,-0.5347399815745,0.014310135899142769,-0.19718558035631079,-0.13158306849997772,0.7136122586882074,0.6017329594640419,0.15200279881496354,0.35787675463339585,-0.23765313757029602,0.9857639316928738,0.19832310321073,0.26575525840912423,0.4627541168040822,0.537242545155481,-0.7115569950585895,0.2706741571446869,-0.3007850785744116,0.5779940503053097,0.28903511723738856,-0.9599219175917473,-0.39501707880584136,0.1844167900978334,0.789984581772387,-0.44749539321155063,-0.9803907725032216,0.22505903181139317,-0.3504294149791329,0.4408745911221433,0.27351528911947165,0.5350892993981826,-0.37515024941123043,0.08151519318463955,0.9584787653009014,0.6166701305453172,-0.7944041342612134,-0.22433815876337462,0.9938552289670333,0.1142791525375325,0.3706848395163858,0.38558521581064603,-0.05738087529961292,0.2156758864694405,0.41310577415626776,-0.20531586419224365,0.4133229896988164,0.48141283008093816,-0.4216508563625599,-0.027668681063591036,-0.9049332925609561,0.21892173246347818,-0.007492779591439204,-0.537741608518886,-0.14293801720732632,-0.9091189431043221,-0.3530134055423261,0.43305940410458077,-0.16948190347517372,-0.04109638448996375,-0.4010045672399084,-0.12645536416435643,-0.6857963151121389,0.9569180917905266,0.6237571668455713,0.5913117070084984,-0.4166478486906957,0.24645507904062594,0.8753108774453167,0.13889885274344593,-0.8886200097839918,0.6577394548381664,-0.21490788075709671,-0.4631806873520325],\"z\":[0.26183276216598983,-0.5010639183268785,0.9527968166245552,-0.646139426259893,-0.6202176936476971,0.8173578920321447,-0.42694694878745076,0.07744464212951069,-0.3163178529236881,-0.21069904279382928,-0.6339076736289594,-0.46913917360721336,-0.363904561554021,0.7049360424989501,-0.42514495711577927,-0.0366945381570997,0.5148962162374627,0.67796017491922,0.5032196896183856,0.7953933593060242,0.047790042157107665,0.8233183583636285,-0.6094281238137387,-0.13224711799111943,-0.1170288068207503,-0.09970539287105047,0.19677992542713385,0.08316010471984951,0.8880571201474131,-0.7058782462352383,0.15022554943584754,0.6642747272160471,-0.20206271060552852,-0.27493904601489716,0.2694766820888474,0.5194256011571663,0.8942198600979271,0.36312038991594914,-0.6156990915589036,0.4830086051054337,0.5403530544843774,0.43802735045999636,-0.5287541346148544,0.22807678409939783,-0.003981108217352743,0.1350371112072107,0.06945450124157984,-0.48602148346244717,-0.16648610312144374,0.7186747760238597,0.42182955241301934,0.044116297649708446,-0.4339323630579981,-0.9183933601814978,0.7481087781102713,0.07219987257872192,0.14293199746405802,-0.14215344985619735,0.16403113651650506,0.20771639832596756,-0.1492016592766975,0.07298486474434944,0.4760436346677493,-0.45727171372509223,0.9759697983528977,0.11716209876091452,0.6355225187860277,-0.8241151360068324,-0.21561455724528306,0.24330707416503533,0.032729652814646584,0.6888521596517726,-0.013603178636570182,0.5462287821457381,0.8392985792887387,-0.0023026362412834974,0.6903150435512537,-0.26445381803177515,0.4757322044107185,-0.06571443779426413,0.17527203257362484,-0.5308751268434388,0.25602819194966675,0.05105937314775295,0.8805539858765637,0.7316270532329806,-0.5115052740294971,0.7407180160938085,-0.38543111585793216,0.04299747740304316,0.7058163670376967,-0.5293395741125873,0.7865047154968313,-0.8500174351371222,0.7980274932097355,-0.8438211882156682,0.5325669428977735,0.47416906475936077,-0.37980469249865595,-0.003204326910348102,-0.26372453248702366,0.3157544077408492,0.18792977094051633,-0.08413287748163668,-0.9680100761250043,-0.11219341322595668,-0.12143672703268941,0.48743570829843846,0.5087908130962502,-0.5319381134284878,-0.4817997637496018,0.8911042537771244,-0.9345038619021127,0.7286630910658075,0.6721270066536129,-0.6620677663406928,0.9083754165218153,0.7983547732791183,-0.44517861038008893,0.15416942674573147,-0.7158210781073219,0.8907915888176201,-0.4219785562994663,-0.1181141357549251,0.6437890493494394,-0.5376124591224501,-0.07540384335141108,-0.4989262547800496,0.5849150208824431,-0.7970412249071857,0.08405061062764492,0.5417435817083865,0.9646667898399699,-0.598305723792943,-0.32163960216958515,-0.7508309085697834,-0.5593261825126552,0.2990146229554501,0.25548239911473486,-0.538750739711627,-0.539265295214913,0.5538264452661646,-0.5517713515890071,-0.40009725223299886,-0.5165142337588635,0.13942463166993088,-0.47915630760805666,-0.01977662171793029,-0.7828463853362246,0.7496626576850111,0.9682072610355511,0.09578033006061559,-0.1271976437937399,0.3169565873968242,0.42501801523431015,-0.2881883192020734,-0.7144926019050276,0.6137536993137206,-0.36119495083703107,-0.23718006691498744,-0.43499891737688823,-0.5292896152499637,0.6353552723407588,0.6383602587284242,-0.5573268364327393,0.3740969301923985,0.29319438362890593,0.17123015627254926,0.52125309099889,-0.43951864750365505,-0.6190097395089414,-0.34350472091756673,-0.6712308182887295,0.43574935337588383,-0.4013046400244398,0.518221295793964,-0.9912450945041996,0.24368116681856863,0.6307364073528244,-0.7107264994147481,0.3492945986354547,0.44762680825540013,-0.7011514181514787,0.80076394930403,-0.7472293156887019,0.8924708153534956,-0.25452244662417256,-0.43439776685254944,-0.9365755602093784,0.4300684989382762,-0.38718481238339947,-0.10220374249249493,-0.05280833677357382,0.45827959410477004,-0.08345579869978186,0.973985803910668,-0.28803539071787443,-0.31786048956864366,-0.2526052787592982,0.6993110960112725,-0.09552754883328249,-0.06269707749522406,-0.5727975038502487,0.12195350957115506,0.24542346509205992,0.4254670077979018,0.9837887307948772,0.5906595015369922,-0.9056610729493028,0.5450676835505415,-0.9750025741193014,-0.3181019885257386,0.2809690010963153,0.3167869151822131,-0.20825743983174877,-0.4256741616473434,-0.28458892222045123,-0.780873289504887,-0.14950058206025474,-0.48992059136497823,-0.2932020220493633,-0.15515543627653972,-0.3321757028995008,0.44356280474308024,-0.5202496933941878,0.785705965371205,-0.4715230043627925,-0.08977595677320079,-0.6210548557825653,-0.3617178101376359,-0.5456637366473606,0.03646260055626538,-0.7004975637063923,0.5219919275716945,-0.015838573665599244,0.9337603484047732,-0.3092962576575651,0.06736905047581752,-0.3837999006095781,-0.7788174349209823,0.1164432374975903,-0.0006811169308554908,-0.5939163175673544,0.6512180186289427,-0.9470370971037055,0.513601938444709,0.5568582674802774,-0.19554090709133212,-0.43979023123471106,-0.43890184745199123,-0.5540140304139416,0.8707430351518904,-0.1472775163387019,-0.933476591440414,0.696904367135833,0.031052330060227427,0.6174269850643542,-0.42821692782440524,-0.6295053590427457,0.845056036344296,0.003717516297303627,-0.5115314862323733,-0.4931204343209807,-0.9744877815784753,0.1105292186244435,-0.24083873133200767,-0.5901407169687484,-0.06776049113603755,0.8523294123475447,0.00979825148828027,0.47529560585593755,0.199206645450289,0.4755860814783025,-0.4263002168209193,-0.1798134871911667,0.9825099764817641,-0.21893548745182242,0.3137395166324882,0.05507239931985597,0.11039857988947478,-0.03216373734517762,-0.2875752865359511,0.8160512644010333,0.8336008838862027,0.6126332029960248,-0.6069287758541735,0.14877060479478618,-0.43003091158353135,-0.6980460388725488,-0.14138433341517764,-0.12247112394960945,0.14633619538293033,0.8759400730991185,-0.23469961713047757,0.0446948762345851,-0.43840775461552145,-0.45274858891164466,0.5359252385273985,0.10197787582146302,-0.7056584645046119],\"type\":\"scatter3d\"},{\"marker\":{\"color\":\"orange\"},\"name\":\"origin (0,0,0)\",\"x\":[0],\"y\":[0],\"z\":[0],\"type\":\"scatter3d\"}],                        {\"template\":{\"data\":{\"histogram2dcontour\":[{\"type\":\"histogram2dcontour\",\"colorbar\":{\"outlinewidth\":0,\"ticks\":\"\"},\"colorscale\":[[0.0,\"#0d0887\"],[0.1111111111111111,\"#46039f\"],[0.2222222222222222,\"#7201a8\"],[0.3333333333333333,\"#9c179e\"],[0.4444444444444444,\"#bd3786\"],[0.5555555555555556,\"#d8576b\"],[0.6666666666666666,\"#ed7953\"],[0.7777777777777778,\"#fb9f3a\"],[0.8888888888888888,\"#fdca26\"],[1.0,\"#f0f921\"]]}],\"choropleth\":[{\"type\":\"choropleth\",\"colorbar\":{\"outlinewidth\":0,\"ticks\":\"\"}}],\"histogram2d\":[{\"type\":\"histogram2d\",\"colorbar\":{\"outlinewidth\":0,\"ticks\":\"\"},\"colorscale\":[[0.0,\"#0d0887\"],[0.1111111111111111,\"#46039f\"],[0.2222222222222222,\"#7201a8\"],[0.3333333333333333,\"#9c179e\"],[0.4444444444444444,\"#bd3786\"],[0.5555555555555556,\"#d8576b\"],[0.6666666666666666,\"#ed7953\"],[0.7777777777777778,\"#fb9f3a\"],[0.8888888888888888,\"#fdca26\"],[1.0,\"#f0f921\"]]}],\"heatmap\":[{\"type\":\"heatmap\",\"colorbar\":{\"outlinewidth\":0,\"ticks\":\"\"},\"colorscale\":[[0.0,\"#0d0887\"],[0.1111111111111111,\"#46039f\"],[0.2222222222222222,\"#7201a8\"],[0.3333333333333333,\"#9c179e\"],[0.4444444444444444,\"#bd3786\"],[0.5555555555555556,\"#d8576b\"],[0.6666666666666666,\"#ed7953\"],[0.7777777777777778,\"#fb9f3a\"],[0.8888888888888888,\"#fdca26\"],[1.0,\"#f0f921\"]]}],\"heatmapgl\":[{\"type\":\"heatmapgl\",\"colorbar\":{\"outlinewidth\":0,\"ticks\":\"\"},\"colorscale\":[[0.0,\"#0d0887\"],[0.1111111111111111,\"#46039f\"],[0.2222222222222222,\"#7201a8\"],[0.3333333333333333,\"#9c179e\"],[0.4444444444444444,\"#bd3786\"],[0.5555555555555556,\"#d8576b\"],[0.6666666666666666,\"#ed7953\"],[0.7777777777777778,\"#fb9f3a\"],[0.8888888888888888,\"#fdca26\"],[1.0,\"#f0f921\"]]}],\"contourcarpet\":[{\"type\":\"contourcarpet\",\"colorbar\":{\"outlinewidth\":0,\"ticks\":\"\"}}],\"contour\":[{\"type\":\"contour\",\"colorbar\":{\"outlinewidth\":0,\"ticks\":\"\"},\"colorscale\":[[0.0,\"#0d0887\"],[0.1111111111111111,\"#46039f\"],[0.2222222222222222,\"#7201a8\"],[0.3333333333333333,\"#9c179e\"],[0.4444444444444444,\"#bd3786\"],[0.5555555555555556,\"#d8576b\"],[0.6666666666666666,\"#ed7953\"],[0.7777777777777778,\"#fb9f3a\"],[0.8888888888888888,\"#fdca26\"],[1.0,\"#f0f921\"]]}],\"surface\":[{\"type\":\"surface\",\"colorbar\":{\"outlinewidth\":0,\"ticks\":\"\"},\"colorscale\":[[0.0,\"#0d0887\"],[0.1111111111111111,\"#46039f\"],[0.2222222222222222,\"#7201a8\"],[0.3333333333333333,\"#9c179e\"],[0.4444444444444444,\"#bd3786\"],[0.5555555555555556,\"#d8576b\"],[0.6666666666666666,\"#ed7953\"],[0.7777777777777778,\"#fb9f3a\"],[0.8888888888888888,\"#fdca26\"],[1.0,\"#f0f921\"]]}],\"mesh3d\":[{\"type\":\"mesh3d\",\"colorbar\":{\"outlinewidth\":0,\"ticks\":\"\"}}],\"scatter\":[{\"fillpattern\":{\"fillmode\":\"overlay\",\"size\":10,\"solidity\":0.2},\"type\":\"scatter\"}],\"parcoords\":[{\"type\":\"parcoords\",\"line\":{\"colorbar\":{\"outlinewidth\":0,\"ticks\":\"\"}}}],\"scatterpolargl\":[{\"type\":\"scatterpolargl\",\"marker\":{\"colorbar\":{\"outlinewidth\":0,\"ticks\":\"\"}}}],\"bar\":[{\"error_x\":{\"color\":\"#2a3f5f\"},\"error_y\":{\"color\":\"#2a3f5f\"},\"marker\":{\"line\":{\"color\":\"#E5ECF6\",\"width\":0.5},\"pattern\":{\"fillmode\":\"overlay\",\"size\":10,\"solidity\":0.2}},\"type\":\"bar\"}],\"scattergeo\":[{\"type\":\"scattergeo\",\"marker\":{\"colorbar\":{\"outlinewidth\":0,\"ticks\":\"\"}}}],\"scatterpolar\":[{\"type\":\"scatterpolar\",\"marker\":{\"colorbar\":{\"outlinewidth\":0,\"ticks\":\"\"}}}],\"histogram\":[{\"marker\":{\"pattern\":{\"fillmode\":\"overlay\",\"size\":10,\"solidity\":0.2}},\"type\":\"histogram\"}],\"scattergl\":[{\"type\":\"scattergl\",\"marker\":{\"colorbar\":{\"outlinewidth\":0,\"ticks\":\"\"}}}],\"scatter3d\":[{\"type\":\"scatter3d\",\"line\":{\"colorbar\":{\"outlinewidth\":0,\"ticks\":\"\"}},\"marker\":{\"colorbar\":{\"outlinewidth\":0,\"ticks\":\"\"}}}],\"scattermapbox\":[{\"type\":\"scattermapbox\",\"marker\":{\"colorbar\":{\"outlinewidth\":0,\"ticks\":\"\"}}}],\"scatterternary\":[{\"type\":\"scatterternary\",\"marker\":{\"colorbar\":{\"outlinewidth\":0,\"ticks\":\"\"}}}],\"scattercarpet\":[{\"type\":\"scattercarpet\",\"marker\":{\"colorbar\":{\"outlinewidth\":0,\"ticks\":\"\"}}}],\"carpet\":[{\"aaxis\":{\"endlinecolor\":\"#2a3f5f\",\"gridcolor\":\"white\",\"linecolor\":\"white\",\"minorgridcolor\":\"white\",\"startlinecolor\":\"#2a3f5f\"},\"baxis\":{\"endlinecolor\":\"#2a3f5f\",\"gridcolor\":\"white\",\"linecolor\":\"white\",\"minorgridcolor\":\"white\",\"startlinecolor\":\"#2a3f5f\"},\"type\":\"carpet\"}],\"table\":[{\"cells\":{\"fill\":{\"color\":\"#EBF0F8\"},\"line\":{\"color\":\"white\"}},\"header\":{\"fill\":{\"color\":\"#C8D4E3\"},\"line\":{\"color\":\"white\"}},\"type\":\"table\"}],\"barpolar\":[{\"marker\":{\"line\":{\"color\":\"#E5ECF6\",\"width\":0.5},\"pattern\":{\"fillmode\":\"overlay\",\"size\":10,\"solidity\":0.2}},\"type\":\"barpolar\"}],\"pie\":[{\"automargin\":true,\"type\":\"pie\"}]},\"layout\":{\"autotypenumbers\":\"strict\",\"colorway\":[\"#636efa\",\"#EF553B\",\"#00cc96\",\"#ab63fa\",\"#FFA15A\",\"#19d3f3\",\"#FF6692\",\"#B6E880\",\"#FF97FF\",\"#FECB52\"],\"font\":{\"color\":\"#2a3f5f\"},\"hovermode\":\"closest\",\"hoverlabel\":{\"align\":\"left\"},\"paper_bgcolor\":\"white\",\"plot_bgcolor\":\"#E5ECF6\",\"polar\":{\"bgcolor\":\"#E5ECF6\",\"angularaxis\":{\"gridcolor\":\"white\",\"linecolor\":\"white\",\"ticks\":\"\"},\"radialaxis\":{\"gridcolor\":\"white\",\"linecolor\":\"white\",\"ticks\":\"\"}},\"ternary\":{\"bgcolor\":\"#E5ECF6\",\"aaxis\":{\"gridcolor\":\"white\",\"linecolor\":\"white\",\"ticks\":\"\"},\"baxis\":{\"gridcolor\":\"white\",\"linecolor\":\"white\",\"ticks\":\"\"},\"caxis\":{\"gridcolor\":\"white\",\"linecolor\":\"white\",\"ticks\":\"\"}},\"coloraxis\":{\"colorbar\":{\"outlinewidth\":0,\"ticks\":\"\"}},\"colorscale\":{\"sequential\":[[0.0,\"#0d0887\"],[0.1111111111111111,\"#46039f\"],[0.2222222222222222,\"#7201a8\"],[0.3333333333333333,\"#9c179e\"],[0.4444444444444444,\"#bd3786\"],[0.5555555555555556,\"#d8576b\"],[0.6666666666666666,\"#ed7953\"],[0.7777777777777778,\"#fb9f3a\"],[0.8888888888888888,\"#fdca26\"],[1.0,\"#f0f921\"]],\"sequentialminus\":[[0.0,\"#0d0887\"],[0.1111111111111111,\"#46039f\"],[0.2222222222222222,\"#7201a8\"],[0.3333333333333333,\"#9c179e\"],[0.4444444444444444,\"#bd3786\"],[0.5555555555555556,\"#d8576b\"],[0.6666666666666666,\"#ed7953\"],[0.7777777777777778,\"#fb9f3a\"],[0.8888888888888888,\"#fdca26\"],[1.0,\"#f0f921\"]],\"diverging\":[[0,\"#8e0152\"],[0.1,\"#c51b7d\"],[0.2,\"#de77ae\"],[0.3,\"#f1b6da\"],[0.4,\"#fde0ef\"],[0.5,\"#f7f7f7\"],[0.6,\"#e6f5d0\"],[0.7,\"#b8e186\"],[0.8,\"#7fbc41\"],[0.9,\"#4d9221\"],[1,\"#276419\"]]},\"xaxis\":{\"gridcolor\":\"white\",\"linecolor\":\"white\",\"ticks\":\"\",\"title\":{\"standoff\":15},\"zerolinecolor\":\"white\",\"automargin\":true,\"zerolinewidth\":2},\"yaxis\":{\"gridcolor\":\"white\",\"linecolor\":\"white\",\"ticks\":\"\",\"title\":{\"standoff\":15},\"zerolinecolor\":\"white\",\"automargin\":true,\"zerolinewidth\":2},\"scene\":{\"xaxis\":{\"backgroundcolor\":\"#E5ECF6\",\"gridcolor\":\"white\",\"linecolor\":\"white\",\"showbackground\":true,\"ticks\":\"\",\"zerolinecolor\":\"white\",\"gridwidth\":2},\"yaxis\":{\"backgroundcolor\":\"#E5ECF6\",\"gridcolor\":\"white\",\"linecolor\":\"white\",\"showbackground\":true,\"ticks\":\"\",\"zerolinecolor\":\"white\",\"gridwidth\":2},\"zaxis\":{\"backgroundcolor\":\"#E5ECF6\",\"gridcolor\":\"white\",\"linecolor\":\"white\",\"showbackground\":true,\"ticks\":\"\",\"zerolinecolor\":\"white\",\"gridwidth\":2}},\"shapedefaults\":{\"line\":{\"color\":\"#2a3f5f\"}},\"annotationdefaults\":{\"arrowcolor\":\"#2a3f5f\",\"arrowhead\":0,\"arrowwidth\":1},\"geo\":{\"bgcolor\":\"white\",\"landcolor\":\"#E5ECF6\",\"subunitcolor\":\"white\",\"showland\":true,\"showlakes\":true,\"lakecolor\":\"white\"},\"title\":{\"x\":0.05},\"mapbox\":{\"style\":\"light\"}}},\"scene\":{\"domain\":{\"x\":[0.0,1.0],\"y\":[0.0,1.0]},\"xaxis\":{\"title\":{\"text\":\"0\"}},\"yaxis\":{\"title\":{\"text\":\"1\"}},\"zaxis\":{\"title\":{\"text\":\"2\"}}},\"coloraxis\":{\"colorbar\":{\"title\":{\"text\":\"Fantasy\"}},\"colorscale\":[[0.0,\"#0d0887\"],[0.1111111111111111,\"#46039f\"],[0.2222222222222222,\"#7201a8\"],[0.3333333333333333,\"#9c179e\"],[0.4444444444444444,\"#bd3786\"],[0.5555555555555556,\"#d8576b\"],[0.6666666666666666,\"#ed7953\"],[0.7777777777777778,\"#fb9f3a\"],[0.8888888888888888,\"#fdca26\"],[1.0,\"#f0f921\"]]},\"legend\":{\"tracegroupgap\":0},\"margin\":{\"t\":60}},                        {\"responsive\": true}                    ).then(function(){\n",
       "                            \n",
       "var gd = document.getElementById('cd38bc69-a29b-4708-85ea-a34df41ca391');\n",
       "var x = new MutationObserver(function (mutations, observer) {{\n",
       "        var display = window.getComputedStyle(gd).display;\n",
       "        if (!display || display === 'none') {{\n",
       "            console.log([gd, 'removed!']);\n",
       "            Plotly.purge(gd);\n",
       "            observer.disconnect();\n",
       "        }}\n",
       "}});\n",
       "\n",
       "// Listen for the removal of the full notebook cells\n",
       "var notebookContainer = gd.closest('#notebook-container');\n",
       "if (notebookContainer) {{\n",
       "    x.observe(notebookContainer, {childList: true});\n",
       "}}\n",
       "\n",
       "// Listen for the clearing of the current output cell\n",
       "var outputEl = gd.closest('.output');\n",
       "if (outputEl) {{\n",
       "    x.observe(outputEl, {childList: true});\n",
       "}}\n",
       "\n",
       "                        })                };                });            </script>        </div>"
      ]
     },
     "metadata": {},
     "output_type": "display_data"
    }
   ],
   "source": [
    "genre_to_color = \"Fantasy\"\n",
    "\n",
    "fig = px.scatter_3d(df_normalized, x=0, y=1, z=2, hover_data=\"titles\", color=genre_to_color)\n",
    "fig.add_scatter3d(\n",
    "    x=[0], y=[0], z=[0], marker=dict(color=\"orange\"), name=\"origin (0,0,0)\"\n",
    ")\n",
    "# fig.add_scatter3d(\n",
    "#     x=[query_normalized[0]],\n",
    "#     y=[query_normalized[1]],\n",
    "#     z=[query_normalized[2]],\n",
    "#     marker=dict(color=\"#16FF32\"),\n",
    "#     name=\"query\",\n",
    "# )"
   ]
  },
  {
   "cell_type": "code",
   "execution_count": null,
   "metadata": {},
   "outputs": [],
   "source": []
  }
 ],
 "metadata": {
  "kernelspec": {
   "display_name": ".venv",
   "language": "python",
   "name": "python3"
  },
  "language_info": {
   "codemirror_mode": {
    "name": "ipython",
    "version": 3
   },
   "file_extension": ".py",
   "mimetype": "text/x-python",
   "name": "python",
   "nbconvert_exporter": "python",
   "pygments_lexer": "ipython3",
   "version": "3.12.3"
  }
 },
 "nbformat": 4,
 "nbformat_minor": 2
}
