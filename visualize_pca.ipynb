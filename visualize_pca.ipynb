{
 "cells": [
  {
   "cell_type": "code",
   "execution_count": 98,
   "metadata": {},
   "outputs": [
    {
     "data": {
      "text/plain": [
       "True"
      ]
     },
     "execution_count": 98,
     "metadata": {},
     "output_type": "execute_result"
    }
   ],
   "source": [
    "import os\n",
    "\n",
    "import numpy as np\n",
    "import pandas as pd\n",
    "import plotly.express as px\n",
    "from dotenv import load_dotenv\n",
    "from pymongo.mongo_client import MongoClient\n",
    "from pymongo.server_api import ServerApi\n",
    "from sklearn.decomposition import PCA\n",
    "import requests\n",
    "\n",
    "load_dotenv()"
   ]
  },
  {
   "cell_type": "code",
   "execution_count": 99,
   "metadata": {},
   "outputs": [],
   "source": [
    "client = MongoClient(os.getenv(\"MONGO_URI\"), server_api=ServerApi(\"1\"))\n",
    "\n",
    "db_name = \"sample_mflix\"\n",
    "collection_name = \"embedded_movies\"\n",
    "\n",
    "collection = client[db_name][collection_name]\n",
    "\n",
    "pipeline = [\n",
    "    {\"$match\": {\"plot_embedding\": {\"$exists\": 1}, \"title\": {\"$exists\": 1}, \"genres\": {\"$exists\": 1}}},\n",
    "    {\"$sample\": {\"size\": 300}},\n",
    "    {\"$project\": {\"plot_embedding\": 1, \"title\": 1, \"genres\": 1}},\n",
    "]"
   ]
  },
  {
   "cell_type": "code",
   "execution_count": 100,
   "metadata": {},
   "outputs": [],
   "source": [
    "embeddings = []\n",
    "titles = []\n",
    "genres = []\n",
    "for doc in collection.aggregate(pipeline):\n",
    "    embeddings.append(doc[\"plot_embedding\"])\n",
    "    titles.append(doc[\"title\"])\n",
    "    genres.append(doc[\"genres\"])"
   ]
  },
  {
   "cell_type": "code",
   "execution_count": 101,
   "metadata": {},
   "outputs": [],
   "source": [
    "embeddings = np.array(embeddings)\n",
    "pca = PCA(n_components=3).fit(embeddings)\n",
    "pcad_embeddings = pca.transform(embeddings)"
   ]
  },
  {
   "cell_type": "code",
   "execution_count": 102,
   "metadata": {},
   "outputs": [],
   "source": [
    "df = pd.DataFrame(pcad_embeddings)\n",
    "df['title'] = titles\n",
    "df['genres'] = genres\n"
   ]
  },
  {
   "cell_type": "code",
   "execution_count": 103,
   "metadata": {},
   "outputs": [],
   "source": [
    "# Step 1: Get all unique strings from the 'tags' column\n",
    "unique_genres = set(genre for sublist in df['genres'] for genre in sublist)\n",
    "\n",
    "# Step 2: Expand the 'tags' column into new columns\n",
    "for tag in unique_genres:\n",
    "    df[tag] = df['genres'].apply(lambda x: 1 if tag in x else 0)\n",
    "\n",
    "# Step 3: Drop the original 'tags' column if you don't need it\n",
    "df = df.drop(columns=['genres'])"
   ]
  },
  {
   "cell_type": "code",
   "execution_count": 104,
   "metadata": {},
   "outputs": [
    {
     "data": {
      "text/html": [
       "<div>\n",
       "<style scoped>\n",
       "    .dataframe tbody tr th:only-of-type {\n",
       "        vertical-align: middle;\n",
       "    }\n",
       "\n",
       "    .dataframe tbody tr th {\n",
       "        vertical-align: top;\n",
       "    }\n",
       "\n",
       "    .dataframe thead th {\n",
       "        text-align: right;\n",
       "    }\n",
       "</style>\n",
       "<table border=\"1\" class=\"dataframe\">\n",
       "  <thead>\n",
       "    <tr style=\"text-align: right;\">\n",
       "      <th></th>\n",
       "      <th>0</th>\n",
       "      <th>1</th>\n",
       "      <th>2</th>\n",
       "      <th>title</th>\n",
       "      <th>Biography</th>\n",
       "      <th>Crime</th>\n",
       "      <th>Romance</th>\n",
       "      <th>Animation</th>\n",
       "      <th>Horror</th>\n",
       "      <th>Music</th>\n",
       "      <th>...</th>\n",
       "      <th>History</th>\n",
       "      <th>Western</th>\n",
       "      <th>Family</th>\n",
       "      <th>War</th>\n",
       "      <th>Thriller</th>\n",
       "      <th>Documentary</th>\n",
       "      <th>Musical</th>\n",
       "      <th>Fantasy</th>\n",
       "      <th>Short</th>\n",
       "      <th>Mystery</th>\n",
       "    </tr>\n",
       "  </thead>\n",
       "  <tbody>\n",
       "    <tr>\n",
       "      <th>0</th>\n",
       "      <td>0.066961</td>\n",
       "      <td>0.067713</td>\n",
       "      <td>-0.053641</td>\n",
       "      <td>Detective Dee: Mystery of the Phantom Flame</td>\n",
       "      <td>0</td>\n",
       "      <td>0</td>\n",
       "      <td>0</td>\n",
       "      <td>0</td>\n",
       "      <td>0</td>\n",
       "      <td>0</td>\n",
       "      <td>...</td>\n",
       "      <td>0</td>\n",
       "      <td>0</td>\n",
       "      <td>0</td>\n",
       "      <td>0</td>\n",
       "      <td>0</td>\n",
       "      <td>0</td>\n",
       "      <td>0</td>\n",
       "      <td>0</td>\n",
       "      <td>0</td>\n",
       "      <td>0</td>\n",
       "    </tr>\n",
       "    <tr>\n",
       "      <th>1</th>\n",
       "      <td>-0.109010</td>\n",
       "      <td>-0.164084</td>\n",
       "      <td>-0.111305</td>\n",
       "      <td>Don't Look Under the Bed</td>\n",
       "      <td>0</td>\n",
       "      <td>0</td>\n",
       "      <td>0</td>\n",
       "      <td>0</td>\n",
       "      <td>0</td>\n",
       "      <td>0</td>\n",
       "      <td>...</td>\n",
       "      <td>0</td>\n",
       "      <td>0</td>\n",
       "      <td>1</td>\n",
       "      <td>0</td>\n",
       "      <td>0</td>\n",
       "      <td>0</td>\n",
       "      <td>0</td>\n",
       "      <td>1</td>\n",
       "      <td>0</td>\n",
       "      <td>0</td>\n",
       "    </tr>\n",
       "    <tr>\n",
       "      <th>2</th>\n",
       "      <td>-0.159670</td>\n",
       "      <td>-0.064904</td>\n",
       "      <td>0.011324</td>\n",
       "      <td>Peter Pan</td>\n",
       "      <td>0</td>\n",
       "      <td>0</td>\n",
       "      <td>0</td>\n",
       "      <td>0</td>\n",
       "      <td>0</td>\n",
       "      <td>0</td>\n",
       "      <td>...</td>\n",
       "      <td>0</td>\n",
       "      <td>0</td>\n",
       "      <td>1</td>\n",
       "      <td>0</td>\n",
       "      <td>0</td>\n",
       "      <td>0</td>\n",
       "      <td>0</td>\n",
       "      <td>1</td>\n",
       "      <td>0</td>\n",
       "      <td>0</td>\n",
       "    </tr>\n",
       "    <tr>\n",
       "      <th>3</th>\n",
       "      <td>0.005492</td>\n",
       "      <td>-0.130533</td>\n",
       "      <td>-0.007381</td>\n",
       "      <td>Eagle Eye</td>\n",
       "      <td>0</td>\n",
       "      <td>0</td>\n",
       "      <td>0</td>\n",
       "      <td>0</td>\n",
       "      <td>0</td>\n",
       "      <td>0</td>\n",
       "      <td>...</td>\n",
       "      <td>0</td>\n",
       "      <td>0</td>\n",
       "      <td>0</td>\n",
       "      <td>0</td>\n",
       "      <td>1</td>\n",
       "      <td>0</td>\n",
       "      <td>0</td>\n",
       "      <td>0</td>\n",
       "      <td>0</td>\n",
       "      <td>1</td>\n",
       "    </tr>\n",
       "    <tr>\n",
       "      <th>4</th>\n",
       "      <td>0.163670</td>\n",
       "      <td>0.008592</td>\n",
       "      <td>-0.053351</td>\n",
       "      <td>Fulltime Killer</td>\n",
       "      <td>0</td>\n",
       "      <td>1</td>\n",
       "      <td>0</td>\n",
       "      <td>0</td>\n",
       "      <td>0</td>\n",
       "      <td>0</td>\n",
       "      <td>...</td>\n",
       "      <td>0</td>\n",
       "      <td>0</td>\n",
       "      <td>0</td>\n",
       "      <td>0</td>\n",
       "      <td>0</td>\n",
       "      <td>0</td>\n",
       "      <td>0</td>\n",
       "      <td>0</td>\n",
       "      <td>0</td>\n",
       "      <td>0</td>\n",
       "    </tr>\n",
       "  </tbody>\n",
       "</table>\n",
       "<p>5 rows × 25 columns</p>\n",
       "</div>"
      ],
      "text/plain": [
       "          0         1         2                                        title  \\\n",
       "0  0.066961  0.067713 -0.053641  Detective Dee: Mystery of the Phantom Flame   \n",
       "1 -0.109010 -0.164084 -0.111305                     Don't Look Under the Bed   \n",
       "2 -0.159670 -0.064904  0.011324                                    Peter Pan   \n",
       "3  0.005492 -0.130533 -0.007381                                    Eagle Eye   \n",
       "4  0.163670  0.008592 -0.053351                              Fulltime Killer   \n",
       "\n",
       "   Biography  Crime  Romance  Animation  Horror  Music  ...  History  Western  \\\n",
       "0          0      0        0          0       0      0  ...        0        0   \n",
       "1          0      0        0          0       0      0  ...        0        0   \n",
       "2          0      0        0          0       0      0  ...        0        0   \n",
       "3          0      0        0          0       0      0  ...        0        0   \n",
       "4          0      1        0          0       0      0  ...        0        0   \n",
       "\n",
       "   Family  War  Thriller  Documentary  Musical  Fantasy  Short  Mystery  \n",
       "0       0    0         0            0        0        0      0        0  \n",
       "1       1    0         0            0        0        1      0        0  \n",
       "2       1    0         0            0        0        1      0        0  \n",
       "3       0    0         1            0        0        0      0        1  \n",
       "4       0    0         0            0        0        0      0        0  \n",
       "\n",
       "[5 rows x 25 columns]"
      ]
     },
     "execution_count": 104,
     "metadata": {},
     "output_type": "execute_result"
    }
   ],
   "source": [
    "df.head()"
   ]
  },
  {
   "cell_type": "code",
   "execution_count": 119,
   "metadata": {},
   "outputs": [],
   "source": [
    "# Multiply the embedding values to exaggerate the differences between them\n",
    "n = 10\n",
    "df[0] = df[0] * n\n",
    "df[1] = df[1] * n\n",
    "df[2] = df[2] * n"
   ]
  },
  {
   "cell_type": "code",
   "execution_count": 106,
   "metadata": {},
   "outputs": [
    {
     "data": {
      "text/html": [
       "<div>\n",
       "<style scoped>\n",
       "    .dataframe tbody tr th:only-of-type {\n",
       "        vertical-align: middle;\n",
       "    }\n",
       "\n",
       "    .dataframe tbody tr th {\n",
       "        vertical-align: top;\n",
       "    }\n",
       "\n",
       "    .dataframe thead th {\n",
       "        text-align: right;\n",
       "    }\n",
       "</style>\n",
       "<table border=\"1\" class=\"dataframe\">\n",
       "  <thead>\n",
       "    <tr style=\"text-align: right;\">\n",
       "      <th></th>\n",
       "      <th>0</th>\n",
       "      <th>1</th>\n",
       "      <th>2</th>\n",
       "      <th>title</th>\n",
       "      <th>Biography</th>\n",
       "      <th>Crime</th>\n",
       "      <th>Romance</th>\n",
       "      <th>Animation</th>\n",
       "      <th>Horror</th>\n",
       "      <th>Music</th>\n",
       "      <th>...</th>\n",
       "      <th>History</th>\n",
       "      <th>Western</th>\n",
       "      <th>Family</th>\n",
       "      <th>War</th>\n",
       "      <th>Thriller</th>\n",
       "      <th>Documentary</th>\n",
       "      <th>Musical</th>\n",
       "      <th>Fantasy</th>\n",
       "      <th>Short</th>\n",
       "      <th>Mystery</th>\n",
       "    </tr>\n",
       "  </thead>\n",
       "  <tbody>\n",
       "    <tr>\n",
       "      <th>0</th>\n",
       "      <td>0.133923</td>\n",
       "      <td>0.135427</td>\n",
       "      <td>-0.107281</td>\n",
       "      <td>Detective Dee: Mystery of the Phantom Flame</td>\n",
       "      <td>0</td>\n",
       "      <td>0</td>\n",
       "      <td>0</td>\n",
       "      <td>0</td>\n",
       "      <td>0</td>\n",
       "      <td>0</td>\n",
       "      <td>...</td>\n",
       "      <td>0</td>\n",
       "      <td>0</td>\n",
       "      <td>0</td>\n",
       "      <td>0</td>\n",
       "      <td>0</td>\n",
       "      <td>0</td>\n",
       "      <td>0</td>\n",
       "      <td>0</td>\n",
       "      <td>0</td>\n",
       "      <td>0</td>\n",
       "    </tr>\n",
       "    <tr>\n",
       "      <th>1</th>\n",
       "      <td>-0.218020</td>\n",
       "      <td>-0.328168</td>\n",
       "      <td>-0.222609</td>\n",
       "      <td>Don't Look Under the Bed</td>\n",
       "      <td>0</td>\n",
       "      <td>0</td>\n",
       "      <td>0</td>\n",
       "      <td>0</td>\n",
       "      <td>0</td>\n",
       "      <td>0</td>\n",
       "      <td>...</td>\n",
       "      <td>0</td>\n",
       "      <td>0</td>\n",
       "      <td>1</td>\n",
       "      <td>0</td>\n",
       "      <td>0</td>\n",
       "      <td>0</td>\n",
       "      <td>0</td>\n",
       "      <td>1</td>\n",
       "      <td>0</td>\n",
       "      <td>0</td>\n",
       "    </tr>\n",
       "    <tr>\n",
       "      <th>2</th>\n",
       "      <td>-0.319341</td>\n",
       "      <td>-0.129809</td>\n",
       "      <td>0.022648</td>\n",
       "      <td>Peter Pan</td>\n",
       "      <td>0</td>\n",
       "      <td>0</td>\n",
       "      <td>0</td>\n",
       "      <td>0</td>\n",
       "      <td>0</td>\n",
       "      <td>0</td>\n",
       "      <td>...</td>\n",
       "      <td>0</td>\n",
       "      <td>0</td>\n",
       "      <td>1</td>\n",
       "      <td>0</td>\n",
       "      <td>0</td>\n",
       "      <td>0</td>\n",
       "      <td>0</td>\n",
       "      <td>1</td>\n",
       "      <td>0</td>\n",
       "      <td>0</td>\n",
       "    </tr>\n",
       "    <tr>\n",
       "      <th>3</th>\n",
       "      <td>0.010985</td>\n",
       "      <td>-0.261066</td>\n",
       "      <td>-0.014762</td>\n",
       "      <td>Eagle Eye</td>\n",
       "      <td>0</td>\n",
       "      <td>0</td>\n",
       "      <td>0</td>\n",
       "      <td>0</td>\n",
       "      <td>0</td>\n",
       "      <td>0</td>\n",
       "      <td>...</td>\n",
       "      <td>0</td>\n",
       "      <td>0</td>\n",
       "      <td>0</td>\n",
       "      <td>0</td>\n",
       "      <td>1</td>\n",
       "      <td>0</td>\n",
       "      <td>0</td>\n",
       "      <td>0</td>\n",
       "      <td>0</td>\n",
       "      <td>1</td>\n",
       "    </tr>\n",
       "    <tr>\n",
       "      <th>4</th>\n",
       "      <td>0.327340</td>\n",
       "      <td>0.017185</td>\n",
       "      <td>-0.106702</td>\n",
       "      <td>Fulltime Killer</td>\n",
       "      <td>0</td>\n",
       "      <td>1</td>\n",
       "      <td>0</td>\n",
       "      <td>0</td>\n",
       "      <td>0</td>\n",
       "      <td>0</td>\n",
       "      <td>...</td>\n",
       "      <td>0</td>\n",
       "      <td>0</td>\n",
       "      <td>0</td>\n",
       "      <td>0</td>\n",
       "      <td>0</td>\n",
       "      <td>0</td>\n",
       "      <td>0</td>\n",
       "      <td>0</td>\n",
       "      <td>0</td>\n",
       "      <td>0</td>\n",
       "    </tr>\n",
       "  </tbody>\n",
       "</table>\n",
       "<p>5 rows × 25 columns</p>\n",
       "</div>"
      ],
      "text/plain": [
       "          0         1         2                                        title  \\\n",
       "0  0.133923  0.135427 -0.107281  Detective Dee: Mystery of the Phantom Flame   \n",
       "1 -0.218020 -0.328168 -0.222609                     Don't Look Under the Bed   \n",
       "2 -0.319341 -0.129809  0.022648                                    Peter Pan   \n",
       "3  0.010985 -0.261066 -0.014762                                    Eagle Eye   \n",
       "4  0.327340  0.017185 -0.106702                              Fulltime Killer   \n",
       "\n",
       "   Biography  Crime  Romance  Animation  Horror  Music  ...  History  Western  \\\n",
       "0          0      0        0          0       0      0  ...        0        0   \n",
       "1          0      0        0          0       0      0  ...        0        0   \n",
       "2          0      0        0          0       0      0  ...        0        0   \n",
       "3          0      0        0          0       0      0  ...        0        0   \n",
       "4          0      1        0          0       0      0  ...        0        0   \n",
       "\n",
       "   Family  War  Thriller  Documentary  Musical  Fantasy  Short  Mystery  \n",
       "0       0    0         0            0        0        0      0        0  \n",
       "1       1    0         0            0        0        1      0        0  \n",
       "2       1    0         0            0        0        1      0        0  \n",
       "3       0    0         1            0        0        0      0        1  \n",
       "4       0    0         0            0        0        0      0        0  \n",
       "\n",
       "[5 rows x 25 columns]"
      ]
     },
     "execution_count": 106,
     "metadata": {},
     "output_type": "execute_result"
    }
   ],
   "source": [
    "df.head()"
   ]
  },
  {
   "cell_type": "code",
   "execution_count": 107,
   "metadata": {},
   "outputs": [
    {
     "name": "stdout",
     "output_type": "stream",
     "text": [
      "{'Biography', 'Crime', 'Romance', 'Animation', 'Horror', 'Music', 'Comedy', 'Sci-Fi', 'Drama', 'Adventure', 'Action', 'History', 'Western', 'Family', 'War', 'Thriller', 'Documentary', 'Musical', 'Fantasy', 'Short', 'Mystery'}\n"
     ]
    }
   ],
   "source": [
    "print(unique_genres)"
   ]
  },
  {
   "cell_type": "code",
   "execution_count": 108,
   "metadata": {},
   "outputs": [],
   "source": [
    "# Fetch query embedding\n",
    "query = \"What movies take place in italy?\"\n",
    "\n",
    "url = \"https://iltvectorsearch.openai.azure.com/openai/deployments/text-embedding-ada-002/embeddings?api-version=2023-05-15\"\n",
    "headers = {\n",
    "            \"Content-Type\": \"application/json\",\n",
    "            \"api-key\": os.getenv('MDB_API_KEY')\n",
    "        }\n",
    "repsonse = requests.post(url, headers=headers, json={\"input\": query}).json()\n",
    "query_embedding = repsonse['data'][0]['embedding']"
   ]
  },
  {
   "cell_type": "code",
   "execution_count": 120,
   "metadata": {},
   "outputs": [],
   "source": [
    "query_embedding_pcad = pca.transform(np.array(query_embedding).reshape(1, -1))[0] * n"
   ]
  },
  {
   "cell_type": "code",
   "execution_count": 121,
   "metadata": {},
   "outputs": [
    {
     "data": {
      "text/plain": [
       "array([-0.11959344,  0.14666784,  0.61419797])"
      ]
     },
     "execution_count": 121,
     "metadata": {},
     "output_type": "execute_result"
    }
   ],
   "source": [
    "query_embedding_pcad"
   ]
  },
  {
   "cell_type": "code",
   "execution_count": 122,
   "metadata": {},
   "outputs": [
    {
     "data": {
      "application/vnd.plotly.v1+json": {
       "config": {
        "plotlyServerURL": "https://plot.ly"
       },
       "data": [
        {
         "customdata": [
          [
           "Detective Dee: Mystery of the Phantom Flame"
          ],
          [
           "Don't Look Under the Bed"
          ],
          [
           "Peter Pan"
          ],
          [
           "Eagle Eye"
          ],
          [
           "Fulltime Killer"
          ],
          [
           "Drug War"
          ],
          [
           "Young Guns II"
          ],
          [
           "Sleeping Dogs"
          ],
          [
           "The Bride"
          ],
          [
           "2000 AD"
          ],
          [
           "I picari"
          ],
          [
           "Saheb Biwi Aur Gangster Returns"
          ],
          [
           "Renegade"
          ],
          [
           "Cat Shit One"
          ],
          [
           "Initial D"
          ],
          [
           "Lego: The Adventures of Clutch Powers"
          ],
          [
           "Maleficent"
          ],
          [
           "The Adventures of Ford Fairlane"
          ],
          [
           "Posse"
          ],
          [
           "Cold War"
          ],
          [
           "El mariachi"
          ],
          [
           "The Hi-Lo Country"
          ],
          [
           "The Master Plan"
          ],
          [
           "Heropanti"
          ],
          [
           "Ice Age: Dawn of the Dinosaurs"
          ],
          [
           "The Last Airbender"
          ],
          [
           "The Crow: City of Angels"
          ],
          [
           "Astro Boy"
          ],
          [
           "The Baytown Outlaws"
          ],
          [
           "Dr. Wai in the Scriptures with No Words"
          ],
          [
           "Kung Fu Panda 2"
          ],
          [
           "Dragon Age: Dawn of the Seeker"
          ],
          [
           "Bogus"
          ],
          [
           "The Terror Live"
          ],
          [
           "Modern Era"
          ],
          [
           "Wonder Women! The Untold Story of American Superheroines"
          ],
          [
           "The Overcoat"
          ],
          [
           "SPL: Kill Zone"
          ],
          [
           "Austin Powers: The Spy Who Shagged Me"
          ],
          [
           "American Outlaws"
          ],
          [
           "The Raven"
          ],
          [
           "Wolf Girl"
          ],
          [
           "The Man of the Year"
          ],
          [
           "All Is Lost"
          ],
          [
           "The Misfits"
          ],
          [
           "Helter Skelter"
          ],
          [
           "Lockout"
          ],
          [
           "Parugu"
          ],
          [
           "3 Ninjas"
          ],
          [
           "Pinocchio's Revenge"
          ],
          [
           "Kung Fury"
          ],
          [
           "The Slipper and the Rose: The Story of Cinderella"
          ],
          [
           "A Fairly Odd Movie: Grow Up, Timmy Turner!"
          ],
          [
           "'Doc'"
          ],
          [
           "Nevada Smith"
          ],
          [
           "Baadshah"
          ],
          [
           "Turks & Caicos"
          ],
          [
           "The Coast Guard"
          ],
          [
           "Heavy Metal"
          ],
          [
           "Atolladero"
          ],
          [
           "For Heaven's Sake"
          ],
          [
           "Cherry 2000"
          ],
          [
           "Heaven Knows, Mr. Allison"
          ],
          [
           "Beasts of the Southern Wild"
          ],
          [
           "Three Fugitives"
          ],
          [
           "What Dreams May Come"
          ],
          [
           "The Ewok Adventure"
          ],
          [
           "Battletruck"
          ],
          [
           "Windwalker"
          ],
          [
           "Runaway"
          ],
          [
           "The Defender"
          ],
          [
           "Once Upon a Time in China II"
          ],
          [
           "Waterloo"
          ],
          [
           "20th Century Boys 2: The Last Hope"
          ],
          [
           "Easy Money"
          ],
          [
           "Percy Jackson & the Olympians: The Lightning Thief"
          ],
          [
           "Connected"
          ],
          [
           "The Diplomat"
          ],
          [
           "Doom"
          ],
          [
           "Prospero's Books"
          ],
          [
           "The Brothers Lionheart"
          ],
          [
           "Around the World in 80 Days"
          ],
          [
           "Battlestar Galactica: The Plan"
          ],
          [
           "Comforting Skin"
          ],
          [
           "War"
          ],
          [
           "Hulchul"
          ],
          [
           "Destry Rides Again"
          ],
          [
           "The Incredibles"
          ],
          [
           "Like Father Like Son"
          ],
          [
           "Above and Beyond"
          ],
          [
           "Gabriel"
          ],
          [
           "Ground Zero"
          ],
          [
           "Fish Story"
          ],
          [
           "Elegy of a Voyage"
          ],
          [
           "èon Flux"
          ],
          [
           "China Girl"
          ],
          [
           "The Condemned"
          ],
          [
           "Ko"
          ],
          [
           "The Wolverine"
          ],
          [
           "New Jack City"
          ],
          [
           "The Addams Family"
          ],
          [
           "Atanarjuat: The Fast Runner"
          ],
          [
           "One for the Money"
          ],
          [
           "The Last Starfighter"
          ],
          [
           "Smilla's Feeling for Snow"
          ],
          [
           "Avengers Confidential: Black Widow & Punisher"
          ],
          [
           "Star Trek: Insurrection"
          ],
          [
           "Batman: The Dark Knight Returns, Part 1"
          ],
          [
           "13 Assassins"
          ],
          [
           "A Better Tomorrow III: Love and Death in Saigon"
          ],
          [
           "Streets of Fire"
          ],
          [
           "Resident Evil: Extinction"
          ],
          [
           "Lara Croft Tomb Raider: The Cradle of Life"
          ],
          [
           "True Grit"
          ],
          [
           "Goldfinger"
          ],
          [
           "Jason Goes to Hell: The Final Friday"
          ],
          [
           "Premonition"
          ],
          [
           "Scanners II: The New Order"
          ],
          [
           "Strawberries in the Supermarket"
          ],
          [
           "Mesrine Part 2: Public Enemy #1"
          ],
          [
           "Dragonworld"
          ],
          [
           "Judge Dredd"
          ],
          [
           "Aladin"
          ],
          [
           "Raiders of the Lost Ark"
          ],
          [
           "Gojo reisenki: Gojoe"
          ],
          [
           "A Midsummer Night's Dream"
          ],
          [
           "Koi... Mil Gaya"
          ],
          [
           "Ghost"
          ],
          [
           "The Forbidden Kingdom"
          ],
          [
           "The Twilight Saga: Breaking Dawn - Part 1"
          ],
          [
           "The Kid"
          ],
          [
           "Ted"
          ],
          [
           "Battle of the Warriors"
          ],
          [
           "Leonard Part 6"
          ],
          [
           "Battle Beyond the Stars"
          ],
          [
           "The Rebel"
          ],
          [
           "Clash of the Wolves"
          ],
          [
           "Surf Ninjas"
          ],
          [
           "Harry Potter and the Deathly Hallows: Part 1"
          ],
          [
           "Sheena"
          ],
          [
           "The Lost Bladesman"
          ],
          [
           "Eva"
          ],
          [
           "Pudhu Pettai"
          ],
          [
           "Khal Nayak"
          ],
          [
           "The Princess Blade"
          ],
          [
           "The Emerald Forest"
          ],
          [
           "Obitaemyy ostrov"
          ],
          [
           "Soar Into the Sun"
          ],
          [
           "Pastorela"
          ],
          [
           "Frog"
          ],
          [
           "Peter Pan"
          ],
          [
           "The Myth"
          ],
          [
           "The Last Unicorn"
          ],
          [
           "BloodRayne"
          ],
          [
           "The Longest Nite"
          ],
          [
           "Lucy"
          ],
          [
           "Paragraph 78"
          ],
          [
           "Da grande"
          ],
          [
           "Tai Chi Zero"
          ],
          [
           "Blades of Blood"
          ],
          [
           "Phineas and Ferb the Movie: Across the 2nd Dimension"
          ],
          [
           "The Cheyenne Social Club"
          ],
          [
           "Knight and Day"
          ],
          [
           "The Peanut Butter Solution"
          ],
          [
           "Breakout"
          ],
          [
           "The Grey"
          ],
          [
           "About Time"
          ],
          [
           "High Noon"
          ],
          [
           "Bhoothnath"
          ],
          [
           "The Bannen Way"
          ],
          [
           "Peggy Sue Got Married"
          ],
          [
           "Deewaar"
          ],
          [
           "The Wild Angels"
          ],
          [
           "Dirty Mind"
          ],
          [
           "Animals"
          ],
          [
           "The Bible"
          ],
          [
           "Stargate: Continuum"
          ],
          [
           "The Shaolin Temple"
          ],
          [
           "Hamilton: I nationens intresse"
          ],
          [
           "Hollow Man II"
          ],
          [
           "Fatty Finn"
          ],
          [
           "Bad Day to Go Fishing"
          ],
          [
           "The Prophecy 3: The Ascent"
          ],
          [
           "Afflicted"
          ],
          [
           "K-9: P.I."
          ],
          [
           "The Bounty"
          ],
          [
           "Contract Killer"
          ],
          [
           "Diamonds Are Forever"
          ],
          [
           "Tokyo Fist"
          ],
          [
           "The Wedding Party"
          ],
          [
           "The Haunting"
          ],
          [
           "The Assailant"
          ],
          [
           "Perrier's Bounty"
          ],
          [
           "Ardor"
          ],
          [
           "Race"
          ],
          [
           "Hell Ride"
          ],
          [
           "Death Street USA"
          ],
          [
           "Single Santa Seeks Mrs. Claus"
          ],
          [
           "Godzilla: Final Wars"
          ],
          [
           "Figures in a Landscape"
          ],
          [
           "Scott Pilgrim vs. the World"
          ],
          [
           "The Story of Marie and Julien"
          ],
          [
           "Trollhunter"
          ],
          [
           "Underworld: Awakening"
          ],
          [
           "Volcano"
          ],
          [
           "Godzilla 1985"
          ],
          [
           "The Raid: Redemption"
          ],
          [
           "Percy Jackson: Sea of Monsters"
          ],
          [
           "Fulltime Killer"
          ],
          [
           "Silverado"
          ],
          [
           "The Good, the Bad, the Weird"
          ],
          [
           "Krampus: The Christmas Devil"
          ],
          [
           "Queen of the Mountains"
          ],
          [
           "Blind"
          ],
          [
           "Tamara"
          ],
          [
           "The Prophecy II"
          ],
          [
           "The Saragossa Manuscript"
          ],
          [
           "Fast Five"
          ],
          [
           "The Man from the Future"
          ],
          [
           "Magic in the Water"
          ],
          [
           "Kabul Express"
          ],
          [
           "The 10th Victim"
          ],
          [
           "Priest"
          ],
          [
           "Zardoz"
          ],
          [
           "Tommy Tricker and the Stamp Traveller"
          ],
          [
           "Amar Akbar Anthony"
          ],
          [
           "Gone in Sixty Seconds"
          ],
          [
           "Flash Gordon"
          ],
          [
           "Dirty Harry"
          ],
          [
           "Secuestro express"
          ],
          [
           "Defending Your Life"
          ],
          [
           "Shool"
          ],
          [
           "The Patriot"
          ],
          [
           "The Steel Helmet"
          ],
          [
           "Gangs of Wasseypur"
          ],
          [
           "City on Fire"
          ],
          [
           "Ride a Crooked Trail"
          ],
          [
           "The Ninja Wars"
          ],
          [
           "Dead Presidents"
          ],
          [
           "Devasuram"
          ],
          [
           "Boogie"
          ],
          [
           "Alice"
          ],
          [
           "The Santa Clause 2"
          ],
          [
           "Batman & Robin"
          ],
          [
           "Afro Samurai: Resurrection"
          ],
          [
           "This Means War"
          ],
          [
           "Wishmaster"
          ],
          [
           "Phantasm II"
          ],
          [
           "The Monster Squad"
          ],
          [
           "Littleman"
          ],
          [
           "Ip Man"
          ],
          [
           "The Longest Day"
          ],
          [
           "OzLand"
          ],
          [
           "Scarfies"
          ],
          [
           "City of Ember"
          ],
          [
           "Jason and the Argonauts"
          ],
          [
           "Bloody Tie"
          ],
          [
           "47 Ronin"
          ],
          [
           "The Hourglass Sanatorium"
          ],
          [
           "Honky Tonk Freeway"
          ],
          [
           "Dr. Dolittle 2"
          ],
          [
           "Mockingbird Lane"
          ],
          [
           "Prancer Returns"
          ],
          [
           "The Haunting Hour: Don't Think About It"
          ],
          [
           "If Looks Could Kill"
          ],
          [
           "Split Decisions"
          ],
          [
           "Gulaab Gang"
          ],
          [
           "Looper"
          ],
          [
           "Reign of Fire"
          ],
          [
           "Aftershock"
          ],
          [
           "Journey to the Center of the Earth"
          ],
          [
           "Malarek"
          ],
          [
           "Pups"
          ],
          [
           "Back to the Future Part III"
          ],
          [
           "Fluke"
          ],
          [
           "Atlantis: The Lost Empire"
          ],
          [
           "Better Mus Come"
          ],
          [
           "The Milagro Beanfield War"
          ],
          [
           "Tarif Novogodniy"
          ],
          [
           "Dragon Ball Z: Battle of Gods"
          ],
          [
           "Turbulence 2: Fear of Flying"
          ],
          [
           "Here Comes Mr. Jordan"
          ],
          [
           "Never Die Alone"
          ],
          [
           "Bounty Hunters"
          ],
          [
           "Born in Flames"
          ],
          [
           "Unit 7"
          ],
          [
           "The Rescue"
          ],
          [
           "Blazing Saddles"
          ],
          [
           "The Unbeatable"
          ],
          [
           "Smokey and the Bandit"
          ],
          [
           "Goodbye, 20th Century"
          ],
          [
           "Vares: Private Eye"
          ],
          [
           "Life of Pi"
          ],
          [
           "The Last of the Mohicans"
          ],
          [
           "Alien Nation"
          ],
          [
           "Shadowboxer"
          ],
          [
           "Purgatory"
          ],
          [
           "The Karate Kid, Part III"
          ],
          [
           "Beautiful Creatures"
          ],
          [
           "The Living Daylights"
          ]
         ],
         "hovertemplate": "0=%{x}<br>1=%{y}<br>2=%{z}<br>title=%{customdata[0]}<br>Short=%{marker.color}<extra></extra>",
         "legendgroup": "",
         "marker": {
          "color": [
           0,
           0,
           0,
           0,
           0,
           0,
           0,
           0,
           0,
           0,
           0,
           0,
           0,
           1,
           0,
           0,
           0,
           0,
           0,
           0,
           0,
           0,
           0,
           0,
           0,
           0,
           0,
           0,
           0,
           0,
           0,
           0,
           0,
           0,
           0,
           0,
           0,
           0,
           0,
           0,
           0,
           0,
           0,
           0,
           0,
           0,
           0,
           0,
           0,
           0,
           1,
           0,
           0,
           0,
           0,
           0,
           0,
           0,
           0,
           0,
           0,
           0,
           0,
           0,
           0,
           0,
           0,
           0,
           0,
           0,
           0,
           0,
           0,
           0,
           0,
           0,
           0,
           0,
           0,
           0,
           0,
           0,
           0,
           0,
           0,
           0,
           0,
           0,
           0,
           0,
           0,
           0,
           0,
           0,
           0,
           0,
           0,
           0,
           0,
           0,
           0,
           0,
           0,
           0,
           0,
           0,
           0,
           0,
           0,
           0,
           0,
           0,
           0,
           0,
           0,
           0,
           0,
           0,
           0,
           0,
           0,
           0,
           0,
           0,
           0,
           0,
           0,
           0,
           0,
           0,
           0,
           0,
           0,
           0,
           0,
           0,
           0,
           0,
           0,
           0,
           0,
           0,
           0,
           0,
           0,
           0,
           0,
           0,
           0,
           0,
           0,
           0,
           0,
           0,
           0,
           0,
           0,
           0,
           0,
           0,
           0,
           0,
           0,
           0,
           0,
           0,
           0,
           0,
           0,
           0,
           0,
           0,
           0,
           0,
           0,
           0,
           0,
           0,
           0,
           0,
           0,
           0,
           0,
           0,
           0,
           0,
           0,
           0,
           0,
           0,
           0,
           0,
           0,
           0,
           0,
           0,
           0,
           0,
           0,
           0,
           0,
           0,
           0,
           0,
           0,
           0,
           0,
           0,
           0,
           0,
           0,
           0,
           0,
           0,
           0,
           0,
           0,
           0,
           0,
           0,
           0,
           0,
           0,
           0,
           0,
           0,
           0,
           0,
           0,
           0,
           0,
           0,
           0,
           0,
           0,
           0,
           0,
           0,
           0,
           0,
           0,
           0,
           0,
           0,
           0,
           0,
           0,
           0,
           0,
           0,
           0,
           0,
           0,
           0,
           0,
           0,
           0,
           0,
           0,
           0,
           0,
           0,
           0,
           0,
           0,
           0,
           0,
           0,
           0,
           0,
           0,
           0,
           0,
           0,
           0,
           0,
           0,
           0,
           0,
           0,
           0,
           0,
           0,
           0,
           0,
           0,
           0,
           0,
           0,
           0,
           0,
           0,
           0,
           0,
           0,
           0,
           0,
           0,
           0,
           0
          ],
          "coloraxis": "coloraxis",
          "symbol": "circle"
         },
         "mode": "markers",
         "name": "",
         "scene": "scene",
         "showlegend": false,
         "type": "scatter3d",
         "x": [
          1.3392267547917052,
          -2.1801977944103146,
          -3.1934068941145908,
          0.10984512710470504,
          3.2733994743516934,
          4.547494906901115,
          2.914621073318072,
          1.3523044807848161,
          -2.6416036696956047,
          -0.49967261482603875,
          0.6485776964703339,
          3.233083333209257,
          0.2735722079834578,
          1.2768380842203264,
          -0.9157222360852074,
          -2.5307355055231695,
          -3.1291601249641,
          2.8679522712354166,
          3.7270939580213676,
          2.938273545652017,
          3.3457980571719084,
          -0.12125188931824626,
          1.7515372202958397,
          -1.0887812780771569,
          -2.1501631779631687,
          -2.966614095209581,
          0.047707749302175195,
          -2.115891412783357,
          0.7255925754577524,
          -1.6021216521248083,
          -1.5349857798466702,
          -2.6007224387122867,
          -2.509367083439419,
          1.5290588038200625,
          0.03079407326235059,
          -3.0814248363383916,
          -0.4917650629805567,
          4.807025443852818,
          -0.4702423481689824,
          1.6994161312647516,
          -1.59525552418345,
          -2.6982169996998735,
          0.4768740276754425,
          -0.7220756978836984,
          0.9542273318436616,
          0.9748340184903765,
          1.1267558383140823,
          0.4893517874374319,
          -0.2720747316780415,
          -0.39833561409293533,
          1.6779030694133428,
          -2.7566336980997592,
          -0.4468650015991421,
          0.44562205733866644,
          0.9763326094307713,
          2.408409897650415,
          1.554437412658014,
          0.7277402886038319,
          -3.6030281174436354,
          1.595841851509029,
          0.6241372298471791,
          -1.3970152837735672,
          -0.8191968964006315,
          -2.946572558905813,
          2.36945428707926,
          -0.5409202990945351,
          -1.9637065955109505,
          -0.14178215148537524,
          -1.3150052671964063,
          1.3692054635998057,
          3.3225463452449047,
          0.22055945596259854,
          -0.925826502432485,
          -1.2379312595317011,
          2.666753830437216,
          -3.1685162233914803,
          1.1022241733342613,
          3.4163852862104713,
          -0.7559667239253985,
          -1.2829965223787827,
          -1.8255847236096125,
          -0.4253266158920718,
          -1.318021839124611,
          -1.022380755737339,
          1.8721292581528315,
          0.8265405419097378,
          3.0143066584983558,
          0.15140762210651568,
          -1.2159965221945677,
          -0.6742301900870875,
          -1.872074848429421,
          -0.4784600122727689,
          -1.8301406204760067,
          -2.274660159689807,
          0.6574906295858441,
          0.07464754964008655,
          1.8625280614556594,
          1.050555355608444,
          -1.1224998987214745,
          2.8931487980931916,
          0.25723369450143097,
          -2.1824980393233275,
          1.9968852448947145,
          -0.563050791349443,
          -1.053666778161328,
          2.0516268953152093,
          -0.6655067982395202,
          -0.17874249293518427,
          1.5474603131177083,
          1.9229684137217506,
          3.2570485105357863,
          -0.9813939163393481,
          -1.407546516725112,
          2.195423377700663,
          1.6062038111105874,
          -1.5024703826654373,
          0.08900037442766337,
          0.8074183648273537,
          1.7462903573088728,
          2.8647696184776352,
          -2.80181000019317,
          1.3825356223511576,
          -2.515626262265616,
          -0.6860461725516536,
          0.05260860385777194,
          -2.3814972472684373,
          -2.8352835239366025,
          0.281366187972084,
          -0.8699835279606439,
          -1.6654095077868116,
          -1.4653354029096979,
          -2.206133619586421,
          -2.0300315673769718,
          0.29954155065778654,
          -0.6476536640794124,
          0.4967440179211745,
          0.25594071938082263,
          -0.45908796825437037,
          -2.2334541049190095,
          -0.5862961712250082,
          -1.544666147574612,
          -1.1214936804621176,
          1.741113309964647,
          3.0590615902994522,
          1.0676305891821893,
          -0.4866481806492944,
          -1.9551550820044752,
          0.7390957815161385,
          0.153830596960826,
          -3.3352279250471337,
          -3.4903452815637737,
          -1.6171837050385862,
          -2.600315963707141,
          -0.17581087267856552,
          3.7234253190970006,
          -0.7936459210889537,
          -0.3422655356359963,
          -2.1152415203439707,
          -1.1485669004530505,
          0.4240614897601668,
          -1.3184368702009461,
          1.4174569822932204,
          1.4690618240291464,
          -2.641541338273673,
          2.2036195950928987,
          0.4067723444134368,
          -2.454055329980735,
          1.0584160908548244,
          -0.28409983595879623,
          2.270078725223297,
          -1.9570276117507297,
          1.285752368176862,
          0.7720196464220431,
          0.08418027463535996,
          -1.045935355427095,
          -2.8504817998266625,
          -1.8817742990682307,
          0.010964329316399679,
          3.380398073828487,
          1.4462247680708735,
          0.0855143642461266,
          -0.5858541853143228,
          -2.1406474871873153,
          -1.1982830883736846,
          1.5124926339886136,
          -0.5960534641742259,
          3.455535317464526,
          2.433484275466275,
          1.4513094464848353,
          -0.009380174167796379,
          -2.1969840400311202,
          -0.13212806534960486,
          3.538404267168402,
          0.7650504238712657,
          0.5104845941807711,
          2.060470064122577,
          0.42594749852626224,
          -0.5083490626261623,
          -2.64727589946688,
          2.16155344142794,
          -1.9202292044810854,
          -0.929030231224955,
          -0.8632642076542067,
          -2.033194073651762,
          -0.2814288550475692,
          -2.0868051728568773,
          3.579801648829615,
          -3.0106764858309147,
          3.2733994743516934,
          0.10925269124897927,
          2.076741134701217,
          0.9080589014493555,
          -1.7590189382206574,
          1.1442169830486129,
          -0.5894554015602123,
          -1.257708049780556,
          0.2397196045924442,
          3.2911191464218477,
          -1.3754529165721807,
          -1.490257032785536,
          -0.4127952861816106,
          1.3461184996567022,
          0.84216090875734,
          -1.1942503949847927,
          -0.6509363420677161,
          -1.466761817708051,
          2.887336330052656,
          -1.1692453066648754,
          1.9182240102319859,
          1.3817973984699738,
          -0.6624962953213653,
          2.175897523111275,
          1.0980742531650713,
          0.1642189931320391,
          1.5794138025155546,
          3.9876659699302697,
          2.844844715577049,
          -1.9867090531097547,
          2.087151480276967,
          0.1702152955530671,
          2.402585087712619,
          -2.3823115677378537,
          -2.117278256696517,
          -0.12914673115437064,
          0.33141172761809734,
          1.7679479466419945,
          -2.187477363263686,
          -0.9889978294403388,
          -1.9790531201967814,
          1.2880580617610993,
          -0.6389262437339374,
          -1.6077603796619915,
          -2.987102152709162,
          -0.8446245874521197,
          -3.3629443509321177,
          -3.4862723729395624,
          2.1403033291786384,
          1.1941788874908483,
          -0.5756236139640812,
          -0.41231176993273677,
          -1.8004583838003907,
          -1.8490343092332016,
          -0.5370653890217674,
          -2.2099898213173876,
          0.39944009957483806,
          2.0741049064070376,
          0.48101674167307806,
          2.1474305970955196,
          -3.395427212725679,
          -0.6164353122602853,
          -2.1120333051205336,
          0.44884493110798773,
          3.1240464177260163,
          0.11171668779077729,
          -0.49258199798597385,
          -2.5298697294362853,
          2.3960554848546636,
          -0.23121425004205096,
          -1.4432812309793495,
          -2.5717503001869164,
          1.208791743604656,
          0.44686051851834674,
          3.2455292321385674,
          1.1857278890828753,
          -0.40287117870746025,
          3.7409142037293197,
          0.7779853221319176,
          3.042034272278722,
          0.9616449160321288,
          2.848294887145303,
          -1.8727904503124284,
          1.4967457061436895,
          -1.9175552984619277,
          0.5152809429761369,
          -2.5243122739597763,
          1.5496706638010638,
          1.113715346328943,
          1.219836969251183,
          -1.2529602891187936,
          0.23206127255458606
         ],
         "y": [
          1.3542650279785475,
          -3.2816819086515943,
          -1.2980885659204422,
          -2.6106584665072075,
          0.17184871154356435,
          -0.10184795577410109,
          0.4725587682450222,
          1.7524439797632168,
          -1.7728440322871433,
          2.710418661878062,
          1.6701754609509978,
          -0.23765103819886377,
          -2.210547958208707,
          0.7428663745030383,
          -0.18511886620343093,
          0.30176778341889154,
          -0.7501922688593382,
          -2.5898345350262204,
          0.844880863085537,
          0.2756482726865109,
          -0.7791819484422227,
          -0.618680098293969,
          0.807996057875431,
          -3.140649574734295,
          -0.4990653862604618,
          3.0026485776652923,
          0.30687811730376124,
          0.04393285766298473,
          -1.983780363498056,
          -0.24261512418875752,
          2.0786140392044112,
          1.9321028191165688,
          -3.1864801704710413,
          0.45336739915213725,
          0.8128551537133211,
          0.9939184912307375,
          -1.0010640022309547,
          0.3668661204025607,
          -1.422913606743072,
          -0.3358890934063117,
          -1.7986773874977882,
          -1.9916199369796828,
          -0.5338992213630344,
          0.4185942939353235,
          -2.588494034858398,
          -1.3474898056193207,
          -0.08575709364392656,
          -0.9922658859686193,
          0.10263674925062943,
          -3.1584641678496177,
          1.73313409490774,
          -1.3996571068600618,
          -1.7913636684505472,
          -0.41896109367390794,
          -0.8404585053675271,
          -0.12815040511047682,
          0.5352216703647725,
          1.949247521008268,
          -1.2799505747775828,
          1.3255994742291306,
          -3.576993107081654,
          -1.185692283626645,
          0.4771764678096871,
          -0.7350373651151137,
          -1.3146603252102853,
          -1.8623203759403735,
          0.31446040529670116,
          2.5567230402148384,
          1.9363373990112012,
          -0.38127253384702414,
          -0.1244055345605756,
          2.670778817787135,
          3.4723312013816345,
          -0.2337432327044745,
          -0.15929522612151947,
          0.520483659020257,
          -2.1745855681873487,
          -0.07238484311785386,
          2.29187844989159,
          -1.0625443023641334,
          -0.9693651945327347,
          1.147938309031444,
          2.9673355399983095,
          -2.764544130259017,
          1.1901007985399692,
          -1.630820531127586,
          -0.4558809819676813,
          -0.5612349046524715,
          -2.455303002723996,
          1.8895755848301432,
          0.7401420269006741,
          1.046802161872122,
          1.5724698226529155,
          0.2535605340450789,
          1.8860695352341972,
          -0.4611077566071583,
          0.39191802287612076,
          -1.0568511933877314,
          1.634183049468886,
          0.6171876827172994,
          -2.791211262089886,
          1.7325870272395454,
          -3.138419558718812,
          1.492182859503497,
          -1.8394686593132836,
          1.0484577638639698,
          2.650950812874513,
          0.14263738118457034,
          2.2302250086441036,
          0.6884504027473658,
          -0.4756302748104855,
          0.5081671763812293,
          1.4963736196680257,
          -1.7404698983707996,
          1.294545576745304,
          -1.3257041836439811,
          -2.2018721556966496,
          1.3069844927721923,
          0.15566650194915754,
          0.5635584968218985,
          -1.088296321252894,
          0.9117735180439192,
          -1.8000767916497773,
          2.1769082385739438,
          2.8865306979725727,
          -0.48495764915357004,
          -1.2381560318257459,
          -2.438619823086568,
          2.1929214578629463,
          -0.44039142203344545,
          -2.8953626892358724,
          -2.6286301970756174,
          4.404142950509861,
          0.4267328343124122,
          2.488646569543604,
          3.3273625912565183,
          1.1020363047327075,
          -1.2461028989205798,
          1.3221872515740638,
          -1.247674821242586,
          4.563796510066854,
          -1.299624724373643,
          -0.7902245451456386,
          -0.8187406740758838,
          3.1862756681003273,
          0.26866579210188746,
          1.8984528792185191,
          1.759029213415861,
          -0.7808371666584418,
          -2.1542524021146745,
          -1.912798333646095,
          1.3863179124985137,
          0.7647519768681271,
          -0.9172641389459907,
          -0.648690190257532,
          0.4759573625624256,
          -1.313945957026794,
          -3.141592779187201,
          1.8369670968406304,
          3.7120205699221724,
          -1.3524917748987628,
          -2.7902422299615854,
          -1.6348212057530855,
          -3.063790189296932,
          -0.011397170894969222,
          1.094082485988252,
          -1.9105434686705323,
          0.3273476419381543,
          -2.0217844060144987,
          -1.573863601897563,
          -3.0337374322481256,
          -1.1929892979964551,
          -0.7376855210059476,
          -2.185083668711005,
          -2.8083469080035117,
          1.7236191793990239,
          1.8510942897422287,
          3.4245411682522238,
          0.8869750641135538,
          -0.08809911068416339,
          -1.759347479822938,
          0.5184637822575635,
          1.8171653135238517,
          -0.6909952739777001,
          -1.5118685529395959,
          1.7518987709940768,
          0.8459066817194671,
          0.3594586415489012,
          -1.2073493733744334,
          -0.1369991217213618,
          -1.9214133060127947,
          1.2807070404238794,
          -0.23027320772121102,
          0.11560435674064187,
          0.3924059960102614,
          1.2562508242729233,
          0.1261940327826318,
          -2.338998360630014,
          2.8072589722146613,
          0.3291741258279469,
          -0.8020766114932307,
          -2.804690894388843,
          -0.5257377551212742,
          2.0963786633790784,
          1.1280420741788566,
          2.359762601535972,
          0.7454481621829057,
          1.2154982248478177,
          0.17184871154356435,
          -0.7745810733265359,
          2.725779637654036,
          -2.483979706031835,
          2.2533250657226676,
          -1.9040545143389334,
          -2.312904556939803,
          0.8269795199185361,
          0.4068752227753903,
          0.6536255860775102,
          -0.5605056846254115,
          -2.70036407511657,
          1.9979921395565503,
          1.1651109005049127,
          -1.2844111026433949,
          2.1083410558232645,
          -1.968453149826398,
          -0.4227683852168595,
          -0.6040851252142738,
          2.563801337607429,
          -0.25683000741768264,
          -1.614168937716023,
          1.5179773394651535,
          -0.9015017222936933,
          1.5525119536772556,
          3.5573707153314515,
          2.254782216285375,
          -0.977959195469442,
          -1.469758670910097,
          -0.5847440666384575,
          0.4135247802010941,
          -0.7618153850966334,
          -0.9885885262144032,
          -0.9936466029874336,
          -3.2371203982024097,
          -1.178986023752733,
          1.3537653562201801,
          -0.28106448498183356,
          -0.12517923809643666,
          -1.818124102814453,
          0.02131577489721169,
          -3.1251778964103165,
          1.9084333466037096,
          2.756818104027157,
          0.7614483783947107,
          -1.1820451100421059,
          0.6212494045254179,
          1.8774899149295181,
          -0.004220651655773705,
          3.5195672050201647,
          0.013711518628612418,
          -0.25467502146622684,
          -0.3555517732913558,
          -2.710164818422547,
          -3.2251224368890585,
          -2.8547119817717235,
          -0.5987927909127602,
          0.4225124726187618,
          -0.9162434600303843,
          0.2266345199321991,
          2.8336899969987934,
          0.44656916622187826,
          1.0578483423239309,
          -1.0596014122020674,
          -1.1574542477211847,
          -0.22109199518864475,
          -1.3541605254244968,
          1.569452855452903,
          1.7575782490245804,
          -1.3989792060160573,
          -1.2428076832017518,
          3.4088555004975674,
          1.1065095952481188,
          -1.6965388325343287,
          0.5916077583075148,
          2.0617909826271705,
          1.9716718746079895,
          -0.2284094075885399,
          1.9824482809207198,
          0.3774766744401164,
          -0.4432820873631354,
          -0.1219362882501187,
          2.1042806910350453,
          -0.7100186107969111,
          0.7614649907498752,
          1.4564985818901137,
          1.7488553276077101,
          -1.0028213997951134,
          0.27127929051311406,
          1.5376970753068366,
          -1.6712325452127739,
          2.424462764293673
         ],
         "z": [
          -1.072811338889634,
          -2.2260945112637915,
          0.22647785270852983,
          -0.14762455999190793,
          -1.0670163028140576,
          -0.948099052128669,
          0.42279926808559465,
          1.4337081379820418,
          0.07017482523813096,
          1.360627264273389,
          1.2301935963133594,
          0.2667097138785346,
          1.4990977173641022,
          0.9906494074026172,
          2.027609668061774,
          -0.7051862617484883,
          -2.367799558491627,
          -1.2772096388715213,
          -0.43934241218491044,
          -0.7702298151957543,
          -1.268930272364339,
          3.067480870616941,
          -1.4131925233425322,
          1.1371446425375504,
          -2.300962619031706,
          -0.347584123454871,
          -1.422453136737126,
          -0.2053872529616016,
          -1.9175757251720251,
          0.07070539142819549,
          -0.9153496892588777,
          -0.7475692102242515,
          -0.12738160513097702,
          0.8577662987674906,
          3.249148923962534,
          0.424672878072912,
          3.077147458259008,
          -1.0927321867653996,
          -1.951062503033684,
          0.4850854826469775,
          -2.172231420010375,
          0.5610327054006945,
          0.5545209852192201,
          0.34854521451824605,
          0.8836791281886446,
          0.04343517773246042,
          -1.0866949242663617,
          -0.41696330608388094,
          2.1333366742963915,
          0.04090727104492653,
          -0.37071092474098205,
          1.4986701776604863,
          -0.7615905486697414,
          2.092439459478055,
          -0.14394961773087495,
          1.7868132694829229,
          1.431451074870732,
          2.8404477116960782,
          -2.4756775793232917,
          0.47991365941678465,
          0.5848759322709698,
          1.3909638462141727,
          1.465420021951325,
          -0.03857641720448224,
          0.8121967186608613,
          0.34447072340790447,
          -1.1024972321137974,
          -0.5066063981475188,
          0.8678984157983416,
          -0.7947119288616102,
          1.4706142444429084,
          1.2838114048844507,
          1.0262074680384305,
          -2.0955805390261077,
          0.9047620608480329,
          -1.38374624170882,
          -1.02951909364258,
          0.9468657121927283,
          -2.569669876673867,
          0.1115687211505692,
          1.9305347252092315,
          0.49645170998442456,
          -1.7777697221940623,
          -0.2193185011886617,
          0.7321205935831745,
          -0.1044421576733473,
          0.5838203190577071,
          -2.2533110652897994,
          -1.2170364943676306,
          2.5151544928610488,
          -1.0117948061589335,
          2.3358207412622884,
          1.1536904253076086,
          1.8428587804423293,
          -1.7105825044237413,
          2.0309831962084317,
          0.7180609374741229,
          0.45850129668516315,
          -0.3340228865811831,
          -2.4101857758660197,
          -2.150199017452408,
          -0.35654630770476675,
          -0.015231787872480862,
          -1.3007635057447096,
          2.1402767425672757,
          -0.39397154814914903,
          -1.3239425704191985,
          -1.2632210551344472,
          -3.3714304532412775,
          1.75003871662618,
          -2.0153157197780573,
          -1.9737619748280835,
          -2.5441470043102052,
          -0.7135091666697027,
          -1.204356910927519,
          -2.2797772493479647,
          1.2025346449384364,
          -3.201579825178663,
          -0.021514884475166418,
          0.7204099302178997,
          1.078934094751112,
          -0.8540616898557782,
          0.5100138295360933,
          -0.8129793839207047,
          1.8618290949027816,
          1.679756962912649,
          -0.012395681512548662,
          -0.8571431527622873,
          0.6563144148515411,
          -1.599557203591572,
          -0.7054363921100946,
          0.37892336353978956,
          1.961181741983182,
          -2.9772486565713696,
          -2.2286278504590378,
          3.1495833181642876,
          -0.18981161994746032,
          2.078331204994446,
          -2.30508817770399,
          0.3922589096175022,
          2.874820371747797,
          0.04404015864688138,
          1.5502899003838597,
          1.3829508273995827,
          1.0720913773065408,
          0.9699487445681692,
          0.18195833209912277,
          1.661750500715523,
          0.6797916951128435,
          -0.09873702588576894,
          0.6757516996278141,
          1.7474380893820816,
          -2.8949139647019226,
          -2.251960558609899,
          0.3372235550091929,
          -2.9555150404573496,
          0.38940687794803225,
          2.395376616367573,
          2.415930577349948,
          0.46448464459016986,
          -1.331063461284475,
          0.6555980848169334,
          -0.44718974774413195,
          -0.9633875157371721,
          -0.24286421626395271,
          -0.907008544975564,
          0.9310648005643835,
          -1.3231072400033153,
          2.1375462071028455,
          0.6360369984484127,
          0.20088643629645547,
          1.6526667742539123,
          1.5268662346564077,
          1.3188971463917016,
          1.6498753361893983,
          1.3252304771587795,
          -0.8900179692875163,
          3.126485588283704,
          -0.2735599737298061,
          -2.937000984811572,
          -0.04434924920607958,
          2.1959486502656698,
          -0.3099667806021811,
          -1.062060700820294,
          0.03263516866676974,
          2.370270828313751,
          -1.228376115552883,
          -0.6311788948469079,
          3.017248108771665,
          -1.45014934818296,
          -0.5630126802300123,
          0.3466018040067928,
          -1.8501229454515757,
          -1.4355346334385752,
          0.5777088292772076,
          -0.9459698540953774,
          -2.1892102700551805,
          1.2147588908992757,
          -1.0473807626691687,
          0.1934085503400057,
          -2.7130295403384084,
          2.2492280112743295,
          -1.6890144126500992,
          -2.6765232697689867,
          -1.1797620798469424,
          -1.291680192503081,
          -1.6044399434103072,
          -2.2755096919048214,
          -1.0670163028140576,
          -1.5622326514765348,
          0.9592867763591844,
          0.38404420751140866,
          2.6712266639745863,
          1.701100234310463,
          -1.1280915498734425,
          -2.5044361492237712,
          1.9610302078572026,
          -1.5140698622783135,
          2.0175695022465527,
          1.9213450520540771,
          2.8828513229600903,
          -1.412986273946876,
          -2.6744145159841812,
          -2.146093979428412,
          0.9296524009271857,
          1.3471802483318518,
          -1.8921420039006795,
          -1.553088097273643,
          -1.093442263090976,
          -0.48662167398307726,
          0.565325995591578,
          3.739459963412836,
          0.8345349375550133,
          1.1108134897074597,
          1.295330145609057,
          -1.6576478105023886,
          1.2044328627689669,
          1.7257339104739453,
          1.3493875971486866,
          0.26449233740710926,
          -0.7204236200491729,
          0.04764610811053033,
          1.2119192620080006,
          -2.2139418714425054,
          -1.6339280370574907,
          -0.6503415999161505,
          -2.3288503604263213,
          -1.7725850106678018,
          -3.6877802622687286,
          -0.7176829678987107,
          3.333888346062662,
          1.902577400061052,
          0.501588754135882,
          -0.2713384309327854,
          -0.5645450065176836,
          0.36752856155489233,
          1.5389231966354529,
          -0.7662972147077021,
          2.153604019464891,
          2.294309474533621,
          -1.391819932945799,
          -0.17316845021912608,
          2.2624837327824747,
          -2.438814915444557,
          1.2950281315920276,
          0.16532421961590715,
          -0.5651740008511983,
          -0.2880623171328395,
          -2.396405608362237,
          -0.6227661577661281,
          -1.0524181874038032,
          2.0695517075016774,
          -0.692726124690707,
          -0.020827016132043963,
          1.4985472317009727,
          -0.9721351998949981,
          1.3286070355438464,
          1.3915900331517599,
          1.3926387964165583,
          -1.4504859365779545,
          0.2871692861548461,
          1.6524181803310447,
          -0.4940468493080963,
          -0.6551458977900917,
          1.9694498032452368,
          -1.2325147975890651,
          -0.2926077982355893,
          -0.5901951616785073,
          2.0538305695966224,
          -1.2798729809906237,
          1.0191136165585863,
          -1.652140862310736,
          0.9066572571407356,
          -0.041182927581717155,
          0.4994386636422844,
          -0.6548640186829089,
          -1.5377174904399684,
          -0.3932886115629011,
          0.2440976100983283,
          -0.6129976932319153
         ]
        },
        {
         "marker": {
          "color": "orange"
         },
         "name": "origin (0,0,0)",
         "type": "scatter3d",
         "x": [
          0
         ],
         "y": [
          0
         ],
         "z": [
          0
         ]
        },
        {
         "marker": {
          "color": "#16FF32"
         },
         "name": "query",
         "type": "scatter3d",
         "x": [
          -0.11959344025655357
         ],
         "y": [
          0.14666784399633642
         ],
         "z": [
          0.6141979651212935
         ]
        }
       ],
       "layout": {
        "coloraxis": {
         "colorbar": {
          "title": {
           "text": "Short"
          }
         },
         "colorscale": [
          [
           0,
           "#0d0887"
          ],
          [
           0.1111111111111111,
           "#46039f"
          ],
          [
           0.2222222222222222,
           "#7201a8"
          ],
          [
           0.3333333333333333,
           "#9c179e"
          ],
          [
           0.4444444444444444,
           "#bd3786"
          ],
          [
           0.5555555555555556,
           "#d8576b"
          ],
          [
           0.6666666666666666,
           "#ed7953"
          ],
          [
           0.7777777777777778,
           "#fb9f3a"
          ],
          [
           0.8888888888888888,
           "#fdca26"
          ],
          [
           1,
           "#f0f921"
          ]
         ]
        },
        "legend": {
         "tracegroupgap": 0
        },
        "margin": {
         "t": 60
        },
        "scene": {
         "domain": {
          "x": [
           0,
           1
          ],
          "y": [
           0,
           1
          ]
         },
         "xaxis": {
          "title": {
           "text": "0"
          }
         },
         "yaxis": {
          "title": {
           "text": "1"
          }
         },
         "zaxis": {
          "title": {
           "text": "2"
          }
         }
        },
        "template": {
         "data": {
          "bar": [
           {
            "error_x": {
             "color": "#2a3f5f"
            },
            "error_y": {
             "color": "#2a3f5f"
            },
            "marker": {
             "line": {
              "color": "#E5ECF6",
              "width": 0.5
             },
             "pattern": {
              "fillmode": "overlay",
              "size": 10,
              "solidity": 0.2
             }
            },
            "type": "bar"
           }
          ],
          "barpolar": [
           {
            "marker": {
             "line": {
              "color": "#E5ECF6",
              "width": 0.5
             },
             "pattern": {
              "fillmode": "overlay",
              "size": 10,
              "solidity": 0.2
             }
            },
            "type": "barpolar"
           }
          ],
          "carpet": [
           {
            "aaxis": {
             "endlinecolor": "#2a3f5f",
             "gridcolor": "white",
             "linecolor": "white",
             "minorgridcolor": "white",
             "startlinecolor": "#2a3f5f"
            },
            "baxis": {
             "endlinecolor": "#2a3f5f",
             "gridcolor": "white",
             "linecolor": "white",
             "minorgridcolor": "white",
             "startlinecolor": "#2a3f5f"
            },
            "type": "carpet"
           }
          ],
          "choropleth": [
           {
            "colorbar": {
             "outlinewidth": 0,
             "ticks": ""
            },
            "type": "choropleth"
           }
          ],
          "contour": [
           {
            "colorbar": {
             "outlinewidth": 0,
             "ticks": ""
            },
            "colorscale": [
             [
              0,
              "#0d0887"
             ],
             [
              0.1111111111111111,
              "#46039f"
             ],
             [
              0.2222222222222222,
              "#7201a8"
             ],
             [
              0.3333333333333333,
              "#9c179e"
             ],
             [
              0.4444444444444444,
              "#bd3786"
             ],
             [
              0.5555555555555556,
              "#d8576b"
             ],
             [
              0.6666666666666666,
              "#ed7953"
             ],
             [
              0.7777777777777778,
              "#fb9f3a"
             ],
             [
              0.8888888888888888,
              "#fdca26"
             ],
             [
              1,
              "#f0f921"
             ]
            ],
            "type": "contour"
           }
          ],
          "contourcarpet": [
           {
            "colorbar": {
             "outlinewidth": 0,
             "ticks": ""
            },
            "type": "contourcarpet"
           }
          ],
          "heatmap": [
           {
            "colorbar": {
             "outlinewidth": 0,
             "ticks": ""
            },
            "colorscale": [
             [
              0,
              "#0d0887"
             ],
             [
              0.1111111111111111,
              "#46039f"
             ],
             [
              0.2222222222222222,
              "#7201a8"
             ],
             [
              0.3333333333333333,
              "#9c179e"
             ],
             [
              0.4444444444444444,
              "#bd3786"
             ],
             [
              0.5555555555555556,
              "#d8576b"
             ],
             [
              0.6666666666666666,
              "#ed7953"
             ],
             [
              0.7777777777777778,
              "#fb9f3a"
             ],
             [
              0.8888888888888888,
              "#fdca26"
             ],
             [
              1,
              "#f0f921"
             ]
            ],
            "type": "heatmap"
           }
          ],
          "heatmapgl": [
           {
            "colorbar": {
             "outlinewidth": 0,
             "ticks": ""
            },
            "colorscale": [
             [
              0,
              "#0d0887"
             ],
             [
              0.1111111111111111,
              "#46039f"
             ],
             [
              0.2222222222222222,
              "#7201a8"
             ],
             [
              0.3333333333333333,
              "#9c179e"
             ],
             [
              0.4444444444444444,
              "#bd3786"
             ],
             [
              0.5555555555555556,
              "#d8576b"
             ],
             [
              0.6666666666666666,
              "#ed7953"
             ],
             [
              0.7777777777777778,
              "#fb9f3a"
             ],
             [
              0.8888888888888888,
              "#fdca26"
             ],
             [
              1,
              "#f0f921"
             ]
            ],
            "type": "heatmapgl"
           }
          ],
          "histogram": [
           {
            "marker": {
             "pattern": {
              "fillmode": "overlay",
              "size": 10,
              "solidity": 0.2
             }
            },
            "type": "histogram"
           }
          ],
          "histogram2d": [
           {
            "colorbar": {
             "outlinewidth": 0,
             "ticks": ""
            },
            "colorscale": [
             [
              0,
              "#0d0887"
             ],
             [
              0.1111111111111111,
              "#46039f"
             ],
             [
              0.2222222222222222,
              "#7201a8"
             ],
             [
              0.3333333333333333,
              "#9c179e"
             ],
             [
              0.4444444444444444,
              "#bd3786"
             ],
             [
              0.5555555555555556,
              "#d8576b"
             ],
             [
              0.6666666666666666,
              "#ed7953"
             ],
             [
              0.7777777777777778,
              "#fb9f3a"
             ],
             [
              0.8888888888888888,
              "#fdca26"
             ],
             [
              1,
              "#f0f921"
             ]
            ],
            "type": "histogram2d"
           }
          ],
          "histogram2dcontour": [
           {
            "colorbar": {
             "outlinewidth": 0,
             "ticks": ""
            },
            "colorscale": [
             [
              0,
              "#0d0887"
             ],
             [
              0.1111111111111111,
              "#46039f"
             ],
             [
              0.2222222222222222,
              "#7201a8"
             ],
             [
              0.3333333333333333,
              "#9c179e"
             ],
             [
              0.4444444444444444,
              "#bd3786"
             ],
             [
              0.5555555555555556,
              "#d8576b"
             ],
             [
              0.6666666666666666,
              "#ed7953"
             ],
             [
              0.7777777777777778,
              "#fb9f3a"
             ],
             [
              0.8888888888888888,
              "#fdca26"
             ],
             [
              1,
              "#f0f921"
             ]
            ],
            "type": "histogram2dcontour"
           }
          ],
          "mesh3d": [
           {
            "colorbar": {
             "outlinewidth": 0,
             "ticks": ""
            },
            "type": "mesh3d"
           }
          ],
          "parcoords": [
           {
            "line": {
             "colorbar": {
              "outlinewidth": 0,
              "ticks": ""
             }
            },
            "type": "parcoords"
           }
          ],
          "pie": [
           {
            "automargin": true,
            "type": "pie"
           }
          ],
          "scatter": [
           {
            "fillpattern": {
             "fillmode": "overlay",
             "size": 10,
             "solidity": 0.2
            },
            "type": "scatter"
           }
          ],
          "scatter3d": [
           {
            "line": {
             "colorbar": {
              "outlinewidth": 0,
              "ticks": ""
             }
            },
            "marker": {
             "colorbar": {
              "outlinewidth": 0,
              "ticks": ""
             }
            },
            "type": "scatter3d"
           }
          ],
          "scattercarpet": [
           {
            "marker": {
             "colorbar": {
              "outlinewidth": 0,
              "ticks": ""
             }
            },
            "type": "scattercarpet"
           }
          ],
          "scattergeo": [
           {
            "marker": {
             "colorbar": {
              "outlinewidth": 0,
              "ticks": ""
             }
            },
            "type": "scattergeo"
           }
          ],
          "scattergl": [
           {
            "marker": {
             "colorbar": {
              "outlinewidth": 0,
              "ticks": ""
             }
            },
            "type": "scattergl"
           }
          ],
          "scattermapbox": [
           {
            "marker": {
             "colorbar": {
              "outlinewidth": 0,
              "ticks": ""
             }
            },
            "type": "scattermapbox"
           }
          ],
          "scatterpolar": [
           {
            "marker": {
             "colorbar": {
              "outlinewidth": 0,
              "ticks": ""
             }
            },
            "type": "scatterpolar"
           }
          ],
          "scatterpolargl": [
           {
            "marker": {
             "colorbar": {
              "outlinewidth": 0,
              "ticks": ""
             }
            },
            "type": "scatterpolargl"
           }
          ],
          "scatterternary": [
           {
            "marker": {
             "colorbar": {
              "outlinewidth": 0,
              "ticks": ""
             }
            },
            "type": "scatterternary"
           }
          ],
          "surface": [
           {
            "colorbar": {
             "outlinewidth": 0,
             "ticks": ""
            },
            "colorscale": [
             [
              0,
              "#0d0887"
             ],
             [
              0.1111111111111111,
              "#46039f"
             ],
             [
              0.2222222222222222,
              "#7201a8"
             ],
             [
              0.3333333333333333,
              "#9c179e"
             ],
             [
              0.4444444444444444,
              "#bd3786"
             ],
             [
              0.5555555555555556,
              "#d8576b"
             ],
             [
              0.6666666666666666,
              "#ed7953"
             ],
             [
              0.7777777777777778,
              "#fb9f3a"
             ],
             [
              0.8888888888888888,
              "#fdca26"
             ],
             [
              1,
              "#f0f921"
             ]
            ],
            "type": "surface"
           }
          ],
          "table": [
           {
            "cells": {
             "fill": {
              "color": "#EBF0F8"
             },
             "line": {
              "color": "white"
             }
            },
            "header": {
             "fill": {
              "color": "#C8D4E3"
             },
             "line": {
              "color": "white"
             }
            },
            "type": "table"
           }
          ]
         },
         "layout": {
          "annotationdefaults": {
           "arrowcolor": "#2a3f5f",
           "arrowhead": 0,
           "arrowwidth": 1
          },
          "autotypenumbers": "strict",
          "coloraxis": {
           "colorbar": {
            "outlinewidth": 0,
            "ticks": ""
           }
          },
          "colorscale": {
           "diverging": [
            [
             0,
             "#8e0152"
            ],
            [
             0.1,
             "#c51b7d"
            ],
            [
             0.2,
             "#de77ae"
            ],
            [
             0.3,
             "#f1b6da"
            ],
            [
             0.4,
             "#fde0ef"
            ],
            [
             0.5,
             "#f7f7f7"
            ],
            [
             0.6,
             "#e6f5d0"
            ],
            [
             0.7,
             "#b8e186"
            ],
            [
             0.8,
             "#7fbc41"
            ],
            [
             0.9,
             "#4d9221"
            ],
            [
             1,
             "#276419"
            ]
           ],
           "sequential": [
            [
             0,
             "#0d0887"
            ],
            [
             0.1111111111111111,
             "#46039f"
            ],
            [
             0.2222222222222222,
             "#7201a8"
            ],
            [
             0.3333333333333333,
             "#9c179e"
            ],
            [
             0.4444444444444444,
             "#bd3786"
            ],
            [
             0.5555555555555556,
             "#d8576b"
            ],
            [
             0.6666666666666666,
             "#ed7953"
            ],
            [
             0.7777777777777778,
             "#fb9f3a"
            ],
            [
             0.8888888888888888,
             "#fdca26"
            ],
            [
             1,
             "#f0f921"
            ]
           ],
           "sequentialminus": [
            [
             0,
             "#0d0887"
            ],
            [
             0.1111111111111111,
             "#46039f"
            ],
            [
             0.2222222222222222,
             "#7201a8"
            ],
            [
             0.3333333333333333,
             "#9c179e"
            ],
            [
             0.4444444444444444,
             "#bd3786"
            ],
            [
             0.5555555555555556,
             "#d8576b"
            ],
            [
             0.6666666666666666,
             "#ed7953"
            ],
            [
             0.7777777777777778,
             "#fb9f3a"
            ],
            [
             0.8888888888888888,
             "#fdca26"
            ],
            [
             1,
             "#f0f921"
            ]
           ]
          },
          "colorway": [
           "#636efa",
           "#EF553B",
           "#00cc96",
           "#ab63fa",
           "#FFA15A",
           "#19d3f3",
           "#FF6692",
           "#B6E880",
           "#FF97FF",
           "#FECB52"
          ],
          "font": {
           "color": "#2a3f5f"
          },
          "geo": {
           "bgcolor": "white",
           "lakecolor": "white",
           "landcolor": "#E5ECF6",
           "showlakes": true,
           "showland": true,
           "subunitcolor": "white"
          },
          "hoverlabel": {
           "align": "left"
          },
          "hovermode": "closest",
          "mapbox": {
           "style": "light"
          },
          "paper_bgcolor": "white",
          "plot_bgcolor": "#E5ECF6",
          "polar": {
           "angularaxis": {
            "gridcolor": "white",
            "linecolor": "white",
            "ticks": ""
           },
           "bgcolor": "#E5ECF6",
           "radialaxis": {
            "gridcolor": "white",
            "linecolor": "white",
            "ticks": ""
           }
          },
          "scene": {
           "xaxis": {
            "backgroundcolor": "#E5ECF6",
            "gridcolor": "white",
            "gridwidth": 2,
            "linecolor": "white",
            "showbackground": true,
            "ticks": "",
            "zerolinecolor": "white"
           },
           "yaxis": {
            "backgroundcolor": "#E5ECF6",
            "gridcolor": "white",
            "gridwidth": 2,
            "linecolor": "white",
            "showbackground": true,
            "ticks": "",
            "zerolinecolor": "white"
           },
           "zaxis": {
            "backgroundcolor": "#E5ECF6",
            "gridcolor": "white",
            "gridwidth": 2,
            "linecolor": "white",
            "showbackground": true,
            "ticks": "",
            "zerolinecolor": "white"
           }
          },
          "shapedefaults": {
           "line": {
            "color": "#2a3f5f"
           }
          },
          "ternary": {
           "aaxis": {
            "gridcolor": "white",
            "linecolor": "white",
            "ticks": ""
           },
           "baxis": {
            "gridcolor": "white",
            "linecolor": "white",
            "ticks": ""
           },
           "bgcolor": "#E5ECF6",
           "caxis": {
            "gridcolor": "white",
            "linecolor": "white",
            "ticks": ""
           }
          },
          "title": {
           "x": 0.05
          },
          "xaxis": {
           "automargin": true,
           "gridcolor": "white",
           "linecolor": "white",
           "ticks": "",
           "title": {
            "standoff": 15
           },
           "zerolinecolor": "white",
           "zerolinewidth": 2
          },
          "yaxis": {
           "automargin": true,
           "gridcolor": "white",
           "linecolor": "white",
           "ticks": "",
           "title": {
            "standoff": 15
           },
           "zerolinecolor": "white",
           "zerolinewidth": 2
          }
         }
        }
       }
      },
      "text/html": [
       "<div>                            <div id=\"564424c3-e3f8-447e-9aea-f62bc444cef7\" class=\"plotly-graph-div\" style=\"height:525px; width:100%;\"></div>            <script type=\"text/javascript\">                require([\"plotly\"], function(Plotly) {                    window.PLOTLYENV=window.PLOTLYENV || {};                                    if (document.getElementById(\"564424c3-e3f8-447e-9aea-f62bc444cef7\")) {                    Plotly.newPlot(                        \"564424c3-e3f8-447e-9aea-f62bc444cef7\",                        [{\"customdata\":[[\"Detective Dee: Mystery of the Phantom Flame\"],[\"Don't Look Under the Bed\"],[\"Peter Pan\"],[\"Eagle Eye\"],[\"Fulltime Killer\"],[\"Drug War\"],[\"Young Guns II\"],[\"Sleeping Dogs\"],[\"The Bride\"],[\"2000 AD\"],[\"I picari\"],[\"Saheb Biwi Aur Gangster Returns\"],[\"Renegade\"],[\"Cat Shit One\"],[\"Initial D\"],[\"Lego: The Adventures of Clutch Powers\"],[\"Maleficent\"],[\"The Adventures of Ford Fairlane\"],[\"Posse\"],[\"Cold War\"],[\"El mariachi\"],[\"The Hi-Lo Country\"],[\"The Master Plan\"],[\"Heropanti\"],[\"Ice Age: Dawn of the Dinosaurs\"],[\"The Last Airbender\"],[\"The Crow: City of Angels\"],[\"Astro Boy\"],[\"The Baytown Outlaws\"],[\"Dr. Wai in the Scriptures with No Words\"],[\"Kung Fu Panda 2\"],[\"Dragon Age: Dawn of the Seeker\"],[\"Bogus\"],[\"The Terror Live\"],[\"Modern Era\"],[\"Wonder Women! The Untold Story of American Superheroines\"],[\"The Overcoat\"],[\"SPL: Kill Zone\"],[\"Austin Powers: The Spy Who Shagged Me\"],[\"American Outlaws\"],[\"The Raven\"],[\"Wolf Girl\"],[\"The Man of the Year\"],[\"All Is Lost\"],[\"The Misfits\"],[\"Helter Skelter\"],[\"Lockout\"],[\"Parugu\"],[\"3 Ninjas\"],[\"Pinocchio's Revenge\"],[\"Kung Fury\"],[\"The Slipper and the Rose: The Story of Cinderella\"],[\"A Fairly Odd Movie: Grow Up, Timmy Turner!\"],[\"'Doc'\"],[\"Nevada Smith\"],[\"Baadshah\"],[\"Turks & Caicos\"],[\"The Coast Guard\"],[\"Heavy Metal\"],[\"Atolladero\"],[\"For Heaven's Sake\"],[\"Cherry 2000\"],[\"Heaven Knows, Mr. Allison\"],[\"Beasts of the Southern Wild\"],[\"Three Fugitives\"],[\"What Dreams May Come\"],[\"The Ewok Adventure\"],[\"Battletruck\"],[\"Windwalker\"],[\"Runaway\"],[\"The Defender\"],[\"Once Upon a Time in China II\"],[\"Waterloo\"],[\"20th Century Boys 2: The Last Hope\"],[\"Easy Money\"],[\"Percy Jackson & the Olympians: The Lightning Thief\"],[\"Connected\"],[\"The Diplomat\"],[\"Doom\"],[\"Prospero's Books\"],[\"The Brothers Lionheart\"],[\"Around the World in 80 Days\"],[\"Battlestar Galactica: The Plan\"],[\"Comforting Skin\"],[\"War\"],[\"Hulchul\"],[\"Destry Rides Again\"],[\"The Incredibles\"],[\"Like Father Like Son\"],[\"Above and Beyond\"],[\"Gabriel\"],[\"Ground Zero\"],[\"Fish Story\"],[\"Elegy of a Voyage\"],[\"\\u00e8on Flux\"],[\"China Girl\"],[\"The Condemned\"],[\"Ko\"],[\"The Wolverine\"],[\"New Jack City\"],[\"The Addams Family\"],[\"Atanarjuat: The Fast Runner\"],[\"One for the Money\"],[\"The Last Starfighter\"],[\"Smilla's Feeling for Snow\"],[\"Avengers Confidential: Black Widow & Punisher\"],[\"Star Trek: Insurrection\"],[\"Batman: The Dark Knight Returns, Part 1\"],[\"13 Assassins\"],[\"A Better Tomorrow III: Love and Death in Saigon\"],[\"Streets of Fire\"],[\"Resident Evil: Extinction\"],[\"Lara Croft Tomb Raider: The Cradle of Life\"],[\"True Grit\"],[\"Goldfinger\"],[\"Jason Goes to Hell: The Final Friday\"],[\"Premonition\"],[\"Scanners II: The New Order\"],[\"Strawberries in the Supermarket\"],[\"Mesrine Part 2: Public Enemy #1\"],[\"Dragonworld\"],[\"Judge Dredd\"],[\"Aladin\"],[\"Raiders of the Lost Ark\"],[\"Gojo reisenki: Gojoe\"],[\"A Midsummer Night's Dream\"],[\"Koi... Mil Gaya\"],[\"Ghost\"],[\"The Forbidden Kingdom\"],[\"The Twilight Saga: Breaking Dawn - Part 1\"],[\"The Kid\"],[\"Ted\"],[\"Battle of the Warriors\"],[\"Leonard Part 6\"],[\"Battle Beyond the Stars\"],[\"The Rebel\"],[\"Clash of the Wolves\"],[\"Surf Ninjas\"],[\"Harry Potter and the Deathly Hallows: Part 1\"],[\"Sheena\"],[\"The Lost Bladesman\"],[\"Eva\"],[\"Pudhu Pettai\"],[\"Khal Nayak\"],[\"The Princess Blade\"],[\"The Emerald Forest\"],[\"Obitaemyy ostrov\"],[\"Soar Into the Sun\"],[\"Pastorela\"],[\"Frog\"],[\"Peter Pan\"],[\"The Myth\"],[\"The Last Unicorn\"],[\"BloodRayne\"],[\"The Longest Nite\"],[\"Lucy\"],[\"Paragraph 78\"],[\"Da grande\"],[\"Tai Chi Zero\"],[\"Blades of Blood\"],[\"Phineas and Ferb the Movie: Across the 2nd Dimension\"],[\"The Cheyenne Social Club\"],[\"Knight and Day\"],[\"The Peanut Butter Solution\"],[\"Breakout\"],[\"The Grey\"],[\"About Time\"],[\"High Noon\"],[\"Bhoothnath\"],[\"The Bannen Way\"],[\"Peggy Sue Got Married\"],[\"Deewaar\"],[\"The Wild Angels\"],[\"Dirty Mind\"],[\"Animals\"],[\"The Bible\"],[\"Stargate: Continuum\"],[\"The Shaolin Temple\"],[\"Hamilton: I nationens intresse\"],[\"Hollow Man II\"],[\"Fatty Finn\"],[\"Bad Day to Go Fishing\"],[\"The Prophecy 3: The Ascent\"],[\"Afflicted\"],[\"K-9: P.I.\"],[\"The Bounty\"],[\"Contract Killer\"],[\"Diamonds Are Forever\"],[\"Tokyo Fist\"],[\"The Wedding Party\"],[\"The Haunting\"],[\"The Assailant\"],[\"Perrier's Bounty\"],[\"Ardor\"],[\"Race\"],[\"Hell Ride\"],[\"Death Street USA\"],[\"Single Santa Seeks Mrs. Claus\"],[\"Godzilla: Final Wars\"],[\"Figures in a Landscape\"],[\"Scott Pilgrim vs. the World\"],[\"The Story of Marie and Julien\"],[\"Trollhunter\"],[\"Underworld: Awakening\"],[\"Volcano\"],[\"Godzilla 1985\"],[\"The Raid: Redemption\"],[\"Percy Jackson: Sea of Monsters\"],[\"Fulltime Killer\"],[\"Silverado\"],[\"The Good, the Bad, the Weird\"],[\"Krampus: The Christmas Devil\"],[\"Queen of the Mountains\"],[\"Blind\"],[\"Tamara\"],[\"The Prophecy II\"],[\"The Saragossa Manuscript\"],[\"Fast Five\"],[\"The Man from the Future\"],[\"Magic in the Water\"],[\"Kabul Express\"],[\"The 10th Victim\"],[\"Priest\"],[\"Zardoz\"],[\"Tommy Tricker and the Stamp Traveller\"],[\"Amar Akbar Anthony\"],[\"Gone in Sixty Seconds\"],[\"Flash Gordon\"],[\"Dirty Harry\"],[\"Secuestro express\"],[\"Defending Your Life\"],[\"Shool\"],[\"The Patriot\"],[\"The Steel Helmet\"],[\"Gangs of Wasseypur\"],[\"City on Fire\"],[\"Ride a Crooked Trail\"],[\"The Ninja Wars\"],[\"Dead Presidents\"],[\"Devasuram\"],[\"Boogie\"],[\"Alice\"],[\"The Santa Clause 2\"],[\"Batman & Robin\"],[\"Afro Samurai: Resurrection\"],[\"This Means War\"],[\"Wishmaster\"],[\"Phantasm II\"],[\"The Monster Squad\"],[\"Littleman\"],[\"Ip Man\"],[\"The Longest Day\"],[\"OzLand\"],[\"Scarfies\"],[\"City of Ember\"],[\"Jason and the Argonauts\"],[\"Bloody Tie\"],[\"47 Ronin\"],[\"The Hourglass Sanatorium\"],[\"Honky Tonk Freeway\"],[\"Dr. Dolittle 2\"],[\"Mockingbird Lane\"],[\"Prancer Returns\"],[\"The Haunting Hour: Don't Think About It\"],[\"If Looks Could Kill\"],[\"Split Decisions\"],[\"Gulaab Gang\"],[\"Looper\"],[\"Reign of Fire\"],[\"Aftershock\"],[\"Journey to the Center of the Earth\"],[\"Malarek\"],[\"Pups\"],[\"Back to the Future Part III\"],[\"Fluke\"],[\"Atlantis: The Lost Empire\"],[\"Better Mus Come\"],[\"The Milagro Beanfield War\"],[\"Tarif Novogodniy\"],[\"Dragon Ball Z: Battle of Gods\"],[\"Turbulence 2: Fear of Flying\"],[\"Here Comes Mr. Jordan\"],[\"Never Die Alone\"],[\"Bounty Hunters\"],[\"Born in Flames\"],[\"Unit 7\"],[\"The Rescue\"],[\"Blazing Saddles\"],[\"The Unbeatable\"],[\"Smokey and the Bandit\"],[\"Goodbye, 20th Century\"],[\"Vares: Private Eye\"],[\"Life of Pi\"],[\"The Last of the Mohicans\"],[\"Alien Nation\"],[\"Shadowboxer\"],[\"Purgatory\"],[\"The Karate Kid, Part III\"],[\"Beautiful Creatures\"],[\"The Living Daylights\"]],\"hovertemplate\":\"0=%{x}\\u003cbr\\u003e1=%{y}\\u003cbr\\u003e2=%{z}\\u003cbr\\u003etitle=%{customdata[0]}\\u003cbr\\u003eShort=%{marker.color}\\u003cextra\\u003e\\u003c\\u002fextra\\u003e\",\"legendgroup\":\"\",\"marker\":{\"color\":[0,0,0,0,0,0,0,0,0,0,0,0,0,1,0,0,0,0,0,0,0,0,0,0,0,0,0,0,0,0,0,0,0,0,0,0,0,0,0,0,0,0,0,0,0,0,0,0,0,0,1,0,0,0,0,0,0,0,0,0,0,0,0,0,0,0,0,0,0,0,0,0,0,0,0,0,0,0,0,0,0,0,0,0,0,0,0,0,0,0,0,0,0,0,0,0,0,0,0,0,0,0,0,0,0,0,0,0,0,0,0,0,0,0,0,0,0,0,0,0,0,0,0,0,0,0,0,0,0,0,0,0,0,0,0,0,0,0,0,0,0,0,0,0,0,0,0,0,0,0,0,0,0,0,0,0,0,0,0,0,0,0,0,0,0,0,0,0,0,0,0,0,0,0,0,0,0,0,0,0,0,0,0,0,0,0,0,0,0,0,0,0,0,0,0,0,0,0,0,0,0,0,0,0,0,0,0,0,0,0,0,0,0,0,0,0,0,0,0,0,0,0,0,0,0,0,0,0,0,0,0,0,0,0,0,0,0,0,0,0,0,0,0,0,0,0,0,0,0,0,0,0,0,0,0,0,0,0,0,0,0,0,0,0,0,0,0,0,0,0,0,0,0,0,0,0,0,0,0,0,0,0,0,0,0,0,0,0,0,0,0,0,0,0,0,0,0,0,0,0],\"coloraxis\":\"coloraxis\",\"symbol\":\"circle\"},\"mode\":\"markers\",\"name\":\"\",\"scene\":\"scene\",\"showlegend\":false,\"x\":[1.3392267547917052,-2.1801977944103146,-3.1934068941145908,0.10984512710470504,3.2733994743516934,4.547494906901115,2.914621073318072,1.3523044807848161,-2.6416036696956047,-0.49967261482603875,0.6485776964703339,3.233083333209257,0.2735722079834578,1.2768380842203264,-0.9157222360852074,-2.5307355055231695,-3.1291601249641,2.8679522712354166,3.7270939580213676,2.938273545652017,3.3457980571719084,-0.12125188931824626,1.7515372202958397,-1.0887812780771569,-2.1501631779631687,-2.966614095209581,0.047707749302175195,-2.115891412783357,0.7255925754577524,-1.6021216521248083,-1.5349857798466702,-2.6007224387122867,-2.509367083439419,1.5290588038200625,0.03079407326235059,-3.0814248363383916,-0.4917650629805567,4.807025443852818,-0.4702423481689824,1.6994161312647516,-1.59525552418345,-2.6982169996998735,0.4768740276754425,-0.7220756978836984,0.9542273318436616,0.9748340184903765,1.1267558383140823,0.4893517874374319,-0.2720747316780415,-0.39833561409293533,1.6779030694133428,-2.7566336980997592,-0.4468650015991421,0.44562205733866644,0.9763326094307713,2.408409897650415,1.554437412658014,0.7277402886038319,-3.6030281174436354,1.595841851509029,0.6241372298471791,-1.3970152837735672,-0.8191968964006315,-2.946572558905813,2.36945428707926,-0.5409202990945351,-1.9637065955109505,-0.14178215148537524,-1.3150052671964063,1.3692054635998057,3.3225463452449047,0.22055945596259854,-0.925826502432485,-1.2379312595317011,2.666753830437216,-3.1685162233914803,1.1022241733342613,3.4163852862104713,-0.7559667239253985,-1.2829965223787827,-1.8255847236096125,-0.4253266158920718,-1.318021839124611,-1.022380755737339,1.8721292581528315,0.8265405419097378,3.0143066584983558,0.15140762210651568,-1.2159965221945677,-0.6742301900870875,-1.872074848429421,-0.4784600122727689,-1.8301406204760067,-2.274660159689807,0.6574906295858441,0.07464754964008655,1.8625280614556594,1.050555355608444,-1.1224998987214745,2.8931487980931916,0.25723369450143097,-2.1824980393233275,1.9968852448947145,-0.563050791349443,-1.053666778161328,2.0516268953152093,-0.6655067982395202,-0.17874249293518427,1.5474603131177083,1.9229684137217506,3.2570485105357863,-0.9813939163393481,-1.407546516725112,2.195423377700663,1.6062038111105874,-1.5024703826654373,0.08900037442766337,0.8074183648273537,1.7462903573088728,2.8647696184776352,-2.80181000019317,1.3825356223511576,-2.515626262265616,-0.6860461725516536,0.05260860385777194,-2.3814972472684373,-2.8352835239366025,0.281366187972084,-0.8699835279606439,-1.6654095077868116,-1.4653354029096979,-2.206133619586421,-2.0300315673769718,0.29954155065778654,-0.6476536640794124,0.4967440179211745,0.25594071938082263,-0.45908796825437037,-2.2334541049190095,-0.5862961712250082,-1.544666147574612,-1.1214936804621176,1.741113309964647,3.0590615902994522,1.0676305891821893,-0.4866481806492944,-1.9551550820044752,0.7390957815161385,0.153830596960826,-3.3352279250471337,-3.4903452815637737,-1.6171837050385862,-2.600315963707141,-0.17581087267856552,3.7234253190970006,-0.7936459210889537,-0.3422655356359963,-2.1152415203439707,-1.1485669004530505,0.4240614897601668,-1.3184368702009461,1.4174569822932204,1.4690618240291464,-2.641541338273673,2.2036195950928987,0.4067723444134368,-2.454055329980735,1.0584160908548244,-0.28409983595879623,2.270078725223297,-1.9570276117507297,1.285752368176862,0.7720196464220431,0.08418027463535996,-1.045935355427095,-2.8504817998266625,-1.8817742990682307,0.010964329316399679,3.380398073828487,1.4462247680708735,0.0855143642461266,-0.5858541853143228,-2.1406474871873153,-1.1982830883736846,1.5124926339886136,-0.5960534641742259,3.455535317464526,2.433484275466275,1.4513094464848353,-0.009380174167796379,-2.1969840400311202,-0.13212806534960486,3.538404267168402,0.7650504238712657,0.5104845941807711,2.060470064122577,0.42594749852626224,-0.5083490626261623,-2.64727589946688,2.16155344142794,-1.9202292044810854,-0.929030231224955,-0.8632642076542067,-2.033194073651762,-0.2814288550475692,-2.0868051728568773,3.579801648829615,-3.0106764858309147,3.2733994743516934,0.10925269124897927,2.076741134701217,0.9080589014493555,-1.7590189382206574,1.1442169830486129,-0.5894554015602123,-1.257708049780556,0.2397196045924442,3.2911191464218477,-1.3754529165721807,-1.490257032785536,-0.4127952861816106,1.3461184996567022,0.84216090875734,-1.1942503949847927,-0.6509363420677161,-1.466761817708051,2.887336330052656,-1.1692453066648754,1.9182240102319859,1.3817973984699738,-0.6624962953213653,2.175897523111275,1.0980742531650713,0.1642189931320391,1.5794138025155546,3.9876659699302697,2.844844715577049,-1.9867090531097547,2.087151480276967,0.1702152955530671,2.402585087712619,-2.3823115677378537,-2.117278256696517,-0.12914673115437064,0.33141172761809734,1.7679479466419945,-2.187477363263686,-0.9889978294403388,-1.9790531201967814,1.2880580617610993,-0.6389262437339374,-1.6077603796619915,-2.987102152709162,-0.8446245874521197,-3.3629443509321177,-3.4862723729395624,2.1403033291786384,1.1941788874908483,-0.5756236139640812,-0.41231176993273677,-1.8004583838003907,-1.8490343092332016,-0.5370653890217674,-2.2099898213173876,0.39944009957483806,2.0741049064070376,0.48101674167307806,2.1474305970955196,-3.395427212725679,-0.6164353122602853,-2.1120333051205336,0.44884493110798773,3.1240464177260163,0.11171668779077729,-0.49258199798597385,-2.5298697294362853,2.3960554848546636,-0.23121425004205096,-1.4432812309793495,-2.5717503001869164,1.208791743604656,0.44686051851834674,3.2455292321385674,1.1857278890828753,-0.40287117870746025,3.7409142037293197,0.7779853221319176,3.042034272278722,0.9616449160321288,2.848294887145303,-1.8727904503124284,1.4967457061436895,-1.9175552984619277,0.5152809429761369,-2.5243122739597763,1.5496706638010638,1.113715346328943,1.219836969251183,-1.2529602891187936,0.23206127255458606],\"y\":[1.3542650279785475,-3.2816819086515943,-1.2980885659204422,-2.6106584665072075,0.17184871154356435,-0.10184795577410109,0.4725587682450222,1.7524439797632168,-1.7728440322871433,2.710418661878062,1.6701754609509978,-0.23765103819886377,-2.210547958208707,0.7428663745030383,-0.18511886620343093,0.30176778341889154,-0.7501922688593382,-2.5898345350262204,0.844880863085537,0.2756482726865109,-0.7791819484422227,-0.618680098293969,0.807996057875431,-3.140649574734295,-0.4990653862604618,3.0026485776652923,0.30687811730376124,0.04393285766298473,-1.983780363498056,-0.24261512418875752,2.0786140392044112,1.9321028191165688,-3.1864801704710413,0.45336739915213725,0.8128551537133211,0.9939184912307375,-1.0010640022309547,0.3668661204025607,-1.422913606743072,-0.3358890934063117,-1.7986773874977882,-1.9916199369796828,-0.5338992213630344,0.4185942939353235,-2.588494034858398,-1.3474898056193207,-0.08575709364392656,-0.9922658859686193,0.10263674925062943,-3.1584641678496177,1.73313409490774,-1.3996571068600618,-1.7913636684505472,-0.41896109367390794,-0.8404585053675271,-0.12815040511047682,0.5352216703647725,1.949247521008268,-1.2799505747775828,1.3255994742291306,-3.576993107081654,-1.185692283626645,0.4771764678096871,-0.7350373651151137,-1.3146603252102853,-1.8623203759403735,0.31446040529670116,2.5567230402148384,1.9363373990112012,-0.38127253384702414,-0.1244055345605756,2.670778817787135,3.4723312013816345,-0.2337432327044745,-0.15929522612151947,0.520483659020257,-2.1745855681873487,-0.07238484311785386,2.29187844989159,-1.0625443023641334,-0.9693651945327347,1.147938309031444,2.9673355399983095,-2.764544130259017,1.1901007985399692,-1.630820531127586,-0.4558809819676813,-0.5612349046524715,-2.455303002723996,1.8895755848301432,0.7401420269006741,1.046802161872122,1.5724698226529155,0.2535605340450789,1.8860695352341972,-0.4611077566071583,0.39191802287612076,-1.0568511933877314,1.634183049468886,0.6171876827172994,-2.791211262089886,1.7325870272395454,-3.138419558718812,1.492182859503497,-1.8394686593132836,1.0484577638639698,2.650950812874513,0.14263738118457034,2.2302250086441036,0.6884504027473658,-0.4756302748104855,0.5081671763812293,1.4963736196680257,-1.7404698983707996,1.294545576745304,-1.3257041836439811,-2.2018721556966496,1.3069844927721923,0.15566650194915754,0.5635584968218985,-1.088296321252894,0.9117735180439192,-1.8000767916497773,2.1769082385739438,2.8865306979725727,-0.48495764915357004,-1.2381560318257459,-2.438619823086568,2.1929214578629463,-0.44039142203344545,-2.8953626892358724,-2.6286301970756174,4.404142950509861,0.4267328343124122,2.488646569543604,3.3273625912565183,1.1020363047327075,-1.2461028989205798,1.3221872515740638,-1.247674821242586,4.563796510066854,-1.299624724373643,-0.7902245451456386,-0.8187406740758838,3.1862756681003273,0.26866579210188746,1.8984528792185191,1.759029213415861,-0.7808371666584418,-2.1542524021146745,-1.912798333646095,1.3863179124985137,0.7647519768681271,-0.9172641389459907,-0.648690190257532,0.4759573625624256,-1.313945957026794,-3.141592779187201,1.8369670968406304,3.7120205699221724,-1.3524917748987628,-2.7902422299615854,-1.6348212057530855,-3.063790189296932,-0.011397170894969222,1.094082485988252,-1.9105434686705323,0.3273476419381543,-2.0217844060144987,-1.573863601897563,-3.0337374322481256,-1.1929892979964551,-0.7376855210059476,-2.185083668711005,-2.8083469080035117,1.7236191793990239,1.8510942897422287,3.4245411682522238,0.8869750641135538,-0.08809911068416339,-1.759347479822938,0.5184637822575635,1.8171653135238517,-0.6909952739777001,-1.5118685529395959,1.7518987709940768,0.8459066817194671,0.3594586415489012,-1.2073493733744334,-0.1369991217213618,-1.9214133060127947,1.2807070404238794,-0.23027320772121102,0.11560435674064187,0.3924059960102614,1.2562508242729233,0.1261940327826318,-2.338998360630014,2.8072589722146613,0.3291741258279469,-0.8020766114932307,-2.804690894388843,-0.5257377551212742,2.0963786633790784,1.1280420741788566,2.359762601535972,0.7454481621829057,1.2154982248478177,0.17184871154356435,-0.7745810733265359,2.725779637654036,-2.483979706031835,2.2533250657226676,-1.9040545143389334,-2.312904556939803,0.8269795199185361,0.4068752227753903,0.6536255860775102,-0.5605056846254115,-2.70036407511657,1.9979921395565503,1.1651109005049127,-1.2844111026433949,2.1083410558232645,-1.968453149826398,-0.4227683852168595,-0.6040851252142738,2.563801337607429,-0.25683000741768264,-1.614168937716023,1.5179773394651535,-0.9015017222936933,1.5525119536772556,3.5573707153314515,2.254782216285375,-0.977959195469442,-1.469758670910097,-0.5847440666384575,0.4135247802010941,-0.7618153850966334,-0.9885885262144032,-0.9936466029874336,-3.2371203982024097,-1.178986023752733,1.3537653562201801,-0.28106448498183356,-0.12517923809643666,-1.818124102814453,0.02131577489721169,-3.1251778964103165,1.9084333466037096,2.756818104027157,0.7614483783947107,-1.1820451100421059,0.6212494045254179,1.8774899149295181,-0.004220651655773705,3.5195672050201647,0.013711518628612418,-0.25467502146622684,-0.3555517732913558,-2.710164818422547,-3.2251224368890585,-2.8547119817717235,-0.5987927909127602,0.4225124726187618,-0.9162434600303843,0.2266345199321991,2.8336899969987934,0.44656916622187826,1.0578483423239309,-1.0596014122020674,-1.1574542477211847,-0.22109199518864475,-1.3541605254244968,1.569452855452903,1.7575782490245804,-1.3989792060160573,-1.2428076832017518,3.4088555004975674,1.1065095952481188,-1.6965388325343287,0.5916077583075148,2.0617909826271705,1.9716718746079895,-0.2284094075885399,1.9824482809207198,0.3774766744401164,-0.4432820873631354,-0.1219362882501187,2.1042806910350453,-0.7100186107969111,0.7614649907498752,1.4564985818901137,1.7488553276077101,-1.0028213997951134,0.27127929051311406,1.5376970753068366,-1.6712325452127739,2.424462764293673],\"z\":[-1.072811338889634,-2.2260945112637915,0.22647785270852983,-0.14762455999190793,-1.0670163028140576,-0.948099052128669,0.42279926808559465,1.4337081379820418,0.07017482523813096,1.360627264273389,1.2301935963133594,0.2667097138785346,1.4990977173641022,0.9906494074026172,2.027609668061774,-0.7051862617484883,-2.367799558491627,-1.2772096388715213,-0.43934241218491044,-0.7702298151957543,-1.268930272364339,3.067480870616941,-1.4131925233425322,1.1371446425375504,-2.300962619031706,-0.347584123454871,-1.422453136737126,-0.2053872529616016,-1.9175757251720251,0.07070539142819549,-0.9153496892588777,-0.7475692102242515,-0.12738160513097702,0.8577662987674906,3.249148923962534,0.424672878072912,3.077147458259008,-1.0927321867653996,-1.951062503033684,0.4850854826469775,-2.172231420010375,0.5610327054006945,0.5545209852192201,0.34854521451824605,0.8836791281886446,0.04343517773246042,-1.0866949242663617,-0.41696330608388094,2.1333366742963915,0.04090727104492653,-0.37071092474098205,1.4986701776604863,-0.7615905486697414,2.092439459478055,-0.14394961773087495,1.7868132694829229,1.431451074870732,2.8404477116960782,-2.4756775793232917,0.47991365941678465,0.5848759322709698,1.3909638462141727,1.465420021951325,-0.03857641720448224,0.8121967186608613,0.34447072340790447,-1.1024972321137974,-0.5066063981475188,0.8678984157983416,-0.7947119288616102,1.4706142444429084,1.2838114048844507,1.0262074680384305,-2.0955805390261077,0.9047620608480329,-1.38374624170882,-1.02951909364258,0.9468657121927283,-2.569669876673867,0.1115687211505692,1.9305347252092315,0.49645170998442456,-1.7777697221940623,-0.2193185011886617,0.7321205935831745,-0.1044421576733473,0.5838203190577071,-2.2533110652897994,-1.2170364943676306,2.5151544928610488,-1.0117948061589335,2.3358207412622884,1.1536904253076086,1.8428587804423293,-1.7105825044237413,2.0309831962084317,0.7180609374741229,0.45850129668516315,-0.3340228865811831,-2.4101857758660197,-2.150199017452408,-0.35654630770476675,-0.015231787872480862,-1.3007635057447096,2.1402767425672757,-0.39397154814914903,-1.3239425704191985,-1.2632210551344472,-3.3714304532412775,1.75003871662618,-2.0153157197780573,-1.9737619748280835,-2.5441470043102052,-0.7135091666697027,-1.204356910927519,-2.2797772493479647,1.2025346449384364,-3.201579825178663,-0.021514884475166418,0.7204099302178997,1.078934094751112,-0.8540616898557782,0.5100138295360933,-0.8129793839207047,1.8618290949027816,1.679756962912649,-0.012395681512548662,-0.8571431527622873,0.6563144148515411,-1.599557203591572,-0.7054363921100946,0.37892336353978956,1.961181741983182,-2.9772486565713696,-2.2286278504590378,3.1495833181642876,-0.18981161994746032,2.078331204994446,-2.30508817770399,0.3922589096175022,2.874820371747797,0.04404015864688138,1.5502899003838597,1.3829508273995827,1.0720913773065408,0.9699487445681692,0.18195833209912277,1.661750500715523,0.6797916951128435,-0.09873702588576894,0.6757516996278141,1.7474380893820816,-2.8949139647019226,-2.251960558609899,0.3372235550091929,-2.9555150404573496,0.38940687794803225,2.395376616367573,2.415930577349948,0.46448464459016986,-1.331063461284475,0.6555980848169334,-0.44718974774413195,-0.9633875157371721,-0.24286421626395271,-0.907008544975564,0.9310648005643835,-1.3231072400033153,2.1375462071028455,0.6360369984484127,0.20088643629645547,1.6526667742539123,1.5268662346564077,1.3188971463917016,1.6498753361893983,1.3252304771587795,-0.8900179692875163,3.126485588283704,-0.2735599737298061,-2.937000984811572,-0.04434924920607958,2.1959486502656698,-0.3099667806021811,-1.062060700820294,0.03263516866676974,2.370270828313751,-1.228376115552883,-0.6311788948469079,3.017248108771665,-1.45014934818296,-0.5630126802300123,0.3466018040067928,-1.8501229454515757,-1.4355346334385752,0.5777088292772076,-0.9459698540953774,-2.1892102700551805,1.2147588908992757,-1.0473807626691687,0.1934085503400057,-2.7130295403384084,2.2492280112743295,-1.6890144126500992,-2.6765232697689867,-1.1797620798469424,-1.291680192503081,-1.6044399434103072,-2.2755096919048214,-1.0670163028140576,-1.5622326514765348,0.9592867763591844,0.38404420751140866,2.6712266639745863,1.701100234310463,-1.1280915498734425,-2.5044361492237712,1.9610302078572026,-1.5140698622783135,2.0175695022465527,1.9213450520540771,2.8828513229600903,-1.412986273946876,-2.6744145159841812,-2.146093979428412,0.9296524009271857,1.3471802483318518,-1.8921420039006795,-1.553088097273643,-1.093442263090976,-0.48662167398307726,0.565325995591578,3.739459963412836,0.8345349375550133,1.1108134897074597,1.295330145609057,-1.6576478105023886,1.2044328627689669,1.7257339104739453,1.3493875971486866,0.26449233740710926,-0.7204236200491729,0.04764610811053033,1.2119192620080006,-2.2139418714425054,-1.6339280370574907,-0.6503415999161505,-2.3288503604263213,-1.7725850106678018,-3.6877802622687286,-0.7176829678987107,3.333888346062662,1.902577400061052,0.501588754135882,-0.2713384309327854,-0.5645450065176836,0.36752856155489233,1.5389231966354529,-0.7662972147077021,2.153604019464891,2.294309474533621,-1.391819932945799,-0.17316845021912608,2.2624837327824747,-2.438814915444557,1.2950281315920276,0.16532421961590715,-0.5651740008511983,-0.2880623171328395,-2.396405608362237,-0.6227661577661281,-1.0524181874038032,2.0695517075016774,-0.692726124690707,-0.020827016132043963,1.4985472317009727,-0.9721351998949981,1.3286070355438464,1.3915900331517599,1.3926387964165583,-1.4504859365779545,0.2871692861548461,1.6524181803310447,-0.4940468493080963,-0.6551458977900917,1.9694498032452368,-1.2325147975890651,-0.2926077982355893,-0.5901951616785073,2.0538305695966224,-1.2798729809906237,1.0191136165585863,-1.652140862310736,0.9066572571407356,-0.041182927581717155,0.4994386636422844,-0.6548640186829089,-1.5377174904399684,-0.3932886115629011,0.2440976100983283,-0.6129976932319153],\"type\":\"scatter3d\"},{\"marker\":{\"color\":\"orange\"},\"name\":\"origin (0,0,0)\",\"x\":[0],\"y\":[0],\"z\":[0],\"type\":\"scatter3d\"},{\"marker\":{\"color\":\"#16FF32\"},\"name\":\"query\",\"x\":[-0.11959344025655357],\"y\":[0.14666784399633642],\"z\":[0.6141979651212935],\"type\":\"scatter3d\"}],                        {\"template\":{\"data\":{\"histogram2dcontour\":[{\"type\":\"histogram2dcontour\",\"colorbar\":{\"outlinewidth\":0,\"ticks\":\"\"},\"colorscale\":[[0.0,\"#0d0887\"],[0.1111111111111111,\"#46039f\"],[0.2222222222222222,\"#7201a8\"],[0.3333333333333333,\"#9c179e\"],[0.4444444444444444,\"#bd3786\"],[0.5555555555555556,\"#d8576b\"],[0.6666666666666666,\"#ed7953\"],[0.7777777777777778,\"#fb9f3a\"],[0.8888888888888888,\"#fdca26\"],[1.0,\"#f0f921\"]]}],\"choropleth\":[{\"type\":\"choropleth\",\"colorbar\":{\"outlinewidth\":0,\"ticks\":\"\"}}],\"histogram2d\":[{\"type\":\"histogram2d\",\"colorbar\":{\"outlinewidth\":0,\"ticks\":\"\"},\"colorscale\":[[0.0,\"#0d0887\"],[0.1111111111111111,\"#46039f\"],[0.2222222222222222,\"#7201a8\"],[0.3333333333333333,\"#9c179e\"],[0.4444444444444444,\"#bd3786\"],[0.5555555555555556,\"#d8576b\"],[0.6666666666666666,\"#ed7953\"],[0.7777777777777778,\"#fb9f3a\"],[0.8888888888888888,\"#fdca26\"],[1.0,\"#f0f921\"]]}],\"heatmap\":[{\"type\":\"heatmap\",\"colorbar\":{\"outlinewidth\":0,\"ticks\":\"\"},\"colorscale\":[[0.0,\"#0d0887\"],[0.1111111111111111,\"#46039f\"],[0.2222222222222222,\"#7201a8\"],[0.3333333333333333,\"#9c179e\"],[0.4444444444444444,\"#bd3786\"],[0.5555555555555556,\"#d8576b\"],[0.6666666666666666,\"#ed7953\"],[0.7777777777777778,\"#fb9f3a\"],[0.8888888888888888,\"#fdca26\"],[1.0,\"#f0f921\"]]}],\"heatmapgl\":[{\"type\":\"heatmapgl\",\"colorbar\":{\"outlinewidth\":0,\"ticks\":\"\"},\"colorscale\":[[0.0,\"#0d0887\"],[0.1111111111111111,\"#46039f\"],[0.2222222222222222,\"#7201a8\"],[0.3333333333333333,\"#9c179e\"],[0.4444444444444444,\"#bd3786\"],[0.5555555555555556,\"#d8576b\"],[0.6666666666666666,\"#ed7953\"],[0.7777777777777778,\"#fb9f3a\"],[0.8888888888888888,\"#fdca26\"],[1.0,\"#f0f921\"]]}],\"contourcarpet\":[{\"type\":\"contourcarpet\",\"colorbar\":{\"outlinewidth\":0,\"ticks\":\"\"}}],\"contour\":[{\"type\":\"contour\",\"colorbar\":{\"outlinewidth\":0,\"ticks\":\"\"},\"colorscale\":[[0.0,\"#0d0887\"],[0.1111111111111111,\"#46039f\"],[0.2222222222222222,\"#7201a8\"],[0.3333333333333333,\"#9c179e\"],[0.4444444444444444,\"#bd3786\"],[0.5555555555555556,\"#d8576b\"],[0.6666666666666666,\"#ed7953\"],[0.7777777777777778,\"#fb9f3a\"],[0.8888888888888888,\"#fdca26\"],[1.0,\"#f0f921\"]]}],\"surface\":[{\"type\":\"surface\",\"colorbar\":{\"outlinewidth\":0,\"ticks\":\"\"},\"colorscale\":[[0.0,\"#0d0887\"],[0.1111111111111111,\"#46039f\"],[0.2222222222222222,\"#7201a8\"],[0.3333333333333333,\"#9c179e\"],[0.4444444444444444,\"#bd3786\"],[0.5555555555555556,\"#d8576b\"],[0.6666666666666666,\"#ed7953\"],[0.7777777777777778,\"#fb9f3a\"],[0.8888888888888888,\"#fdca26\"],[1.0,\"#f0f921\"]]}],\"mesh3d\":[{\"type\":\"mesh3d\",\"colorbar\":{\"outlinewidth\":0,\"ticks\":\"\"}}],\"scatter\":[{\"fillpattern\":{\"fillmode\":\"overlay\",\"size\":10,\"solidity\":0.2},\"type\":\"scatter\"}],\"parcoords\":[{\"type\":\"parcoords\",\"line\":{\"colorbar\":{\"outlinewidth\":0,\"ticks\":\"\"}}}],\"scatterpolargl\":[{\"type\":\"scatterpolargl\",\"marker\":{\"colorbar\":{\"outlinewidth\":0,\"ticks\":\"\"}}}],\"bar\":[{\"error_x\":{\"color\":\"#2a3f5f\"},\"error_y\":{\"color\":\"#2a3f5f\"},\"marker\":{\"line\":{\"color\":\"#E5ECF6\",\"width\":0.5},\"pattern\":{\"fillmode\":\"overlay\",\"size\":10,\"solidity\":0.2}},\"type\":\"bar\"}],\"scattergeo\":[{\"type\":\"scattergeo\",\"marker\":{\"colorbar\":{\"outlinewidth\":0,\"ticks\":\"\"}}}],\"scatterpolar\":[{\"type\":\"scatterpolar\",\"marker\":{\"colorbar\":{\"outlinewidth\":0,\"ticks\":\"\"}}}],\"histogram\":[{\"marker\":{\"pattern\":{\"fillmode\":\"overlay\",\"size\":10,\"solidity\":0.2}},\"type\":\"histogram\"}],\"scattergl\":[{\"type\":\"scattergl\",\"marker\":{\"colorbar\":{\"outlinewidth\":0,\"ticks\":\"\"}}}],\"scatter3d\":[{\"type\":\"scatter3d\",\"line\":{\"colorbar\":{\"outlinewidth\":0,\"ticks\":\"\"}},\"marker\":{\"colorbar\":{\"outlinewidth\":0,\"ticks\":\"\"}}}],\"scattermapbox\":[{\"type\":\"scattermapbox\",\"marker\":{\"colorbar\":{\"outlinewidth\":0,\"ticks\":\"\"}}}],\"scatterternary\":[{\"type\":\"scatterternary\",\"marker\":{\"colorbar\":{\"outlinewidth\":0,\"ticks\":\"\"}}}],\"scattercarpet\":[{\"type\":\"scattercarpet\",\"marker\":{\"colorbar\":{\"outlinewidth\":0,\"ticks\":\"\"}}}],\"carpet\":[{\"aaxis\":{\"endlinecolor\":\"#2a3f5f\",\"gridcolor\":\"white\",\"linecolor\":\"white\",\"minorgridcolor\":\"white\",\"startlinecolor\":\"#2a3f5f\"},\"baxis\":{\"endlinecolor\":\"#2a3f5f\",\"gridcolor\":\"white\",\"linecolor\":\"white\",\"minorgridcolor\":\"white\",\"startlinecolor\":\"#2a3f5f\"},\"type\":\"carpet\"}],\"table\":[{\"cells\":{\"fill\":{\"color\":\"#EBF0F8\"},\"line\":{\"color\":\"white\"}},\"header\":{\"fill\":{\"color\":\"#C8D4E3\"},\"line\":{\"color\":\"white\"}},\"type\":\"table\"}],\"barpolar\":[{\"marker\":{\"line\":{\"color\":\"#E5ECF6\",\"width\":0.5},\"pattern\":{\"fillmode\":\"overlay\",\"size\":10,\"solidity\":0.2}},\"type\":\"barpolar\"}],\"pie\":[{\"automargin\":true,\"type\":\"pie\"}]},\"layout\":{\"autotypenumbers\":\"strict\",\"colorway\":[\"#636efa\",\"#EF553B\",\"#00cc96\",\"#ab63fa\",\"#FFA15A\",\"#19d3f3\",\"#FF6692\",\"#B6E880\",\"#FF97FF\",\"#FECB52\"],\"font\":{\"color\":\"#2a3f5f\"},\"hovermode\":\"closest\",\"hoverlabel\":{\"align\":\"left\"},\"paper_bgcolor\":\"white\",\"plot_bgcolor\":\"#E5ECF6\",\"polar\":{\"bgcolor\":\"#E5ECF6\",\"angularaxis\":{\"gridcolor\":\"white\",\"linecolor\":\"white\",\"ticks\":\"\"},\"radialaxis\":{\"gridcolor\":\"white\",\"linecolor\":\"white\",\"ticks\":\"\"}},\"ternary\":{\"bgcolor\":\"#E5ECF6\",\"aaxis\":{\"gridcolor\":\"white\",\"linecolor\":\"white\",\"ticks\":\"\"},\"baxis\":{\"gridcolor\":\"white\",\"linecolor\":\"white\",\"ticks\":\"\"},\"caxis\":{\"gridcolor\":\"white\",\"linecolor\":\"white\",\"ticks\":\"\"}},\"coloraxis\":{\"colorbar\":{\"outlinewidth\":0,\"ticks\":\"\"}},\"colorscale\":{\"sequential\":[[0.0,\"#0d0887\"],[0.1111111111111111,\"#46039f\"],[0.2222222222222222,\"#7201a8\"],[0.3333333333333333,\"#9c179e\"],[0.4444444444444444,\"#bd3786\"],[0.5555555555555556,\"#d8576b\"],[0.6666666666666666,\"#ed7953\"],[0.7777777777777778,\"#fb9f3a\"],[0.8888888888888888,\"#fdca26\"],[1.0,\"#f0f921\"]],\"sequentialminus\":[[0.0,\"#0d0887\"],[0.1111111111111111,\"#46039f\"],[0.2222222222222222,\"#7201a8\"],[0.3333333333333333,\"#9c179e\"],[0.4444444444444444,\"#bd3786\"],[0.5555555555555556,\"#d8576b\"],[0.6666666666666666,\"#ed7953\"],[0.7777777777777778,\"#fb9f3a\"],[0.8888888888888888,\"#fdca26\"],[1.0,\"#f0f921\"]],\"diverging\":[[0,\"#8e0152\"],[0.1,\"#c51b7d\"],[0.2,\"#de77ae\"],[0.3,\"#f1b6da\"],[0.4,\"#fde0ef\"],[0.5,\"#f7f7f7\"],[0.6,\"#e6f5d0\"],[0.7,\"#b8e186\"],[0.8,\"#7fbc41\"],[0.9,\"#4d9221\"],[1,\"#276419\"]]},\"xaxis\":{\"gridcolor\":\"white\",\"linecolor\":\"white\",\"ticks\":\"\",\"title\":{\"standoff\":15},\"zerolinecolor\":\"white\",\"automargin\":true,\"zerolinewidth\":2},\"yaxis\":{\"gridcolor\":\"white\",\"linecolor\":\"white\",\"ticks\":\"\",\"title\":{\"standoff\":15},\"zerolinecolor\":\"white\",\"automargin\":true,\"zerolinewidth\":2},\"scene\":{\"xaxis\":{\"backgroundcolor\":\"#E5ECF6\",\"gridcolor\":\"white\",\"linecolor\":\"white\",\"showbackground\":true,\"ticks\":\"\",\"zerolinecolor\":\"white\",\"gridwidth\":2},\"yaxis\":{\"backgroundcolor\":\"#E5ECF6\",\"gridcolor\":\"white\",\"linecolor\":\"white\",\"showbackground\":true,\"ticks\":\"\",\"zerolinecolor\":\"white\",\"gridwidth\":2},\"zaxis\":{\"backgroundcolor\":\"#E5ECF6\",\"gridcolor\":\"white\",\"linecolor\":\"white\",\"showbackground\":true,\"ticks\":\"\",\"zerolinecolor\":\"white\",\"gridwidth\":2}},\"shapedefaults\":{\"line\":{\"color\":\"#2a3f5f\"}},\"annotationdefaults\":{\"arrowcolor\":\"#2a3f5f\",\"arrowhead\":0,\"arrowwidth\":1},\"geo\":{\"bgcolor\":\"white\",\"landcolor\":\"#E5ECF6\",\"subunitcolor\":\"white\",\"showland\":true,\"showlakes\":true,\"lakecolor\":\"white\"},\"title\":{\"x\":0.05},\"mapbox\":{\"style\":\"light\"}}},\"scene\":{\"domain\":{\"x\":[0.0,1.0],\"y\":[0.0,1.0]},\"xaxis\":{\"title\":{\"text\":\"0\"}},\"yaxis\":{\"title\":{\"text\":\"1\"}},\"zaxis\":{\"title\":{\"text\":\"2\"}}},\"coloraxis\":{\"colorbar\":{\"title\":{\"text\":\"Short\"}},\"colorscale\":[[0.0,\"#0d0887\"],[0.1111111111111111,\"#46039f\"],[0.2222222222222222,\"#7201a8\"],[0.3333333333333333,\"#9c179e\"],[0.4444444444444444,\"#bd3786\"],[0.5555555555555556,\"#d8576b\"],[0.6666666666666666,\"#ed7953\"],[0.7777777777777778,\"#fb9f3a\"],[0.8888888888888888,\"#fdca26\"],[1.0,\"#f0f921\"]]},\"legend\":{\"tracegroupgap\":0},\"margin\":{\"t\":60}},                        {\"responsive\": true}                    ).then(function(){\n",
       "                            \n",
       "var gd = document.getElementById('564424c3-e3f8-447e-9aea-f62bc444cef7');\n",
       "var x = new MutationObserver(function (mutations, observer) {{\n",
       "        var display = window.getComputedStyle(gd).display;\n",
       "        if (!display || display === 'none') {{\n",
       "            console.log([gd, 'removed!']);\n",
       "            Plotly.purge(gd);\n",
       "            observer.disconnect();\n",
       "        }}\n",
       "}});\n",
       "\n",
       "// Listen for the removal of the full notebook cells\n",
       "var notebookContainer = gd.closest('#notebook-container');\n",
       "if (notebookContainer) {{\n",
       "    x.observe(notebookContainer, {childList: true});\n",
       "}}\n",
       "\n",
       "// Listen for the clearing of the current output cell\n",
       "var outputEl = gd.closest('.output');\n",
       "if (outputEl) {{\n",
       "    x.observe(outputEl, {childList: true});\n",
       "}}\n",
       "\n",
       "                        })                };                });            </script>        </div>"
      ]
     },
     "metadata": {},
     "output_type": "display_data"
    }
   ],
   "source": [
    "fig = px.scatter_3d(df, x=0, y=1, z=2, hover_data=\"title\", color=\"Short\")\n",
    "fig.add_scatter3d(\n",
    "    x=[0], y=[0], z=[0], marker=dict(color=\"orange\"), name=\"origin (0,0,0)\"\n",
    ")\n",
    "fig.add_scatter3d(\n",
    "    x=[query_embedding_pcad[0]],\n",
    "    y=[query_embedding_pcad[1]],\n",
    "    z=[query_embedding_pcad[2]],\n",
    "    marker=dict(color=\"#16FF32\"),\n",
    "    name=\"query\",\n",
    ")"
   ]
  },
  {
   "cell_type": "markdown",
   "metadata": {},
   "source": [
    "## Normalize the vectors to visualize how the Cosine Similairty function might find vectors close to it"
   ]
  },
  {
   "cell_type": "code",
   "execution_count": 137,
   "metadata": {},
   "outputs": [],
   "source": [
    "# Normalize the vectors \n",
    "# Step 1: Compute the magnitude (norm) for each row (vector)\n",
    "df['magnitude'] = np.linalg.norm(df[[0, 1, 2]], axis=1)\n",
    "\n",
    "# Step 2: Normalize the x, y, z columns by dividing each by the magnitude\n",
    "df_normalized = df[[0, 1, 2]].div(df['magnitude'], axis=0)\n",
    "\n",
    "df_normalized = pd.concat([df_normalized, df[df.columns[3:]]], axis=1)\n",
    "\n",
    "# Normalize the query vector\n",
    "query_magnitude = np.linalg.norm(query_embedding_pcad)\n",
    "query_normalized = query_embedding_pcad / query_magnitude"
   ]
  },
  {
   "cell_type": "code",
   "execution_count": 144,
   "metadata": {},
   "outputs": [
    {
     "data": {
      "application/vnd.plotly.v1+json": {
       "config": {
        "plotlyServerURL": "https://plot.ly"
       },
       "data": [
        {
         "customdata": [
          [
           "Detective Dee: Mystery of the Phantom Flame"
          ],
          [
           "Don't Look Under the Bed"
          ],
          [
           "Peter Pan"
          ],
          [
           "Eagle Eye"
          ],
          [
           "Fulltime Killer"
          ],
          [
           "Drug War"
          ],
          [
           "Young Guns II"
          ],
          [
           "Sleeping Dogs"
          ],
          [
           "The Bride"
          ],
          [
           "2000 AD"
          ],
          [
           "I picari"
          ],
          [
           "Saheb Biwi Aur Gangster Returns"
          ],
          [
           "Renegade"
          ],
          [
           "Cat Shit One"
          ],
          [
           "Initial D"
          ],
          [
           "Lego: The Adventures of Clutch Powers"
          ],
          [
           "Maleficent"
          ],
          [
           "The Adventures of Ford Fairlane"
          ],
          [
           "Posse"
          ],
          [
           "Cold War"
          ],
          [
           "El mariachi"
          ],
          [
           "The Hi-Lo Country"
          ],
          [
           "The Master Plan"
          ],
          [
           "Heropanti"
          ],
          [
           "Ice Age: Dawn of the Dinosaurs"
          ],
          [
           "The Last Airbender"
          ],
          [
           "The Crow: City of Angels"
          ],
          [
           "Astro Boy"
          ],
          [
           "The Baytown Outlaws"
          ],
          [
           "Dr. Wai in the Scriptures with No Words"
          ],
          [
           "Kung Fu Panda 2"
          ],
          [
           "Dragon Age: Dawn of the Seeker"
          ],
          [
           "Bogus"
          ],
          [
           "The Terror Live"
          ],
          [
           "Modern Era"
          ],
          [
           "Wonder Women! The Untold Story of American Superheroines"
          ],
          [
           "The Overcoat"
          ],
          [
           "SPL: Kill Zone"
          ],
          [
           "Austin Powers: The Spy Who Shagged Me"
          ],
          [
           "American Outlaws"
          ],
          [
           "The Raven"
          ],
          [
           "Wolf Girl"
          ],
          [
           "The Man of the Year"
          ],
          [
           "All Is Lost"
          ],
          [
           "The Misfits"
          ],
          [
           "Helter Skelter"
          ],
          [
           "Lockout"
          ],
          [
           "Parugu"
          ],
          [
           "3 Ninjas"
          ],
          [
           "Pinocchio's Revenge"
          ],
          [
           "Kung Fury"
          ],
          [
           "The Slipper and the Rose: The Story of Cinderella"
          ],
          [
           "A Fairly Odd Movie: Grow Up, Timmy Turner!"
          ],
          [
           "'Doc'"
          ],
          [
           "Nevada Smith"
          ],
          [
           "Baadshah"
          ],
          [
           "Turks & Caicos"
          ],
          [
           "The Coast Guard"
          ],
          [
           "Heavy Metal"
          ],
          [
           "Atolladero"
          ],
          [
           "For Heaven's Sake"
          ],
          [
           "Cherry 2000"
          ],
          [
           "Heaven Knows, Mr. Allison"
          ],
          [
           "Beasts of the Southern Wild"
          ],
          [
           "Three Fugitives"
          ],
          [
           "What Dreams May Come"
          ],
          [
           "The Ewok Adventure"
          ],
          [
           "Battletruck"
          ],
          [
           "Windwalker"
          ],
          [
           "Runaway"
          ],
          [
           "The Defender"
          ],
          [
           "Once Upon a Time in China II"
          ],
          [
           "Waterloo"
          ],
          [
           "20th Century Boys 2: The Last Hope"
          ],
          [
           "Easy Money"
          ],
          [
           "Percy Jackson & the Olympians: The Lightning Thief"
          ],
          [
           "Connected"
          ],
          [
           "The Diplomat"
          ],
          [
           "Doom"
          ],
          [
           "Prospero's Books"
          ],
          [
           "The Brothers Lionheart"
          ],
          [
           "Around the World in 80 Days"
          ],
          [
           "Battlestar Galactica: The Plan"
          ],
          [
           "Comforting Skin"
          ],
          [
           "War"
          ],
          [
           "Hulchul"
          ],
          [
           "Destry Rides Again"
          ],
          [
           "The Incredibles"
          ],
          [
           "Like Father Like Son"
          ],
          [
           "Above and Beyond"
          ],
          [
           "Gabriel"
          ],
          [
           "Ground Zero"
          ],
          [
           "Fish Story"
          ],
          [
           "Elegy of a Voyage"
          ],
          [
           "èon Flux"
          ],
          [
           "China Girl"
          ],
          [
           "The Condemned"
          ],
          [
           "Ko"
          ],
          [
           "The Wolverine"
          ],
          [
           "New Jack City"
          ],
          [
           "The Addams Family"
          ],
          [
           "Atanarjuat: The Fast Runner"
          ],
          [
           "One for the Money"
          ],
          [
           "The Last Starfighter"
          ],
          [
           "Smilla's Feeling for Snow"
          ],
          [
           "Avengers Confidential: Black Widow & Punisher"
          ],
          [
           "Star Trek: Insurrection"
          ],
          [
           "Batman: The Dark Knight Returns, Part 1"
          ],
          [
           "13 Assassins"
          ],
          [
           "A Better Tomorrow III: Love and Death in Saigon"
          ],
          [
           "Streets of Fire"
          ],
          [
           "Resident Evil: Extinction"
          ],
          [
           "Lara Croft Tomb Raider: The Cradle of Life"
          ],
          [
           "True Grit"
          ],
          [
           "Goldfinger"
          ],
          [
           "Jason Goes to Hell: The Final Friday"
          ],
          [
           "Premonition"
          ],
          [
           "Scanners II: The New Order"
          ],
          [
           "Strawberries in the Supermarket"
          ],
          [
           "Mesrine Part 2: Public Enemy #1"
          ],
          [
           "Dragonworld"
          ],
          [
           "Judge Dredd"
          ],
          [
           "Aladin"
          ],
          [
           "Raiders of the Lost Ark"
          ],
          [
           "Gojo reisenki: Gojoe"
          ],
          [
           "A Midsummer Night's Dream"
          ],
          [
           "Koi... Mil Gaya"
          ],
          [
           "Ghost"
          ],
          [
           "The Forbidden Kingdom"
          ],
          [
           "The Twilight Saga: Breaking Dawn - Part 1"
          ],
          [
           "The Kid"
          ],
          [
           "Ted"
          ],
          [
           "Battle of the Warriors"
          ],
          [
           "Leonard Part 6"
          ],
          [
           "Battle Beyond the Stars"
          ],
          [
           "The Rebel"
          ],
          [
           "Clash of the Wolves"
          ],
          [
           "Surf Ninjas"
          ],
          [
           "Harry Potter and the Deathly Hallows: Part 1"
          ],
          [
           "Sheena"
          ],
          [
           "The Lost Bladesman"
          ],
          [
           "Eva"
          ],
          [
           "Pudhu Pettai"
          ],
          [
           "Khal Nayak"
          ],
          [
           "The Princess Blade"
          ],
          [
           "The Emerald Forest"
          ],
          [
           "Obitaemyy ostrov"
          ],
          [
           "Soar Into the Sun"
          ],
          [
           "Pastorela"
          ],
          [
           "Frog"
          ],
          [
           "Peter Pan"
          ],
          [
           "The Myth"
          ],
          [
           "The Last Unicorn"
          ],
          [
           "BloodRayne"
          ],
          [
           "The Longest Nite"
          ],
          [
           "Lucy"
          ],
          [
           "Paragraph 78"
          ],
          [
           "Da grande"
          ],
          [
           "Tai Chi Zero"
          ],
          [
           "Blades of Blood"
          ],
          [
           "Phineas and Ferb the Movie: Across the 2nd Dimension"
          ],
          [
           "The Cheyenne Social Club"
          ],
          [
           "Knight and Day"
          ],
          [
           "The Peanut Butter Solution"
          ],
          [
           "Breakout"
          ],
          [
           "The Grey"
          ],
          [
           "About Time"
          ],
          [
           "High Noon"
          ],
          [
           "Bhoothnath"
          ],
          [
           "The Bannen Way"
          ],
          [
           "Peggy Sue Got Married"
          ],
          [
           "Deewaar"
          ],
          [
           "The Wild Angels"
          ],
          [
           "Dirty Mind"
          ],
          [
           "Animals"
          ],
          [
           "The Bible"
          ],
          [
           "Stargate: Continuum"
          ],
          [
           "The Shaolin Temple"
          ],
          [
           "Hamilton: I nationens intresse"
          ],
          [
           "Hollow Man II"
          ],
          [
           "Fatty Finn"
          ],
          [
           "Bad Day to Go Fishing"
          ],
          [
           "The Prophecy 3: The Ascent"
          ],
          [
           "Afflicted"
          ],
          [
           "K-9: P.I."
          ],
          [
           "The Bounty"
          ],
          [
           "Contract Killer"
          ],
          [
           "Diamonds Are Forever"
          ],
          [
           "Tokyo Fist"
          ],
          [
           "The Wedding Party"
          ],
          [
           "The Haunting"
          ],
          [
           "The Assailant"
          ],
          [
           "Perrier's Bounty"
          ],
          [
           "Ardor"
          ],
          [
           "Race"
          ],
          [
           "Hell Ride"
          ],
          [
           "Death Street USA"
          ],
          [
           "Single Santa Seeks Mrs. Claus"
          ],
          [
           "Godzilla: Final Wars"
          ],
          [
           "Figures in a Landscape"
          ],
          [
           "Scott Pilgrim vs. the World"
          ],
          [
           "The Story of Marie and Julien"
          ],
          [
           "Trollhunter"
          ],
          [
           "Underworld: Awakening"
          ],
          [
           "Volcano"
          ],
          [
           "Godzilla 1985"
          ],
          [
           "The Raid: Redemption"
          ],
          [
           "Percy Jackson: Sea of Monsters"
          ],
          [
           "Fulltime Killer"
          ],
          [
           "Silverado"
          ],
          [
           "The Good, the Bad, the Weird"
          ],
          [
           "Krampus: The Christmas Devil"
          ],
          [
           "Queen of the Mountains"
          ],
          [
           "Blind"
          ],
          [
           "Tamara"
          ],
          [
           "The Prophecy II"
          ],
          [
           "The Saragossa Manuscript"
          ],
          [
           "Fast Five"
          ],
          [
           "The Man from the Future"
          ],
          [
           "Magic in the Water"
          ],
          [
           "Kabul Express"
          ],
          [
           "The 10th Victim"
          ],
          [
           "Priest"
          ],
          [
           "Zardoz"
          ],
          [
           "Tommy Tricker and the Stamp Traveller"
          ],
          [
           "Amar Akbar Anthony"
          ],
          [
           "Gone in Sixty Seconds"
          ],
          [
           "Flash Gordon"
          ],
          [
           "Dirty Harry"
          ],
          [
           "Secuestro express"
          ],
          [
           "Defending Your Life"
          ],
          [
           "Shool"
          ],
          [
           "The Patriot"
          ],
          [
           "The Steel Helmet"
          ],
          [
           "Gangs of Wasseypur"
          ],
          [
           "City on Fire"
          ],
          [
           "Ride a Crooked Trail"
          ],
          [
           "The Ninja Wars"
          ],
          [
           "Dead Presidents"
          ],
          [
           "Devasuram"
          ],
          [
           "Boogie"
          ],
          [
           "Alice"
          ],
          [
           "The Santa Clause 2"
          ],
          [
           "Batman & Robin"
          ],
          [
           "Afro Samurai: Resurrection"
          ],
          [
           "This Means War"
          ],
          [
           "Wishmaster"
          ],
          [
           "Phantasm II"
          ],
          [
           "The Monster Squad"
          ],
          [
           "Littleman"
          ],
          [
           "Ip Man"
          ],
          [
           "The Longest Day"
          ],
          [
           "OzLand"
          ],
          [
           "Scarfies"
          ],
          [
           "City of Ember"
          ],
          [
           "Jason and the Argonauts"
          ],
          [
           "Bloody Tie"
          ],
          [
           "47 Ronin"
          ],
          [
           "The Hourglass Sanatorium"
          ],
          [
           "Honky Tonk Freeway"
          ],
          [
           "Dr. Dolittle 2"
          ],
          [
           "Mockingbird Lane"
          ],
          [
           "Prancer Returns"
          ],
          [
           "The Haunting Hour: Don't Think About It"
          ],
          [
           "If Looks Could Kill"
          ],
          [
           "Split Decisions"
          ],
          [
           "Gulaab Gang"
          ],
          [
           "Looper"
          ],
          [
           "Reign of Fire"
          ],
          [
           "Aftershock"
          ],
          [
           "Journey to the Center of the Earth"
          ],
          [
           "Malarek"
          ],
          [
           "Pups"
          ],
          [
           "Back to the Future Part III"
          ],
          [
           "Fluke"
          ],
          [
           "Atlantis: The Lost Empire"
          ],
          [
           "Better Mus Come"
          ],
          [
           "The Milagro Beanfield War"
          ],
          [
           "Tarif Novogodniy"
          ],
          [
           "Dragon Ball Z: Battle of Gods"
          ],
          [
           "Turbulence 2: Fear of Flying"
          ],
          [
           "Here Comes Mr. Jordan"
          ],
          [
           "Never Die Alone"
          ],
          [
           "Bounty Hunters"
          ],
          [
           "Born in Flames"
          ],
          [
           "Unit 7"
          ],
          [
           "The Rescue"
          ],
          [
           "Blazing Saddles"
          ],
          [
           "The Unbeatable"
          ],
          [
           "Smokey and the Bandit"
          ],
          [
           "Goodbye, 20th Century"
          ],
          [
           "Vares: Private Eye"
          ],
          [
           "Life of Pi"
          ],
          [
           "The Last of the Mohicans"
          ],
          [
           "Alien Nation"
          ],
          [
           "Shadowboxer"
          ],
          [
           "Purgatory"
          ],
          [
           "The Karate Kid, Part III"
          ],
          [
           "Beautiful Creatures"
          ],
          [
           "The Living Daylights"
          ]
         ],
         "hovertemplate": "0=%{x}<br>1=%{y}<br>2=%{z}<br>title=%{customdata[0]}<br>Fantasy=%{marker.color}<extra></extra>",
         "legendgroup": "",
         "marker": {
          "color": [
           0,
           1,
           1,
           0,
           0,
           0,
           0,
           0,
           1,
           0,
           0,
           0,
           0,
           0,
           0,
           0,
           0,
           0,
           0,
           0,
           0,
           0,
           0,
           0,
           0,
           0,
           1,
           0,
           0,
           0,
           0,
           0,
           1,
           0,
           0,
           1,
           1,
           0,
           0,
           0,
           1,
           1,
           0,
           0,
           0,
           0,
           0,
           0,
           0,
           1,
           0,
           1,
           1,
           0,
           0,
           0,
           0,
           0,
           1,
           0,
           0,
           0,
           0,
           1,
           0,
           1,
           1,
           0,
           0,
           0,
           0,
           0,
           0,
           1,
           0,
           1,
           0,
           0,
           0,
           1,
           1,
           0,
           0,
           1,
           0,
           0,
           0,
           0,
           1,
           0,
           1,
           0,
           0,
           1,
           0,
           0,
           0,
           0,
           0,
           0,
           1,
           1,
           0,
           0,
           0,
           0,
           0,
           0,
           0,
           0,
           0,
           0,
           1,
           0,
           0,
           1,
           1,
           0,
           0,
           0,
           1,
           0,
           0,
           0,
           0,
           1,
           1,
           1,
           1,
           1,
           1,
           1,
           0,
           0,
           0,
           0,
           0,
           0,
           1,
           1,
           0,
           1,
           0,
           0,
           0,
           0,
           0,
           0,
           1,
           1,
           1,
           0,
           1,
           1,
           0,
           0,
           0,
           1,
           0,
           0,
           0,
           0,
           0,
           1,
           0,
           0,
           1,
           0,
           1,
           0,
           1,
           0,
           0,
           0,
           1,
           0,
           0,
           0,
           0,
           0,
           1,
           0,
           1,
           0,
           0,
           0,
           0,
           0,
           0,
           0,
           1,
           0,
           0,
           0,
           0,
           0,
           0,
           1,
           1,
           0,
           1,
           1,
           1,
           1,
           0,
           0,
           0,
           1,
           0,
           0,
           0,
           0,
           0,
           0,
           1,
           1,
           1,
           0,
           1,
           1,
           0,
           0,
           1,
           1,
           1,
           0,
           0,
           0,
           0,
           0,
           1,
           0,
           0,
           0,
           0,
           0,
           0,
           1,
           0,
           0,
           0,
           1,
           1,
           0,
           0,
           0,
           1,
           1,
           1,
           1,
           0,
           0,
           1,
           0,
           1,
           1,
           0,
           0,
           1,
           0,
           1,
           1,
           1,
           1,
           0,
           0,
           0,
           0,
           1,
           0,
           0,
           0,
           0,
           0,
           1,
           0,
           0,
           1,
           1,
           0,
           0,
           1,
           0,
           0,
           1,
           0,
           0,
           0,
           0,
           0,
           1,
           0,
           1,
           0,
           0,
           0,
           1,
           0,
           1,
           0
          ],
          "coloraxis": "coloraxis",
          "symbol": "circle"
         },
         "mode": "markers",
         "name": "",
         "scene": "scene",
         "showlegend": false,
         "type": "scatter3d",
         "x": [
          0.6126450759753608,
          -0.48178142873768104,
          -0.9243960490430184,
          0.04197151435480438,
          0.949581635774206,
          0.9787149272291363,
          0.9771431270560159,
          0.5127626174277428,
          -0.8301361606805017,
          -0.16256632111165292,
          0.2984209735699624,
          0.9939511394132434,
          0.10189309751954459,
          0.7178741680525916,
          -0.4101795412324421,
          -0.9570085372227417,
          -0.7832474933435384,
          0.7046830042747085,
          0.9688749603192984,
          0.9633586738646036,
          0.9136045286083894,
          -0.038718855252993734,
          0.7324919622532686,
          -0.30991597365659024,
          -0.6743439749664069,
          -0.7004545307406429,
          0.03276718360926853,
          -0.9951093700476761,
          0.2543362238571097,
          -0.9877875098975006,
          -0.5599497203055891,
          -0.7821716939827866,
          -0.6183858224679663,
          0.8443682636046188,
          0.009193837626039135,
          -0.9436343194067943,
          -0.15024713640838566,
          0.9724338039490885,
          -0.19114190978546633,
          0.9446822976582766,
          -0.4923377281895788,
          -0.793535484694857,
          0.5266350848085287,
          -0.7983254847985312,
          0.32940170498648425,
          0.5859413724309004,
          0.7187090509973111,
          0.4138860338121754,
          -0.12636630370311508,
          -0.12511537519587276,
          0.6874955166761649,
          -0.8023483394374216,
          -0.2237489858170135,
          0.2044135660917161,
          0.7531858256396672,
          0.8023771530207094,
          0.713090444507576,
          0.2066867327302494,
          -0.7909852595378333,
          0.7494410685202183,
          0.1697021173776812,
          -0.6072660460903055,
          -0.46936042638895825,
          -0.9701885157048342,
          0.8376077337916946,
          -0.27462865339126385,
          -0.8635929852388076,
          -0.054316743649643964,
          -0.5267658796292749,
          0.8408330119311039,
          0.9138952789185634,
          0.07422468068315971,
          -0.24772666100560936,
          -0.5062883816189694,
          0.9454704280577796,
          -0.9062098993919203,
          0.416493599415893,
          0.9634718916514973,
          -0.21444336532929564,
          -0.7684504266275256,
          -0.6454661652096554,
          -0.321965059976245,
          -0.3560566524203419,
          -0.3459032810956286,
          0.8014022543942491,
          0.45134132136919275,
          0.9711088746492442,
          0.065063240647315,
          -0.40559503512273387,
          -0.2095633204180855,
          -0.83090947199068,
          -0.18374092863615127,
          -0.6842865301624955,
          -0.7741015148660699,
          0.250019124812104,
          0.035819240545812564,
          0.9155792270511081,
          0.673817279723128,
          -0.5583173047176054,
          0.7582051174310848,
          0.07281382718284676,
          -0.7768775987853698,
          0.5368153409661778,
          -0.2735829304636232,
          -0.34977479346089646,
          0.877721913297716,
          -0.21913421355362747,
          -0.13923433443926214,
          0.3575129191517877,
          0.7149417878718616,
          0.8438944537970231,
          -0.4338416366705044,
          -0.43044024274233034,
          0.7593841451997926,
          0.6723982979865156,
          -0.4950192014805594,
          0.035452263140475775,
          0.22737192538880194,
          0.9959754501354503,
          0.952624143402451,
          -0.8773397935029695,
          0.7419534333707696,
          -0.8024105330977386,
          -0.2831489140862889,
          0.015314155494877899,
          -0.8060933494510507,
          -0.9164204479239073,
          0.10821193830408538,
          -0.35527219951332395,
          -0.7084529522663532,
          -0.4412545396942565,
          -0.6389812666649936,
          -0.388074482088274,
          0.09910211780552726,
          -0.19032509915371046,
          0.10778941845813673,
          0.223104562544336,
          -0.18613891947481367,
          -0.643405559060646,
          -0.40905795070782114,
          -0.27531214954637484,
          -0.6531014523439834,
          0.7073180854037454,
          0.8852633219348275,
          0.30267981242425984,
          -0.4353047410275587,
          -0.7158396809431314,
          0.2921107910424043,
          0.14697350637749562,
          -0.839750945794724,
          -0.8645735152618916,
          -0.5869734158551765,
          -0.6556966486644016,
          -0.07211416879571324,
          0.9812627374537939,
          -0.2562618822347449,
          -0.24230695646776623,
          -0.47201948919569436,
          -0.3539438628219023,
          0.11263473545408477,
          -0.570584052932054,
          0.4432921281277168,
          0.6549727031819425,
          -0.6352233135220501,
          0.9939683513443137,
          0.2751764827081888,
          -0.7559193587619362,
          0.6133284009960057,
          -0.09611234219236024,
          0.8008517145269394,
          -0.5412461061989442,
          0.5335260342676839,
          0.4143514322142864,
          0.032964590807159855,
          -0.30574434645169724,
          -0.7951097489434837,
          -0.6755282011328612,
          0.00236448980590175,
          0.964307936386333,
          0.44160199191225424,
          0.048533032200603655,
          -0.25131645024239524,
          -0.7577553180861103,
          -0.6871122229272236,
          0.7071703400386707,
          -0.19821579014794882,
          0.918129895859522,
          0.958224870828654,
          0.4077648668514813,
          -0.006439612215479019,
          -0.7391116998108124,
          -0.09909539734980344,
          0.8847037696812762,
          0.4691331134604985,
          0.5901163729307155,
          0.794928641636963,
          0.1906803298396674,
          -0.18938514054227332,
          -0.6621132857601991,
          0.9847572012394998,
          -0.5615969070271607,
          -0.25019157207258447,
          -0.43857289629617185,
          -0.5132551802577442,
          -0.16990829559904708,
          -0.6129271263823406,
          0.89649538695687,
          -0.7593534873213218,
          0.949581635774206,
          0.06253246198682808,
          0.5835992920492877,
          0.3397797768605384,
          -0.44959806492478327,
          0.4089516247113835,
          -0.223278950358778,
          -0.4304311273395768,
          0.11884427292060126,
          0.8940387506193679,
          -0.5490130534610674,
          -0.41011141822977254,
          -0.11688148255037753,
          0.592248606461741,
          0.2730687139586272,
          -0.3689570164966744,
          -0.2864815977599758,
          -0.7204376281358438,
          0.8238835124239889,
          -0.3634020105290919,
          0.8629483858664408,
          0.6338982996547187,
          -0.37855385915906936,
          0.4923551258086576,
          0.528769871497255,
          0.044022013849412275,
          0.5191265093711607,
          0.9005914372895512,
          0.8315561595222917,
          -0.736976808765327,
          0.828387942454601,
          0.206523888500809,
          0.8911471691626172,
          -0.9227798178839852,
          -0.5223380964746868,
          -0.0514197324105568,
          0.15431642356376654,
          0.92824130925249,
          -0.6841122862695688,
          -0.3629319388340217,
          -0.4728568749226168,
          0.37274937357149457,
          -0.16406928470974602,
          -0.4327202329311085,
          -0.9564335930278717,
          -0.571495687029008,
          -0.9702303238620007,
          -0.8766747846857251,
          0.8119100136409854,
          0.3146869069080893,
          -0.25821440734944706,
          -0.17583084964709064,
          -0.7816835482160817,
          -0.5628019621744701,
          -0.13507633556806237,
          -0.5072567402102318,
          0.2695965383352326,
          0.9769004815746261,
          0.40794893186044884,
          0.985744499744925,
          -0.6750274300340304,
          -0.6267829825824052,
          -0.8167233547245736,
          0.18954875299661408,
          0.9180736619093228,
          0.4494047741073529,
          -0.23693791863321706,
          -0.8077882384322981,
          0.7361037245918408,
          -0.11637886567270056,
          -0.6116985466299328,
          -0.5702608510596986,
          0.7265539700342756,
          0.18541428757491282,
          0.9729396524244527,
          0.48063318235555536,
          -0.14307703294620744,
          0.9481856597470826,
          0.3619130809322858,
          0.9744909883595997,
          0.41616471896673846,
          0.9114496006779078,
          -0.6251694595655964,
          0.6397316877212573,
          -0.8508718394031518,
          0.3334052958678504,
          -0.8113410734548813,
          0.7912275946554042,
          0.5806802938483935,
          0.6093710233805496,
          -0.5958031963496397,
          0.09239942712892509
         ],
         "y": [
          0.6195245114302806,
          -0.7251880552610127,
          -0.37575792294313126,
          -0.9975252629827898,
          0.04985165479857806,
          -0.021919785874331535,
          0.1584279880317357,
          0.6644862711963934,
          -0.5571244298800412,
          0.8818229726023482,
          0.7684744477062897,
          -0.07306137697540514,
          -0.8233277069248555,
          0.41766030255610076,
          -0.08292030991560163,
          0.1141147877209559,
          -0.18777761144981983,
          -0.6363468454551778,
          0.21963060816720129,
          0.09037557269686385,
          -0.21276363502596993,
          -0.1975605106727799,
          0.3379035347168442,
          -0.893969698475068,
          -0.15651916086565493,
          0.708962720781186,
          0.2107735485836578,
          0.02066174003508902,
          -0.6953588331518935,
          -0.14958426475795256,
          0.7582606726116022,
          0.5810832069129195,
          -0.7852474729579241,
          0.250355998500945,
          0.24268495541531043,
          0.30437075341186365,
          -0.3058513323112291,
          0.07421492171615589,
          -0.5783792661626913,
          -0.18671617544390404,
          -0.5551190547733161,
          -0.5857279426357871,
          -0.5896107680519176,
          0.46279703584988957,
          -0.8935547326885802,
          -0.8099327793914348,
          -0.054700758845265866,
          -0.8392428567213235,
          0.047670088827849316,
          -0.9920589960380185,
          0.7101255976987244,
          -0.40738548478351944,
          -0.8969505390014957,
          -0.19218377950820967,
          -0.64836657832231,
          -0.04269412665647506,
          0.2455302836399698,
          0.5536090384286245,
          -0.2809919891228501,
          0.6225295354027118,
          -0.9725798671964465,
          -0.5154064335021569,
          0.2733991685979233,
          -0.24201841155862724,
          -0.46473555607718053,
          -0.9455118210275057,
          0.1382924520243427,
          0.9794806222334156,
          0.7756596104164907,
          -0.23414055926883068,
          -0.03421882462797366,
          0.8987948581048965,
          0.9291039003137598,
          -0.09559616666041872,
          -0.056476501096459054,
          0.1488606688499223,
          -0.8217030550077948,
          -0.020413611429351837,
          0.650131959735496,
          -0.6364106279481431,
          -0.3427353585461726,
          0.8689698991471637,
          0.8016100550211113,
          -0.9353314604406834,
          0.5094463743637876,
          -0.8905270293632062,
          -0.14686961796819084,
          -0.24117518757006637,
          -0.8189650952533308,
          0.5873153406061553,
          0.32850770966027243,
          0.40199890562863094,
          0.587943847969744,
          0.0862905136305337,
          0.7172017870901962,
          -0.22126017171476234,
          0.192658574052233,
          -0.6778553765862492,
          0.8128220560499644,
          0.16174586656590476,
          -0.7900939060978964,
          0.6167281826405961,
          -0.8436898263512326,
          0.7250425108401891,
          -0.61062926508117,
          0.4485485916624922,
          0.8728896881073349,
          0.11110967800250297,
          0.5152534423317549,
          0.25595946261472263,
          -0.12323480896036612,
          0.22464382123521232,
          0.4576043608006132,
          -0.6020183894573095,
          0.5419301314368404,
          -0.436780008416985,
          -0.8770901422318175,
          0.3680515498783122,
          0.08878249467559801,
          0.18740055983190232,
          -0.3407817338407053,
          0.4893136069931983,
          -0.5741713702351449,
          0.8984660631880417,
          0.840257613925635,
          -0.1641493124531187,
          -0.40019683947163837,
          -0.9378802042452419,
          0.895515839847232,
          -0.18733927099226727,
          -0.8718767922687197,
          -0.7613525481906708,
          0.8419255749654336,
          0.14118284266288617,
          0.7313351739933193,
          0.7220106649936787,
          0.9606495139584655,
          -0.5052370421326144,
          0.3808910270008517,
          -0.870500833155483,
          0.813424071765681,
          -0.756836003427882,
          -0.32102454740456143,
          -0.23693576201080208,
          0.9033286712882048,
          0.2403204156601127,
          0.6950793396665418,
          0.6952162735167574,
          -0.7460308843687654,
          -0.5424023583428076,
          -0.4738083616090165,
          0.5031783080828498,
          0.19284014530950358,
          -0.37624374385049236,
          -0.17095428464398474,
          0.15368280281259258,
          -0.9302083109790172,
          -0.7010513951388792,
          0.5660821584498426,
          0.9859477103892831,
          -0.5853221006792576,
          -0.8726137241289691,
          -0.7288755631907408,
          -0.7367633918057253,
          -0.005140827023724291,
          0.740133331141313,
          -0.5885021319937279,
          0.18969062123534897,
          -0.683979397644657,
          -0.55523685148286,
          -0.8390267784547876,
          -0.49503377542780785,
          -0.3959239296165003,
          -0.8556682587515523,
          -0.8209266333162291,
          0.4807841302791231,
          0.6645145468805973,
          0.7385123566210189,
          0.2530225952746396,
          -0.026900896473872414,
          -0.9985043874563465,
          0.22240769222517237,
          0.6432477502279302,
          -0.3962263202591071,
          -0.7068785491249645,
          0.5825886770625485,
          0.2247559762068446,
          0.14154281325711113,
          -0.33922101015029077,
          -0.09405168837648915,
          -0.6464039013347194,
          0.9605239638050497,
          -0.05757498565605794,
          0.07088922522636412,
          0.45361839656191305,
          0.4846611356714094,
          0.0564922199990486,
          -0.8713924462998792,
          0.7021268400649765,
          0.1499646433245932,
          -0.23457811346804822,
          -0.7553145209489913,
          -0.267095899391377,
          0.5292053634745185,
          0.6810378635671417,
          0.6930989673194364,
          0.18668376188690328,
          0.30657323037361495,
          0.04985165479857806,
          -0.44334341762918017,
          0.765990060213318,
          -0.9294618101254026,
          0.5759406946580218,
          -0.6805231863481866,
          -0.8761017379544729,
          0.28302094997911853,
          0.20171395703058417,
          0.17755862864610086,
          -0.22372626041273477,
          -0.7431269346287047,
          0.5657242008636428,
          0.5126111166092711,
          -0.4164673096861518,
          0.6513602415211306,
          -0.8663298805634345,
          -0.20765351880538196,
          -0.17237194350529458,
          0.7968307038505413,
          -0.11553970712542154,
          -0.7404985319169313,
          0.867380216355481,
          -0.2039889237347755,
          0.7476011243116426,
          0.9536206495426481,
          0.7411086438956637,
          -0.22086646276286753,
          -0.4296146180192051,
          -0.2169128969846512,
          0.16412749388909598,
          -0.9243180828061781,
          -0.3666791536783174,
          -0.38488543806066966,
          -0.7986060885046863,
          -0.46941293298928577,
          0.6303585863357323,
          -0.1475697664173055,
          -0.03914859015494783,
          -0.6671959088613161,
          0.005092996545462749,
          -0.9043909880845779,
          0.4900648504647829,
          0.741983063654128,
          0.24380646232429257,
          -0.7998034775433146,
          0.17923431019151528,
          0.47212262578687214,
          -0.0016010764907458883,
          0.927467173473566,
          0.006150740815106633,
          -0.1086064688757319,
          -0.15436567388703368,
          -0.8249095595510962,
          -0.8111446565692898,
          -0.6552391690426028,
          -0.404146864027925,
          0.19900277787181164,
          -0.7770634750537565,
          0.10403303919468165,
          0.5633513417746688,
          0.45406541183951543,
          0.4090699918594907,
          -0.44747330856685447,
          -0.340144837051228,
          -0.8893908342572564,
          -0.651367645795452,
          0.5011268140242673,
          0.5399540634790745,
          -0.704159077851964,
          -0.5267328620626279,
          0.7558808639827868,
          0.6650764646283637,
          -0.7039389830646046,
          0.17735124399420227,
          0.8357441622618542,
          0.7002262178879813,
          -0.057893475506836455,
          0.922220438774903,
          0.12092158885583403,
          -0.19183626121755007,
          -0.039019408325766974,
          0.7024448582430755,
          -0.30347266227934955,
          0.33788288548452217,
          0.9424069475991985,
          0.5621008832606648,
          -0.5120184453144633,
          0.14144237003591786,
          0.7681584212062496,
          -0.7946985239106085,
          0.9653440578433922
         ],
         "z": [
          -0.49077020143873495,
          -0.4919237130188271,
          0.06555858341301596,
          -0.056406929484600216,
          -0.3095311446595101,
          -0.20405051875966862,
          0.1417458354076298,
          0.5436290036046307,
          0.02205276312563571,
          0.4426741874460055,
          0.5660317533107739,
          0.08199492455983398,
          0.5583451295459932,
          0.5569708704335854,
          0.908227375802912,
          -0.26666922377017865,
          -0.5926743902087084,
          -0.3138224908536911,
          -0.11420905052745643,
          -0.25253182244926264,
          -0.3464944457228405,
          0.9795257499783291,
          -0.5909963844730513,
          0.32368235583807115,
          -0.7216383829234814,
          -0.082068939967832,
          -0.9769855796764704,
          -0.09659417240206386,
          -0.6721526451571422,
          0.0435933828386613,
          -0.33391175945194435,
          -0.22483271064481483,
          -0.0313907754573089,
          0.47367088725392004,
          0.9700615886451618,
          0.13004889736237896,
          0.9401493288433099,
          -0.22105348296683958,
          -0.7930587587289301,
          0.2696524176021428,
          -0.6704076345244767,
          0.1649976113334573,
          0.612384380635187,
          0.3853509101192653,
          0.3050482854268109,
          0.026107488218097292,
          -0.6931559182437214,
          -0.35266099650721094,
          0.9908375850357903,
          0.012848784753228567,
          -0.1518932192140334,
          0.4362043202327425,
          -0.38133465870647554,
          0.9598335735384584,
          -0.11104905299061539,
          0.5952882628268609,
          0.6566710727355545,
          0.8067202904869991,
          -0.5434940857476288,
          0.2253775995225729,
          0.1590270206023946,
          0.60463555764645,
          0.8396152004042922,
          -0.012701671586436362,
          0.2871134744486497,
          0.17488996264437484,
          -0.48485291951211323,
          -0.19408091618842893,
          0.34766345339557053,
          -0.4880348804667009,
          0.4045052425018014,
          0.43203992850393114,
          0.27458594983860884,
          -0.8570492678705689,
          0.32077417990253,
          -0.39575765250167894,
          -0.3890207848386132,
          0.2670303324828416,
          -0.7289324234774646,
          0.06682405592766724,
          0.6825730023754003,
          0.3758055541508944,
          -0.4802551196564915,
          -0.07420228592959124,
          0.31339881668475833,
          -0.0570317595577616,
          0.188087396960445,
          -0.9682981481016129,
          -0.40594191732376095,
          0.7817569350021928,
          -0.44907920687773045,
          0.8970151342186529,
          0.43136292871861703,
          0.6271529254810457,
          -0.6504706248731134,
          0.9745567805004872,
          0.35298350221597613,
          0.29407883633413395,
          -0.16613877467820998,
          -0.6316353968470731,
          -0.6086458462176136,
          -0.12691550434168958,
          -0.004094705702891515,
          -0.6320330194170957,
          0.7104853935766853,
          -0.1685479274111419,
          -0.43594012071167854,
          -0.9840063208981108,
          -0.7789084688234197,
          0.6506481333659294,
          -0.5221640860027872,
          -0.8725345768918845,
          -0.7780227801319097,
          -0.24679866039832452,
          -0.5041748322811107,
          -0.7511186420352033,
          0.47901567765365344,
          -0.9015764327982189,
          -0.012270752489745315,
          0.2395584930271432,
          0.33785010968873386,
          -0.4583418993727641,
          0.16267935940401052,
          -0.33553751765061557,
          0.541971049855504,
          0.568567071849887,
          -0.004006532647669682,
          -0.3296526943517621,
          0.26801687416219133,
          -0.6804398665342694,
          -0.21242714116237008,
          0.1097508005199636,
          0.3749126865965483,
          -0.9850107487657617,
          -0.6549238275649251,
          0.6834340062535976,
          -0.16545955851284122,
          0.8426670955447564,
          -0.6640416493866135,
          0.273678447157111,
          0.5123909638003923,
          0.02564677097590585,
          0.629797083213694,
          0.40021281278499143,
          0.3039444731846614,
          0.8676150530367028,
          0.06662028787058757,
          0.6567690756986462,
          0.6494895749671906,
          -0.024860223269856693,
          0.16738659796135197,
          0.6342505808859671,
          -0.7299825910850765,
          -0.923710015033002,
          0.08887110130154866,
          -0.9543120264531783,
          0.2756806794697301,
          0.5345320787317324,
          0.7444962940508688,
          0.12337150703188576,
          -0.5760485022947737,
          0.20503018705003262,
          -0.19937695822215712,
          -0.23167012421326744,
          -0.10954674081586808,
          -0.613580113349523,
          0.28679463678350064,
          -0.766710989061087,
          0.7231421722427415,
          0.22438487046737782,
          0.05555823575548397,
          0.685778048601943,
          0.8194858952898445,
          0.5164737812493517,
          0.48228607415610303,
          0.36965809501048064,
          -0.31950284264506157,
          0.6742357957762454,
          -0.07803697907285968,
          -0.8968076842378367,
          -0.025170081760723023,
          0.9420057644604063,
          -0.10972333270058884,
          -0.6090004074201731,
          0.01525866824384989,
          0.7882264483601993,
          -0.3263774586093405,
          -0.24853717818602475,
          0.8477363503084022,
          -0.995546488772898,
          -0.189409322743169,
          0.2599496435472068,
          -0.46258443655017645,
          -0.8802777059551519,
          0.6678270859284577,
          -0.3649548441587158,
          -0.9800253266583547,
          0.4525577013744166,
          -0.2619616332217445,
          0.08811277069457657,
          -0.7934620486824169,
          0.6057261358959546,
          -0.8580871722399179,
          -0.6756558319206556,
          -0.7122630128502604,
          -0.3793865564901016,
          -0.40180243181544584,
          -0.5739295564015096,
          -0.3095311446595101,
          -0.8941679401783226,
          0.2695757666667531,
          0.14370263308308803,
          0.6827546383970787,
          0.607985823427184,
          -0.42730815002739464,
          -0.8571045365007108,
          0.9722075490002314,
          -0.41129994624881194,
          0.8053143656554802,
          0.5287447244813979,
          0.8162688574201632,
          -0.6216682646498228,
          -0.867172680277556,
          -0.6630237972677958,
          0.4091464678911904,
          0.6617020780485299,
          -0.539910984374386,
          -0.4827005367144984,
          -0.4919051325284948,
          -0.22323725030497552,
          0.32303024005639785,
          0.8461530293531241,
          0.4018643825032821,
          0.29777461117848825,
          0.4257530331204286,
          -0.3743702294619047,
          0.3520591335908632,
          0.6401671488477058,
          0.5355703338923072,
          0.320911148569221,
          -0.2672136245613364,
          0.018455548619471716,
          0.2989836590425075,
          -0.8814802944259293,
          -0.7608117336446022,
          -0.34145458824968966,
          -0.7283253171927386,
          -0.6504844555966733,
          -0.8811245299187878,
          -0.20768929961232802,
          0.8561061336970798,
          0.5120686802202234,
          0.16060258732881194,
          -0.18359487197866572,
          -0.1628747393207708,
          0.09242049619184335,
          0.5837804093180634,
          -0.20193264409097902,
          0.9660680556899702,
          0.9784110318423064,
          -0.6042698645255434,
          -0.05270834785669979,
          0.569033153417789,
          -0.5597787338436937,
          0.8740612214336325,
          0.07786747394494324,
          -0.4793224642464602,
          -0.13223051077019005,
          -0.4764170803217832,
          -0.6332200995831669,
          -0.40697015075741694,
          0.8739787802673823,
          -0.20357367495774112,
          -0.08378122074009522,
          0.7208194036821217,
          -0.3104030897338691,
          0.4081677546970792,
          0.7004398280390738,
          0.5902350210502088,
          -0.32163128145953757,
          0.17260540207325478,
          0.6856321536254391,
          -0.1481045880244571,
          -0.2655624959665856,
          0.6994370639490041,
          -0.31239766347354314,
          -0.1361190073278764,
          -0.1890642297064975,
          0.8888226907372512,
          -0.40955721358314456,
          0.34019754254598245,
          -0.7061499210326342,
          0.4023086732937162,
          -0.026646834784500344,
          0.1605249499693473,
          -0.33435909605330555,
          -0.8017508667252976,
          -0.19646779836416908,
          0.11607242271036049,
          -0.2440762091083439
         ]
        },
        {
         "marker": {
          "color": "orange"
         },
         "name": "origin (0,0,0)",
         "type": "scatter3d",
         "x": [
          0
         ],
         "y": [
          0
         ],
         "z": [
          0
         ]
        },
        {
         "marker": {
          "color": "#16FF32"
         },
         "name": "query",
         "type": "scatter3d",
         "x": [
          -0.1860820020579586
         ],
         "y": [
          0.22820855382882962
         ],
         "z": [
          0.9556643471792051
         ]
        }
       ],
       "layout": {
        "coloraxis": {
         "colorbar": {
          "title": {
           "text": "Fantasy"
          }
         },
         "colorscale": [
          [
           0,
           "#0d0887"
          ],
          [
           0.1111111111111111,
           "#46039f"
          ],
          [
           0.2222222222222222,
           "#7201a8"
          ],
          [
           0.3333333333333333,
           "#9c179e"
          ],
          [
           0.4444444444444444,
           "#bd3786"
          ],
          [
           0.5555555555555556,
           "#d8576b"
          ],
          [
           0.6666666666666666,
           "#ed7953"
          ],
          [
           0.7777777777777778,
           "#fb9f3a"
          ],
          [
           0.8888888888888888,
           "#fdca26"
          ],
          [
           1,
           "#f0f921"
          ]
         ]
        },
        "legend": {
         "tracegroupgap": 0
        },
        "margin": {
         "t": 60
        },
        "scene": {
         "domain": {
          "x": [
           0,
           1
          ],
          "y": [
           0,
           1
          ]
         },
         "xaxis": {
          "title": {
           "text": "0"
          }
         },
         "yaxis": {
          "title": {
           "text": "1"
          }
         },
         "zaxis": {
          "title": {
           "text": "2"
          }
         }
        },
        "template": {
         "data": {
          "bar": [
           {
            "error_x": {
             "color": "#2a3f5f"
            },
            "error_y": {
             "color": "#2a3f5f"
            },
            "marker": {
             "line": {
              "color": "#E5ECF6",
              "width": 0.5
             },
             "pattern": {
              "fillmode": "overlay",
              "size": 10,
              "solidity": 0.2
             }
            },
            "type": "bar"
           }
          ],
          "barpolar": [
           {
            "marker": {
             "line": {
              "color": "#E5ECF6",
              "width": 0.5
             },
             "pattern": {
              "fillmode": "overlay",
              "size": 10,
              "solidity": 0.2
             }
            },
            "type": "barpolar"
           }
          ],
          "carpet": [
           {
            "aaxis": {
             "endlinecolor": "#2a3f5f",
             "gridcolor": "white",
             "linecolor": "white",
             "minorgridcolor": "white",
             "startlinecolor": "#2a3f5f"
            },
            "baxis": {
             "endlinecolor": "#2a3f5f",
             "gridcolor": "white",
             "linecolor": "white",
             "minorgridcolor": "white",
             "startlinecolor": "#2a3f5f"
            },
            "type": "carpet"
           }
          ],
          "choropleth": [
           {
            "colorbar": {
             "outlinewidth": 0,
             "ticks": ""
            },
            "type": "choropleth"
           }
          ],
          "contour": [
           {
            "colorbar": {
             "outlinewidth": 0,
             "ticks": ""
            },
            "colorscale": [
             [
              0,
              "#0d0887"
             ],
             [
              0.1111111111111111,
              "#46039f"
             ],
             [
              0.2222222222222222,
              "#7201a8"
             ],
             [
              0.3333333333333333,
              "#9c179e"
             ],
             [
              0.4444444444444444,
              "#bd3786"
             ],
             [
              0.5555555555555556,
              "#d8576b"
             ],
             [
              0.6666666666666666,
              "#ed7953"
             ],
             [
              0.7777777777777778,
              "#fb9f3a"
             ],
             [
              0.8888888888888888,
              "#fdca26"
             ],
             [
              1,
              "#f0f921"
             ]
            ],
            "type": "contour"
           }
          ],
          "contourcarpet": [
           {
            "colorbar": {
             "outlinewidth": 0,
             "ticks": ""
            },
            "type": "contourcarpet"
           }
          ],
          "heatmap": [
           {
            "colorbar": {
             "outlinewidth": 0,
             "ticks": ""
            },
            "colorscale": [
             [
              0,
              "#0d0887"
             ],
             [
              0.1111111111111111,
              "#46039f"
             ],
             [
              0.2222222222222222,
              "#7201a8"
             ],
             [
              0.3333333333333333,
              "#9c179e"
             ],
             [
              0.4444444444444444,
              "#bd3786"
             ],
             [
              0.5555555555555556,
              "#d8576b"
             ],
             [
              0.6666666666666666,
              "#ed7953"
             ],
             [
              0.7777777777777778,
              "#fb9f3a"
             ],
             [
              0.8888888888888888,
              "#fdca26"
             ],
             [
              1,
              "#f0f921"
             ]
            ],
            "type": "heatmap"
           }
          ],
          "heatmapgl": [
           {
            "colorbar": {
             "outlinewidth": 0,
             "ticks": ""
            },
            "colorscale": [
             [
              0,
              "#0d0887"
             ],
             [
              0.1111111111111111,
              "#46039f"
             ],
             [
              0.2222222222222222,
              "#7201a8"
             ],
             [
              0.3333333333333333,
              "#9c179e"
             ],
             [
              0.4444444444444444,
              "#bd3786"
             ],
             [
              0.5555555555555556,
              "#d8576b"
             ],
             [
              0.6666666666666666,
              "#ed7953"
             ],
             [
              0.7777777777777778,
              "#fb9f3a"
             ],
             [
              0.8888888888888888,
              "#fdca26"
             ],
             [
              1,
              "#f0f921"
             ]
            ],
            "type": "heatmapgl"
           }
          ],
          "histogram": [
           {
            "marker": {
             "pattern": {
              "fillmode": "overlay",
              "size": 10,
              "solidity": 0.2
             }
            },
            "type": "histogram"
           }
          ],
          "histogram2d": [
           {
            "colorbar": {
             "outlinewidth": 0,
             "ticks": ""
            },
            "colorscale": [
             [
              0,
              "#0d0887"
             ],
             [
              0.1111111111111111,
              "#46039f"
             ],
             [
              0.2222222222222222,
              "#7201a8"
             ],
             [
              0.3333333333333333,
              "#9c179e"
             ],
             [
              0.4444444444444444,
              "#bd3786"
             ],
             [
              0.5555555555555556,
              "#d8576b"
             ],
             [
              0.6666666666666666,
              "#ed7953"
             ],
             [
              0.7777777777777778,
              "#fb9f3a"
             ],
             [
              0.8888888888888888,
              "#fdca26"
             ],
             [
              1,
              "#f0f921"
             ]
            ],
            "type": "histogram2d"
           }
          ],
          "histogram2dcontour": [
           {
            "colorbar": {
             "outlinewidth": 0,
             "ticks": ""
            },
            "colorscale": [
             [
              0,
              "#0d0887"
             ],
             [
              0.1111111111111111,
              "#46039f"
             ],
             [
              0.2222222222222222,
              "#7201a8"
             ],
             [
              0.3333333333333333,
              "#9c179e"
             ],
             [
              0.4444444444444444,
              "#bd3786"
             ],
             [
              0.5555555555555556,
              "#d8576b"
             ],
             [
              0.6666666666666666,
              "#ed7953"
             ],
             [
              0.7777777777777778,
              "#fb9f3a"
             ],
             [
              0.8888888888888888,
              "#fdca26"
             ],
             [
              1,
              "#f0f921"
             ]
            ],
            "type": "histogram2dcontour"
           }
          ],
          "mesh3d": [
           {
            "colorbar": {
             "outlinewidth": 0,
             "ticks": ""
            },
            "type": "mesh3d"
           }
          ],
          "parcoords": [
           {
            "line": {
             "colorbar": {
              "outlinewidth": 0,
              "ticks": ""
             }
            },
            "type": "parcoords"
           }
          ],
          "pie": [
           {
            "automargin": true,
            "type": "pie"
           }
          ],
          "scatter": [
           {
            "fillpattern": {
             "fillmode": "overlay",
             "size": 10,
             "solidity": 0.2
            },
            "type": "scatter"
           }
          ],
          "scatter3d": [
           {
            "line": {
             "colorbar": {
              "outlinewidth": 0,
              "ticks": ""
             }
            },
            "marker": {
             "colorbar": {
              "outlinewidth": 0,
              "ticks": ""
             }
            },
            "type": "scatter3d"
           }
          ],
          "scattercarpet": [
           {
            "marker": {
             "colorbar": {
              "outlinewidth": 0,
              "ticks": ""
             }
            },
            "type": "scattercarpet"
           }
          ],
          "scattergeo": [
           {
            "marker": {
             "colorbar": {
              "outlinewidth": 0,
              "ticks": ""
             }
            },
            "type": "scattergeo"
           }
          ],
          "scattergl": [
           {
            "marker": {
             "colorbar": {
              "outlinewidth": 0,
              "ticks": ""
             }
            },
            "type": "scattergl"
           }
          ],
          "scattermapbox": [
           {
            "marker": {
             "colorbar": {
              "outlinewidth": 0,
              "ticks": ""
             }
            },
            "type": "scattermapbox"
           }
          ],
          "scatterpolar": [
           {
            "marker": {
             "colorbar": {
              "outlinewidth": 0,
              "ticks": ""
             }
            },
            "type": "scatterpolar"
           }
          ],
          "scatterpolargl": [
           {
            "marker": {
             "colorbar": {
              "outlinewidth": 0,
              "ticks": ""
             }
            },
            "type": "scatterpolargl"
           }
          ],
          "scatterternary": [
           {
            "marker": {
             "colorbar": {
              "outlinewidth": 0,
              "ticks": ""
             }
            },
            "type": "scatterternary"
           }
          ],
          "surface": [
           {
            "colorbar": {
             "outlinewidth": 0,
             "ticks": ""
            },
            "colorscale": [
             [
              0,
              "#0d0887"
             ],
             [
              0.1111111111111111,
              "#46039f"
             ],
             [
              0.2222222222222222,
              "#7201a8"
             ],
             [
              0.3333333333333333,
              "#9c179e"
             ],
             [
              0.4444444444444444,
              "#bd3786"
             ],
             [
              0.5555555555555556,
              "#d8576b"
             ],
             [
              0.6666666666666666,
              "#ed7953"
             ],
             [
              0.7777777777777778,
              "#fb9f3a"
             ],
             [
              0.8888888888888888,
              "#fdca26"
             ],
             [
              1,
              "#f0f921"
             ]
            ],
            "type": "surface"
           }
          ],
          "table": [
           {
            "cells": {
             "fill": {
              "color": "#EBF0F8"
             },
             "line": {
              "color": "white"
             }
            },
            "header": {
             "fill": {
              "color": "#C8D4E3"
             },
             "line": {
              "color": "white"
             }
            },
            "type": "table"
           }
          ]
         },
         "layout": {
          "annotationdefaults": {
           "arrowcolor": "#2a3f5f",
           "arrowhead": 0,
           "arrowwidth": 1
          },
          "autotypenumbers": "strict",
          "coloraxis": {
           "colorbar": {
            "outlinewidth": 0,
            "ticks": ""
           }
          },
          "colorscale": {
           "diverging": [
            [
             0,
             "#8e0152"
            ],
            [
             0.1,
             "#c51b7d"
            ],
            [
             0.2,
             "#de77ae"
            ],
            [
             0.3,
             "#f1b6da"
            ],
            [
             0.4,
             "#fde0ef"
            ],
            [
             0.5,
             "#f7f7f7"
            ],
            [
             0.6,
             "#e6f5d0"
            ],
            [
             0.7,
             "#b8e186"
            ],
            [
             0.8,
             "#7fbc41"
            ],
            [
             0.9,
             "#4d9221"
            ],
            [
             1,
             "#276419"
            ]
           ],
           "sequential": [
            [
             0,
             "#0d0887"
            ],
            [
             0.1111111111111111,
             "#46039f"
            ],
            [
             0.2222222222222222,
             "#7201a8"
            ],
            [
             0.3333333333333333,
             "#9c179e"
            ],
            [
             0.4444444444444444,
             "#bd3786"
            ],
            [
             0.5555555555555556,
             "#d8576b"
            ],
            [
             0.6666666666666666,
             "#ed7953"
            ],
            [
             0.7777777777777778,
             "#fb9f3a"
            ],
            [
             0.8888888888888888,
             "#fdca26"
            ],
            [
             1,
             "#f0f921"
            ]
           ],
           "sequentialminus": [
            [
             0,
             "#0d0887"
            ],
            [
             0.1111111111111111,
             "#46039f"
            ],
            [
             0.2222222222222222,
             "#7201a8"
            ],
            [
             0.3333333333333333,
             "#9c179e"
            ],
            [
             0.4444444444444444,
             "#bd3786"
            ],
            [
             0.5555555555555556,
             "#d8576b"
            ],
            [
             0.6666666666666666,
             "#ed7953"
            ],
            [
             0.7777777777777778,
             "#fb9f3a"
            ],
            [
             0.8888888888888888,
             "#fdca26"
            ],
            [
             1,
             "#f0f921"
            ]
           ]
          },
          "colorway": [
           "#636efa",
           "#EF553B",
           "#00cc96",
           "#ab63fa",
           "#FFA15A",
           "#19d3f3",
           "#FF6692",
           "#B6E880",
           "#FF97FF",
           "#FECB52"
          ],
          "font": {
           "color": "#2a3f5f"
          },
          "geo": {
           "bgcolor": "white",
           "lakecolor": "white",
           "landcolor": "#E5ECF6",
           "showlakes": true,
           "showland": true,
           "subunitcolor": "white"
          },
          "hoverlabel": {
           "align": "left"
          },
          "hovermode": "closest",
          "mapbox": {
           "style": "light"
          },
          "paper_bgcolor": "white",
          "plot_bgcolor": "#E5ECF6",
          "polar": {
           "angularaxis": {
            "gridcolor": "white",
            "linecolor": "white",
            "ticks": ""
           },
           "bgcolor": "#E5ECF6",
           "radialaxis": {
            "gridcolor": "white",
            "linecolor": "white",
            "ticks": ""
           }
          },
          "scene": {
           "xaxis": {
            "backgroundcolor": "#E5ECF6",
            "gridcolor": "white",
            "gridwidth": 2,
            "linecolor": "white",
            "showbackground": true,
            "ticks": "",
            "zerolinecolor": "white"
           },
           "yaxis": {
            "backgroundcolor": "#E5ECF6",
            "gridcolor": "white",
            "gridwidth": 2,
            "linecolor": "white",
            "showbackground": true,
            "ticks": "",
            "zerolinecolor": "white"
           },
           "zaxis": {
            "backgroundcolor": "#E5ECF6",
            "gridcolor": "white",
            "gridwidth": 2,
            "linecolor": "white",
            "showbackground": true,
            "ticks": "",
            "zerolinecolor": "white"
           }
          },
          "shapedefaults": {
           "line": {
            "color": "#2a3f5f"
           }
          },
          "ternary": {
           "aaxis": {
            "gridcolor": "white",
            "linecolor": "white",
            "ticks": ""
           },
           "baxis": {
            "gridcolor": "white",
            "linecolor": "white",
            "ticks": ""
           },
           "bgcolor": "#E5ECF6",
           "caxis": {
            "gridcolor": "white",
            "linecolor": "white",
            "ticks": ""
           }
          },
          "title": {
           "x": 0.05
          },
          "xaxis": {
           "automargin": true,
           "gridcolor": "white",
           "linecolor": "white",
           "ticks": "",
           "title": {
            "standoff": 15
           },
           "zerolinecolor": "white",
           "zerolinewidth": 2
          },
          "yaxis": {
           "automargin": true,
           "gridcolor": "white",
           "linecolor": "white",
           "ticks": "",
           "title": {
            "standoff": 15
           },
           "zerolinecolor": "white",
           "zerolinewidth": 2
          }
         }
        }
       }
      },
      "text/html": [
       "<div>                            <div id=\"09ac02a6-d021-48d8-88c7-c2b8880e4adc\" class=\"plotly-graph-div\" style=\"height:525px; width:100%;\"></div>            <script type=\"text/javascript\">                require([\"plotly\"], function(Plotly) {                    window.PLOTLYENV=window.PLOTLYENV || {};                                    if (document.getElementById(\"09ac02a6-d021-48d8-88c7-c2b8880e4adc\")) {                    Plotly.newPlot(                        \"09ac02a6-d021-48d8-88c7-c2b8880e4adc\",                        [{\"customdata\":[[\"Detective Dee: Mystery of the Phantom Flame\"],[\"Don't Look Under the Bed\"],[\"Peter Pan\"],[\"Eagle Eye\"],[\"Fulltime Killer\"],[\"Drug War\"],[\"Young Guns II\"],[\"Sleeping Dogs\"],[\"The Bride\"],[\"2000 AD\"],[\"I picari\"],[\"Saheb Biwi Aur Gangster Returns\"],[\"Renegade\"],[\"Cat Shit One\"],[\"Initial D\"],[\"Lego: The Adventures of Clutch Powers\"],[\"Maleficent\"],[\"The Adventures of Ford Fairlane\"],[\"Posse\"],[\"Cold War\"],[\"El mariachi\"],[\"The Hi-Lo Country\"],[\"The Master Plan\"],[\"Heropanti\"],[\"Ice Age: Dawn of the Dinosaurs\"],[\"The Last Airbender\"],[\"The Crow: City of Angels\"],[\"Astro Boy\"],[\"The Baytown Outlaws\"],[\"Dr. Wai in the Scriptures with No Words\"],[\"Kung Fu Panda 2\"],[\"Dragon Age: Dawn of the Seeker\"],[\"Bogus\"],[\"The Terror Live\"],[\"Modern Era\"],[\"Wonder Women! The Untold Story of American Superheroines\"],[\"The Overcoat\"],[\"SPL: Kill Zone\"],[\"Austin Powers: The Spy Who Shagged Me\"],[\"American Outlaws\"],[\"The Raven\"],[\"Wolf Girl\"],[\"The Man of the Year\"],[\"All Is Lost\"],[\"The Misfits\"],[\"Helter Skelter\"],[\"Lockout\"],[\"Parugu\"],[\"3 Ninjas\"],[\"Pinocchio's Revenge\"],[\"Kung Fury\"],[\"The Slipper and the Rose: The Story of Cinderella\"],[\"A Fairly Odd Movie: Grow Up, Timmy Turner!\"],[\"'Doc'\"],[\"Nevada Smith\"],[\"Baadshah\"],[\"Turks & Caicos\"],[\"The Coast Guard\"],[\"Heavy Metal\"],[\"Atolladero\"],[\"For Heaven's Sake\"],[\"Cherry 2000\"],[\"Heaven Knows, Mr. Allison\"],[\"Beasts of the Southern Wild\"],[\"Three Fugitives\"],[\"What Dreams May Come\"],[\"The Ewok Adventure\"],[\"Battletruck\"],[\"Windwalker\"],[\"Runaway\"],[\"The Defender\"],[\"Once Upon a Time in China II\"],[\"Waterloo\"],[\"20th Century Boys 2: The Last Hope\"],[\"Easy Money\"],[\"Percy Jackson & the Olympians: The Lightning Thief\"],[\"Connected\"],[\"The Diplomat\"],[\"Doom\"],[\"Prospero's Books\"],[\"The Brothers Lionheart\"],[\"Around the World in 80 Days\"],[\"Battlestar Galactica: The Plan\"],[\"Comforting Skin\"],[\"War\"],[\"Hulchul\"],[\"Destry Rides Again\"],[\"The Incredibles\"],[\"Like Father Like Son\"],[\"Above and Beyond\"],[\"Gabriel\"],[\"Ground Zero\"],[\"Fish Story\"],[\"Elegy of a Voyage\"],[\"\\u00e8on Flux\"],[\"China Girl\"],[\"The Condemned\"],[\"Ko\"],[\"The Wolverine\"],[\"New Jack City\"],[\"The Addams Family\"],[\"Atanarjuat: The Fast Runner\"],[\"One for the Money\"],[\"The Last Starfighter\"],[\"Smilla's Feeling for Snow\"],[\"Avengers Confidential: Black Widow & Punisher\"],[\"Star Trek: Insurrection\"],[\"Batman: The Dark Knight Returns, Part 1\"],[\"13 Assassins\"],[\"A Better Tomorrow III: Love and Death in Saigon\"],[\"Streets of Fire\"],[\"Resident Evil: Extinction\"],[\"Lara Croft Tomb Raider: The Cradle of Life\"],[\"True Grit\"],[\"Goldfinger\"],[\"Jason Goes to Hell: The Final Friday\"],[\"Premonition\"],[\"Scanners II: The New Order\"],[\"Strawberries in the Supermarket\"],[\"Mesrine Part 2: Public Enemy #1\"],[\"Dragonworld\"],[\"Judge Dredd\"],[\"Aladin\"],[\"Raiders of the Lost Ark\"],[\"Gojo reisenki: Gojoe\"],[\"A Midsummer Night's Dream\"],[\"Koi... Mil Gaya\"],[\"Ghost\"],[\"The Forbidden Kingdom\"],[\"The Twilight Saga: Breaking Dawn - Part 1\"],[\"The Kid\"],[\"Ted\"],[\"Battle of the Warriors\"],[\"Leonard Part 6\"],[\"Battle Beyond the Stars\"],[\"The Rebel\"],[\"Clash of the Wolves\"],[\"Surf Ninjas\"],[\"Harry Potter and the Deathly Hallows: Part 1\"],[\"Sheena\"],[\"The Lost Bladesman\"],[\"Eva\"],[\"Pudhu Pettai\"],[\"Khal Nayak\"],[\"The Princess Blade\"],[\"The Emerald Forest\"],[\"Obitaemyy ostrov\"],[\"Soar Into the Sun\"],[\"Pastorela\"],[\"Frog\"],[\"Peter Pan\"],[\"The Myth\"],[\"The Last Unicorn\"],[\"BloodRayne\"],[\"The Longest Nite\"],[\"Lucy\"],[\"Paragraph 78\"],[\"Da grande\"],[\"Tai Chi Zero\"],[\"Blades of Blood\"],[\"Phineas and Ferb the Movie: Across the 2nd Dimension\"],[\"The Cheyenne Social Club\"],[\"Knight and Day\"],[\"The Peanut Butter Solution\"],[\"Breakout\"],[\"The Grey\"],[\"About Time\"],[\"High Noon\"],[\"Bhoothnath\"],[\"The Bannen Way\"],[\"Peggy Sue Got Married\"],[\"Deewaar\"],[\"The Wild Angels\"],[\"Dirty Mind\"],[\"Animals\"],[\"The Bible\"],[\"Stargate: Continuum\"],[\"The Shaolin Temple\"],[\"Hamilton: I nationens intresse\"],[\"Hollow Man II\"],[\"Fatty Finn\"],[\"Bad Day to Go Fishing\"],[\"The Prophecy 3: The Ascent\"],[\"Afflicted\"],[\"K-9: P.I.\"],[\"The Bounty\"],[\"Contract Killer\"],[\"Diamonds Are Forever\"],[\"Tokyo Fist\"],[\"The Wedding Party\"],[\"The Haunting\"],[\"The Assailant\"],[\"Perrier's Bounty\"],[\"Ardor\"],[\"Race\"],[\"Hell Ride\"],[\"Death Street USA\"],[\"Single Santa Seeks Mrs. Claus\"],[\"Godzilla: Final Wars\"],[\"Figures in a Landscape\"],[\"Scott Pilgrim vs. the World\"],[\"The Story of Marie and Julien\"],[\"Trollhunter\"],[\"Underworld: Awakening\"],[\"Volcano\"],[\"Godzilla 1985\"],[\"The Raid: Redemption\"],[\"Percy Jackson: Sea of Monsters\"],[\"Fulltime Killer\"],[\"Silverado\"],[\"The Good, the Bad, the Weird\"],[\"Krampus: The Christmas Devil\"],[\"Queen of the Mountains\"],[\"Blind\"],[\"Tamara\"],[\"The Prophecy II\"],[\"The Saragossa Manuscript\"],[\"Fast Five\"],[\"The Man from the Future\"],[\"Magic in the Water\"],[\"Kabul Express\"],[\"The 10th Victim\"],[\"Priest\"],[\"Zardoz\"],[\"Tommy Tricker and the Stamp Traveller\"],[\"Amar Akbar Anthony\"],[\"Gone in Sixty Seconds\"],[\"Flash Gordon\"],[\"Dirty Harry\"],[\"Secuestro express\"],[\"Defending Your Life\"],[\"Shool\"],[\"The Patriot\"],[\"The Steel Helmet\"],[\"Gangs of Wasseypur\"],[\"City on Fire\"],[\"Ride a Crooked Trail\"],[\"The Ninja Wars\"],[\"Dead Presidents\"],[\"Devasuram\"],[\"Boogie\"],[\"Alice\"],[\"The Santa Clause 2\"],[\"Batman & Robin\"],[\"Afro Samurai: Resurrection\"],[\"This Means War\"],[\"Wishmaster\"],[\"Phantasm II\"],[\"The Monster Squad\"],[\"Littleman\"],[\"Ip Man\"],[\"The Longest Day\"],[\"OzLand\"],[\"Scarfies\"],[\"City of Ember\"],[\"Jason and the Argonauts\"],[\"Bloody Tie\"],[\"47 Ronin\"],[\"The Hourglass Sanatorium\"],[\"Honky Tonk Freeway\"],[\"Dr. Dolittle 2\"],[\"Mockingbird Lane\"],[\"Prancer Returns\"],[\"The Haunting Hour: Don't Think About It\"],[\"If Looks Could Kill\"],[\"Split Decisions\"],[\"Gulaab Gang\"],[\"Looper\"],[\"Reign of Fire\"],[\"Aftershock\"],[\"Journey to the Center of the Earth\"],[\"Malarek\"],[\"Pups\"],[\"Back to the Future Part III\"],[\"Fluke\"],[\"Atlantis: The Lost Empire\"],[\"Better Mus Come\"],[\"The Milagro Beanfield War\"],[\"Tarif Novogodniy\"],[\"Dragon Ball Z: Battle of Gods\"],[\"Turbulence 2: Fear of Flying\"],[\"Here Comes Mr. Jordan\"],[\"Never Die Alone\"],[\"Bounty Hunters\"],[\"Born in Flames\"],[\"Unit 7\"],[\"The Rescue\"],[\"Blazing Saddles\"],[\"The Unbeatable\"],[\"Smokey and the Bandit\"],[\"Goodbye, 20th Century\"],[\"Vares: Private Eye\"],[\"Life of Pi\"],[\"The Last of the Mohicans\"],[\"Alien Nation\"],[\"Shadowboxer\"],[\"Purgatory\"],[\"The Karate Kid, Part III\"],[\"Beautiful Creatures\"],[\"The Living Daylights\"]],\"hovertemplate\":\"0=%{x}\\u003cbr\\u003e1=%{y}\\u003cbr\\u003e2=%{z}\\u003cbr\\u003etitle=%{customdata[0]}\\u003cbr\\u003eFantasy=%{marker.color}\\u003cextra\\u003e\\u003c\\u002fextra\\u003e\",\"legendgroup\":\"\",\"marker\":{\"color\":[0,1,1,0,0,0,0,0,1,0,0,0,0,0,0,0,0,0,0,0,0,0,0,0,0,0,1,0,0,0,0,0,1,0,0,1,1,0,0,0,1,1,0,0,0,0,0,0,0,1,0,1,1,0,0,0,0,0,1,0,0,0,0,1,0,1,1,0,0,0,0,0,0,1,0,1,0,0,0,1,1,0,0,1,0,0,0,0,1,0,1,0,0,1,0,0,0,0,0,0,1,1,0,0,0,0,0,0,0,0,0,0,1,0,0,1,1,0,0,0,1,0,0,0,0,1,1,1,1,1,1,1,0,0,0,0,0,0,1,1,0,1,0,0,0,0,0,0,1,1,1,0,1,1,0,0,0,1,0,0,0,0,0,1,0,0,1,0,1,0,1,0,0,0,1,0,0,0,0,0,1,0,1,0,0,0,0,0,0,0,1,0,0,0,0,0,0,1,1,0,1,1,1,1,0,0,0,1,0,0,0,0,0,0,1,1,1,0,1,1,0,0,1,1,1,0,0,0,0,0,1,0,0,0,0,0,0,1,0,0,0,1,1,0,0,0,1,1,1,1,0,0,1,0,1,1,0,0,1,0,1,1,1,1,0,0,0,0,1,0,0,0,0,0,1,0,0,1,1,0,0,1,0,0,1,0,0,0,0,0,1,0,1,0,0,0,1,0,1,0],\"coloraxis\":\"coloraxis\",\"symbol\":\"circle\"},\"mode\":\"markers\",\"name\":\"\",\"scene\":\"scene\",\"showlegend\":false,\"x\":[0.6126450759753608,-0.48178142873768104,-0.9243960490430184,0.04197151435480438,0.949581635774206,0.9787149272291363,0.9771431270560159,0.5127626174277428,-0.8301361606805017,-0.16256632111165292,0.2984209735699624,0.9939511394132434,0.10189309751954459,0.7178741680525916,-0.4101795412324421,-0.9570085372227417,-0.7832474933435384,0.7046830042747085,0.9688749603192984,0.9633586738646036,0.9136045286083894,-0.038718855252993734,0.7324919622532686,-0.30991597365659024,-0.6743439749664069,-0.7004545307406429,0.03276718360926853,-0.9951093700476761,0.2543362238571097,-0.9877875098975006,-0.5599497203055891,-0.7821716939827866,-0.6183858224679663,0.8443682636046188,0.009193837626039135,-0.9436343194067943,-0.15024713640838566,0.9724338039490885,-0.19114190978546633,0.9446822976582766,-0.4923377281895788,-0.793535484694857,0.5266350848085287,-0.7983254847985312,0.32940170498648425,0.5859413724309004,0.7187090509973111,0.4138860338121754,-0.12636630370311508,-0.12511537519587276,0.6874955166761649,-0.8023483394374216,-0.2237489858170135,0.2044135660917161,0.7531858256396672,0.8023771530207094,0.713090444507576,0.2066867327302494,-0.7909852595378333,0.7494410685202183,0.1697021173776812,-0.6072660460903055,-0.46936042638895825,-0.9701885157048342,0.8376077337916946,-0.27462865339126385,-0.8635929852388076,-0.054316743649643964,-0.5267658796292749,0.8408330119311039,0.9138952789185634,0.07422468068315971,-0.24772666100560936,-0.5062883816189694,0.9454704280577796,-0.9062098993919203,0.416493599415893,0.9634718916514973,-0.21444336532929564,-0.7684504266275256,-0.6454661652096554,-0.321965059976245,-0.3560566524203419,-0.3459032810956286,0.8014022543942491,0.45134132136919275,0.9711088746492442,0.065063240647315,-0.40559503512273387,-0.2095633204180855,-0.83090947199068,-0.18374092863615127,-0.6842865301624955,-0.7741015148660699,0.250019124812104,0.035819240545812564,0.9155792270511081,0.673817279723128,-0.5583173047176054,0.7582051174310848,0.07281382718284676,-0.7768775987853698,0.5368153409661778,-0.2735829304636232,-0.34977479346089646,0.877721913297716,-0.21913421355362747,-0.13923433443926214,0.3575129191517877,0.7149417878718616,0.8438944537970231,-0.4338416366705044,-0.43044024274233034,0.7593841451997926,0.6723982979865156,-0.4950192014805594,0.035452263140475775,0.22737192538880194,0.9959754501354503,0.952624143402451,-0.8773397935029695,0.7419534333707696,-0.8024105330977386,-0.2831489140862889,0.015314155494877899,-0.8060933494510507,-0.9164204479239073,0.10821193830408538,-0.35527219951332395,-0.7084529522663532,-0.4412545396942565,-0.6389812666649936,-0.388074482088274,0.09910211780552726,-0.19032509915371046,0.10778941845813673,0.223104562544336,-0.18613891947481367,-0.643405559060646,-0.40905795070782114,-0.27531214954637484,-0.6531014523439834,0.7073180854037454,0.8852633219348275,0.30267981242425984,-0.4353047410275587,-0.7158396809431314,0.2921107910424043,0.14697350637749562,-0.839750945794724,-0.8645735152618916,-0.5869734158551765,-0.6556966486644016,-0.07211416879571324,0.9812627374537939,-0.2562618822347449,-0.24230695646776623,-0.47201948919569436,-0.3539438628219023,0.11263473545408477,-0.570584052932054,0.4432921281277168,0.6549727031819425,-0.6352233135220501,0.9939683513443137,0.2751764827081888,-0.7559193587619362,0.6133284009960057,-0.09611234219236024,0.8008517145269394,-0.5412461061989442,0.5335260342676839,0.4143514322142864,0.032964590807159855,-0.30574434645169724,-0.7951097489434837,-0.6755282011328612,0.00236448980590175,0.964307936386333,0.44160199191225424,0.048533032200603655,-0.25131645024239524,-0.7577553180861103,-0.6871122229272236,0.7071703400386707,-0.19821579014794882,0.918129895859522,0.958224870828654,0.4077648668514813,-0.006439612215479019,-0.7391116998108124,-0.09909539734980344,0.8847037696812762,0.4691331134604985,0.5901163729307155,0.794928641636963,0.1906803298396674,-0.18938514054227332,-0.6621132857601991,0.9847572012394998,-0.5615969070271607,-0.25019157207258447,-0.43857289629617185,-0.5132551802577442,-0.16990829559904708,-0.6129271263823406,0.89649538695687,-0.7593534873213218,0.949581635774206,0.06253246198682808,0.5835992920492877,0.3397797768605384,-0.44959806492478327,0.4089516247113835,-0.223278950358778,-0.4304311273395768,0.11884427292060126,0.8940387506193679,-0.5490130534610674,-0.41011141822977254,-0.11688148255037753,0.592248606461741,0.2730687139586272,-0.3689570164966744,-0.2864815977599758,-0.7204376281358438,0.8238835124239889,-0.3634020105290919,0.8629483858664408,0.6338982996547187,-0.37855385915906936,0.4923551258086576,0.528769871497255,0.044022013849412275,0.5191265093711607,0.9005914372895512,0.8315561595222917,-0.736976808765327,0.828387942454601,0.206523888500809,0.8911471691626172,-0.9227798178839852,-0.5223380964746868,-0.0514197324105568,0.15431642356376654,0.92824130925249,-0.6841122862695688,-0.3629319388340217,-0.4728568749226168,0.37274937357149457,-0.16406928470974602,-0.4327202329311085,-0.9564335930278717,-0.571495687029008,-0.9702303238620007,-0.8766747846857251,0.8119100136409854,0.3146869069080893,-0.25821440734944706,-0.17583084964709064,-0.7816835482160817,-0.5628019621744701,-0.13507633556806237,-0.5072567402102318,0.2695965383352326,0.9769004815746261,0.40794893186044884,0.985744499744925,-0.6750274300340304,-0.6267829825824052,-0.8167233547245736,0.18954875299661408,0.9180736619093228,0.4494047741073529,-0.23693791863321706,-0.8077882384322981,0.7361037245918408,-0.11637886567270056,-0.6116985466299328,-0.5702608510596986,0.7265539700342756,0.18541428757491282,0.9729396524244527,0.48063318235555536,-0.14307703294620744,0.9481856597470826,0.3619130809322858,0.9744909883595997,0.41616471896673846,0.9114496006779078,-0.6251694595655964,0.6397316877212573,-0.8508718394031518,0.3334052958678504,-0.8113410734548813,0.7912275946554042,0.5806802938483935,0.6093710233805496,-0.5958031963496397,0.09239942712892509],\"y\":[0.6195245114302806,-0.7251880552610127,-0.37575792294313126,-0.9975252629827898,0.04985165479857806,-0.021919785874331535,0.1584279880317357,0.6644862711963934,-0.5571244298800412,0.8818229726023482,0.7684744477062897,-0.07306137697540514,-0.8233277069248555,0.41766030255610076,-0.08292030991560163,0.1141147877209559,-0.18777761144981983,-0.6363468454551778,0.21963060816720129,0.09037557269686385,-0.21276363502596993,-0.1975605106727799,0.3379035347168442,-0.893969698475068,-0.15651916086565493,0.708962720781186,0.2107735485836578,0.02066174003508902,-0.6953588331518935,-0.14958426475795256,0.7582606726116022,0.5810832069129195,-0.7852474729579241,0.250355998500945,0.24268495541531043,0.30437075341186365,-0.3058513323112291,0.07421492171615589,-0.5783792661626913,-0.18671617544390404,-0.5551190547733161,-0.5857279426357871,-0.5896107680519176,0.46279703584988957,-0.8935547326885802,-0.8099327793914348,-0.054700758845265866,-0.8392428567213235,0.047670088827849316,-0.9920589960380185,0.7101255976987244,-0.40738548478351944,-0.8969505390014957,-0.19218377950820967,-0.64836657832231,-0.04269412665647506,0.2455302836399698,0.5536090384286245,-0.2809919891228501,0.6225295354027118,-0.9725798671964465,-0.5154064335021569,0.2733991685979233,-0.24201841155862724,-0.46473555607718053,-0.9455118210275057,0.1382924520243427,0.9794806222334156,0.7756596104164907,-0.23414055926883068,-0.03421882462797366,0.8987948581048965,0.9291039003137598,-0.09559616666041872,-0.056476501096459054,0.1488606688499223,-0.8217030550077948,-0.020413611429351837,0.650131959735496,-0.6364106279481431,-0.3427353585461726,0.8689698991471637,0.8016100550211113,-0.9353314604406834,0.5094463743637876,-0.8905270293632062,-0.14686961796819084,-0.24117518757006637,-0.8189650952533308,0.5873153406061553,0.32850770966027243,0.40199890562863094,0.587943847969744,0.0862905136305337,0.7172017870901962,-0.22126017171476234,0.192658574052233,-0.6778553765862492,0.8128220560499644,0.16174586656590476,-0.7900939060978964,0.6167281826405961,-0.8436898263512326,0.7250425108401891,-0.61062926508117,0.4485485916624922,0.8728896881073349,0.11110967800250297,0.5152534423317549,0.25595946261472263,-0.12323480896036612,0.22464382123521232,0.4576043608006132,-0.6020183894573095,0.5419301314368404,-0.436780008416985,-0.8770901422318175,0.3680515498783122,0.08878249467559801,0.18740055983190232,-0.3407817338407053,0.4893136069931983,-0.5741713702351449,0.8984660631880417,0.840257613925635,-0.1641493124531187,-0.40019683947163837,-0.9378802042452419,0.895515839847232,-0.18733927099226727,-0.8718767922687197,-0.7613525481906708,0.8419255749654336,0.14118284266288617,0.7313351739933193,0.7220106649936787,0.9606495139584655,-0.5052370421326144,0.3808910270008517,-0.870500833155483,0.813424071765681,-0.756836003427882,-0.32102454740456143,-0.23693576201080208,0.9033286712882048,0.2403204156601127,0.6950793396665418,0.6952162735167574,-0.7460308843687654,-0.5424023583428076,-0.4738083616090165,0.5031783080828498,0.19284014530950358,-0.37624374385049236,-0.17095428464398474,0.15368280281259258,-0.9302083109790172,-0.7010513951388792,0.5660821584498426,0.9859477103892831,-0.5853221006792576,-0.8726137241289691,-0.7288755631907408,-0.7367633918057253,-0.005140827023724291,0.740133331141313,-0.5885021319937279,0.18969062123534897,-0.683979397644657,-0.55523685148286,-0.8390267784547876,-0.49503377542780785,-0.3959239296165003,-0.8556682587515523,-0.8209266333162291,0.4807841302791231,0.6645145468805973,0.7385123566210189,0.2530225952746396,-0.026900896473872414,-0.9985043874563465,0.22240769222517237,0.6432477502279302,-0.3962263202591071,-0.7068785491249645,0.5825886770625485,0.2247559762068446,0.14154281325711113,-0.33922101015029077,-0.09405168837648915,-0.6464039013347194,0.9605239638050497,-0.05757498565605794,0.07088922522636412,0.45361839656191305,0.4846611356714094,0.0564922199990486,-0.8713924462998792,0.7021268400649765,0.1499646433245932,-0.23457811346804822,-0.7553145209489913,-0.267095899391377,0.5292053634745185,0.6810378635671417,0.6930989673194364,0.18668376188690328,0.30657323037361495,0.04985165479857806,-0.44334341762918017,0.765990060213318,-0.9294618101254026,0.5759406946580218,-0.6805231863481866,-0.8761017379544729,0.28302094997911853,0.20171395703058417,0.17755862864610086,-0.22372626041273477,-0.7431269346287047,0.5657242008636428,0.5126111166092711,-0.4164673096861518,0.6513602415211306,-0.8663298805634345,-0.20765351880538196,-0.17237194350529458,0.7968307038505413,-0.11553970712542154,-0.7404985319169313,0.867380216355481,-0.2039889237347755,0.7476011243116426,0.9536206495426481,0.7411086438956637,-0.22086646276286753,-0.4296146180192051,-0.2169128969846512,0.16412749388909598,-0.9243180828061781,-0.3666791536783174,-0.38488543806066966,-0.7986060885046863,-0.46941293298928577,0.6303585863357323,-0.1475697664173055,-0.03914859015494783,-0.6671959088613161,0.005092996545462749,-0.9043909880845779,0.4900648504647829,0.741983063654128,0.24380646232429257,-0.7998034775433146,0.17923431019151528,0.47212262578687214,-0.0016010764907458883,0.927467173473566,0.006150740815106633,-0.1086064688757319,-0.15436567388703368,-0.8249095595510962,-0.8111446565692898,-0.6552391690426028,-0.404146864027925,0.19900277787181164,-0.7770634750537565,0.10403303919468165,0.5633513417746688,0.45406541183951543,0.4090699918594907,-0.44747330856685447,-0.340144837051228,-0.8893908342572564,-0.651367645795452,0.5011268140242673,0.5399540634790745,-0.704159077851964,-0.5267328620626279,0.7558808639827868,0.6650764646283637,-0.7039389830646046,0.17735124399420227,0.8357441622618542,0.7002262178879813,-0.057893475506836455,0.922220438774903,0.12092158885583403,-0.19183626121755007,-0.039019408325766974,0.7024448582430755,-0.30347266227934955,0.33788288548452217,0.9424069475991985,0.5621008832606648,-0.5120184453144633,0.14144237003591786,0.7681584212062496,-0.7946985239106085,0.9653440578433922],\"z\":[-0.49077020143873495,-0.4919237130188271,0.06555858341301596,-0.056406929484600216,-0.3095311446595101,-0.20405051875966862,0.1417458354076298,0.5436290036046307,0.02205276312563571,0.4426741874460055,0.5660317533107739,0.08199492455983398,0.5583451295459932,0.5569708704335854,0.908227375802912,-0.26666922377017865,-0.5926743902087084,-0.3138224908536911,-0.11420905052745643,-0.25253182244926264,-0.3464944457228405,0.9795257499783291,-0.5909963844730513,0.32368235583807115,-0.7216383829234814,-0.082068939967832,-0.9769855796764704,-0.09659417240206386,-0.6721526451571422,0.0435933828386613,-0.33391175945194435,-0.22483271064481483,-0.0313907754573089,0.47367088725392004,0.9700615886451618,0.13004889736237896,0.9401493288433099,-0.22105348296683958,-0.7930587587289301,0.2696524176021428,-0.6704076345244767,0.1649976113334573,0.612384380635187,0.3853509101192653,0.3050482854268109,0.026107488218097292,-0.6931559182437214,-0.35266099650721094,0.9908375850357903,0.012848784753228567,-0.1518932192140334,0.4362043202327425,-0.38133465870647554,0.9598335735384584,-0.11104905299061539,0.5952882628268609,0.6566710727355545,0.8067202904869991,-0.5434940857476288,0.2253775995225729,0.1590270206023946,0.60463555764645,0.8396152004042922,-0.012701671586436362,0.2871134744486497,0.17488996264437484,-0.48485291951211323,-0.19408091618842893,0.34766345339557053,-0.4880348804667009,0.4045052425018014,0.43203992850393114,0.27458594983860884,-0.8570492678705689,0.32077417990253,-0.39575765250167894,-0.3890207848386132,0.2670303324828416,-0.7289324234774646,0.06682405592766724,0.6825730023754003,0.3758055541508944,-0.4802551196564915,-0.07420228592959124,0.31339881668475833,-0.0570317595577616,0.188087396960445,-0.9682981481016129,-0.40594191732376095,0.7817569350021928,-0.44907920687773045,0.8970151342186529,0.43136292871861703,0.6271529254810457,-0.6504706248731134,0.9745567805004872,0.35298350221597613,0.29407883633413395,-0.16613877467820998,-0.6316353968470731,-0.6086458462176136,-0.12691550434168958,-0.004094705702891515,-0.6320330194170957,0.7104853935766853,-0.1685479274111419,-0.43594012071167854,-0.9840063208981108,-0.7789084688234197,0.6506481333659294,-0.5221640860027872,-0.8725345768918845,-0.7780227801319097,-0.24679866039832452,-0.5041748322811107,-0.7511186420352033,0.47901567765365344,-0.9015764327982189,-0.012270752489745315,0.2395584930271432,0.33785010968873386,-0.4583418993727641,0.16267935940401052,-0.33553751765061557,0.541971049855504,0.568567071849887,-0.004006532647669682,-0.3296526943517621,0.26801687416219133,-0.6804398665342694,-0.21242714116237008,0.1097508005199636,0.3749126865965483,-0.9850107487657617,-0.6549238275649251,0.6834340062535976,-0.16545955851284122,0.8426670955447564,-0.6640416493866135,0.273678447157111,0.5123909638003923,0.02564677097590585,0.629797083213694,0.40021281278499143,0.3039444731846614,0.8676150530367028,0.06662028787058757,0.6567690756986462,0.6494895749671906,-0.024860223269856693,0.16738659796135197,0.6342505808859671,-0.7299825910850765,-0.923710015033002,0.08887110130154866,-0.9543120264531783,0.2756806794697301,0.5345320787317324,0.7444962940508688,0.12337150703188576,-0.5760485022947737,0.20503018705003262,-0.19937695822215712,-0.23167012421326744,-0.10954674081586808,-0.613580113349523,0.28679463678350064,-0.766710989061087,0.7231421722427415,0.22438487046737782,0.05555823575548397,0.685778048601943,0.8194858952898445,0.5164737812493517,0.48228607415610303,0.36965809501048064,-0.31950284264506157,0.6742357957762454,-0.07803697907285968,-0.8968076842378367,-0.025170081760723023,0.9420057644604063,-0.10972333270058884,-0.6090004074201731,0.01525866824384989,0.7882264483601993,-0.3263774586093405,-0.24853717818602475,0.8477363503084022,-0.995546488772898,-0.189409322743169,0.2599496435472068,-0.46258443655017645,-0.8802777059551519,0.6678270859284577,-0.3649548441587158,-0.9800253266583547,0.4525577013744166,-0.2619616332217445,0.08811277069457657,-0.7934620486824169,0.6057261358959546,-0.8580871722399179,-0.6756558319206556,-0.7122630128502604,-0.3793865564901016,-0.40180243181544584,-0.5739295564015096,-0.3095311446595101,-0.8941679401783226,0.2695757666667531,0.14370263308308803,0.6827546383970787,0.607985823427184,-0.42730815002739464,-0.8571045365007108,0.9722075490002314,-0.41129994624881194,0.8053143656554802,0.5287447244813979,0.8162688574201632,-0.6216682646498228,-0.867172680277556,-0.6630237972677958,0.4091464678911904,0.6617020780485299,-0.539910984374386,-0.4827005367144984,-0.4919051325284948,-0.22323725030497552,0.32303024005639785,0.8461530293531241,0.4018643825032821,0.29777461117848825,0.4257530331204286,-0.3743702294619047,0.3520591335908632,0.6401671488477058,0.5355703338923072,0.320911148569221,-0.2672136245613364,0.018455548619471716,0.2989836590425075,-0.8814802944259293,-0.7608117336446022,-0.34145458824968966,-0.7283253171927386,-0.6504844555966733,-0.8811245299187878,-0.20768929961232802,0.8561061336970798,0.5120686802202234,0.16060258732881194,-0.18359487197866572,-0.1628747393207708,0.09242049619184335,0.5837804093180634,-0.20193264409097902,0.9660680556899702,0.9784110318423064,-0.6042698645255434,-0.05270834785669979,0.569033153417789,-0.5597787338436937,0.8740612214336325,0.07786747394494324,-0.4793224642464602,-0.13223051077019005,-0.4764170803217832,-0.6332200995831669,-0.40697015075741694,0.8739787802673823,-0.20357367495774112,-0.08378122074009522,0.7208194036821217,-0.3104030897338691,0.4081677546970792,0.7004398280390738,0.5902350210502088,-0.32163128145953757,0.17260540207325478,0.6856321536254391,-0.1481045880244571,-0.2655624959665856,0.6994370639490041,-0.31239766347354314,-0.1361190073278764,-0.1890642297064975,0.8888226907372512,-0.40955721358314456,0.34019754254598245,-0.7061499210326342,0.4023086732937162,-0.026646834784500344,0.1605249499693473,-0.33435909605330555,-0.8017508667252976,-0.19646779836416908,0.11607242271036049,-0.2440762091083439],\"type\":\"scatter3d\"},{\"marker\":{\"color\":\"orange\"},\"name\":\"origin (0,0,0)\",\"x\":[0],\"y\":[0],\"z\":[0],\"type\":\"scatter3d\"},{\"marker\":{\"color\":\"#16FF32\"},\"name\":\"query\",\"x\":[-0.1860820020579586],\"y\":[0.22820855382882962],\"z\":[0.9556643471792051],\"type\":\"scatter3d\"}],                        {\"template\":{\"data\":{\"histogram2dcontour\":[{\"type\":\"histogram2dcontour\",\"colorbar\":{\"outlinewidth\":0,\"ticks\":\"\"},\"colorscale\":[[0.0,\"#0d0887\"],[0.1111111111111111,\"#46039f\"],[0.2222222222222222,\"#7201a8\"],[0.3333333333333333,\"#9c179e\"],[0.4444444444444444,\"#bd3786\"],[0.5555555555555556,\"#d8576b\"],[0.6666666666666666,\"#ed7953\"],[0.7777777777777778,\"#fb9f3a\"],[0.8888888888888888,\"#fdca26\"],[1.0,\"#f0f921\"]]}],\"choropleth\":[{\"type\":\"choropleth\",\"colorbar\":{\"outlinewidth\":0,\"ticks\":\"\"}}],\"histogram2d\":[{\"type\":\"histogram2d\",\"colorbar\":{\"outlinewidth\":0,\"ticks\":\"\"},\"colorscale\":[[0.0,\"#0d0887\"],[0.1111111111111111,\"#46039f\"],[0.2222222222222222,\"#7201a8\"],[0.3333333333333333,\"#9c179e\"],[0.4444444444444444,\"#bd3786\"],[0.5555555555555556,\"#d8576b\"],[0.6666666666666666,\"#ed7953\"],[0.7777777777777778,\"#fb9f3a\"],[0.8888888888888888,\"#fdca26\"],[1.0,\"#f0f921\"]]}],\"heatmap\":[{\"type\":\"heatmap\",\"colorbar\":{\"outlinewidth\":0,\"ticks\":\"\"},\"colorscale\":[[0.0,\"#0d0887\"],[0.1111111111111111,\"#46039f\"],[0.2222222222222222,\"#7201a8\"],[0.3333333333333333,\"#9c179e\"],[0.4444444444444444,\"#bd3786\"],[0.5555555555555556,\"#d8576b\"],[0.6666666666666666,\"#ed7953\"],[0.7777777777777778,\"#fb9f3a\"],[0.8888888888888888,\"#fdca26\"],[1.0,\"#f0f921\"]]}],\"heatmapgl\":[{\"type\":\"heatmapgl\",\"colorbar\":{\"outlinewidth\":0,\"ticks\":\"\"},\"colorscale\":[[0.0,\"#0d0887\"],[0.1111111111111111,\"#46039f\"],[0.2222222222222222,\"#7201a8\"],[0.3333333333333333,\"#9c179e\"],[0.4444444444444444,\"#bd3786\"],[0.5555555555555556,\"#d8576b\"],[0.6666666666666666,\"#ed7953\"],[0.7777777777777778,\"#fb9f3a\"],[0.8888888888888888,\"#fdca26\"],[1.0,\"#f0f921\"]]}],\"contourcarpet\":[{\"type\":\"contourcarpet\",\"colorbar\":{\"outlinewidth\":0,\"ticks\":\"\"}}],\"contour\":[{\"type\":\"contour\",\"colorbar\":{\"outlinewidth\":0,\"ticks\":\"\"},\"colorscale\":[[0.0,\"#0d0887\"],[0.1111111111111111,\"#46039f\"],[0.2222222222222222,\"#7201a8\"],[0.3333333333333333,\"#9c179e\"],[0.4444444444444444,\"#bd3786\"],[0.5555555555555556,\"#d8576b\"],[0.6666666666666666,\"#ed7953\"],[0.7777777777777778,\"#fb9f3a\"],[0.8888888888888888,\"#fdca26\"],[1.0,\"#f0f921\"]]}],\"surface\":[{\"type\":\"surface\",\"colorbar\":{\"outlinewidth\":0,\"ticks\":\"\"},\"colorscale\":[[0.0,\"#0d0887\"],[0.1111111111111111,\"#46039f\"],[0.2222222222222222,\"#7201a8\"],[0.3333333333333333,\"#9c179e\"],[0.4444444444444444,\"#bd3786\"],[0.5555555555555556,\"#d8576b\"],[0.6666666666666666,\"#ed7953\"],[0.7777777777777778,\"#fb9f3a\"],[0.8888888888888888,\"#fdca26\"],[1.0,\"#f0f921\"]]}],\"mesh3d\":[{\"type\":\"mesh3d\",\"colorbar\":{\"outlinewidth\":0,\"ticks\":\"\"}}],\"scatter\":[{\"fillpattern\":{\"fillmode\":\"overlay\",\"size\":10,\"solidity\":0.2},\"type\":\"scatter\"}],\"parcoords\":[{\"type\":\"parcoords\",\"line\":{\"colorbar\":{\"outlinewidth\":0,\"ticks\":\"\"}}}],\"scatterpolargl\":[{\"type\":\"scatterpolargl\",\"marker\":{\"colorbar\":{\"outlinewidth\":0,\"ticks\":\"\"}}}],\"bar\":[{\"error_x\":{\"color\":\"#2a3f5f\"},\"error_y\":{\"color\":\"#2a3f5f\"},\"marker\":{\"line\":{\"color\":\"#E5ECF6\",\"width\":0.5},\"pattern\":{\"fillmode\":\"overlay\",\"size\":10,\"solidity\":0.2}},\"type\":\"bar\"}],\"scattergeo\":[{\"type\":\"scattergeo\",\"marker\":{\"colorbar\":{\"outlinewidth\":0,\"ticks\":\"\"}}}],\"scatterpolar\":[{\"type\":\"scatterpolar\",\"marker\":{\"colorbar\":{\"outlinewidth\":0,\"ticks\":\"\"}}}],\"histogram\":[{\"marker\":{\"pattern\":{\"fillmode\":\"overlay\",\"size\":10,\"solidity\":0.2}},\"type\":\"histogram\"}],\"scattergl\":[{\"type\":\"scattergl\",\"marker\":{\"colorbar\":{\"outlinewidth\":0,\"ticks\":\"\"}}}],\"scatter3d\":[{\"type\":\"scatter3d\",\"line\":{\"colorbar\":{\"outlinewidth\":0,\"ticks\":\"\"}},\"marker\":{\"colorbar\":{\"outlinewidth\":0,\"ticks\":\"\"}}}],\"scattermapbox\":[{\"type\":\"scattermapbox\",\"marker\":{\"colorbar\":{\"outlinewidth\":0,\"ticks\":\"\"}}}],\"scatterternary\":[{\"type\":\"scatterternary\",\"marker\":{\"colorbar\":{\"outlinewidth\":0,\"ticks\":\"\"}}}],\"scattercarpet\":[{\"type\":\"scattercarpet\",\"marker\":{\"colorbar\":{\"outlinewidth\":0,\"ticks\":\"\"}}}],\"carpet\":[{\"aaxis\":{\"endlinecolor\":\"#2a3f5f\",\"gridcolor\":\"white\",\"linecolor\":\"white\",\"minorgridcolor\":\"white\",\"startlinecolor\":\"#2a3f5f\"},\"baxis\":{\"endlinecolor\":\"#2a3f5f\",\"gridcolor\":\"white\",\"linecolor\":\"white\",\"minorgridcolor\":\"white\",\"startlinecolor\":\"#2a3f5f\"},\"type\":\"carpet\"}],\"table\":[{\"cells\":{\"fill\":{\"color\":\"#EBF0F8\"},\"line\":{\"color\":\"white\"}},\"header\":{\"fill\":{\"color\":\"#C8D4E3\"},\"line\":{\"color\":\"white\"}},\"type\":\"table\"}],\"barpolar\":[{\"marker\":{\"line\":{\"color\":\"#E5ECF6\",\"width\":0.5},\"pattern\":{\"fillmode\":\"overlay\",\"size\":10,\"solidity\":0.2}},\"type\":\"barpolar\"}],\"pie\":[{\"automargin\":true,\"type\":\"pie\"}]},\"layout\":{\"autotypenumbers\":\"strict\",\"colorway\":[\"#636efa\",\"#EF553B\",\"#00cc96\",\"#ab63fa\",\"#FFA15A\",\"#19d3f3\",\"#FF6692\",\"#B6E880\",\"#FF97FF\",\"#FECB52\"],\"font\":{\"color\":\"#2a3f5f\"},\"hovermode\":\"closest\",\"hoverlabel\":{\"align\":\"left\"},\"paper_bgcolor\":\"white\",\"plot_bgcolor\":\"#E5ECF6\",\"polar\":{\"bgcolor\":\"#E5ECF6\",\"angularaxis\":{\"gridcolor\":\"white\",\"linecolor\":\"white\",\"ticks\":\"\"},\"radialaxis\":{\"gridcolor\":\"white\",\"linecolor\":\"white\",\"ticks\":\"\"}},\"ternary\":{\"bgcolor\":\"#E5ECF6\",\"aaxis\":{\"gridcolor\":\"white\",\"linecolor\":\"white\",\"ticks\":\"\"},\"baxis\":{\"gridcolor\":\"white\",\"linecolor\":\"white\",\"ticks\":\"\"},\"caxis\":{\"gridcolor\":\"white\",\"linecolor\":\"white\",\"ticks\":\"\"}},\"coloraxis\":{\"colorbar\":{\"outlinewidth\":0,\"ticks\":\"\"}},\"colorscale\":{\"sequential\":[[0.0,\"#0d0887\"],[0.1111111111111111,\"#46039f\"],[0.2222222222222222,\"#7201a8\"],[0.3333333333333333,\"#9c179e\"],[0.4444444444444444,\"#bd3786\"],[0.5555555555555556,\"#d8576b\"],[0.6666666666666666,\"#ed7953\"],[0.7777777777777778,\"#fb9f3a\"],[0.8888888888888888,\"#fdca26\"],[1.0,\"#f0f921\"]],\"sequentialminus\":[[0.0,\"#0d0887\"],[0.1111111111111111,\"#46039f\"],[0.2222222222222222,\"#7201a8\"],[0.3333333333333333,\"#9c179e\"],[0.4444444444444444,\"#bd3786\"],[0.5555555555555556,\"#d8576b\"],[0.6666666666666666,\"#ed7953\"],[0.7777777777777778,\"#fb9f3a\"],[0.8888888888888888,\"#fdca26\"],[1.0,\"#f0f921\"]],\"diverging\":[[0,\"#8e0152\"],[0.1,\"#c51b7d\"],[0.2,\"#de77ae\"],[0.3,\"#f1b6da\"],[0.4,\"#fde0ef\"],[0.5,\"#f7f7f7\"],[0.6,\"#e6f5d0\"],[0.7,\"#b8e186\"],[0.8,\"#7fbc41\"],[0.9,\"#4d9221\"],[1,\"#276419\"]]},\"xaxis\":{\"gridcolor\":\"white\",\"linecolor\":\"white\",\"ticks\":\"\",\"title\":{\"standoff\":15},\"zerolinecolor\":\"white\",\"automargin\":true,\"zerolinewidth\":2},\"yaxis\":{\"gridcolor\":\"white\",\"linecolor\":\"white\",\"ticks\":\"\",\"title\":{\"standoff\":15},\"zerolinecolor\":\"white\",\"automargin\":true,\"zerolinewidth\":2},\"scene\":{\"xaxis\":{\"backgroundcolor\":\"#E5ECF6\",\"gridcolor\":\"white\",\"linecolor\":\"white\",\"showbackground\":true,\"ticks\":\"\",\"zerolinecolor\":\"white\",\"gridwidth\":2},\"yaxis\":{\"backgroundcolor\":\"#E5ECF6\",\"gridcolor\":\"white\",\"linecolor\":\"white\",\"showbackground\":true,\"ticks\":\"\",\"zerolinecolor\":\"white\",\"gridwidth\":2},\"zaxis\":{\"backgroundcolor\":\"#E5ECF6\",\"gridcolor\":\"white\",\"linecolor\":\"white\",\"showbackground\":true,\"ticks\":\"\",\"zerolinecolor\":\"white\",\"gridwidth\":2}},\"shapedefaults\":{\"line\":{\"color\":\"#2a3f5f\"}},\"annotationdefaults\":{\"arrowcolor\":\"#2a3f5f\",\"arrowhead\":0,\"arrowwidth\":1},\"geo\":{\"bgcolor\":\"white\",\"landcolor\":\"#E5ECF6\",\"subunitcolor\":\"white\",\"showland\":true,\"showlakes\":true,\"lakecolor\":\"white\"},\"title\":{\"x\":0.05},\"mapbox\":{\"style\":\"light\"}}},\"scene\":{\"domain\":{\"x\":[0.0,1.0],\"y\":[0.0,1.0]},\"xaxis\":{\"title\":{\"text\":\"0\"}},\"yaxis\":{\"title\":{\"text\":\"1\"}},\"zaxis\":{\"title\":{\"text\":\"2\"}}},\"coloraxis\":{\"colorbar\":{\"title\":{\"text\":\"Fantasy\"}},\"colorscale\":[[0.0,\"#0d0887\"],[0.1111111111111111,\"#46039f\"],[0.2222222222222222,\"#7201a8\"],[0.3333333333333333,\"#9c179e\"],[0.4444444444444444,\"#bd3786\"],[0.5555555555555556,\"#d8576b\"],[0.6666666666666666,\"#ed7953\"],[0.7777777777777778,\"#fb9f3a\"],[0.8888888888888888,\"#fdca26\"],[1.0,\"#f0f921\"]]},\"legend\":{\"tracegroupgap\":0},\"margin\":{\"t\":60}},                        {\"responsive\": true}                    ).then(function(){\n",
       "                            \n",
       "var gd = document.getElementById('09ac02a6-d021-48d8-88c7-c2b8880e4adc');\n",
       "var x = new MutationObserver(function (mutations, observer) {{\n",
       "        var display = window.getComputedStyle(gd).display;\n",
       "        if (!display || display === 'none') {{\n",
       "            console.log([gd, 'removed!']);\n",
       "            Plotly.purge(gd);\n",
       "            observer.disconnect();\n",
       "        }}\n",
       "}});\n",
       "\n",
       "// Listen for the removal of the full notebook cells\n",
       "var notebookContainer = gd.closest('#notebook-container');\n",
       "if (notebookContainer) {{\n",
       "    x.observe(notebookContainer, {childList: true});\n",
       "}}\n",
       "\n",
       "// Listen for the clearing of the current output cell\n",
       "var outputEl = gd.closest('.output');\n",
       "if (outputEl) {{\n",
       "    x.observe(outputEl, {childList: true});\n",
       "}}\n",
       "\n",
       "                        })                };                });            </script>        </div>"
      ]
     },
     "metadata": {},
     "output_type": "display_data"
    }
   ],
   "source": [
    "genre_to_color = \"Fantasy\"\n",
    "\n",
    "fig = px.scatter_3d(df_normalized, x=0, y=1, z=2, hover_data=\"title\", color=genre_to_color)\n",
    "fig.add_scatter3d(\n",
    "    x=[0], y=[0], z=[0], marker=dict(color=\"orange\"), name=\"origin (0,0,0)\"\n",
    ")\n",
    "fig.add_scatter3d(\n",
    "    x=[query_normalized[0]],\n",
    "    y=[query_normalized[1]],\n",
    "    z=[query_normalized[2]],\n",
    "    marker=dict(color=\"#16FF32\"),\n",
    "    name=\"query\",\n",
    ")"
   ]
  },
  {
   "cell_type": "code",
   "execution_count": null,
   "metadata": {},
   "outputs": [],
   "source": []
  }
 ],
 "metadata": {
  "kernelspec": {
   "display_name": ".venv",
   "language": "python",
   "name": "python3"
  },
  "language_info": {
   "codemirror_mode": {
    "name": "ipython",
    "version": 3
   },
   "file_extension": ".py",
   "mimetype": "text/x-python",
   "name": "python",
   "nbconvert_exporter": "python",
   "pygments_lexer": "ipython3",
   "version": "3.12.3"
  }
 },
 "nbformat": 4,
 "nbformat_minor": 2
}
